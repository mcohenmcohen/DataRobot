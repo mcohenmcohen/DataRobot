{
 "cells": [
  {
   "cell_type": "code",
   "execution_count": 1,
   "metadata": {},
   "outputs": [
    {
     "name": "stdout",
     "output_type": "stream",
     "text": [
      "Full data shape:       (418060, 15)\n",
      "Training data shape:   (376254, 15)\n",
      "Prediction data shape: (41806, 14)\n"
     ]
    }
   ],
   "source": [
    "import pandas as pd\n",
    "import datarobot as dr\n",
    "import os\n",
    "from sklearn.metrics import roc_auc_score, log_loss, roc_curve, auc\n",
    "import warnings\n",
    "warnings.filterwarnings('ignore')\n",
    "from pprint import pprint\n",
    "import matplotlib.pyplot as plt\n",
    "%matplotlib inline\n",
    "\n",
    "source_data_file = 'data/flight_delay_data.csv'\n",
    "target = 'DELAY_INDICATOR'\n",
    "\n",
    "# Read in data from .csv\n",
    "df_full = pd.read_csv(source_data_file)\n",
    "\n",
    "# Shuffle the rows\n",
    "df_full = df_full.sample(frac=1, random_state=0)\n",
    "\n",
    "# Split 90% for training, 10% for predictions\n",
    "split = int(df_full.shape[0] * .1)\n",
    "df = df_full[split:]\n",
    "df_pred = df_full[:split].copy()\n",
    "\n",
    "# Drop the target from the prediction dataset\n",
    "prediction_data = df_pred.drop(target, axis=1)\n",
    "\n",
    "print('Full data shape:      ',df_full.shape)\n",
    "print('Training data shape:  ',df.shape)\n",
    "print('Prediction data shape:',prediction_data.shape)"
   ]
  },
  {
   "cell_type": "markdown",
   "metadata": {},
   "source": [
    "# DataRobot API example\n",
    "\n",
    "### Create a DataRobot project"
   ]
  },
  {
   "cell_type": "code",
   "execution_count": 2,
   "metadata": {},
   "outputs": [
    {
     "data": {
      "text/plain": [
       "<datarobot.rest.RESTClientObject at 0x10e42b5c0>"
      ]
     },
     "execution_count": 2,
     "metadata": {},
     "output_type": "execute_result"
    }
   ],
   "source": [
    "# Establish client connection\n",
    "dr.Client(token=os.environ['DATAROBOT_API_TOKEN'], endpoint='https://app.datarobot.com/api/v2')"
   ]
  },
  {
   "cell_type": "markdown",
   "metadata": {},
   "source": [
    "### As you see in the DataRobot user interface under the Predict tab, If we wanted to call a project and model, say for predictions, we just need the project and model ID."
   ]
  },
  {
   "cell_type": "code",
   "execution_count": 3,
   "metadata": {},
   "outputs": [],
   "source": [
    "# PROJECT_ID = '5afde3c76cd83a095b959bb8'\n",
    "# MODEL_ID = '5afde7fdb79b5a2d7bb067ff'\n",
    "\n",
    "# project = dr.Project.get(PROJECT_ID)\n",
    "# model = dr.Model.get(PROJECT_ID, MODEL_ID)\n",
    "\n",
    "# # Upload dataset to make predictions\n",
    "# pred_dataset = project.upload_dataset(prediction_data)\n",
    "\n",
    "# # Make predictions on your data\n",
    "# pred_job = model.request_predictions(pred_dataset.id)\n",
    "# predictions = pred_job.get_result_when_complete()\n",
    "# for row in predictions.iterrows():\n",
    "#     print(row)"
   ]
  },
  {
   "cell_type": "markdown",
   "metadata": {},
   "source": [
    "### The 'Out of the Box Autopilot'\n",
    "#### If we wanted to run autopilot on the uploaded dataset and features as is, then we would simply run project.start, which only needs the source data (eg, a csv), the target name, and a project name as parameters.\n",
    "```\n",
    "project.start(sourcedata=df, \n",
    "              target='DELAY_INDICATOR'\n",
    "              project_name='Flight delay classification'\n",
    "```\n",
    "#### Instead, we'll manually create a project, use our derived feature list, select a blueprint to run"
   ]
  },
  {
   "cell_type": "code",
   "execution_count": 4,
   "metadata": {},
   "outputs": [
    {
     "name": "stdout",
     "output_type": "stream",
     "text": [
      "project id:   5b01f71a6cd83a3d18734ace\n",
      "project name: Flight Delay API example\n",
      "project.get_status():\n",
      "-  {'autopilot_done': False, 'stage_description': 'Ready to set target', 'stage': 'aim'}\n"
     ]
    }
   ],
   "source": [
    "# # Create a project: and upload the data, set the target, give the project a name\n",
    "project = dr.Project.create(sourcedata=df, \n",
    "                            project_name='Flight Delay API example')\n",
    "\n",
    "print('project id:  ', project.id)\n",
    "print('project name:', project.project_name)\n",
    "print('project.get_status():\\n- ', project.get_status())"
   ]
  },
  {
   "cell_type": "markdown",
   "metadata": {},
   "source": [
    "### Working with features:"
   ]
  },
  {
   "cell_type": "code",
   "execution_count": 5,
   "metadata": {},
   "outputs": [
    {
     "data": {
      "text/plain": [
       "['ACT_AC_TYPE',\n",
       " 'ARRV_A15_IND',\n",
       " 'AVOIDABLE_DELAY_IND',\n",
       " 'CARRIER',\n",
       " 'DAY_OF_WEEK',\n",
       " 'DELAY_CODE',\n",
       " 'DELAY_CODE_DESCRIPTION',\n",
       " 'DELAY_INDICATOR',\n",
       " 'DESTINATION',\n",
       " 'D_O_W_NUM',\n",
       " 'FLT_DATE',\n",
       " 'FLT_DATE (Day of Week)',\n",
       " 'FLT_NBR',\n",
       " 'HOUR_OF_DPTR',\n",
       " 'ORIGIN',\n",
       " 'UNAVOIDABLE_DELAY_IND']"
      ]
     },
     "execution_count": 5,
     "metadata": {},
     "output_type": "execute_result"
    }
   ],
   "source": [
    "# Output the identified project features\n",
    "features = project.get_features()\n",
    "sorted([f.name for f in features])"
   ]
  },
  {
   "cell_type": "code",
   "execution_count": 6,
   "metadata": {},
   "outputs": [
    {
     "data": {
      "text/plain": [
       "Feature(FLT_NBR_CAT)"
      ]
     },
     "execution_count": 6,
     "metadata": {},
     "output_type": "execute_result"
    }
   ],
   "source": [
    "# Convert flight number to a categorical variable\n",
    "new_feature = project.create_type_transform_feature(name='FLT_NBR_CAT', \n",
    "                                      parent_name='FLT_NBR', \n",
    "                                      variable_type='categoricalInt')\n",
    "new_feature"
   ]
  },
  {
   "cell_type": "code",
   "execution_count": 7,
   "metadata": {},
   "outputs": [
    {
     "data": {
      "text/plain": [
       "Featurelist(No leaks list)"
      ]
     },
     "execution_count": 7,
     "metadata": {},
     "output_type": "execute_result"
    }
   ],
   "source": [
    "# Create a new feature list from our subset of features to eliminate target leaks\n",
    "# new_list = [c for c in df_less_5.columns] + [new_feature.name]\n",
    "new_list = ['DELAY_INDICATOR', 'ORIGIN', 'DESTINATION', 'CARRIER', \n",
    "            'DAY_OF_WEEK', 'HOUR_OF_DPTR', 'ACT_AC_TYPE', new_feature.name]\n",
    "f_list = project.create_featurelist('No leaks list', new_list)\n",
    "f_list"
   ]
  },
  {
   "cell_type": "markdown",
   "metadata": {},
   "source": [
    "### Kickoff the project"
   ]
  },
  {
   "cell_type": "code",
   "execution_count": 8,
   "metadata": {},
   "outputs": [
    {
     "data": {
      "text/plain": [
       "Project(Flight Delay API example)"
      ]
     },
     "execution_count": 8,
     "metadata": {},
     "output_type": "execute_result"
    }
   ],
   "source": [
    "# By calling set_target, we run datarobot\n",
    "project.set_target(target=target, \n",
    "                   mode='auto',\n",
    "                   worker_count=20,\n",
    "                   featurelist_id=f_list.id)"
   ]
  },
  {
   "cell_type": "markdown",
   "metadata": {},
   "source": [
    "### Get models and blueprints from the leaderboard"
   ]
  },
  {
   "cell_type": "code",
   "execution_count": 9,
   "metadata": {
    "scrolled": false
   },
   "outputs": [
    {
     "name": "stdout",
     "output_type": "stream",
     "text": [
      "Best model from the leaderboard:\n",
      "'eXtreme Gradient Boosted Trees Classifier with Early Stopping (Fast Feature Binning)'\n",
      "\n",
      "Best model blueprint preprocessing steps:\n",
      "['Ordinal encoding of categorical variables',\n",
      " 'Missing Values Imputed',\n",
      " 'Search for differences',\n",
      " 'Matrix of word-grams occurrences',\n",
      " 'Elastic-Net Classifier (L2 / Binomial Deviance)',\n",
      " 'eXtreme Gradient Boosted Trees Classifier with Early Stopping (Fast Feature '\n",
      " 'Binning)']\n",
      "\n",
      "Best model metrics:\n",
      "{'AUC': {'backtesting': None,\n",
      "         'backtestingScores': None,\n",
      "         'crossValidation': None,\n",
      "         'holdout': None,\n",
      "         'validation': 0.7039},\n",
      " 'FVE Binomial': {'backtesting': None,\n",
      "                  'backtestingScores': None,\n",
      "                  'crossValidation': None,\n",
      "                  'holdout': None,\n",
      "                  'validation': 0.09393},\n",
      " 'Gini Norm': {'backtesting': None,\n",
      "               'backtestingScores': None,\n",
      "               'crossValidation': None,\n",
      "               'holdout': None,\n",
      "               'validation': 0.4078},\n",
      " 'Kolmogorov-Smirnov': {'backtesting': None,\n",
      "                        'backtestingScores': None,\n",
      "                        'crossValidation': None,\n",
      "                        'holdout': None,\n",
      "                        'validation': 0.29773},\n",
      " 'LogLoss': {'backtesting': None,\n",
      "             'backtestingScores': None,\n",
      "             'crossValidation': None,\n",
      "             'holdout': None,\n",
      "             'validation': 0.59632},\n",
      " 'RMSE': {'backtesting': None,\n",
      "          'backtestingScores': None,\n",
      "          'crossValidation': None,\n",
      "          'holdout': None,\n",
      "          'validation': 0.45256},\n",
      " 'Rate@Top10%': {'backtesting': None,\n",
      "                 'backtestingScores': None,\n",
      "                 'crossValidation': None,\n",
      "                 'holdout': None,\n",
      "                 'validation': 0.68892},\n",
      " 'Rate@Top5%': {'backtesting': None,\n",
      "                'backtestingScores': None,\n",
      "                'crossValidation': None,\n",
      "                'holdout': None,\n",
      "                'validation': 0.73871},\n",
      " 'Rate@TopTenth%': {'backtesting': None,\n",
      "                    'backtestingScores': None,\n",
      "                    'crossValidation': None,\n",
      "                    'holdout': None,\n",
      "                    'validation': 0.85938}}\n"
     ]
    }
   ],
   "source": [
    "# Get the models, which are already ordered by rank from the leaderboard\n",
    "models = project.get_models()\n",
    "\n",
    "# Get the best performing model (excluding the blenders, which are typically the top 4 models)\n",
    "best_model = models[4]\n",
    "print('Best model from the leaderboard:\\n\\'%s\\'' % best_model.model_type)\n",
    "print()\n",
    "\n",
    "# Get the blueprint\n",
    "blueprint_id = best_model.blueprint_id\n",
    "blueprint = dr.models.Blueprint.get(project.id, blueprint_id)\n",
    "print('Best model blueprint preprocessing steps:')\n",
    "pprint(blueprint.processes)\n",
    "print()\n",
    "\n",
    "# Get the model scoring metrics\n",
    "print('Best model metrics:')\n",
    "pprint(best_model.metrics)"
   ]
  },
  {
   "cell_type": "markdown",
   "metadata": {},
   "source": [
    "### Make predictions"
   ]
  },
  {
   "cell_type": "code",
   "execution_count": 10,
   "metadata": {},
   "outputs": [
    {
     "name": "stdout",
     "output_type": "stream",
     "text": [
      "Uploading prediction dataset\n",
      "Requesitng predictions\n",
      "Waiting for prediction results\n",
      "- done.  Predictions dataframe:\n",
      "   positive_probability  prediction  row_id  class_0.0  class_1.0\n",
      "0              0.246674         0.0       0   0.753326   0.246674\n",
      "1              0.169382         0.0       1   0.830618   0.169382\n",
      "2              0.603128         1.0       2   0.396872   0.603128\n",
      "3              0.760564         1.0       3   0.239436   0.760564\n",
      "4              0.252177         0.0       4   0.747823   0.252177\n",
      "\n",
      "    positive_probability  prediction  row_id  class_0.0  class_1.0  y_true\n",
      "0              0.246674         0.0       0   0.753326   0.246674       1\n",
      "1              0.169382         0.0       1   0.830618   0.169382       0\n",
      "2              0.603128         1.0       2   0.396872   0.603128       1\n",
      "3              0.760564         1.0       3   0.239436   0.760564       1\n",
      "4              0.252177         0.0       4   0.747823   0.252177       0\n"
     ]
    }
   ],
   "source": [
    "model = best_model\n",
    "\n",
    "datasets = project.get_datasets()\n",
    "\n",
    "# Upload the scoring dataset if not already uploaded, else retrieve it\n",
    "if (len(datasets) == 0):\n",
    "    print('Uploading prediction dataset')\n",
    "    pred_ds = project.upload_dataset(prediction_data)\n",
    "else:\n",
    "    print('Retrieving the prediction dataset id')\n",
    "    for s in datasets:\n",
    "        if s.name == 'predict.csv':\n",
    "            pred_ds = s\n",
    "\n",
    "# Request predictions for the scoring dataset, if it hasn't been already requestsed\n",
    "try:                      \n",
    "    predict_job\n",
    "except NameError:\n",
    "    print('Requesitng predictions')\n",
    "    predict_job = model.request_predictions(pred_ds.id)\n",
    "    \n",
    "# Get the predictions results when complete\n",
    "print('Waiting for prediction results')\n",
    "predictions = predict_job.get_result_when_complete()\n",
    "print('- done.  Predictions dataframe:')\n",
    "print(predictions.head())\n",
    "\n",
    "# Add a column for the target labels (y_true)\n",
    "predictions['y_true'] = df_pred[target].astype(int).tolist()\n",
    "print('\\n',predictions.head())\n",
    "\n",
    "y_true = predictions['y_true'].values\n",
    "y_pred = predictions['class_1.0'].values"
   ]
  },
  {
   "cell_type": "code",
   "execution_count": 11,
   "metadata": {},
   "outputs": [
    {
     "name": "stdout",
     "output_type": "stream",
     "text": [
      "Accuracy: 0.681 (28459/41806)\n",
      "Log Loss: 0.597\n",
      "AUC:      0.705\n"
     ]
    },
    {
     "data": {
      "image/png": "[encoded data removed]",
      "text/plain": [
       "<matplotlib.figure.Figure at 0x10e42b358>"
      ]
     },
     "metadata": {},
     "output_type": "display_data"
    }
   ],
   "source": [
    "def plot_roc(y_true, y_pred):\n",
    "    '''\n",
    "    Plot the ROC curve for a given target and prediction data sets.\n",
    "    '''\n",
    "    auc = roc_auc_score(y_true, y_pred)\n",
    "    print('AUC:      %0.3f' % auc)\n",
    "\n",
    "    fpr, tpr, _ = roc_curve(y_true, y_pred)\n",
    "\n",
    "    plt.figure()\n",
    "    lw = 2\n",
    "    plt.plot(fpr, tpr, color='darkorange',\n",
    "             lw=lw, label='ROC curve (area = %0.2f)' % auc)\n",
    "    plt.plot([0, 1], [0, 1], color='navy', lw=lw, linestyle='--')\n",
    "    plt.xlim([0.0, 1.0])\n",
    "    plt.ylim([0.0, 1.05])\n",
    "    plt.xlabel('False Positive Rate')\n",
    "    plt.ylabel('True Positive Rate')\n",
    "    plt.title('Receiver operating characteristic example')\n",
    "    plt.legend(loc=\"lower right\")\n",
    "    plt.show()\n",
    "    \n",
    "# Output some scoring metrics\n",
    "acc_count = predictions[predictions.prediction == predictions.y_true].shape[0]\n",
    "accuracy = acc_count*1. / predictions.shape[0]\n",
    "print('Accuracy: %0.3f (%s/%s)' % (accuracy, acc_count, predictions.shape[0]))\n",
    "logloss = log_loss(y_true, y_pred)\n",
    "print('Log Loss: %0.3f'% logloss)\n",
    "\n",
    "# Plot the ROC curve\n",
    "plot_roc(y_true, y_pred)"
   ]
  },
  {
   "cell_type": "code",
   "execution_count": null,
   "metadata": {},
   "outputs": [],
   "source": []
  }
 ],
 "metadata": {
  "kernelspec": {
   "display_name": "Python 3",
   "language": "python",
   "name": "python3"
  },
  "language_info": {
   "codemirror_mode": {
    "name": "ipython",
    "version": 3
   },
   "file_extension": ".py",
   "mimetype": "text/x-python",
   "name": "python",
   "nbconvert_exporter": "python",
   "pygments_lexer": "ipython3",
   "version": "3.6.4"
  }
 },
 "nbformat": 4,
 "nbformat_minor": 2
}
