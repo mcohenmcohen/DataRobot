{
 "cells": [
  {
   "cell_type": "code",
   "execution_count": 1,
   "metadata": {},
   "outputs": [
    {
     "name": "stdout",
     "output_type": "stream",
     "text": [
      "Full data shape:       (418060, 15)\n",
      "Training data shape:   (376254, 15)\n",
      "Prediction data shape: (41806, 14)\n"
     ]
    }
   ],
   "source": [
    "import pandas as pd\n",
    "import datarobot as dr\n",
    "import os\n",
    "from sklearn.metrics import roc_auc_score, log_loss, roc_curve, auc\n",
    "import warnings\n",
    "warnings.filterwarnings('ignore')\n",
    "from pprint import pprint\n",
    "import matplotlib.pyplot as plt\n",
    "%matplotlib inline\n",
    "\n",
    "source_data_file = 'data/Horizon-Delay Dataset.csv'\n",
    "\n",
    "# Read in data from .csv\n",
    "df_full = pd.read_csv(source_data_file)\n",
    "\n",
    "# Shuffle the rows\n",
    "df_full = df_full.sample(frac=1, random_state=0)\n",
    "\n",
    "# Split 90% for training, 10% for predictions\n",
    "split = int(df_full.shape[0] * .1)\n",
    "df = df_full[split:]\n",
    "df_pred = df_full[:split].copy()\\\n",
    "\n",
    "# Drop the target from the prediction dataset\n",
    "prediction_data = df_pred.drop('DELAY_INDICATOR', axis=1)\n",
    "\n",
    "print('Full data shape:      ',df_full.shape)\n",
    "print('Training data shape:  ',df.shape)\n",
    "print('Prediction data shape:',prediction_data.shape)"
   ]
  },
  {
   "cell_type": "markdown",
   "metadata": {},
   "source": [
    "# DataRobot API example\n",
    "\n",
    "### Create a DataRobot project"
   ]
  },
  {
   "cell_type": "code",
   "execution_count": 2,
   "metadata": {},
   "outputs": [
    {
     "data": {
      "text/plain": [
       "<datarobot.rest.RESTClientObject at 0x10bdcb4e0>"
      ]
     },
     "execution_count": 2,
     "metadata": {},
     "output_type": "execute_result"
    }
   ],
   "source": [
    "# Establish client connection\n",
    "dr.Client(token=os.environ['DATAROBOT_API_TOKEN'], endpoint='https://app.datarobot.com/api/v2')"
   ]
  },
  {
   "cell_type": "markdown",
   "metadata": {},
   "source": [
    "### As you see in the DataRobot user interface under the Predict tab, If we wanted to call a project and model, say for predictions, we just need the project and model ID."
   ]
  },
  {
   "cell_type": "code",
   "execution_count": 3,
   "metadata": {},
   "outputs": [],
   "source": [
    "# PROJECT_ID = '5afde3c76cd83a095b959bb8'\n",
    "# MODEL_ID = '5afde7fdb79b5a2d7bb067ff'\n",
    "\n",
    "# project = dr.Project.get(PROJECT_ID)\n",
    "# model = dr.Model.get(PROJECT_ID, MODEL_ID)\n",
    "\n",
    "# # Upload dataset to make predictions\n",
    "# pred_dataset = project.upload_dataset(prediction_data)\n",
    "\n",
    "# # Make predictions on your data\n",
    "# pred_job = model.request_predictions(pred_dataset.id)\n",
    "# predictions = pred_job.get_result_when_complete()\n",
    "# for row in predictions.iterrows():\n",
    "#     print(row)"
   ]
  },
  {
   "cell_type": "markdown",
   "metadata": {},
   "source": [
    "### The 'Out of the Box Autopilot'\n",
    "#### If we wanted to run autopilot on the uploaded dataset and features as is, then we would simply run project.start, which only needs the source data (eg, a csv), the target name, and a project name as parameters.\n",
    "```\n",
    "project.start(sourcedata=df, \n",
    "              target='DELAY_INDICATOR'\n",
    "              project_name='Horizon flght delay classification'\n",
    "```\n",
    "#### Instead, we'll manually create a project, use our derived feature list, select a blueprint to run"
   ]
  },
  {
   "cell_type": "code",
   "execution_count": 4,
   "metadata": {},
   "outputs": [
    {
     "name": "stdout",
     "output_type": "stream",
     "text": [
      "project id: 5aff005f6cd83a4ae78a5230\n",
      "project name: Horizon Flight Delay API example\n",
      "project.get_status(): {'autopilot_done': False, 'stage_description': 'Ready to set target', 'stage': 'aim'}\n"
     ]
    }
   ],
   "source": [
    "# # Create a project: and upload the data, set the target, give the project a name\n",
    "project = dr.Project.create(sourcedata=df, \n",
    "                            project_name='Horizon Flight Delay API example')\n",
    "\n",
    "print('project id:', project.id)\n",
    "print('project name:', project.project_name)\n",
    "print('project.get_status():', project.get_status())"
   ]
  },
  {
   "cell_type": "markdown",
   "metadata": {},
   "source": [
    "### Working with features:"
   ]
  },
  {
   "cell_type": "code",
   "execution_count": 5,
   "metadata": {},
   "outputs": [
    {
     "data": {
      "text/plain": [
       "['ACT_AC_TYPE',\n",
       " 'ARRV_A15_IND',\n",
       " 'AVOIDABLE_DELAY_IND',\n",
       " 'CARRIER',\n",
       " 'DAY_OF_WEEK',\n",
       " 'DELAY_CODE',\n",
       " 'DELAY_CODE_DESCRIPTION',\n",
       " 'DELAY_INDICATOR',\n",
       " 'DESTINATION',\n",
       " 'D_O_W_NUM',\n",
       " 'FLT_DATE',\n",
       " 'FLT_DATE (Day of Week)',\n",
       " 'FLT_NBR',\n",
       " 'HOUR_OF_DPTR',\n",
       " 'ORIGIN',\n",
       " 'UNAVOIDABLE_DELAY_IND']"
      ]
     },
     "execution_count": 5,
     "metadata": {},
     "output_type": "execute_result"
    }
   ],
   "source": [
    "# Output the identified project features\n",
    "features = project.get_features()\n",
    "sorted([f.name for f in features])"
   ]
  },
  {
   "cell_type": "code",
   "execution_count": 6,
   "metadata": {},
   "outputs": [
    {
     "data": {
      "text/plain": [
       "Feature(FLT_NBR_CAT)"
      ]
     },
     "execution_count": 6,
     "metadata": {},
     "output_type": "execute_result"
    }
   ],
   "source": [
    "# Convert flight number to a categorical variable\n",
    "new_feature = project.create_type_transform_feature(name='FLT_NBR_CAT', \n",
    "                                      parent_name='FLT_NBR', \n",
    "                                      variable_type='categoricalInt')\n",
    "new_feature"
   ]
  },
  {
   "cell_type": "code",
   "execution_count": 7,
   "metadata": {},
   "outputs": [
    {
     "data": {
      "text/plain": [
       "Featurelist(No leaks list)"
      ]
     },
     "execution_count": 7,
     "metadata": {},
     "output_type": "execute_result"
    }
   ],
   "source": [
    "# Create a new feature list from our subset of features to eliminate target leaks\n",
    "# new_list = [c for c in df_less_5.columns] + [new_feature.name]\n",
    "new_list = ['DELAY_INDICATOR', 'ORIGIN', 'DESTINATION', 'CARRIER', \n",
    "            'DAY_OF_WEEK', 'HOUR_OF_DPTR', 'ACT_AC_TYPE', new_feature.name]\n",
    "f_list = project.create_featurelist('No leaks list', new_list)\n",
    "f_list"
   ]
  },
  {
   "cell_type": "markdown",
   "metadata": {},
   "source": [
    "### Kickoff the project"
   ]
  },
  {
   "cell_type": "code",
   "execution_count": 8,
   "metadata": {},
   "outputs": [
    {
     "data": {
      "text/plain": [
       "Project(Horizon Flight Delay API example)"
      ]
     },
     "execution_count": 8,
     "metadata": {},
     "output_type": "execute_result"
    }
   ],
   "source": [
    "# By calling set_target, we run datarobot\n",
    "project.set_target(target='DELAY_INDICATOR', \n",
    "                   mode='auto',\n",
    "                   worker_count=20,\n",
    "                   featurelist_id=f_list.id)"
   ]
  },
  {
   "cell_type": "markdown",
   "metadata": {},
   "source": [
    "### Get models and blueprints from the leaderboard"
   ]
  },
  {
   "cell_type": "code",
   "execution_count": 12,
   "metadata": {
    "scrolled": false
   },
   "outputs": [
    {
     "name": "stdout",
     "output_type": "stream",
     "text": [
      "Best model from the leaderboard:\n",
      "- Model('eXtreme Gradient Boosted Trees Classifier with Early Stopping (Fast Feature Binning)')\n",
      "\n",
      "best_model.metrics:\n",
      "{'AUC': {'backtesting': None,\n",
      "         'backtestingScores': None,\n",
      "         'crossValidation': None,\n",
      "         'holdout': None,\n",
      "         'validation': 0.7039},\n",
      " 'FVE Binomial': {'backtesting': None,\n",
      "                  'backtestingScores': None,\n",
      "                  'crossValidation': None,\n",
      "                  'holdout': None,\n",
      "                  'validation': 0.09393},\n",
      " 'Gini Norm': {'backtesting': None,\n",
      "               'backtestingScores': None,\n",
      "               'crossValidation': None,\n",
      "               'holdout': None,\n",
      "               'validation': 0.4078},\n",
      " 'Kolmogorov-Smirnov': {'backtesting': None,\n",
      "                        'backtestingScores': None,\n",
      "                        'crossValidation': None,\n",
      "                        'holdout': None,\n",
      "                        'validation': 0.29773},\n",
      " 'LogLoss': {'backtesting': None,\n",
      "             'backtestingScores': None,\n",
      "             'crossValidation': None,\n",
      "             'holdout': None,\n",
      "             'validation': 0.59632},\n",
      " 'RMSE': {'backtesting': None,\n",
      "          'backtestingScores': None,\n",
      "          'crossValidation': None,\n",
      "          'holdout': None,\n",
      "          'validation': 0.45256},\n",
      " 'Rate@Top10%': {'backtesting': None,\n",
      "                 'backtestingScores': None,\n",
      "                 'crossValidation': None,\n",
      "                 'holdout': None,\n",
      "                 'validation': 0.68892},\n",
      " 'Rate@Top5%': {'backtesting': None,\n",
      "                'backtestingScores': None,\n",
      "                'crossValidation': None,\n",
      "                'holdout': None,\n",
      "                'validation': 0.73871},\n",
      " 'Rate@TopTenth%': {'backtesting': None,\n",
      "                    'backtestingScores': None,\n",
      "                    'crossValidation': None,\n",
      "                    'holdout': None,\n",
      "                    'validation': 0.85938}}\n",
      "Blueprint:\n",
      "- id: 743481baa95a18356a8afeb02f8bf838\n",
      "- model: eXtreme Gradient Boosted Trees Classifier with Early Stopping (Fast Feature Binning)\n",
      "- blueprint category: DataRobot\n",
      "- blueprint preprocesses:\n",
      "['Ordinal encoding of categorical variables',\n",
      " 'Missing Values Imputed',\n",
      " 'Search for differences',\n",
      " 'Matrix of word-grams occurrences',\n",
      " 'Elastic-Net Classifier (L2 / Binomial Deviance)',\n",
      " 'eXtreme Gradient Boosted Trees Classifier with Early Stopping (Fast Feature '\n",
      " 'Binning)']\n"
     ]
    }
   ],
   "source": [
    "# Get the models, which are already in rank order from the leaderboard\n",
    "models = project.get_models()\n",
    "\n",
    "# Get the best performing model\n",
    "best_model = models[4]\n",
    "print('Best model from the leaderboard:\\n-',best_model)\n",
    "print()\n",
    "\n",
    "# Get the model metrics\n",
    "print('best_model.metrics:')\n",
    "pprint(best_model.metrics)\n",
    "\n",
    "# Get the blueprint\n",
    "blueprint_id = best_model.blueprint_id\n",
    "blueprint = dr.models.Blueprint.get(project.id, blueprint_id)\n",
    "print('Blueprint:')\n",
    "print('- id:',blueprint.id)\n",
    "print('- model:',blueprint.model_type)\n",
    "print('- blueprint category:',blueprint.blueprint_category)\n",
    "print('- blueprint preprocesses:')\n",
    "pprint(blueprint.processes)"
   ]
  },
  {
   "cell_type": "markdown",
   "metadata": {},
   "source": [
    "### Make predictions"
   ]
  },
  {
   "cell_type": "code",
   "execution_count": 13,
   "metadata": {},
   "outputs": [],
   "source": [
    "# Upload the scoring dataset\n",
    "dataset = project.upload_dataset(prediction_data)\n",
    "\n",
    "# Make a call to request predictions using the best model\n",
    "predict_job = best_model.request_predictions(dataset.id)"
   ]
  },
  {
   "cell_type": "code",
   "execution_count": 14,
   "metadata": {},
   "outputs": [
    {
     "data": {
      "text/html": [
       "<div>\n",
       "<style scoped>\n",
       "    .dataframe tbody tr th:only-of-type {\n",
       "        vertical-align: middle;\n",
       "    }\n",
       "\n",
       "    .dataframe tbody tr th {\n",
       "        vertical-align: top;\n",
       "    }\n",
       "\n",
       "    .dataframe thead th {\n",
       "        text-align: right;\n",
       "    }\n",
       "</style>\n",
       "<table border=\"1\" class=\"dataframe\">\n",
       "  <thead>\n",
       "    <tr style=\"text-align: right;\">\n",
       "      <th></th>\n",
       "      <th>positive_probability</th>\n",
       "      <th>prediction</th>\n",
       "      <th>row_id</th>\n",
       "      <th>class_0.0</th>\n",
       "      <th>class_1.0</th>\n",
       "    </tr>\n",
       "  </thead>\n",
       "  <tbody>\n",
       "    <tr>\n",
       "      <th>0</th>\n",
       "      <td>0.246674</td>\n",
       "      <td>0.0</td>\n",
       "      <td>0</td>\n",
       "      <td>0.753326</td>\n",
       "      <td>0.246674</td>\n",
       "    </tr>\n",
       "    <tr>\n",
       "      <th>1</th>\n",
       "      <td>0.169382</td>\n",
       "      <td>0.0</td>\n",
       "      <td>1</td>\n",
       "      <td>0.830618</td>\n",
       "      <td>0.169382</td>\n",
       "    </tr>\n",
       "    <tr>\n",
       "      <th>2</th>\n",
       "      <td>0.603128</td>\n",
       "      <td>1.0</td>\n",
       "      <td>2</td>\n",
       "      <td>0.396872</td>\n",
       "      <td>0.603128</td>\n",
       "    </tr>\n",
       "    <tr>\n",
       "      <th>3</th>\n",
       "      <td>0.760564</td>\n",
       "      <td>1.0</td>\n",
       "      <td>3</td>\n",
       "      <td>0.239436</td>\n",
       "      <td>0.760564</td>\n",
       "    </tr>\n",
       "    <tr>\n",
       "      <th>4</th>\n",
       "      <td>0.252177</td>\n",
       "      <td>0.0</td>\n",
       "      <td>4</td>\n",
       "      <td>0.747823</td>\n",
       "      <td>0.252177</td>\n",
       "    </tr>\n",
       "  </tbody>\n",
       "</table>\n",
       "</div>"
      ],
      "text/plain": [
       "   positive_probability  prediction  row_id  class_0.0  class_1.0\n",
       "0              0.246674         0.0       0   0.753326   0.246674\n",
       "1              0.169382         0.0       1   0.830618   0.169382\n",
       "2              0.603128         1.0       2   0.396872   0.603128\n",
       "3              0.760564         1.0       3   0.239436   0.760564\n",
       "4              0.252177         0.0       4   0.747823   0.252177"
      ]
     },
     "execution_count": 14,
     "metadata": {},
     "output_type": "execute_result"
    }
   ],
   "source": [
    "# Get our predictions results\n",
    "predictions = predict_job.get_result_when_complete()\n",
    "predictions.head()"
   ]
  },
  {
   "cell_type": "code",
   "execution_count": 15,
   "metadata": {},
   "outputs": [
    {
     "data": {
      "text/html": [
       "<div>\n",
       "<style scoped>\n",
       "    .dataframe tbody tr th:only-of-type {\n",
       "        vertical-align: middle;\n",
       "    }\n",
       "\n",
       "    .dataframe tbody tr th {\n",
       "        vertical-align: top;\n",
       "    }\n",
       "\n",
       "    .dataframe thead th {\n",
       "        text-align: right;\n",
       "    }\n",
       "</style>\n",
       "<table border=\"1\" class=\"dataframe\">\n",
       "  <thead>\n",
       "    <tr style=\"text-align: right;\">\n",
       "      <th></th>\n",
       "      <th>positive_probability</th>\n",
       "      <th>prediction</th>\n",
       "      <th>row_id</th>\n",
       "      <th>class_0.0</th>\n",
       "      <th>class_1.0</th>\n",
       "      <th>y_true</th>\n",
       "    </tr>\n",
       "  </thead>\n",
       "  <tbody>\n",
       "    <tr>\n",
       "      <th>0</th>\n",
       "      <td>0.246674</td>\n",
       "      <td>0.0</td>\n",
       "      <td>0</td>\n",
       "      <td>0.753326</td>\n",
       "      <td>0.246674</td>\n",
       "      <td>0.0</td>\n",
       "    </tr>\n",
       "    <tr>\n",
       "      <th>1</th>\n",
       "      <td>0.169382</td>\n",
       "      <td>0.0</td>\n",
       "      <td>1</td>\n",
       "      <td>0.830618</td>\n",
       "      <td>0.169382</td>\n",
       "      <td>0.0</td>\n",
       "    </tr>\n",
       "    <tr>\n",
       "      <th>2</th>\n",
       "      <td>0.603128</td>\n",
       "      <td>1.0</td>\n",
       "      <td>2</td>\n",
       "      <td>0.396872</td>\n",
       "      <td>0.603128</td>\n",
       "      <td>0.0</td>\n",
       "    </tr>\n",
       "    <tr>\n",
       "      <th>3</th>\n",
       "      <td>0.760564</td>\n",
       "      <td>1.0</td>\n",
       "      <td>3</td>\n",
       "      <td>0.239436</td>\n",
       "      <td>0.760564</td>\n",
       "      <td>0.0</td>\n",
       "    </tr>\n",
       "    <tr>\n",
       "      <th>4</th>\n",
       "      <td>0.252177</td>\n",
       "      <td>0.0</td>\n",
       "      <td>4</td>\n",
       "      <td>0.747823</td>\n",
       "      <td>0.252177</td>\n",
       "      <td>0.0</td>\n",
       "    </tr>\n",
       "  </tbody>\n",
       "</table>\n",
       "</div>"
      ],
      "text/plain": [
       "   positive_probability  prediction  row_id  class_0.0  class_1.0  y_true\n",
       "0              0.246674         0.0       0   0.753326   0.246674     0.0\n",
       "1              0.169382         0.0       1   0.830618   0.169382     0.0\n",
       "2              0.603128         1.0       2   0.396872   0.603128     0.0\n",
       "3              0.760564         1.0       3   0.239436   0.760564     0.0\n",
       "4              0.252177         0.0       4   0.747823   0.252177     0.0"
      ]
     },
     "execution_count": 15,
     "metadata": {},
     "output_type": "execute_result"
    }
   ],
   "source": [
    "predictions['y_true'] = df_pred.DELAY_INDICATOR.astype(int)\n",
    "predictions['y_true'].fillna(0, inplace=True)\n",
    "predictions.head()"
   ]
  },
  {
   "cell_type": "code",
   "execution_count": 16,
   "metadata": {},
   "outputs": [
    {
     "data": {
      "text/plain": [
       "29764"
      ]
     },
     "execution_count": 16,
     "metadata": {},
     "output_type": "execute_result"
    }
   ],
   "source": [
    "acc_amt = predictions[predictions.prediction == predictions.y_true].shape[0]\n",
    "acc_amt"
   ]
  },
  {
   "cell_type": "code",
   "execution_count": 17,
   "metadata": {
    "scrolled": true
   },
   "outputs": [
    {
     "data": {
      "text/plain": [
       "0.7119552217385064"
      ]
     },
     "execution_count": 17,
     "metadata": {},
     "output_type": "execute_result"
    }
   ],
   "source": [
    "accuracy = acc_amt*1. / predictions.shape[0]\n",
    "accuracy"
   ]
  },
  {
   "cell_type": "code",
   "execution_count": 18,
   "metadata": {},
   "outputs": [
    {
     "data": {
      "text/plain": [
       "0.48926281892529033"
      ]
     },
     "execution_count": 18,
     "metadata": {},
     "output_type": "execute_result"
    }
   ],
   "source": [
    "auc = roc_auc_score(predictions.y_true, predictions['class_1.0'])\n",
    "auc"
   ]
  },
  {
   "cell_type": "code",
   "execution_count": 19,
   "metadata": {},
   "outputs": [
    {
     "data": {
      "text/plain": [
       "0.5703352881323852"
      ]
     },
     "execution_count": 19,
     "metadata": {},
     "output_type": "execute_result"
    }
   ],
   "source": [
    "logloss = log_loss(predictions.y_true, predictions['class_1.0'])\n",
    "logloss"
   ]
  },
  {
   "cell_type": "code",
   "execution_count": 23,
   "metadata": {},
   "outputs": [],
   "source": [
    "pred_copy = predictions.copy()"
   ]
  },
  {
   "cell_type": "code",
   "execution_count": 45,
   "metadata": {},
   "outputs": [],
   "source": [
    "p_sort = predictions.sort_values('y_true').astype(int)"
   ]
  },
  {
   "cell_type": "code",
   "execution_count": 46,
   "metadata": {},
   "outputs": [
    {
     "data": {
      "text/plain": [
       "array([0, 0, 0, ..., 1, 1, 1])"
      ]
     },
     "execution_count": 46,
     "metadata": {},
     "output_type": "execute_result"
    }
   ],
   "source": [
    "y_true = p_sort.y_true.values\n",
    "y_true"
   ]
  },
  {
   "cell_type": "code",
   "execution_count": 47,
   "metadata": {},
   "outputs": [
    {
     "name": "stdout",
     "output_type": "stream",
     "text": [
      "Automatically created module for IPython interactive environment\n"
     ]
    }
   ],
   "source": [
    "print(__doc__)\n",
    "\n",
    "import numpy as np\n",
    "import matplotlib.pyplot as plt\n",
    "from itertools import cycle\n",
    "\n",
    "from sklearn import svm, datasets\n",
    "from sklearn.metrics import roc_curve, auc\n",
    "from sklearn.model_selection import train_test_split\n",
    "from sklearn.preprocessing import label_binarize\n",
    "from sklearn.multiclass import OneVsRestClassifier\n",
    "from scipy import interp"
   ]
  },
  {
   "cell_type": "code",
   "execution_count": 50,
   "metadata": {},
   "outputs": [
    {
     "data": {
      "text/plain": [
       "array([0, 0, 0, 0, 0, 0, 0, 0, 0, 0])"
      ]
     },
     "execution_count": 50,
     "metadata": {},
     "output_type": "execute_result"
    }
   ],
   "source": [
    "y_true[:10]\n",
    "# iris.target[:10]"
   ]
  },
  {
   "cell_type": "code",
   "execution_count": 60,
   "metadata": {},
   "outputs": [
    {
     "data": {
      "text/plain": [
       "<matplotlib.collections.PathCollection at 0x1a12b72048>"
      ]
     },
     "execution_count": 60,
     "metadata": {},
     "output_type": "execute_result"
    },
    {
     "data": {
      "image/png": "[encoded data removed]",
      "text/plain": [
       "<matplotlib.figure.Figure at 0x1a14341198>"
      ]
     },
     "metadata": {},
     "output_type": "display_data"
    }
   ],
   "source": [
    "_y = y_true\n",
    "_y = iris.target\n",
    "plt.scatter(range(_y.shape[0]), _y)"
   ]
  },
  {
   "cell_type": "code",
   "execution_count": 61,
   "metadata": {},
   "outputs": [
    {
     "data": {
      "text/plain": [
       "array([[1, 0],\n",
       "       [1, 0],\n",
       "       [1, 0],\n",
       "       [1, 0],\n",
       "       [1, 0],\n",
       "       [1, 0],\n",
       "       [1, 0],\n",
       "       [1, 0],\n",
       "       [1, 0],\n",
       "       [1, 0],\n",
       "       [1, 0],\n",
       "       [1, 0],\n",
       "       [1, 0],\n",
       "       [1, 0],\n",
       "       [1, 0],\n",
       "       [1, 0],\n",
       "       [1, 0],\n",
       "       [1, 0],\n",
       "       [1, 0],\n",
       "       [1, 0],\n",
       "       [1, 0],\n",
       "       [1, 0],\n",
       "       [1, 0],\n",
       "       [1, 0],\n",
       "       [1, 0],\n",
       "       [1, 0],\n",
       "       [1, 0],\n",
       "       [1, 0],\n",
       "       [1, 0],\n",
       "       [1, 0],\n",
       "       [1, 0],\n",
       "       [1, 0],\n",
       "       [1, 0],\n",
       "       [1, 0],\n",
       "       [1, 0],\n",
       "       [1, 0],\n",
       "       [1, 0],\n",
       "       [1, 0],\n",
       "       [1, 0],\n",
       "       [1, 0],\n",
       "       [1, 0],\n",
       "       [1, 0],\n",
       "       [1, 0],\n",
       "       [1, 0],\n",
       "       [1, 0],\n",
       "       [1, 0],\n",
       "       [1, 0],\n",
       "       [1, 0],\n",
       "       [1, 0],\n",
       "       [1, 0],\n",
       "       [0, 1],\n",
       "       [0, 1],\n",
       "       [0, 1],\n",
       "       [0, 1],\n",
       "       [0, 1],\n",
       "       [0, 1],\n",
       "       [0, 1],\n",
       "       [0, 1],\n",
       "       [0, 1],\n",
       "       [0, 1],\n",
       "       [0, 1],\n",
       "       [0, 1],\n",
       "       [0, 1],\n",
       "       [0, 1],\n",
       "       [0, 1],\n",
       "       [0, 1],\n",
       "       [0, 1],\n",
       "       [0, 1],\n",
       "       [0, 1],\n",
       "       [0, 1],\n",
       "       [0, 1],\n",
       "       [0, 1],\n",
       "       [0, 1],\n",
       "       [0, 1],\n",
       "       [0, 1],\n",
       "       [0, 1],\n",
       "       [0, 1],\n",
       "       [0, 1],\n",
       "       [0, 1],\n",
       "       [0, 1],\n",
       "       [0, 1],\n",
       "       [0, 1],\n",
       "       [0, 1],\n",
       "       [0, 1],\n",
       "       [0, 1],\n",
       "       [0, 1],\n",
       "       [0, 1],\n",
       "       [0, 1],\n",
       "       [0, 1],\n",
       "       [0, 1],\n",
       "       [0, 1],\n",
       "       [0, 1],\n",
       "       [0, 1],\n",
       "       [0, 1],\n",
       "       [0, 1],\n",
       "       [0, 1],\n",
       "       [0, 1],\n",
       "       [0, 1],\n",
       "       [0, 1],\n",
       "       [0, 1],\n",
       "       [0, 0],\n",
       "       [0, 0],\n",
       "       [0, 0],\n",
       "       [0, 0],\n",
       "       [0, 0],\n",
       "       [0, 0],\n",
       "       [0, 0],\n",
       "       [0, 0],\n",
       "       [0, 0],\n",
       "       [0, 0],\n",
       "       [0, 0],\n",
       "       [0, 0],\n",
       "       [0, 0],\n",
       "       [0, 0],\n",
       "       [0, 0],\n",
       "       [0, 0],\n",
       "       [0, 0],\n",
       "       [0, 0],\n",
       "       [0, 0],\n",
       "       [0, 0],\n",
       "       [0, 0],\n",
       "       [0, 0],\n",
       "       [0, 0],\n",
       "       [0, 0],\n",
       "       [0, 0],\n",
       "       [0, 0],\n",
       "       [0, 0],\n",
       "       [0, 0],\n",
       "       [0, 0],\n",
       "       [0, 0],\n",
       "       [0, 0],\n",
       "       [0, 0],\n",
       "       [0, 0],\n",
       "       [0, 0],\n",
       "       [0, 0],\n",
       "       [0, 0],\n",
       "       [0, 0],\n",
       "       [0, 0],\n",
       "       [0, 0],\n",
       "       [0, 0],\n",
       "       [0, 0],\n",
       "       [0, 0],\n",
       "       [0, 0],\n",
       "       [0, 0],\n",
       "       [0, 0],\n",
       "       [0, 0],\n",
       "       [0, 0],\n",
       "       [0, 0],\n",
       "       [0, 0],\n",
       "       [0, 0]])"
      ]
     },
     "execution_count": 61,
     "metadata": {},
     "output_type": "execute_result"
    }
   ],
   "source": [
    "# Compute ROC curve and ROC area for each class\n",
    "# Binarize the output\n",
    "y = label_binarize(_y, classes=[0, 1])\n",
    "n_classes = y.shape[1]\n",
    "y_score = predictions[['class_0.0','class_1.0']]\n",
    "y"
   ]
  },
  {
   "cell_type": "code",
   "execution_count": 32,
   "metadata": {},
   "outputs": [
    {
     "data": {
      "text/plain": [
       "array([[1, 0],\n",
       "       [1, 0],\n",
       "       [1, 0],\n",
       "       [1, 0],\n",
       "       [1, 0],\n",
       "       [1, 0],\n",
       "       [1, 0],\n",
       "       [1, 0],\n",
       "       [1, 0],\n",
       "       [1, 0],\n",
       "       [1, 0],\n",
       "       [1, 0],\n",
       "       [1, 0],\n",
       "       [1, 0],\n",
       "       [1, 0],\n",
       "       [1, 0],\n",
       "       [1, 0],\n",
       "       [1, 0],\n",
       "       [1, 0],\n",
       "       [1, 0],\n",
       "       [1, 0],\n",
       "       [1, 0],\n",
       "       [1, 0],\n",
       "       [1, 0],\n",
       "       [1, 0],\n",
       "       [1, 0],\n",
       "       [1, 0],\n",
       "       [1, 0],\n",
       "       [1, 0],\n",
       "       [1, 0],\n",
       "       [1, 0],\n",
       "       [1, 0],\n",
       "       [1, 0],\n",
       "       [1, 0],\n",
       "       [1, 0],\n",
       "       [1, 0],\n",
       "       [1, 0],\n",
       "       [1, 0],\n",
       "       [1, 0],\n",
       "       [1, 0],\n",
       "       [1, 0],\n",
       "       [1, 0],\n",
       "       [1, 0],\n",
       "       [1, 0],\n",
       "       [1, 0],\n",
       "       [1, 0],\n",
       "       [1, 0],\n",
       "       [1, 0],\n",
       "       [1, 0],\n",
       "       [1, 0],\n",
       "       [0, 1],\n",
       "       [0, 1],\n",
       "       [0, 1],\n",
       "       [0, 1],\n",
       "       [0, 1],\n",
       "       [0, 1],\n",
       "       [0, 1],\n",
       "       [0, 1],\n",
       "       [0, 1],\n",
       "       [0, 1],\n",
       "       [0, 1],\n",
       "       [0, 1],\n",
       "       [0, 1],\n",
       "       [0, 1],\n",
       "       [0, 1],\n",
       "       [0, 1],\n",
       "       [0, 1],\n",
       "       [0, 1],\n",
       "       [0, 1],\n",
       "       [0, 1],\n",
       "       [0, 1],\n",
       "       [0, 1],\n",
       "       [0, 1],\n",
       "       [0, 1],\n",
       "       [0, 1],\n",
       "       [0, 1],\n",
       "       [0, 1],\n",
       "       [0, 1],\n",
       "       [0, 1],\n",
       "       [0, 1],\n",
       "       [0, 1],\n",
       "       [0, 1],\n",
       "       [0, 1],\n",
       "       [0, 1],\n",
       "       [0, 1],\n",
       "       [0, 1],\n",
       "       [0, 1],\n",
       "       [0, 1],\n",
       "       [0, 1],\n",
       "       [0, 1],\n",
       "       [0, 1],\n",
       "       [0, 1],\n",
       "       [0, 1],\n",
       "       [0, 1],\n",
       "       [0, 1],\n",
       "       [0, 1],\n",
       "       [0, 1],\n",
       "       [0, 1],\n",
       "       [0, 1],\n",
       "       [0, 1],\n",
       "       [0, 0],\n",
       "       [0, 0],\n",
       "       [0, 0],\n",
       "       [0, 0],\n",
       "       [0, 0],\n",
       "       [0, 0],\n",
       "       [0, 0],\n",
       "       [0, 0],\n",
       "       [0, 0],\n",
       "       [0, 0],\n",
       "       [0, 0],\n",
       "       [0, 0],\n",
       "       [0, 0],\n",
       "       [0, 0],\n",
       "       [0, 0],\n",
       "       [0, 0],\n",
       "       [0, 0],\n",
       "       [0, 0],\n",
       "       [0, 0],\n",
       "       [0, 0],\n",
       "       [0, 0],\n",
       "       [0, 0],\n",
       "       [0, 0],\n",
       "       [0, 0],\n",
       "       [0, 0],\n",
       "       [0, 0],\n",
       "       [0, 0],\n",
       "       [0, 0],\n",
       "       [0, 0],\n",
       "       [0, 0],\n",
       "       [0, 0],\n",
       "       [0, 0],\n",
       "       [0, 0],\n",
       "       [0, 0],\n",
       "       [0, 0],\n",
       "       [0, 0],\n",
       "       [0, 0],\n",
       "       [0, 0],\n",
       "       [0, 0],\n",
       "       [0, 0],\n",
       "       [0, 0],\n",
       "       [0, 0],\n",
       "       [0, 0],\n",
       "       [0, 0],\n",
       "       [0, 0],\n",
       "       [0, 0],\n",
       "       [0, 0],\n",
       "       [0, 0],\n",
       "       [0, 0],\n",
       "       [0, 0]])"
      ]
     },
     "execution_count": 32,
     "metadata": {},
     "output_type": "execute_result"
    }
   ],
   "source": [
    "# Import some data to play with\n",
    "iris = datasets.load_iris()\n",
    "X = iris.data\n",
    "y = iris.target\n",
    "\n",
    "# Binarize the output\n",
    "y = label_binarize(y, classes=[0, 1])\n",
    "y"
   ]
  },
  {
   "cell_type": "code",
   "execution_count": 32,
   "metadata": {},
   "outputs": [
    {
     "name": "stdout",
     "output_type": "stream",
     "text": [
      "Automatically created module for IPython interactive environment\n"
     ]
    }
   ],
   "source": [
    "# Import some data to play with\n",
    "iris = datasets.load_iris()\n",
    "X = iris.data\n",
    "y = iris.target\n",
    "\n",
    "# Binarize the output\n",
    "y = label_binarize(y, classes=[0, 1, 2])\n",
    "n_classes = y.shape[1]\n",
    "\n",
    "# Add noisy features to make the problem harder\n",
    "random_state = np.random.RandomState(0)\n",
    "n_samples, n_features = X.shape\n",
    "X = np.c_[X, random_state.randn(n_samples, 200 * n_features)]\n",
    "\n",
    "# shuffle and split training and test sets\n",
    "X_train, X_test, y_train, y_test = train_test_split(X, y, test_size=.5,\n",
    "                                                    random_state=0)\n",
    "\n",
    "# Learn to predict each class against the other\n",
    "classifier = OneVsRestClassifier(svm.SVC(kernel='linear', probability=True,\n",
    "                                 random_state=random_state))\n",
    "y_score = classifier.fit(X_train, y_train).decision_function(X_test)"
   ]
  },
  {
   "cell_type": "code",
   "execution_count": 45,
   "metadata": {},
   "outputs": [
    {
     "data": {
      "text/plain": [
       "array([[0.60261348, 0.39738652],\n",
       "       [0.82809225, 0.17190775],\n",
       "       [0.46891129, 0.53108871],\n",
       "       ...,\n",
       "       [0.42987001, 0.57012999],\n",
       "       [0.43995923, 0.56004077],\n",
       "       [0.56137219, 0.43862781]])"
      ]
     },
     "execution_count": 45,
     "metadata": {},
     "output_type": "execute_result"
    }
   ],
   "source": [
    "ys = predictions[['class_0.0','class_1.0']]\n",
    "np.array(ys)"
   ]
  },
  {
   "cell_type": "code",
   "execution_count": 48,
   "metadata": {},
   "outputs": [
    {
     "data": {
      "text/plain": [
       "array([[0],\n",
       "       [0],\n",
       "       [0],\n",
       "       ...,\n",
       "       [0],\n",
       "       [0],\n",
       "       [0]])"
      ]
     },
     "execution_count": 48,
     "metadata": {},
     "output_type": "execute_result"
    }
   ],
   "source": [
    "y"
   ]
  },
  {
   "cell_type": "code",
   "execution_count": 75,
   "metadata": {},
   "outputs": [
    {
     "data": {
      "text/plain": [
       "numpy.ndarray"
      ]
     },
     "execution_count": 75,
     "metadata": {},
     "output_type": "execute_result"
    }
   ],
   "source": [
    "y = predictions['y_true'].astype(int).values\n",
    "type(y)\n",
    "type(iris.target)"
   ]
  },
  {
   "cell_type": "code",
   "execution_count": 71,
   "metadata": {},
   "outputs": [
    {
     "data": {
      "text/plain": [
       "array([[1, 0],\n",
       "       [1, 0],\n",
       "       [1, 0],\n",
       "       [1, 0],\n",
       "       [1, 0],\n",
       "       [1, 0],\n",
       "       [1, 0],\n",
       "       [1, 0],\n",
       "       [1, 0],\n",
       "       [1, 0],\n",
       "       [1, 0],\n",
       "       [1, 0],\n",
       "       [1, 0],\n",
       "       [1, 0],\n",
       "       [1, 0],\n",
       "       [1, 0],\n",
       "       [1, 0],\n",
       "       [1, 0],\n",
       "       [1, 0],\n",
       "       [1, 0],\n",
       "       [1, 0],\n",
       "       [1, 0],\n",
       "       [1, 0],\n",
       "       [1, 0],\n",
       "       [1, 0],\n",
       "       [1, 0],\n",
       "       [1, 0],\n",
       "       [1, 0],\n",
       "       [1, 0],\n",
       "       [1, 0],\n",
       "       [1, 0],\n",
       "       [1, 0],\n",
       "       [1, 0],\n",
       "       [1, 0],\n",
       "       [1, 0],\n",
       "       [1, 0],\n",
       "       [1, 0],\n",
       "       [1, 0],\n",
       "       [1, 0],\n",
       "       [1, 0],\n",
       "       [1, 0],\n",
       "       [1, 0],\n",
       "       [1, 0],\n",
       "       [1, 0],\n",
       "       [1, 0],\n",
       "       [1, 0],\n",
       "       [1, 0],\n",
       "       [1, 0],\n",
       "       [1, 0],\n",
       "       [1, 0],\n",
       "       [0, 1],\n",
       "       [0, 1],\n",
       "       [0, 1],\n",
       "       [0, 1],\n",
       "       [0, 1],\n",
       "       [0, 1],\n",
       "       [0, 1],\n",
       "       [0, 1],\n",
       "       [0, 1],\n",
       "       [0, 1],\n",
       "       [0, 1],\n",
       "       [0, 1],\n",
       "       [0, 1],\n",
       "       [0, 1],\n",
       "       [0, 1],\n",
       "       [0, 1],\n",
       "       [0, 1],\n",
       "       [0, 1],\n",
       "       [0, 1],\n",
       "       [0, 1],\n",
       "       [0, 1],\n",
       "       [0, 1],\n",
       "       [0, 1],\n",
       "       [0, 1],\n",
       "       [0, 1],\n",
       "       [0, 1],\n",
       "       [0, 1],\n",
       "       [0, 1],\n",
       "       [0, 1],\n",
       "       [0, 1],\n",
       "       [0, 1],\n",
       "       [0, 1],\n",
       "       [0, 1],\n",
       "       [0, 1],\n",
       "       [0, 1],\n",
       "       [0, 1],\n",
       "       [0, 1],\n",
       "       [0, 1],\n",
       "       [0, 1],\n",
       "       [0, 1],\n",
       "       [0, 1],\n",
       "       [0, 1],\n",
       "       [0, 1],\n",
       "       [0, 1],\n",
       "       [0, 1],\n",
       "       [0, 1],\n",
       "       [0, 1],\n",
       "       [0, 1],\n",
       "       [0, 1],\n",
       "       [0, 1],\n",
       "       [0, 0],\n",
       "       [0, 0],\n",
       "       [0, 0],\n",
       "       [0, 0],\n",
       "       [0, 0],\n",
       "       [0, 0],\n",
       "       [0, 0],\n",
       "       [0, 0],\n",
       "       [0, 0],\n",
       "       [0, 0],\n",
       "       [0, 0],\n",
       "       [0, 0],\n",
       "       [0, 0],\n",
       "       [0, 0],\n",
       "       [0, 0],\n",
       "       [0, 0],\n",
       "       [0, 0],\n",
       "       [0, 0],\n",
       "       [0, 0],\n",
       "       [0, 0],\n",
       "       [0, 0],\n",
       "       [0, 0],\n",
       "       [0, 0],\n",
       "       [0, 0],\n",
       "       [0, 0],\n",
       "       [0, 0],\n",
       "       [0, 0],\n",
       "       [0, 0],\n",
       "       [0, 0],\n",
       "       [0, 0],\n",
       "       [0, 0],\n",
       "       [0, 0],\n",
       "       [0, 0],\n",
       "       [0, 0],\n",
       "       [0, 0],\n",
       "       [0, 0],\n",
       "       [0, 0],\n",
       "       [0, 0],\n",
       "       [0, 0],\n",
       "       [0, 0],\n",
       "       [0, 0],\n",
       "       [0, 0],\n",
       "       [0, 0],\n",
       "       [0, 0],\n",
       "       [0, 0],\n",
       "       [0, 0],\n",
       "       [0, 0],\n",
       "       [0, 0],\n",
       "       [0, 0],\n",
       "       [0, 0]])"
      ]
     },
     "execution_count": 71,
     "metadata": {},
     "output_type": "execute_result"
    }
   ],
   "source": [
    "y = iris.target\n",
    "# y = predictions['y_true'].astype(int)\n",
    "\n",
    "# Binarize the output\n",
    "y = label_binarize(y, classes=[0, 1])\n",
    "y"
   ]
  },
  {
   "cell_type": "code",
   "execution_count": 38,
   "metadata": {},
   "outputs": [
    {
     "data": {
      "text/plain": [
       "array([[-0.76305896, -0.36472635,  0.1239796 ],\n",
       "       [-0.20238399, -0.63148982, -0.16616656],\n",
       "       [ 0.11808492, -0.80262259, -0.32062486],\n",
       "       [-0.90750303, -0.1239792 ,  0.02184016],\n",
       "       [-0.01108555, -0.27918155, -0.71882525],\n",
       "       [-0.60521037, -0.34728075, -0.05851787],\n",
       "       [ 0.02264569, -0.24507866, -0.79094201],\n",
       "       [-0.61115098,  0.1827259 , -0.57154703],\n",
       "       [-0.37590649, -0.24062697, -0.38892819],\n",
       "       [-0.47019698, -0.25733679, -0.27501927],\n",
       "       [-0.42194767, -0.30275351, -0.28027547],\n",
       "       [-0.33545871, -0.70306393,  0.02538619],\n",
       "       [-0.22711497, -0.64064389, -0.13452752],\n",
       "       [-0.07836815, -0.46342889, -0.45930643],\n",
       "       [-0.533757  , -0.26521263, -0.20026826],\n",
       "       [ 0.09973063, -0.55326984, -0.56156984],\n",
       "       [-0.71354879, -0.04231832, -0.24317009],\n",
       "       [-0.55067912, -0.13785396, -0.31413579],\n",
       "       [ 0.37989555, -0.99673681, -0.3909524 ],\n",
       "       [-0.11088917, -0.91357544,  0.03129667],\n",
       "       [-0.70721114, -0.06430956, -0.21412904],\n",
       "       [-0.02407429, -0.45895598, -0.51928682],\n",
       "       [-0.25004251, -0.80100991,  0.04076059],\n",
       "       [ 0.12688003, -0.70987418, -0.41083444],\n",
       "       [-0.68224184, -0.20724969, -0.1202643 ],\n",
       "       [-0.0800568 , -0.36695547, -0.57664396],\n",
       "       [-0.03254409, -0.11603038, -0.8648849 ],\n",
       "       [-0.04974597, -0.73610513, -0.21652326],\n",
       "       [-0.13003384, -0.37669991, -0.49962148],\n",
       "       [-0.19289268, -0.71079054, -0.11051706],\n",
       "       [-0.36221002, -0.41410723, -0.2273942 ],\n",
       "       [-0.2284516 , -0.78973024,  0.02074984],\n",
       "       [-0.06178684, -0.47628223, -0.45378569],\n",
       "       [-0.52446923, -0.46496654, -0.00359355],\n",
       "       [-0.40029714, -0.71472476,  0.10099661],\n",
       "       [-0.3511887 , -0.31112596, -0.33970555],\n",
       "       [-0.05774206, -0.51400526, -0.41773929],\n",
       "       [-1.11908314, -0.00736339,  0.12950484],\n",
       "       [ 0.19597017, -0.65775051, -0.54614202],\n",
       "       [-0.04342577, -0.60042226, -0.35868612],\n",
       "       [-0.4812135 , -0.21920638, -0.30068446],\n",
       "       [ 0.17431275, -1.0108599 , -0.18121717],\n",
       "       [-0.41431727, -0.60032358,  0.00863558],\n",
       "       [-0.01086869, -0.75802709, -0.22892428],\n",
       "       [ 0.01626312, -0.8156017 , -0.20376516],\n",
       "       [-0.11923774, -0.84788528, -0.05836804],\n",
       "       [-0.70843733, -0.286195  , -0.01169663],\n",
       "       [-0.77322168, -0.43208966,  0.21330137],\n",
       "       [-0.61461496, -0.15074926, -0.23335428],\n",
       "       [-0.96335686, -0.62814722,  0.58431039],\n",
       "       [-0.31000437, -0.29574607, -0.3941874 ],\n",
       "       [-0.31988026, -0.34629128, -0.32066024],\n",
       "       [-0.35307167, -0.66921938,  0.00761443],\n",
       "       [ 0.12141618, -0.62483742, -0.50579325],\n",
       "       [-0.66412149, -0.11447286, -0.21316263],\n",
       "       [-0.55119677, -0.34855218, -0.10579228],\n",
       "       [-0.55717268, -0.13386492, -0.30604104],\n",
       "       [-0.41121128, -0.52473406, -0.07437911],\n",
       "       [-0.49442008, -0.2332585 , -0.27820574],\n",
       "       [ 0.06881717, -0.85437126, -0.21661728],\n",
       "       [-0.23058968, -0.48751709, -0.28302624],\n",
       "       [ 0.30309598, -0.83392326, -0.47723277],\n",
       "       [ 0.17584119, -0.81582683, -0.37510759],\n",
       "       [-0.19111926, -0.70824907, -0.10203375],\n",
       "       [-0.42896846, -0.3990632 , -0.16931316],\n",
       "       [-0.67758109,  0.09202727, -0.39954675],\n",
       "       [-0.32984013, -0.56568558, -0.1204075 ],\n",
       "       [-0.97144386, -0.46477124,  0.41494993],\n",
       "       [ 0.02097654, -0.56915133, -0.44612973],\n",
       "       [-0.08193282, -0.56128644, -0.35207865],\n",
       "       [-0.41489593, -0.63695943,  0.04859412],\n",
       "       [-0.30434286, -0.08424982, -0.61862499],\n",
       "       [ 0.18874747, -0.88796087, -0.29723377],\n",
       "       [ 0.24975994, -0.80511827, -0.44319443],\n",
       "       [-0.39991848, -0.29010996, -0.30381285]])"
      ]
     },
     "execution_count": 38,
     "metadata": {},
     "output_type": "execute_result"
    }
   ],
   "source": [
    "predictions."
   ]
  },
  {
   "cell_type": "code",
   "execution_count": null,
   "metadata": {},
   "outputs": [],
   "source": []
  }
 ],
 "metadata": {
  "kernelspec": {
   "display_name": "Python 3",
   "language": "python",
   "name": "python3"
  },
  "language_info": {
   "codemirror_mode": {
    "name": "ipython",
    "version": 3
   },
   "file_extension": ".py",
   "mimetype": "text/x-python",
   "name": "python",
   "nbconvert_exporter": "python",
   "pygments_lexer": "ipython3",
   "version": "3.6.4"
  }
 },
 "nbformat": 4,
 "nbformat_minor": 2
}
