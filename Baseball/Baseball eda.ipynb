{
 "cells": [
  {
   "cell_type": "code",
   "execution_count": 1,
   "metadata": {},
   "outputs": [
    {
     "data": {
      "text/plain": [
       "\"\\nIs this real time?  What are we doing with our random # of predictions?\\nSo each day in the regular season is scored on one day.\\n- start at beginning of season, start with scoring day one of the season on today, when the script starts up\\n\\none week per day \\nall pitches for the week (not rand 1-5)\\nstart at the beginning of the data - 2016\\n\\nThere was change in data provider / collection means between the 2016 and 2017, an upgrade, \\nbut we're looking to see the model data drift\\n- so about \\n\\nNext step is to get it in real time.  We'll need to clean up the beautiful soup.\\n- eg, every morning at 8am, let's grab yesterday's data and score it\\n\""
      ]
     },
     "execution_count": 1,
     "metadata": {},
     "output_type": "execute_result"
    }
   ],
   "source": [
    "'''\n",
    "Is this real time?  What are we doing with our random # of predictions?\n",
    "So each day in the regular season is scored on one day.\n",
    "- start at beginning of season, start with scoring day one of the season on today, when the script starts up\n",
    "\n",
    "one week per day \n",
    "all pitches for the week (not rand 1-5)\n",
    "start at the beginning of the data - 2016\n",
    "\n",
    "There was change in data provider / collection means between the 2016 and 2017, an upgrade, \n",
    "but we're looking to see the model data drift\n",
    "- so about \n",
    "\n",
    "Next step is to get it in real time.  We'll need to clean up the beautiful soup.\n",
    "- eg, every morning at 8am, let's grab yesterday's data and score it\n",
    "'''"
   ]
  },
  {
   "cell_type": "code",
   "execution_count": 51,
   "metadata": {},
   "outputs": [],
   "source": [
    "import pandas as pd\n",
    "import datarobot as dr\n",
    "import time\n",
    "pd.options.display.max_columns = 500"
   ]
  },
  {
   "cell_type": "code",
   "execution_count": 68,
   "metadata": {},
   "outputs": [
    {
     "name": "stdout",
     "output_type": "stream",
     "text": [
      "shape: (1090935, 33)\n",
      "Baseball pitch predict\n"
     ]
    },
    {
     "data": {
      "text/html": [
       "<div>\n",
       "<style scoped>\n",
       "    .dataframe tbody tr th:only-of-type {\n",
       "        vertical-align: middle;\n",
       "    }\n",
       "\n",
       "    .dataframe tbody tr th {\n",
       "        vertical-align: top;\n",
       "    }\n",
       "\n",
       "    .dataframe thead th {\n",
       "        text-align: right;\n",
       "    }\n",
       "</style>\n",
       "<table border=\"1\" class=\"dataframe\">\n",
       "  <thead>\n",
       "    <tr style=\"text-align: right;\">\n",
       "      <th></th>\n",
       "      <th>date</th>\n",
       "      <th>ax</th>\n",
       "      <th>ay</th>\n",
       "      <th>az</th>\n",
       "      <th>batter_side</th>\n",
       "      <th>break_angle</th>\n",
       "      <th>break_length</th>\n",
       "      <th>break_y</th>\n",
       "      <th>end_speed</th>\n",
       "      <th>nasty</th>\n",
       "      <th>pfx_x</th>\n",
       "      <th>pfx_z</th>\n",
       "      <th>pitch_type</th>\n",
       "      <th>pitch_type_seq</th>\n",
       "      <th>pitcher_hand</th>\n",
       "      <th>px</th>\n",
       "      <th>pz</th>\n",
       "      <th>spin_dir</th>\n",
       "      <th>spin_rate</th>\n",
       "      <th>start_speed</th>\n",
       "      <th>strike</th>\n",
       "      <th>sz_bot</th>\n",
       "      <th>sz_top</th>\n",
       "      <th>type_conf</th>\n",
       "      <th>vx0</th>\n",
       "      <th>vy0</th>\n",
       "      <th>vz0</th>\n",
       "      <th>weather</th>\n",
       "      <th>wind</th>\n",
       "      <th>x0</th>\n",
       "      <th>y0</th>\n",
       "      <th>z0</th>\n",
       "      <th>zone</th>\n",
       "    </tr>\n",
       "  </thead>\n",
       "  <tbody>\n",
       "    <tr>\n",
       "      <th>0</th>\n",
       "      <td>2016-04-03</td>\n",
       "      <td>-21.292</td>\n",
       "      <td>35.401</td>\n",
       "      <td>-19.319</td>\n",
       "      <td>L</td>\n",
       "      <td>43.1</td>\n",
       "      <td>5.9</td>\n",
       "      <td>23.7</td>\n",
       "      <td>87.7</td>\n",
       "      <td>52.0</td>\n",
       "      <td>-10.75</td>\n",
       "      <td>6.45</td>\n",
       "      <td>SI</td>\n",
       "      <td>|SI</td>\n",
       "      <td>R</td>\n",
       "      <td>-0.196</td>\n",
       "      <td>1.668</td>\n",
       "      <td>238.878</td>\n",
       "      <td>2564.835</td>\n",
       "      <td>96.1</td>\n",
       "      <td>True</td>\n",
       "      <td>1.55</td>\n",
       "      <td>3.11</td>\n",
       "      <td>2.0</td>\n",
       "      <td>6.914</td>\n",
       "      <td>-140.685</td>\n",
       "      <td>-6.774</td>\n",
       "      <td>74 degrees, clear</td>\n",
       "      <td>14 mph, R to L</td>\n",
       "      <td>-1.304</td>\n",
       "      <td>50.0</td>\n",
       "      <td>5.383</td>\n",
       "      <td>8.0</td>\n",
       "    </tr>\n",
       "    <tr>\n",
       "      <th>1</th>\n",
       "      <td>2016-04-03</td>\n",
       "      <td>8.363</td>\n",
       "      <td>23.901</td>\n",
       "      <td>-37.697</td>\n",
       "      <td>L</td>\n",
       "      <td>-13.2</td>\n",
       "      <td>10.7</td>\n",
       "      <td>23.8</td>\n",
       "      <td>75.8</td>\n",
       "      <td>45.0</td>\n",
       "      <td>5.74</td>\n",
       "      <td>-3.84</td>\n",
       "      <td>KC</td>\n",
       "      <td>|SI|KC</td>\n",
       "      <td>R</td>\n",
       "      <td>0.451</td>\n",
       "      <td>2.494</td>\n",
       "      <td>56.558</td>\n",
       "      <td>1210.643</td>\n",
       "      <td>81.9</td>\n",
       "      <td>True</td>\n",
       "      <td>1.43</td>\n",
       "      <td>3.14</td>\n",
       "      <td>2.0</td>\n",
       "      <td>2.771</td>\n",
       "      <td>-120.101</td>\n",
       "      <td>0.893</td>\n",
       "      <td>74 degrees, clear</td>\n",
       "      <td>14 mph, R to L</td>\n",
       "      <td>-1.464</td>\n",
       "      <td>50.0</td>\n",
       "      <td>5.478</td>\n",
       "      <td>6.0</td>\n",
       "    </tr>\n",
       "    <tr>\n",
       "      <th>2</th>\n",
       "      <td>2016-04-03</td>\n",
       "      <td>-21.596</td>\n",
       "      <td>33.223</td>\n",
       "      <td>-16.390</td>\n",
       "      <td>L</td>\n",
       "      <td>46.2</td>\n",
       "      <td>5.3</td>\n",
       "      <td>23.8</td>\n",
       "      <td>88.0</td>\n",
       "      <td>32.0</td>\n",
       "      <td>-10.88</td>\n",
       "      <td>7.92</td>\n",
       "      <td>SI</td>\n",
       "      <td>|SI|KC|SI</td>\n",
       "      <td>R</td>\n",
       "      <td>1.878</td>\n",
       "      <td>1.754</td>\n",
       "      <td>233.837</td>\n",
       "      <td>2765.216</td>\n",
       "      <td>96.2</td>\n",
       "      <td>False</td>\n",
       "      <td>1.55</td>\n",
       "      <td>3.07</td>\n",
       "      <td>2.0</td>\n",
       "      <td>11.997</td>\n",
       "      <td>-140.341</td>\n",
       "      <td>-7.056</td>\n",
       "      <td>74 degrees, clear</td>\n",
       "      <td>14 mph, R to L</td>\n",
       "      <td>-1.049</td>\n",
       "      <td>50.0</td>\n",
       "      <td>5.378</td>\n",
       "      <td>14.0</td>\n",
       "    </tr>\n",
       "    <tr>\n",
       "      <th>3</th>\n",
       "      <td>2016-04-03</td>\n",
       "      <td>-23.325</td>\n",
       "      <td>31.120</td>\n",
       "      <td>-19.890</td>\n",
       "      <td>L</td>\n",
       "      <td>45.7</td>\n",
       "      <td>6.0</td>\n",
       "      <td>23.8</td>\n",
       "      <td>88.2</td>\n",
       "      <td>65.0</td>\n",
       "      <td>-11.70</td>\n",
       "      <td>6.12</td>\n",
       "      <td>SI</td>\n",
       "      <td>|SI|KC|SI|SI</td>\n",
       "      <td>R</td>\n",
       "      <td>0.995</td>\n",
       "      <td>2.917</td>\n",
       "      <td>242.226</td>\n",
       "      <td>2727.998</td>\n",
       "      <td>95.9</td>\n",
       "      <td>False</td>\n",
       "      <td>1.57</td>\n",
       "      <td>3.17</td>\n",
       "      <td>2.0</td>\n",
       "      <td>10.194</td>\n",
       "      <td>-140.196</td>\n",
       "      <td>-3.393</td>\n",
       "      <td>74 degrees, clear</td>\n",
       "      <td>14 mph, R to L</td>\n",
       "      <td>-1.165</td>\n",
       "      <td>50.0</td>\n",
       "      <td>5.438</td>\n",
       "      <td>12.0</td>\n",
       "    </tr>\n",
       "    <tr>\n",
       "      <th>4</th>\n",
       "      <td>2016-04-03</td>\n",
       "      <td>5.831</td>\n",
       "      <td>31.511</td>\n",
       "      <td>-38.083</td>\n",
       "      <td>R</td>\n",
       "      <td>-10.2</td>\n",
       "      <td>10.6</td>\n",
       "      <td>23.7</td>\n",
       "      <td>77.5</td>\n",
       "      <td>32.0</td>\n",
       "      <td>3.82</td>\n",
       "      <td>-3.92</td>\n",
       "      <td>KC</td>\n",
       "      <td>|SI|SI|KC</td>\n",
       "      <td>R</td>\n",
       "      <td>1.516</td>\n",
       "      <td>0.121</td>\n",
       "      <td>44.618</td>\n",
       "      <td>967.633</td>\n",
       "      <td>85.0</td>\n",
       "      <td>False</td>\n",
       "      <td>1.63</td>\n",
       "      <td>3.63</td>\n",
       "      <td>2.0</td>\n",
       "      <td>5.681</td>\n",
       "      <td>-124.467</td>\n",
       "      <td>-4.561</td>\n",
       "      <td>74 degrees, clear</td>\n",
       "      <td>14 mph, R to L</td>\n",
       "      <td>-1.318</td>\n",
       "      <td>50.0</td>\n",
       "      <td>5.229</td>\n",
       "      <td>14.0</td>\n",
       "    </tr>\n",
       "  </tbody>\n",
       "</table>\n",
       "</div>"
      ],
      "text/plain": [
       "        date      ax      ay      az batter_side  break_angle  break_length  \\\n",
       "0 2016-04-03 -21.292  35.401 -19.319           L         43.1           5.9   \n",
       "1 2016-04-03   8.363  23.901 -37.697           L        -13.2          10.7   \n",
       "2 2016-04-03 -21.596  33.223 -16.390           L         46.2           5.3   \n",
       "3 2016-04-03 -23.325  31.120 -19.890           L         45.7           6.0   \n",
       "4 2016-04-03   5.831  31.511 -38.083           R        -10.2          10.6   \n",
       "\n",
       "   break_y  end_speed  nasty  pfx_x  pfx_z pitch_type pitch_type_seq  \\\n",
       "0     23.7       87.7   52.0 -10.75   6.45         SI            |SI   \n",
       "1     23.8       75.8   45.0   5.74  -3.84         KC         |SI|KC   \n",
       "2     23.8       88.0   32.0 -10.88   7.92         SI      |SI|KC|SI   \n",
       "3     23.8       88.2   65.0 -11.70   6.12         SI   |SI|KC|SI|SI   \n",
       "4     23.7       77.5   32.0   3.82  -3.92         KC      |SI|SI|KC   \n",
       "\n",
       "  pitcher_hand     px     pz  spin_dir  spin_rate  start_speed  strike  \\\n",
       "0            R -0.196  1.668   238.878   2564.835         96.1    True   \n",
       "1            R  0.451  2.494    56.558   1210.643         81.9    True   \n",
       "2            R  1.878  1.754   233.837   2765.216         96.2   False   \n",
       "3            R  0.995  2.917   242.226   2727.998         95.9   False   \n",
       "4            R  1.516  0.121    44.618    967.633         85.0   False   \n",
       "\n",
       "   sz_bot  sz_top  type_conf     vx0      vy0    vz0            weather  \\\n",
       "0    1.55    3.11        2.0   6.914 -140.685 -6.774  74 degrees, clear   \n",
       "1    1.43    3.14        2.0   2.771 -120.101  0.893  74 degrees, clear   \n",
       "2    1.55    3.07        2.0  11.997 -140.341 -7.056  74 degrees, clear   \n",
       "3    1.57    3.17        2.0  10.194 -140.196 -3.393  74 degrees, clear   \n",
       "4    1.63    3.63        2.0   5.681 -124.467 -4.561  74 degrees, clear   \n",
       "\n",
       "             wind     x0    y0     z0  zone  \n",
       "0  14 mph, R to L -1.304  50.0  5.383   8.0  \n",
       "1  14 mph, R to L -1.464  50.0  5.478   6.0  \n",
       "2  14 mph, R to L -1.049  50.0  5.378  14.0  \n",
       "3  14 mph, R to L -1.165  50.0  5.438  12.0  \n",
       "4  14 mph, R to L -1.318  50.0  5.229  14.0  "
      ]
     },
     "execution_count": 68,
     "metadata": {},
     "output_type": "execute_result"
    }
   ],
   "source": [
    "# Target is strike\n",
    "TARGET='strike'\n",
    "\n",
    "df = pd.read_csv('pitch_scoring.csv', parse_dates=['date'])\n",
    "print('shape:', df.shape)\n",
    "\n",
    "# Create a new project for the training data\n",
    "def create_project(df):\n",
    "    project = dr.Project.start(sourcedata=df, \n",
    "                               project_name='Baseball pitch predict', \n",
    "                               target=TARGET,\n",
    "                               worker_count=20,\n",
    "                               autopilot_on=True)  # if you want the same model, or...\n",
    "    return project\n",
    "# project = create_project(df)\n",
    "# Or get the project if we made it already\n",
    "project_id = '5bdb7caa7c6f8b71e0428016'  # my baseball project \n",
    "project = dr.Project.get(project_id)\n",
    "print(project.project_name)\n",
    "\n",
    "df.head()"
   ]
  },
  {
   "cell_type": "code",
   "execution_count": 66,
   "metadata": {},
   "outputs": [
    {
     "data": {
      "text/plain": [
       "Index(['ax', 'ay', 'az', 'batter_side', 'break_angle', 'break_length',\n",
       "       'break_y', 'date', 'end_speed', 'nasty', 'pfx_x', 'pfx_z', 'pitch_type',\n",
       "       'pitch_type_seq', 'pitcher_hand', 'px', 'pz', 'spin_dir', 'spin_rate',\n",
       "       'start_speed', 'strike', 'sz_bot', 'sz_top', 'type_conf', 'vx0', 'vy0',\n",
       "       'vz0', 'weather', 'wind', 'x0', 'y0', 'z0', 'zone'],\n",
       "      dtype='object')"
      ]
     },
     "execution_count": 66,
     "metadata": {},
     "output_type": "execute_result"
    }
   ],
   "source": [
    "df.columns.sort_values()"
   ]
  },
  {
   "cell_type": "code",
   "execution_count": 62,
   "metadata": {},
   "outputs": [
    {
     "name": "stdout",
     "output_type": "stream",
     "text": [
      "2003-08-01 00:00:00\n",
      "2003-08-02 00:00:00\n",
      "2003-08-03 00:00:00\n",
      "2003-08-04 00:00:00\n",
      "2003-08-05 00:00:00\n"
     ]
    }
   ],
   "source": [
    "import datetime\n",
    "date = datetime.datetime(2003,7,31)\n",
    "for i in range(5): \n",
    "    date += datetime.timedelta(days=1)\n",
    "    print(date) "
   ]
  },
  {
   "cell_type": "code",
   "execution_count": null,
   "metadata": {},
   "outputs": [],
   "source": []
  },
  {
   "cell_type": "code",
   "execution_count": 3,
   "metadata": {},
   "outputs": [
    {
     "name": "stdout",
     "output_type": "stream",
     "text": [
      "<class 'pandas.core.frame.DataFrame'>\n",
      "RangeIndex: 1090935 entries, 0 to 1090934\n",
      "Data columns (total 33 columns):\n",
      "date              1090935 non-null datetime64[ns]\n",
      "ax                1087434 non-null float64\n",
      "ay                1087434 non-null float64\n",
      "az                1087434 non-null float64\n",
      "batter_side       1090935 non-null object\n",
      "break_angle       1087434 non-null float64\n",
      "break_length      1087434 non-null float64\n",
      "break_y           1087434 non-null float64\n",
      "end_speed         1087473 non-null float64\n",
      "nasty             1087434 non-null float64\n",
      "pfx_x             1087457 non-null float64\n",
      "pfx_z             1087457 non-null float64\n",
      "pitch_type        1087434 non-null object\n",
      "pitch_type_seq    1090935 non-null object\n",
      "pitcher_hand      1090935 non-null object\n",
      "px                1087434 non-null float64\n",
      "pz                1087434 non-null float64\n",
      "spin_dir          1087434 non-null float64\n",
      "spin_rate         1087434 non-null float64\n",
      "start_speed       1087473 non-null float64\n",
      "strike            1090935 non-null bool\n",
      "sz_bot            1089885 non-null float64\n",
      "sz_top            1089885 non-null float64\n",
      "type_conf         1087434 non-null float64\n",
      "vx0               1087434 non-null float64\n",
      "vy0               1087434 non-null float64\n",
      "vz0               1087434 non-null float64\n",
      "weather           1090935 non-null object\n",
      "wind              1090935 non-null object\n",
      "x0                1087434 non-null float64\n",
      "y0                1087434 non-null float64\n",
      "z0                1087434 non-null float64\n",
      "zone              1087434 non-null float64\n",
      "dtypes: bool(1), datetime64[ns](1), float64(25), object(6)\n",
      "memory usage: 267.4+ MB\n"
     ]
    }
   ],
   "source": [
    "df.info()"
   ]
  },
  {
   "cell_type": "code",
   "execution_count": 4,
   "metadata": {},
   "outputs": [
    {
     "data": {
      "text/plain": [
       "False    744159\n",
       "True     346776\n",
       "Name: strike, dtype: int64"
      ]
     },
     "execution_count": 4,
     "metadata": {},
     "output_type": "execute_result"
    }
   ],
   "source": [
    "df.strike.value_counts()"
   ]
  },
  {
   "cell_type": "code",
   "execution_count": 5,
   "metadata": {},
   "outputs": [
    {
     "data": {
      "text/plain": [
       "['ax',\n",
       " 'ay',\n",
       " 'az',\n",
       " 'batter_side',\n",
       " 'break_angle',\n",
       " 'break_length',\n",
       " 'break_y',\n",
       " 'date',\n",
       " 'end_speed',\n",
       " 'nasty',\n",
       " 'pfx_x',\n",
       " 'pfx_z',\n",
       " 'pitch_type',\n",
       " 'pitch_type_seq',\n",
       " 'pitcher_hand',\n",
       " 'px',\n",
       " 'pz',\n",
       " 'spin_dir',\n",
       " 'spin_rate',\n",
       " 'start_speed',\n",
       " 'strike',\n",
       " 'sz_bot',\n",
       " 'sz_top',\n",
       " 'type_conf',\n",
       " 'vx0',\n",
       " 'vy0',\n",
       " 'vz0',\n",
       " 'weather',\n",
       " 'wind',\n",
       " 'x0',\n",
       " 'y0',\n",
       " 'z0',\n",
       " 'zone']"
      ]
     },
     "execution_count": 5,
     "metadata": {},
     "output_type": "execute_result"
    }
   ],
   "source": [
    "sorted(df.columns.tolist())"
   ]
  },
  {
   "cell_type": "markdown",
   "metadata": {},
   "source": [
    "### Tristan script pred_pitches"
   ]
  },
  {
   "cell_type": "code",
   "execution_count": 6,
   "metadata": {},
   "outputs": [
    {
     "name": "stdout",
     "output_type": "stream",
     "text": [
      "Reading csv\n",
      "- Done: 7.778\n",
      "Getting pitch data for 880 cycles, 1.0 days per cycle\n",
      "- Done: 4.149\n"
     ]
    }
   ],
   "source": [
    "import datetime\n",
    "import os\n",
    "import requests\n",
    "import time\n",
    "\n",
    "from dateutil import parser\n",
    "import random\n",
    "import numpy as np\n",
    "import pandas as pd\n",
    "\n",
    "# can grab all this from the Integrations tab\n",
    "# TODO move to config file or add cli\n",
    "API_TOKEN =  '-tthMRg4-sXF21D7FTQYxfUAMZSGWqvs' \n",
    "USERNAME = 'aengel@datarobot.com' \n",
    "DATAROBOT_KEY = '544ec55f-61bf-f6ee-0caf-15c7f919a45d'  \n",
    "headers = {'Content-Type': 'application/json', 'datarobot-key': DATAROBOT_KEY}\n",
    "\n",
    "CHAMPION_DEPLOYMENT_ID = '5bad2050e56fab405ccf6017'\n",
    "# NOTE add a challenger deployment ID to route ~20% of requests to\n",
    "CHALLENGER_DEPLOYMENT_ID = None\n",
    "\n",
    "target = 'strike'\n",
    "dt = 'date'\n",
    "\n",
    "# prepare the data\n",
    "t1 = time.time()\n",
    "print('Reading csv')\n",
    "fname = 'pitch_scoring.csv'\n",
    "df = pd.read_csv(fname, parse_dates=[dt])\n",
    "df = df.drop(target, axis=1)\n",
    "print('- Done: %.3f' % (time.time()-t1))\n",
    "\n",
    "df = df.sort_values(dt)\n",
    "s_date = df[dt].min()\n",
    "e_date = df[dt].max()\n",
    "\n",
    "num_days = (e_date - s_date).days\n",
    "cycles = num_days  # 14\n",
    "days_per_cycle = num_days / cycles\n",
    "\n",
    "periods = {}\n",
    "print('Getting pitch data for %s cycles, %s days per cycle' % (cycles, days_per_cycle))\n",
    "t1 = time.time()\n",
    "for c in range(cycles):\n",
    "    p_start = s_date + datetime.timedelta(days=days_per_cycle * c)\n",
    "    p_end = p_start + datetime.timedelta(days=days_per_cycle)\n",
    "    periods[c] = df[(df[dt] >= p_start) & (df[dt] <= p_end)]\n",
    "print('- Done: %.3f' % (time.time()-t1))"
   ]
  },
  {
   "cell_type": "code",
   "execution_count": 7,
   "metadata": {},
   "outputs": [
    {
     "name": "stdout",
     "output_type": "stream",
     "text": [
      "2016-04-03 00:00:00\n"
     ]
    },
    {
     "data": {
      "text/plain": [
       "Timestamp('2018-08-31 00:00:00')"
      ]
     },
     "execution_count": 7,
     "metadata": {},
     "output_type": "execute_result"
    }
   ],
   "source": [
    "print(s_date)\n",
    "e_date"
   ]
  },
  {
   "cell_type": "code",
   "execution_count": 10,
   "metadata": {},
   "outputs": [
    {
     "name": "stdout",
     "output_type": "stream",
     "text": [
      "start: 2018-09-30 00:00:00\n",
      "now:   2018-11-01 18:35:28.786017\n",
      "end:   2021-02-26 00:00:00\n",
      "\n",
      "Starting prediction loop with settings...\n",
      "cycles: 880 | days_per_cycle: 1.0 | max_rows_per_req: 5 | min_delay 0 | max_delay 2\n"
     ]
    },
    {
     "ename": "HTTPError",
     "evalue": "404 Client Error: NOT FOUND for url: https://cfds-ccm-prod.orm.datarobot.com/predApi/v1.0/deployments/5bad2050e56fab405ccf6017/predictions",
     "output_type": "error",
     "traceback": [
      "\u001b[0;31m---------------------------------------------------------------------------\u001b[0m",
      "\u001b[0;31mHTTPError\u001b[0m                                 Traceback (most recent call last)",
      "\u001b[0;32m<ipython-input-10-46ded23c793d>\u001b[0m in \u001b[0;36m<module>\u001b[0;34m()\u001b[0m\n\u001b[1;32m     39\u001b[0m                                         auth=(USERNAME, API_TOKEN), data=pred_data, headers=headers)\n\u001b[1;32m     40\u001b[0m \u001b[0;34m\u001b[0m\u001b[0m\n\u001b[0;32m---> 41\u001b[0;31m         \u001b[0mpredictions_response\u001b[0m\u001b[0;34m.\u001b[0m\u001b[0mraise_for_status\u001b[0m\u001b[0;34m(\u001b[0m\u001b[0;34m)\u001b[0m\u001b[0;34m\u001b[0m\u001b[0m\n\u001b[0m\u001b[1;32m     42\u001b[0m \u001b[0;34m\u001b[0m\u001b[0m\n\u001b[1;32m     43\u001b[0m     \u001b[0;32melse\u001b[0m\u001b[0;34m:\u001b[0m\u001b[0;34m\u001b[0m\u001b[0m\n",
      "\u001b[0;32m/anaconda3/lib/python3.6/site-packages/requests/models.py\u001b[0m in \u001b[0;36mraise_for_status\u001b[0;34m(self)\u001b[0m\n\u001b[1;32m    933\u001b[0m \u001b[0;34m\u001b[0m\u001b[0m\n\u001b[1;32m    934\u001b[0m         \u001b[0;32mif\u001b[0m \u001b[0mhttp_error_msg\u001b[0m\u001b[0;34m:\u001b[0m\u001b[0;34m\u001b[0m\u001b[0m\n\u001b[0;32m--> 935\u001b[0;31m             \u001b[0;32mraise\u001b[0m \u001b[0mHTTPError\u001b[0m\u001b[0;34m(\u001b[0m\u001b[0mhttp_error_msg\u001b[0m\u001b[0;34m,\u001b[0m \u001b[0mresponse\u001b[0m\u001b[0;34m=\u001b[0m\u001b[0mself\u001b[0m\u001b[0;34m)\u001b[0m\u001b[0;34m\u001b[0m\u001b[0m\n\u001b[0m\u001b[1;32m    936\u001b[0m \u001b[0;34m\u001b[0m\u001b[0m\n\u001b[1;32m    937\u001b[0m     \u001b[0;32mdef\u001b[0m \u001b[0mclose\u001b[0m\u001b[0;34m(\u001b[0m\u001b[0mself\u001b[0m\u001b[0;34m)\u001b[0m\u001b[0;34m:\u001b[0m\u001b[0;34m\u001b[0m\u001b[0m\n",
      "\u001b[0;31mHTTPError\u001b[0m: 404 Client Error: NOT FOUND for url: https://cfds-ccm-prod.orm.datarobot.com/predApi/v1.0/deployments/5bad2050e56fab405ccf6017/predictions"
     ]
    }
   ],
   "source": [
    "MAX_ROWS = 5\n",
    "DELAY_MIN = 0 # 8\n",
    "DELAY_MAX = 2 # 12\n",
    "# we want ~20k prediction rows a day which is ~14 per minute\n",
    "# current avg will be be ~18 rows per minute\n",
    "\n",
    "# NOTE change cycle_start to be an explict date if you stop + start the script but want to maintain the cycles.\n",
    "# using utcnow() will start the cycle over again \n",
    "# start = datetime.datetime.utcnow()\n",
    "start = datetime.datetime(2018, 9, 30)\n",
    "end = start + datetime.timedelta(days=cycles)\n",
    "now = datetime.datetime.utcnow()\n",
    "\n",
    "print('start:',start)\n",
    "print('now:  ',now)\n",
    "print('end:  ',end)\n",
    "print()\n",
    "\n",
    "msg = \"Starting prediction loop with settings...\\n\"\n",
    "msg += \"cycles: {} | days_per_cycle: {} | max_rows_per_req: {} | min_delay {} | max_delay {}\".format(\n",
    "    cycles, days_per_cycle, MAX_ROWS, DELAY_MIN, DELAY_MAX)\n",
    "print(msg)\n",
    "\n",
    "num_req = 0\n",
    "total_rows = 0\n",
    "while now < end:\n",
    "    curr_cycle = (now - start).days\n",
    "    num_rows = random.randint(1, MAX_ROWS)  # ---> Why sample a random number of rows from each cycle?\n",
    "    total_rows += num_rows\n",
    "    \n",
    "    data = periods[curr_cycle]\n",
    "    data = data.drop(dt, axis=1)\n",
    "\n",
    "    # randomly sample some rows within this time periods\n",
    "    cycle_sample_rows = data.sample(num_rows, random_state=0) \n",
    "    pred_data = cycle_sample_rows.to_json(orient='records')\n",
    "    if random.random() > 0.2 or CHALLENGER_DEPLOYMENT_ID is None:\n",
    "        predictions_response = requests.post('https://cfds-ccm-prod.orm.datarobot.com/predApi/v1.0/deployments/%s/predictions' % (CHAMPION_DEPLOYMENT_ID),\n",
    "                                        auth=(USERNAME, API_TOKEN), data=pred_data, headers=headers)\n",
    "\n",
    "        predictions_response.raise_for_status()\n",
    "\n",
    "    else:\n",
    "        predictions_response = requests.post('https://cfds-ccm-prod.orm.datarobot.com/predApi/v1.0/deployments/%s/predictions' % (CHALLENGER_DEPLOYMENT_ID),\n",
    "                                         auth=(USERNAME, API_TOKEN), data=pred_data, headers=headers)\n",
    "        predictions_response.raise_for_status()  # ---> what are we doing with predictions_response\n",
    "    num_req += 1\n",
    "    if num_req % 5 == 0 or num_req == 1:\n",
    "        print(\"Current cycle: {} | Total Reqs: {} | Total Rows: {}\".format(curr_cycle, num_req,\n",
    "            total_rows))\n",
    "\n",
    "    sleep = random.uniform(DELAY_MIN, DELAY_MAX)  # ---> why the random sleep\n",
    "    time.sleep(sleep)\n",
    "    now = datetime.datetime.utcnow()"
   ]
  },
  {
   "cell_type": "code",
   "execution_count": 8,
   "metadata": {},
   "outputs": [
    {
     "ename": "NameError",
     "evalue": "name 'data' is not defined",
     "output_type": "error",
     "traceback": [
      "\u001b[0;31m---------------------------------------------------------------------------\u001b[0m",
      "\u001b[0;31mNameError\u001b[0m                                 Traceback (most recent call last)",
      "\u001b[0;32m<ipython-input-8-1f4f79f9a44e>\u001b[0m in \u001b[0;36m<module>\u001b[0;34m()\u001b[0m\n\u001b[0;32m----> 1\u001b[0;31m \u001b[0mdata\u001b[0m\u001b[0;34m.\u001b[0m\u001b[0mshape\u001b[0m\u001b[0;34m\u001b[0m\u001b[0m\n\u001b[0m\u001b[1;32m      2\u001b[0m \u001b[0mrandom\u001b[0m\u001b[0;34m.\u001b[0m\u001b[0mrandint\u001b[0m\u001b[0;34m(\u001b[0m\u001b[0;36m1\u001b[0m\u001b[0;34m,\u001b[0m \u001b[0mMAX_ROWS\u001b[0m\u001b[0;34m)\u001b[0m\u001b[0;34m\u001b[0m\u001b[0m\n\u001b[1;32m      3\u001b[0m \u001b[0mdata\u001b[0m\u001b[0;34m.\u001b[0m\u001b[0mindex\u001b[0m\u001b[0;34m.\u001b[0m\u001b[0mvalues\u001b[0m\u001b[0;34m\u001b[0m\u001b[0m\n\u001b[1;32m      4\u001b[0m \u001b[0;34m\u001b[0m\u001b[0m\n\u001b[1;32m      5\u001b[0m \u001b[0mcycle_sample_rows\u001b[0m \u001b[0;34m=\u001b[0m \u001b[0mdata\u001b[0m\u001b[0;34m.\u001b[0m\u001b[0msample\u001b[0m\u001b[0;34m(\u001b[0m\u001b[0mnum_rows\u001b[0m\u001b[0;34m,\u001b[0m \u001b[0mrandom_state\u001b[0m\u001b[0;34m=\u001b[0m\u001b[0;36m0\u001b[0m\u001b[0;34m)\u001b[0m\u001b[0;34m\u001b[0m\u001b[0m\n",
      "\u001b[0;31mNameError\u001b[0m: name 'data' is not defined"
     ]
    }
   ],
   "source": [
    "data.shape\n",
    "random.randint(1, MAX_ROWS)\n",
    "data.index.values\n",
    "\n",
    "cycle_sample_rows = data.sample(num_rows, random_state=0) \n",
    "cycle_sample_rows\n",
    "pred_data = cycle_sample_rows.to_json(orient='records')\n",
    "pred_data"
   ]
  },
  {
   "cell_type": "code",
   "execution_count": null,
   "metadata": {},
   "outputs": [],
   "source": []
  },
  {
   "cell_type": "code",
   "execution_count": 63,
   "metadata": {
    "scrolled": true
   },
   "outputs": [
    {
     "name": "stdout",
     "output_type": "stream",
     "text": [
      "sleep for 11.677951758472721\n",
      "done\n",
      "Current cycle: 4 | Total Reqs: 30 | Total Rows: 109\n",
      "sleep for 9.459994270902882\n",
      "done\n",
      "sleep for 9.371756485730877\n",
      "done\n",
      "sleep for 10.78383129251692\n",
      "done\n",
      "sleep for 8.883700585723059\n",
      "done\n",
      "sleep for 9.737358083745606\n",
      "done\n",
      "Current cycle: 4 | Total Reqs: 35 | Total Rows: 118\n",
      "sleep for 8.238600477201505\n",
      "done\n",
      "sleep for 9.504848210413277\n",
      "done\n",
      "sleep for 9.320783611855706\n",
      "done\n",
      "sleep for 9.11522255661592\n",
      "done\n",
      "sleep for 10.391486160929464\n"
     ]
    },
    {
     "ename": "KeyboardInterrupt",
     "evalue": "",
     "output_type": "error",
     "traceback": [
      "\u001b[0;31m---------------------------------------------------------------------------\u001b[0m",
      "\u001b[0;31mKeyboardInterrupt\u001b[0m                         Traceback (most recent call last)",
      "\u001b[0;32m<ipython-input-63-972f1a3d143e>\u001b[0m in \u001b[0;36m<module>\u001b[0;34m()\u001b[0m\n\u001b[1;32m     27\u001b[0m     \u001b[0msleep\u001b[0m \u001b[0;34m=\u001b[0m \u001b[0mrandom\u001b[0m\u001b[0;34m.\u001b[0m\u001b[0muniform\u001b[0m\u001b[0;34m(\u001b[0m\u001b[0mDELAY_MIN\u001b[0m\u001b[0;34m,\u001b[0m \u001b[0mDELAY_MAX\u001b[0m\u001b[0;34m)\u001b[0m  \u001b[0;31m# ---> why the random sleep\u001b[0m\u001b[0;34m\u001b[0m\u001b[0m\n\u001b[1;32m     28\u001b[0m     \u001b[0mprint\u001b[0m\u001b[0;34m(\u001b[0m\u001b[0;34m'sleep for'\u001b[0m\u001b[0;34m,\u001b[0m\u001b[0msleep\u001b[0m\u001b[0;34m)\u001b[0m\u001b[0;34m\u001b[0m\u001b[0m\n\u001b[0;32m---> 29\u001b[0;31m     \u001b[0mtime\u001b[0m\u001b[0;34m.\u001b[0m\u001b[0msleep\u001b[0m\u001b[0;34m(\u001b[0m\u001b[0msleep\u001b[0m\u001b[0;34m)\u001b[0m\u001b[0;34m\u001b[0m\u001b[0m\n\u001b[0m\u001b[1;32m     30\u001b[0m     \u001b[0mprint\u001b[0m\u001b[0;34m(\u001b[0m\u001b[0;34m'done'\u001b[0m\u001b[0;34m)\u001b[0m\u001b[0;34m\u001b[0m\u001b[0m\n\u001b[1;32m     31\u001b[0m     \u001b[0mnow\u001b[0m \u001b[0;34m=\u001b[0m \u001b[0mdatetime\u001b[0m\u001b[0;34m.\u001b[0m\u001b[0mdatetime\u001b[0m\u001b[0;34m.\u001b[0m\u001b[0mutcnow\u001b[0m\u001b[0;34m(\u001b[0m\u001b[0;34m)\u001b[0m\u001b[0;34m\u001b[0m\u001b[0m\n",
      "\u001b[0;31mKeyboardInterrupt\u001b[0m: "
     ]
    }
   ],
   "source": []
  },
  {
   "cell_type": "markdown",
   "metadata": {},
   "source": [
    "## Get new data from mlb.com"
   ]
  },
  {
   "cell_type": "code",
   "execution_count": 32,
   "metadata": {},
   "outputs": [],
   "source": [
    "'''\n",
    "base_url = \"http://gd2.mlb.com/components/game/mlb/\"\n",
    "\n",
    "flow:\n",
    "\n",
    "main()\n",
    "read_yearmonth(args.year, args.month) or read_year(args.year)\n",
    "- BeautifulSoup for games on each day\n",
    "- - eg, http://gd2.mlb.com/components/game/mlb/year_2018/month_03/day_01/gid_2018_03_01_anamlb_sfnmlb_1/\n",
    "    read_game(g_url, datestr)\n",
    "    - BeautifulSoup a specific game\n",
    "    - - get a bunch of data related to the game, players, at bats, pitches, and box scores\n",
    "- write pitches_ and \n",
    "\n",
    "'''\n",
    "pass"
   ]
  },
  {
   "cell_type": "code",
   "execution_count": 50,
   "metadata": {},
   "outputs": [
    {
     "name": "stdout",
     "output_type": "stream",
     "text": [
      "Namespace(debug=None, month=3, test=None, year=2018)\n",
      "active_date: 2018-03-01\n",
      "Game url: http://gd2.mlb.com/components/game/mlb/year_2018/month_03/day_01/gid_2018_03_01_anamlb_sfnmlb_1/\n",
      "Game url: http://gd2.mlb.com/components/game/mlb/year_2018/month_03/day_01/gid_2018_03_01_atlmlb_detmlb_1/\n",
      "Game url: http://gd2.mlb.com/components/game/mlb/year_2018/month_03/day_01/gid_2018_03_01_balmlb_tbamlb_1/\n",
      "Game url: http://gd2.mlb.com/components/game/mlb/year_2018/month_03/day_01/gid_2018_03_01_bosmlb_houmlb_1/\n",
      "Game url: http://gd2.mlb.com/components/game/mlb/year_2018/month_03/day_01/gid_2018_03_01_chamlb_cinmlb_1/\n",
      "Game url: http://gd2.mlb.com/components/game/mlb/year_2018/month_03/day_01/gid_2018_03_01_clemlb_lanmlb_1/\n",
      "Game url: http://gd2.mlb.com/components/game/mlb/year_2018/month_03/day_01/gid_2018_03_01_colmlb_chnmlb_1/\n",
      "Game url: http://gd2.mlb.com/components/game/mlb/year_2018/month_03/day_01/gid_2018_03_01_kcamlb_seamlb_1/\n",
      "Game url: http://gd2.mlb.com/components/game/mlb/year_2018/month_03/day_01/gid_2018_03_01_miamlb_nynmlb_1/\n",
      "Game url: http://gd2.mlb.com/components/game/mlb/year_2018/month_03/day_01/gid_2018_03_01_milmlb_arimlb_1/\n",
      "Game url: http://gd2.mlb.com/components/game/mlb/year_2018/month_03/day_01/gid_2018_03_01_minmlb_slnmlb_1/\n",
      "Game url: http://gd2.mlb.com/components/game/mlb/year_2018/month_03/day_01/gid_2018_03_01_nyamlb_phimlb_1/\n",
      "Game url: http://gd2.mlb.com/components/game/mlb/year_2018/month_03/day_01/gid_2018_03_01_sdnmlb_texmlb_1/\n",
      "Game url: http://gd2.mlb.com/components/game/mlb/year_2018/month_03/day_01/gid_2018_03_01_texmlb_oakmlb_2/\n",
      "ERR: New pitcher Jharel Cotton not a reserve\n",
      "WARN: Mismatched pitcher names: Jharel Cotton and Lou Trivino for 605194, 642152\n",
      "Game url: http://gd2.mlb.com/components/game/mlb/year_2018/month_03/day_01/gid_2018_03_01_tormlb_pitmlb_1/\n",
      "Game url: http://gd2.mlb.com/components/game/mlb/year_2018/month_03/day_01/gid_2018_03_01_wasmlb_atlmlb_2/\n"
     ]
    }
   ],
   "source": [
    "%run mlb_pull_year.py 2018 -m 3 \n",
    "# --debug 6"
   ]
  },
  {
   "cell_type": "code",
   "execution_count": 29,
   "metadata": {},
   "outputs": [
    {
     "data": {
      "text/plain": [
       "bs4.element.Tag"
      ]
     },
     "execution_count": 29,
     "metadata": {},
     "output_type": "execute_result"
    }
   ],
   "source": [
    "url = 'http://gd2.mlb.com/components/game/mlb/year_2018/month_04/day_30'\n",
    "day_dir = BeautifulSoup(urlopen(url), \"xml\")\n",
    "type(day_dir.find_all(\"a\", href=re.compile(\"gid_.*\"))[0])"
   ]
  },
  {
   "cell_type": "code",
   "execution_count": null,
   "metadata": {},
   "outputs": [],
   "source": []
  }
 ],
 "metadata": {
  "kernelspec": {
   "display_name": "Python 3",
   "language": "python",
   "name": "python3"
  },
  "language_info": {
   "codemirror_mode": {
    "name": "ipython",
    "version": 3
   },
   "file_extension": ".py",
   "mimetype": "text/x-python",
   "name": "python",
   "nbconvert_exporter": "python",
   "pygments_lexer": "ipython3",
   "version": "3.6.4"
  }
 },
 "nbformat": 4,
 "nbformat_minor": 2
}
