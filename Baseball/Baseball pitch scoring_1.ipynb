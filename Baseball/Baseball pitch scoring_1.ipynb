{
 "cells": [
  {
   "cell_type": "code",
   "execution_count": null,
   "metadata": {},
   "outputs": [
    {
     "name": "stdout",
     "output_type": "stream",
     "text": [
      "Source data shape: (1090935, 33)\n",
      "Creating project\n",
      "Setting target\n"
     ]
    }
   ],
   "source": [
    "import pandas as pd\n",
    "import datarobot as dr\n",
    "import mlb_pull_year as mlb\n",
    "import requests\n",
    "import os\n",
    "from pprint import pprint \n",
    "\n",
    "API_TOKEN = os.getenv('DATAROBOT_API_TOKEN')\n",
    "ENDPOINT = os.getenv('DATAROBOT_ENDPOINT')\n",
    "USERNAME = 'matthew.cohen@datarobot.com'\n",
    "dr.Client(endpoint=ENDPOINT, token=API_TOKEN)\n",
    "\n",
    "# Get the baseball project\n",
    "PROJECT_ID = '5bdb7caa7c6f8b71e0428016'\n",
    "project = dr.Project.get(PROJECT_ID)\n",
    "\n",
    "# ...or create it anew\n",
    "def create_baseball():\n",
    "    # Read source data\n",
    "    pitches_train = pd.read_csv('pitch_scoring.csv', parse_dates=['date'])\n",
    "    print('Source data shape:', pitches_train.shape)\n",
    "    # pitches_train.head()\n",
    "    \n",
    "    # Create the project in the DataRobot Cloud\n",
    "    print('Creating project')\n",
    "    project = dr.Project.create(sourcedata=pitches_train, project_name='Baseball pitch prediction')\n",
    "    \n",
    "    # Set target starts autopilog\n",
    "    print('Running autopilot')\n",
    "    project.set_target(target='strike', mode='auto', worker_count=20)\n",
    "    \n",
    "    # Block until complete\n",
    "    print('Waiting to complete')\n",
    "    project.wait_for_autopilot()\n",
    "    \n",
    "    print('Done.')\n",
    "    return project\n",
    "\n",
    "project = create_baseball()"
   ]
  },
  {
   "cell_type": "code",
   "execution_count": 4,
   "metadata": {},
   "outputs": [
    {
     "name": "stdout",
     "output_type": "stream",
     "text": [
      "2018-04-01\n",
      "http://gd2.mlb.com/components/game/mlb/year_2018/month_04/day_01/gid_2018_04_01_anamlb_oakmlb_1/\n",
      "ERR: New pitcher Daniel Gossett not a reserve\n",
      "WARN: Mismatched pitcher names: Daniel Gossett and Yusmeiro Petit for 605254, 433589\n",
      "http://gd2.mlb.com/components/game/mlb/year_2018/month_04/day_01/gid_2018_04_01_bosmlb_tbamlb_1/\n",
      "ERR: New pitcher Jake Faria not a reserve\n",
      "WARN: Mismatched pitcher names: Jake Faria and Jose Alvarado for 607188, 621237\n",
      "http://gd2.mlb.com/components/game/mlb/year_2018/month_04/day_01/gid_2018_04_01_chamlb_kcamlb_1/\n",
      "WARN: Couldn't find inning directory at http://gd2.mlb.com/components/game/mlb/year_2018/month_04/day_01/gid_2018_04_01_chamlb_kcamlb_1/\n",
      "http://gd2.mlb.com/components/game/mlb/year_2018/month_04/day_01/gid_2018_04_01_chnmlb_miamlb_1/\n",
      "http://gd2.mlb.com/components/game/mlb/year_2018/month_04/day_01/gid_2018_04_01_clemlb_seamlb_1/\n",
      "http://gd2.mlb.com/components/game/mlb/year_2018/month_04/day_01/gid_2018_04_01_houmlb_texmlb_1/\n",
      "http://gd2.mlb.com/components/game/mlb/year_2018/month_04/day_01/gid_2018_04_01_minmlb_balmlb_1/\n",
      "http://gd2.mlb.com/components/game/mlb/year_2018/month_04/day_01/gid_2018_04_01_nyamlb_tormlb_1/\n",
      "ERR: New pitcher Sonny Gray not a reserve\n",
      "WARN: Mismatched pitcher names: Sonny Gray and Chad Green for 543243, 643338\n",
      "http://gd2.mlb.com/components/game/mlb/year_2018/month_04/day_01/gid_2018_04_01_pitmlb_detmlb_1/\n",
      "http://gd2.mlb.com/components/game/mlb/year_2018/month_04/day_01/gid_2018_04_01_pitmlb_detmlb_2/\n",
      "http://gd2.mlb.com/components/game/mlb/year_2018/month_04/day_01/gid_2018_04_01_sfnmlb_lanmlb_1/\n",
      "http://gd2.mlb.com/components/game/mlb/year_2018/month_04/day_01/gid_2018_04_01_slnmlb_nynmlb_1/\n",
      "http://gd2.mlb.com/components/game/mlb/year_2018/month_04/day_01/gid_2018_04_01_wasmlb_cinmlb_1/\n",
      "ERR: New pitcher Gio Gonzalez not a reserve\n",
      "WARN: Mismatched pitcher names: Gio Gonzalez and Matt Grace for 461829, 594840\n",
      "\n",
      "Num pitches: 3486\n",
      "day's pitch data: (3486, 72)\n",
      "pitches_pred columns len: 32\n",
      "pitches_train columns len: 33\n"
     ]
    },
    {
     "data": {
      "text/plain": [
       "(3486, 32)"
      ]
     },
     "execution_count": 4,
     "metadata": {},
     "output_type": "execute_result"
    }
   ],
   "source": [
    "def get_pitches_day(year, month, day):\n",
    "    # \n",
    "    # Get the pitch data for a day\n",
    "    #\n",
    "    pitches = mlb.read_yearmonth(year, month, day)  # omits the 'strike' feature\n",
    "    print('\\nNum pitches:', len(pitches))\n",
    "    \n",
    "    # \n",
    "    # Edit the columns for the received day's pitches to match the training data columns \n",
    "    #\n",
    "    # Get features from the daily pitch data\n",
    "    pitches_today = pd.DataFrame(pitches)\n",
    "    all_pitch_cols = pitches_today.columns.sort_values().tolist()\n",
    "    print(\"day's pitch data:\", pitches_today.shape)\n",
    "\n",
    "    # Get the training data raw features from the project\n",
    "    # cols_train = pitches_train.columns.sort_values()\n",
    "    fl = [fl for fl in project.get_featurelists() if fl.name == 'Raw Features'][0]\n",
    "    cols_train = fl.features\n",
    "\n",
    "    cols_to_drop = [feat for feat in all_pitch_cols if feat not in cols_train]\n",
    "    pitches_today = pitches_today.drop(cols_to_drop, axis=1)\n",
    "    cols_pred = pitches_today.columns.tolist()\n",
    "\n",
    "    print('pitches_pred columns len:', len(cols_pred))\n",
    "    print('pitches_train columns len:', len(cols_train))\n",
    "    \n",
    "    return pitches_today\n",
    "\n",
    "pitches_today = get_pitches_day(2018, 4, 1) \n",
    "pitches_today.shape"
   ]
  },
  {
   "cell_type": "code",
   "execution_count": 7,
   "metadata": {
    "scrolled": false
   },
   "outputs": [
    {
     "name": "stdout",
     "output_type": "stream",
     "text": [
      "pred file shape: (3486, 32)\n",
      "pred out file shape: (3486, 7)\n"
     ]
    },
    {
     "data": {
      "text/html": [
       "<div>\n",
       "<style scoped>\n",
       "    .dataframe tbody tr th:only-of-type {\n",
       "        vertical-align: middle;\n",
       "    }\n",
       "\n",
       "    .dataframe tbody tr th {\n",
       "        vertical-align: top;\n",
       "    }\n",
       "\n",
       "    .dataframe thead th {\n",
       "        text-align: right;\n",
       "    }\n",
       "</style>\n",
       "<table border=\"1\" class=\"dataframe\">\n",
       "  <thead>\n",
       "    <tr style=\"text-align: right;\">\n",
       "      <th></th>\n",
       "      <th>prediction</th>\n",
       "      <th>predictionThreshold</th>\n",
       "      <th>rowId</th>\n",
       "      <th>label1</th>\n",
       "      <th>value1</th>\n",
       "      <th>label2</th>\n",
       "      <th>value2</th>\n",
       "    </tr>\n",
       "  </thead>\n",
       "  <tbody>\n",
       "    <tr>\n",
       "      <th>0</th>\n",
       "      <td>0.0</td>\n",
       "      <td>0.5</td>\n",
       "      <td>0</td>\n",
       "      <td>1.0</td>\n",
       "      <td>1.734000e-07</td>\n",
       "      <td>0.0</td>\n",
       "      <td>1.000000</td>\n",
       "    </tr>\n",
       "    <tr>\n",
       "      <th>1</th>\n",
       "      <td>0.0</td>\n",
       "      <td>0.5</td>\n",
       "      <td>1</td>\n",
       "      <td>1.0</td>\n",
       "      <td>4.232164e-02</td>\n",
       "      <td>0.0</td>\n",
       "      <td>0.957678</td>\n",
       "    </tr>\n",
       "    <tr>\n",
       "      <th>2</th>\n",
       "      <td>1.0</td>\n",
       "      <td>0.5</td>\n",
       "      <td>2</td>\n",
       "      <td>1.0</td>\n",
       "      <td>7.049791e-01</td>\n",
       "      <td>0.0</td>\n",
       "      <td>0.295021</td>\n",
       "    </tr>\n",
       "    <tr>\n",
       "      <th>3</th>\n",
       "      <td>0.0</td>\n",
       "      <td>0.5</td>\n",
       "      <td>3</td>\n",
       "      <td>1.0</td>\n",
       "      <td>2.380300e-06</td>\n",
       "      <td>0.0</td>\n",
       "      <td>0.999998</td>\n",
       "    </tr>\n",
       "    <tr>\n",
       "      <th>4</th>\n",
       "      <td>1.0</td>\n",
       "      <td>0.5</td>\n",
       "      <td>4</td>\n",
       "      <td>1.0</td>\n",
       "      <td>9.949994e-01</td>\n",
       "      <td>0.0</td>\n",
       "      <td>0.005001</td>\n",
       "    </tr>\n",
       "  </tbody>\n",
       "</table>\n",
       "</div>"
      ],
      "text/plain": [
       "   prediction  predictionThreshold  rowId  label1        value1  label2  \\\n",
       "0         0.0                  0.5      0     1.0  1.734000e-07     0.0   \n",
       "1         0.0                  0.5      1     1.0  4.232164e-02     0.0   \n",
       "2         1.0                  0.5      2     1.0  7.049791e-01     0.0   \n",
       "3         0.0                  0.5      3     1.0  2.380300e-06     0.0   \n",
       "4         1.0                  0.5      4     1.0  9.949994e-01     0.0   \n",
       "\n",
       "     value2  \n",
       "0  1.000000  \n",
       "1  0.957678  \n",
       "2  0.295021  \n",
       "3  0.999998  \n",
       "4  0.005001  "
      ]
     },
     "execution_count": 7,
     "metadata": {},
     "output_type": "execute_result"
    }
   ],
   "source": [
    "#\n",
    "# Score the day's pitch data on the deployment\n",
    "#\n",
    "DEPLOYMENT_ID = '5bdf672f7c6f8b2939428077'  # My project's recommended model: XGBoost @ 80%\n",
    "\n",
    "# Need to write df to file then read back in to get the request.post to work.  Not ideal.\n",
    "pred_file = 'pitch_pred.csv'\n",
    "pitches_today.to_csv(pred_file)\n",
    "data = open(pred_file, 'rb').read()  # This works.  This is type bytes: print(type(data))\n",
    "# print(data)\n",
    "print('pred file shape:', pitches_today.shape)\n",
    "\n",
    "headers = {'Content-Type': 'text/plain; charset=UTF-8', 'datarobot-key': '544ec55f-61bf-f6ee-0caf-15c7f919a45d'}\n",
    "predictions_response = requests.post('https://cfds-ccm-prod.orm.datarobot.com/predApi/v1.0/deployments/%s/predictions' % (DEPLOYMENT_ID),\n",
    "                                     auth=(USERNAME, API_TOKEN), data=data, headers=headers)\n",
    "\n",
    "predictions_response.raise_for_status()\n",
    "df = pd.DataFrame(predictions_response.json().get('data'))\n",
    "\n",
    "# Flatten nested label/value dict via apply \n",
    "df['label1'] = None\n",
    "df['value1'] = None\n",
    "df['label2'] = None\n",
    "df['value2'] = None\n",
    "def func(row):\n",
    "    for i, pair in enumerate(row['predictionValues']):\n",
    "        name = pair.get('label')\n",
    "        val = pair.get('value')\n",
    "        col_name_n = 'label' + str(i+1)\n",
    "        col_val_n = 'value' + str(i+1)\n",
    "        row[col_name_n] = name\n",
    "        row[col_val_n] = val\n",
    "    return row\n",
    "df_pred_out = df.apply(lambda row: func(row), axis=1)\n",
    "del df_pred_out['predictionValues']\n",
    "print('pred out file shape:',df_pred_out.shape)\n",
    "\n",
    "df_pred_out.head()"
   ]
  },
  {
   "cell_type": "markdown",
   "metadata": {},
   "source": [
    "## Dev"
   ]
  },
  {
   "cell_type": "code",
   "execution_count": 59,
   "metadata": {},
   "outputs": [
    {
     "data": {
      "text/plain": [
       "<Response [422]>"
      ]
     },
     "execution_count": 59,
     "metadata": {},
     "output_type": "execute_result"
    }
   ],
   "source": [
    "# Use the deployed model for predictions\n",
    "DEPLOYMENT_ID = '5bdb94127c6f8b72d54280b3'\n",
    "# MODEl_ID = '5bdb8a79c8c82a1395d4a9c3'  # Light GMB 64%\n",
    "\n",
    "ROUTE = 'https://cfds-ccm-prod.orm.datarobot.com/predApi/v1.0'\n",
    "USERNAME = 'matthew.cohen@datarobot.com'\n",
    "\n",
    "# Set HTTP headers\n",
    "# Note: The charset should match the contents of the file.\n",
    "headers = {'Content-Type': 'text/plain; charset=UTF-8', 'datarobot-key': '544ec55f-61bf-f6ee-0caf-15c7f919a45d'}\n",
    "# headers = {'Content-Type': 'text/plain; charset=UTF-8', 'Authorization': 'token %s' % API_TOKEN}\n",
    "\n",
    "headers2 = {'Content-Type': 'application/json', 'Authorization': 'token %s' % API_TOKEN}\n",
    "headers3 = {'Content-Type': 'application/json', 'datarobot-key': '544ec55f-61bf-f6ee-0caf-15c7f919a45d'}\n",
    "\n",
    "# health_response = requests.get('%s/modelDeployments/%s/' % (ENDPOINT, DEPLOYMENT_ID), headers=headers2)\n",
    "# pprint(health_response.json())\n",
    "\n",
    "# data = open(sys.argv[1], 'rb').read()\n",
    "sub_sample = pitches_pred.sample(5)\n",
    "data = sub_sample.to_json()\n",
    "data\n",
    "# data = pitches_pred\n",
    "\n",
    "# Make predictions on your data\n",
    "# The URL has the following format:\n",
    "#     https://cfds-ccm-prod.orm.datarobot.com/predApi/v1.0/deployments/<DEPLOYMENT_ID>/predictions\n",
    "# See docs for details:\n",
    "#     app.datarobot.com/docs/users-guide/deploy/api/new-prediction-api.html\n",
    "predictions_response = requests.post('%s/deployments/%s/predictions' % (ROUTE, DEPLOYMENT_ID),\n",
    "                                     auth=(USERNAME, API_TOKEN), \n",
    "                                     data=data, headers=headers)\n",
    "\n",
    "# predictions_response.raise_for_status()\n",
    "# print(predictions_response.json())\n",
    "# data\n",
    "predictions_response"
   ]
  },
  {
   "cell_type": "code",
   "execution_count": 43,
   "metadata": {},
   "outputs": [
    {
     "data": {
      "text/plain": [
       "<Response [401]>"
      ]
     },
     "execution_count": 43,
     "metadata": {},
     "output_type": "execute_result"
    }
   ],
   "source": []
  },
  {
   "cell_type": "code",
   "execution_count": null,
   "metadata": {},
   "outputs": [],
   "source": []
  }
 ],
 "metadata": {
  "kernelspec": {
   "display_name": "Python 3",
   "language": "python",
   "name": "python3"
  },
  "language_info": {
   "codemirror_mode": {
    "name": "ipython",
    "version": 3
   },
   "file_extension": ".py",
   "mimetype": "text/x-python",
   "name": "python",
   "nbconvert_exporter": "python",
   "pygments_lexer": "ipython3",
   "version": "3.6.4"
  }
 },
 "nbformat": 4,
 "nbformat_minor": 2
}
