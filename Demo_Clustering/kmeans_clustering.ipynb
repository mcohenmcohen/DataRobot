{
 "cells": [
  {
   "cell_type": "code",
   "execution_count": 6,
   "metadata": {},
   "outputs": [],
   "source": [
    "import pandas as pd\n",
    "import numpy as np\n",
    "from sklearn.cluster import KMeans\n",
    "from sklearn import metrics\n",
    "from scipy.spatial.distance import cdist\n",
    "from sklearn.preprocessing import StandardScaler\n",
    "import time\n",
    "import datarobot as dr\n",
    "import os\n",
    "from pprint import pprint\n",
    "\n",
    "import matplotlib\n",
    "import matplotlib.pyplot as plt\n",
    "%matplotlib inline"
   ]
  },
  {
   "cell_type": "code",
   "execution_count": 7,
   "metadata": {},
   "outputs": [],
   "source": [
    "# Dict of source data files and relevant text columns\n",
    "sources = {\n",
    "    '10kDiabetes': {\n",
    "        'target': 'readmitted',\n",
    "        'text_columns': ['diag_1_desc', 'diag_2_desc', 'diag_3_desc'],\n",
    "        'kmeans_columns' : ['time_in_hospital', 'num_lab_procedures', 'num_procedures', 'num_medications']\n",
    "    },\n",
    "    '10K_Lending_Club_Loans': {\n",
    "        'target': 'is_bad',\n",
    "        'text_columns': ['emp_title', 'desc', 'purpose', 'title'],\n",
    "        'kmeans_columns' : ['loan_amnt', 'funded_amnt', 'annual_inc', 'dti', 'open_acc', 'revol_bal']\n",
    "    }\n",
    "}\n",
    "\n",
    "# Designate the source you want to use here:\n",
    "source_used = '10kDiabetes'\n",
    "\n",
    "# Read the data file\n",
    "file_path = 'data/'\n",
    "file_name = source_used\n",
    "file_extn = '.csv'\n",
    "df = pd.read_csv(file_path + file_name + file_extn, encoding = \"ISO-8859-1\")\n",
    "\n",
    "# Source target\n",
    "target = sources.get(source_used).get('target')\n",
    "\n",
    "# Source text columns\n",
    "text_columns = sources.get(source_used).get('text_columns')\n",
    "kmeans_columns = sources.get(source_used).get('kmeans_columns')"
   ]
  },
  {
   "cell_type": "code",
   "execution_count": 133,
   "metadata": {},
   "outputs": [
    {
     "name": "stdout",
     "output_type": "stream",
     "text": [
      "Processed kmeans for k=19 of 20 - Time: 2.774s.\r"
     ]
    },
    {
     "data": {
      "image/png": "[encoded data removed]",
      "text/plain": [
       "<matplotlib.figure.Figure at 0x109013a58>"
      ]
     },
     "metadata": {},
     "output_type": "display_data"
    }
   ],
   "source": [
    "# Standardize the input features\n",
    "scaler = StandardScaler()\n",
    "df_standardized = pd.DataFrame(scaler.fit_transform( df[kmeans_columns] ), columns=kmeans_columns)\n",
    "    \n",
    "# create new plot and data\n",
    "X = df_standardized  # Should we use standardized inputs data to Kmeans?  Yes.\n",
    " \n",
    "# k means determine k\n",
    "distortions = []\n",
    "kmax = 20\n",
    "K = range(1,kmax)\n",
    "for k in K:\n",
    "    t1 = time.time()\n",
    "    kmeanModel = KMeans(n_clusters=k).fit(X)\n",
    "    kmeanModel.fit(X)\n",
    "    distortions.append(sum(np.min(cdist(X, kmeanModel.cluster_centers_, 'euclidean'), axis=1)) / X.shape[0])\n",
    "    print(\"Processed kmeans for k=%d of %d - Time: %0.3fs.\" % (k, kmax, (time.time() - t1)), end='\\r', flush=True)\n",
    " \n",
    "# Plot the elbow\n",
    "plt.plot(K, distortions, 'bx-')\n",
    "plt.xlabel('k')\n",
    "plt.ylabel('Centroid Distance Distortion')\n",
    "plt.title('The elbow for optimal k')\n",
    "plt.show()"
   ]
  },
  {
   "cell_type": "code",
   "execution_count": 137,
   "metadata": {},
   "outputs": [],
   "source": [
    "optimal_k = 7\n",
    "\n",
    "kmeans = KMeans(n_clusters=optimal_k).fit(X)\n",
    "cluster_dist = kmeans.transform(X)\n",
    "\n",
    "# Save the cluster label to the dataframe\n",
    "df['cluster_number'] = kmeans.labels_\n",
    "\n",
    "# Save the confidence of the cluster, using closeness of distance to the centroid \n",
    "# relative to the other observation distances to the centroid\n",
    "cl_df = pd.DataFrame(cluster_dist)\n",
    "d = pd.DataFrame()\n",
    "for i in range(optimal_k):\n",
    "    d[i] = pd.qcut(cl_df[i], 10, labels=range(1,11))\n",
    "df['cluster_confidence'] = [d.loc[i][label] for i, label in enumerate(kmeans.labels_)]"
   ]
  },
  {
   "cell_type": "code",
   "execution_count": 138,
   "metadata": {},
   "outputs": [
    {
     "data": {
      "text/html": [
       "<div>\n",
       "<style scoped>\n",
       "    .dataframe tbody tr th:only-of-type {\n",
       "        vertical-align: middle;\n",
       "    }\n",
       "\n",
       "    .dataframe tbody tr th {\n",
       "        vertical-align: top;\n",
       "    }\n",
       "\n",
       "    .dataframe thead th {\n",
       "        text-align: right;\n",
       "    }\n",
       "</style>\n",
       "<table border=\"1\" class=\"dataframe\">\n",
       "  <thead>\n",
       "    <tr style=\"text-align: right;\">\n",
       "      <th></th>\n",
       "      <th>rowID</th>\n",
       "      <th>race</th>\n",
       "      <th>gender</th>\n",
       "      <th>age</th>\n",
       "      <th>weight</th>\n",
       "      <th>admission_type_id</th>\n",
       "      <th>discharge_disposition_id</th>\n",
       "      <th>admission_source_id</th>\n",
       "      <th>time_in_hospital</th>\n",
       "      <th>payer_code</th>\n",
       "      <th>...</th>\n",
       "      <th>metformin.rosiglitazone</th>\n",
       "      <th>metformin.pioglitazone</th>\n",
       "      <th>change</th>\n",
       "      <th>diabetesMed</th>\n",
       "      <th>readmitted</th>\n",
       "      <th>diag_1_desc</th>\n",
       "      <th>diag_2_desc</th>\n",
       "      <th>diag_3_desc</th>\n",
       "      <th>cluster_number</th>\n",
       "      <th>cluster_confidence</th>\n",
       "    </tr>\n",
       "  </thead>\n",
       "  <tbody>\n",
       "    <tr>\n",
       "      <th>0</th>\n",
       "      <td>1</td>\n",
       "      <td>Caucasian</td>\n",
       "      <td>Female</td>\n",
       "      <td>[50-60)</td>\n",
       "      <td>?</td>\n",
       "      <td>Elective</td>\n",
       "      <td>Discharged to home</td>\n",
       "      <td>Physician Referral</td>\n",
       "      <td>1</td>\n",
       "      <td>CP</td>\n",
       "      <td>...</td>\n",
       "      <td>No</td>\n",
       "      <td>No</td>\n",
       "      <td>No</td>\n",
       "      <td>No</td>\n",
       "      <td>False</td>\n",
       "      <td>Spinal stenosis in cervical region</td>\n",
       "      <td>Spinal stenosis in cervical region</td>\n",
       "      <td>Effusion of joint, site unspecified</td>\n",
       "      <td>2</td>\n",
       "      <td>1</td>\n",
       "    </tr>\n",
       "    <tr>\n",
       "      <th>1</th>\n",
       "      <td>2</td>\n",
       "      <td>Caucasian</td>\n",
       "      <td>Female</td>\n",
       "      <td>[20-30)</td>\n",
       "      <td>[50-75)</td>\n",
       "      <td>Urgent</td>\n",
       "      <td>Discharged to home</td>\n",
       "      <td>Physician Referral</td>\n",
       "      <td>2</td>\n",
       "      <td>UN</td>\n",
       "      <td>...</td>\n",
       "      <td>No</td>\n",
       "      <td>No</td>\n",
       "      <td>No</td>\n",
       "      <td>No</td>\n",
       "      <td>False</td>\n",
       "      <td>First-degree perineal laceration, unspecified ...</td>\n",
       "      <td>Diabetes mellitus of mother, complicating preg...</td>\n",
       "      <td>Sideroblastic anemia</td>\n",
       "      <td>2</td>\n",
       "      <td>3</td>\n",
       "    </tr>\n",
       "    <tr>\n",
       "      <th>2</th>\n",
       "      <td>3</td>\n",
       "      <td>Caucasian</td>\n",
       "      <td>Male</td>\n",
       "      <td>[80-90)</td>\n",
       "      <td>?</td>\n",
       "      <td>Not Available</td>\n",
       "      <td>Discharged/transferred to home with home healt...</td>\n",
       "      <td>NaN</td>\n",
       "      <td>7</td>\n",
       "      <td>MC</td>\n",
       "      <td>...</td>\n",
       "      <td>No</td>\n",
       "      <td>No</td>\n",
       "      <td>No</td>\n",
       "      <td>Yes</td>\n",
       "      <td>True</td>\n",
       "      <td>Pneumococcal pneumonia [Streptococcus pneumoni...</td>\n",
       "      <td>Congestive heart failure, unspecified</td>\n",
       "      <td>Hyperosmolality and/or hypernatremia</td>\n",
       "      <td>1</td>\n",
       "      <td>4</td>\n",
       "    </tr>\n",
       "    <tr>\n",
       "      <th>3</th>\n",
       "      <td>4</td>\n",
       "      <td>AfricanAmerican</td>\n",
       "      <td>Female</td>\n",
       "      <td>[50-60)</td>\n",
       "      <td>?</td>\n",
       "      <td>Emergency</td>\n",
       "      <td>Discharged to home</td>\n",
       "      <td>Transfer from another health care facility</td>\n",
       "      <td>4</td>\n",
       "      <td>UN</td>\n",
       "      <td>...</td>\n",
       "      <td>No</td>\n",
       "      <td>No</td>\n",
       "      <td>No</td>\n",
       "      <td>Yes</td>\n",
       "      <td>False</td>\n",
       "      <td>Cellulitis and abscess of face</td>\n",
       "      <td>Streptococcus infection in conditions classifi...</td>\n",
       "      <td>Diabetes mellitus without mention of complicat...</td>\n",
       "      <td>4</td>\n",
       "      <td>3</td>\n",
       "    </tr>\n",
       "    <tr>\n",
       "      <th>4</th>\n",
       "      <td>5</td>\n",
       "      <td>AfricanAmerican</td>\n",
       "      <td>Female</td>\n",
       "      <td>[50-60)</td>\n",
       "      <td>?</td>\n",
       "      <td>Emergency</td>\n",
       "      <td>Discharged to home</td>\n",
       "      <td>Emergency Room</td>\n",
       "      <td>5</td>\n",
       "      <td>?</td>\n",
       "      <td>...</td>\n",
       "      <td>No</td>\n",
       "      <td>No</td>\n",
       "      <td>Ch</td>\n",
       "      <td>Yes</td>\n",
       "      <td>False</td>\n",
       "      <td>Bipolar I disorder, single manic episode, unsp...</td>\n",
       "      <td>Diabetes mellitus without mention of complicat...</td>\n",
       "      <td>Depressive type psychosis</td>\n",
       "      <td>4</td>\n",
       "      <td>3</td>\n",
       "    </tr>\n",
       "  </tbody>\n",
       "</table>\n",
       "<p>5 rows × 54 columns</p>\n",
       "</div>"
      ],
      "text/plain": [
       "   rowID             race  gender      age   weight admission_type_id  \\\n",
       "0      1        Caucasian  Female  [50-60)        ?          Elective   \n",
       "1      2        Caucasian  Female  [20-30)  [50-75)            Urgent   \n",
       "2      3        Caucasian    Male  [80-90)        ?     Not Available   \n",
       "3      4  AfricanAmerican  Female  [50-60)        ?         Emergency   \n",
       "4      5  AfricanAmerican  Female  [50-60)        ?         Emergency   \n",
       "\n",
       "                            discharge_disposition_id  \\\n",
       "0                                 Discharged to home   \n",
       "1                                 Discharged to home   \n",
       "2  Discharged/transferred to home with home healt...   \n",
       "3                                 Discharged to home   \n",
       "4                                 Discharged to home   \n",
       "\n",
       "                          admission_source_id  time_in_hospital payer_code  \\\n",
       "0                          Physician Referral                 1         CP   \n",
       "1                          Physician Referral                 2         UN   \n",
       "2                                         NaN                 7         MC   \n",
       "3  Transfer from another health care facility                 4         UN   \n",
       "4                              Emergency Room                 5          ?   \n",
       "\n",
       "         ...         metformin.rosiglitazone  metformin.pioglitazone  change  \\\n",
       "0        ...                              No                      No      No   \n",
       "1        ...                              No                      No      No   \n",
       "2        ...                              No                      No      No   \n",
       "3        ...                              No                      No      No   \n",
       "4        ...                              No                      No      Ch   \n",
       "\n",
       "   diabetesMed  readmitted                                        diag_1_desc  \\\n",
       "0           No       False                 Spinal stenosis in cervical region   \n",
       "1           No       False  First-degree perineal laceration, unspecified ...   \n",
       "2          Yes        True  Pneumococcal pneumonia [Streptococcus pneumoni...   \n",
       "3          Yes       False                     Cellulitis and abscess of face   \n",
       "4          Yes       False  Bipolar I disorder, single manic episode, unsp...   \n",
       "\n",
       "                                         diag_2_desc  \\\n",
       "0                 Spinal stenosis in cervical region   \n",
       "1  Diabetes mellitus of mother, complicating preg...   \n",
       "2              Congestive heart failure, unspecified   \n",
       "3  Streptococcus infection in conditions classifi...   \n",
       "4  Diabetes mellitus without mention of complicat...   \n",
       "\n",
       "                                         diag_3_desc cluster_number  \\\n",
       "0                Effusion of joint, site unspecified              2   \n",
       "1                               Sideroblastic anemia              2   \n",
       "2               Hyperosmolality and/or hypernatremia              1   \n",
       "3  Diabetes mellitus without mention of complicat...              4   \n",
       "4                          Depressive type psychosis              4   \n",
       "\n",
       "  cluster_confidence  \n",
       "0                  1  \n",
       "1                  3  \n",
       "2                  4  \n",
       "3                  3  \n",
       "4                  3  \n",
       "\n",
       "[5 rows x 54 columns]"
      ]
     },
     "execution_count": 138,
     "metadata": {},
     "output_type": "execute_result"
    }
   ],
   "source": [
    "df.head()"
   ]
  },
  {
   "cell_type": "code",
   "execution_count": 139,
   "metadata": {},
   "outputs": [
    {
     "name": "stdout",
     "output_type": "stream",
     "text": [
      "          0         1         2         3         4         5         6\n",
      "0  2.809790  1.946788  1.065748  3.460210  2.626955  2.565753  3.430289\n",
      "1  4.061569  3.483699  2.072486  4.436227  3.326058  2.607081  5.129716\n",
      "2  2.817961  1.777098  3.198350  2.499207  2.602558  1.785034  4.181456\n",
      "3  1.913558  2.156687  2.278180  2.835459  0.986228  1.352426  4.776759\n",
      "4  1.648131  1.468469  2.603622  2.312497  1.149522  1.255568  4.349774\n"
     ]
    },
    {
     "data": {
      "text/plain": [
       "<matplotlib.axes._subplots.AxesSubplot at 0x109d90240>"
      ]
     },
     "execution_count": 139,
     "metadata": {},
     "output_type": "execute_result"
    },
    {
     "data": {
      "image/png": "[encoded data removed]",
      "text/plain": [
       "<matplotlib.figure.Figure at 0x109c609e8>"
      ]
     },
     "metadata": {},
     "output_type": "display_data"
    }
   ],
   "source": [
    "print(cl_df.head())\n",
    "cl_df[5].hist(bins=100)"
   ]
  },
  {
   "cell_type": "code",
   "execution_count": 144,
   "metadata": {},
   "outputs": [
    {
     "name": "stdout",
     "output_type": "stream",
     "text": [
      "top topic value counts:\n",
      " 4    2636\n",
      "0    1821\n",
      "5    1496\n",
      "1    1207\n",
      "2    1185\n",
      "3    1098\n",
      "6     557\n",
      "Name: cluster_number, dtype: int64\n"
     ]
    },
    {
     "data": {
      "image/png": "[encoded data removed]",
      "text/plain": [
       "<matplotlib.figure.Figure at 0x1a0c6af748>"
      ]
     },
     "metadata": {},
     "output_type": "display_data"
    }
   ],
   "source": [
    "fig, axs = plt.subplots(1,2, figsize=(15,3))\n",
    "df.cluster_number.hist(bins=optimal_k, ax=axs[0])\n",
    "df.cluster_confidence.hist(bins=10, ax=axs[1])\n",
    "print('kmeans cluster value counts:\\n',df.cluster_number.value_counts())"
   ]
  },
  {
   "cell_type": "code",
   "execution_count": 147,
   "metadata": {},
   "outputs": [],
   "source": [
    "# Write the dataframe to csv\n",
    "file_with_topics = file_path + file_name + '_with_kmeans_clusters' + file_extn\n",
    "df.to_csv(file_with_topics)"
   ]
  },
  {
   "cell_type": "markdown",
   "metadata": {},
   "source": [
    "# Create a new DataRobot project with the new dataset with cluster features"
   ]
  },
  {
   "cell_type": "code",
   "execution_count": 148,
   "metadata": {},
   "outputs": [
    {
     "data": {
      "text/plain": [
       "<datarobot.rest.RESTClientObject at 0x1a0d3dda58>"
      ]
     },
     "execution_count": 148,
     "metadata": {},
     "output_type": "execute_result"
    }
   ],
   "source": [
    "dr.Client(token=os.environ['DATAROBOT_API_TOKEN'], endpoint=os.environ['DATAROBOT_ENDPOINT'])"
   ]
  },
  {
   "cell_type": "code",
   "execution_count": 149,
   "metadata": {},
   "outputs": [
    {
     "name": "stdout",
     "output_type": "stream",
     "text": [
      "project id:   5b0498db6cd83a5985c870c5\n",
      "project name: 10kDiabetes with kmeans clustering\n",
      "project.get_status():\n",
      "-  {'autopilot_done': False, 'stage_description': 'Ready to set target', 'stage': 'aim'}\n"
     ]
    }
   ],
   "source": [
    "# # Create a project: and upload the data, set the target, give the project a name\n",
    "project = dr.Project.create(sourcedata=file_with_topics, \n",
    "                            project_name=\"{} with kmeans clustering\".format(source_used))\n",
    "\n",
    "print('project id:  ', project.id)\n",
    "print('project name:', project.project_name)\n",
    "print('project.get_status():\\n- ', project.get_status())"
   ]
  },
  {
   "cell_type": "code",
   "execution_count": 150,
   "metadata": {},
   "outputs": [
    {
     "data": {
      "text/plain": [
       "['A1Cresult',\n",
       " 'Unnamed: 0',\n",
       " 'acarbose',\n",
       " 'acetohexamide',\n",
       " 'admission_source_id',\n",
       " 'admission_type_id',\n",
       " 'age',\n",
       " 'change',\n",
       " 'chlorpropamide',\n",
       " 'citoglipton',\n",
       " 'cluster_confidence',\n",
       " 'cluster_number',\n",
       " 'diabetesMed',\n",
       " 'diag_1',\n",
       " 'diag_1_desc',\n",
       " 'diag_2',\n",
       " 'diag_2_desc',\n",
       " 'diag_3',\n",
       " 'diag_3_desc',\n",
       " 'discharge_disposition_id',\n",
       " 'examide',\n",
       " 'gender',\n",
       " 'glimepiride',\n",
       " 'glimepiride_pioglitazone',\n",
       " 'glipizide',\n",
       " 'glipizide_metformin',\n",
       " 'glyburide',\n",
       " 'glyburide_metformin',\n",
       " 'insulin',\n",
       " 'max_glu_serum',\n",
       " 'medical_specialty',\n",
       " 'metformin',\n",
       " 'metformin_pioglitazone',\n",
       " 'metformin_rosiglitazone',\n",
       " 'miglitol',\n",
       " 'nateglinide',\n",
       " 'num_lab_procedures',\n",
       " 'num_medications',\n",
       " 'num_procedures',\n",
       " 'number_diagnoses',\n",
       " 'number_emergency',\n",
       " 'number_inpatient',\n",
       " 'number_outpatient',\n",
       " 'payer_code',\n",
       " 'pioglitazone',\n",
       " 'race',\n",
       " 'readmitted',\n",
       " 'repaglinide',\n",
       " 'rosiglitazone',\n",
       " 'rowID',\n",
       " 'time_in_hospital',\n",
       " 'tolazamide',\n",
       " 'tolbutamide',\n",
       " 'troglitazone',\n",
       " 'weight']"
      ]
     },
     "execution_count": 150,
     "metadata": {},
     "output_type": "execute_result"
    }
   ],
   "source": [
    "# Output the identified project features# Outpu \n",
    "features = project.get_features()\n",
    "sorted([f.name for f in features])"
   ]
  },
  {
   "cell_type": "code",
   "execution_count": 151,
   "metadata": {},
   "outputs": [
    {
     "data": {
      "text/plain": [
       "Feature(cluster_number_cat)"
      ]
     },
     "execution_count": 151,
     "metadata": {},
     "output_type": "execute_result"
    }
   ],
   "source": [
    "# Convert top topic to a categorical variable\n",
    "new_feature = project.create_type_transform_feature(name='cluster_number_cat', \n",
    "                                      parent_name='cluster_number', \n",
    "                                      variable_type='categoricalInt')\n",
    "new_feature"
   ]
  },
  {
   "cell_type": "code",
   "execution_count": 152,
   "metadata": {},
   "outputs": [
    {
     "data": {
      "text/plain": [
       "Project(10kDiabetes with kmeans clustering)"
      ]
     },
     "execution_count": 152,
     "metadata": {},
     "output_type": "execute_result"
    }
   ],
   "source": [
    "# By calling set_target, we run datarobot\n",
    "target=target\n",
    "project.set_target(target=target, \n",
    "                   mode='auto',\n",
    "                   worker_count=20)"
   ]
  },
  {
   "cell_type": "code",
   "execution_count": null,
   "metadata": {},
   "outputs": [],
   "source": [
    "# Get the models, which are already ordered by rank from the leaderboard\n",
    "models = project.get_models()\n",
    "\n",
    "# Get the best performing model (excluding the blenders, which are typically the top 4 models)\n",
    "best_model = models[4]\n",
    "print('Best model from the leaderboard:\\n\\'%s\\'' % best_model.model_type)\n",
    "print()\n",
    "\n",
    "# Get the blueprint\n",
    "blueprint_id = best_model.blueprint_id\n",
    "blueprint = dr.models.Blueprint.get(project.id, blueprint_id)\n",
    "print('Best model blueprint preprocessing steps:')\n",
    "pprint(blueprint.processes)\n",
    "print()\n",
    "\n",
    "# Get the model scoring metrics\n",
    "print('Best model metrics:')\n",
    "pprint(best_model.metrics)"
   ]
  }
 ],
 "metadata": {
  "kernelspec": {
   "display_name": "Python 3",
   "language": "python",
   "name": "python3"
  },
  "language_info": {
   "codemirror_mode": {
    "name": "ipython",
    "version": 3
   },
   "file_extension": ".py",
   "mimetype": "text/x-python",
   "name": "python",
   "nbconvert_exporter": "python",
   "pygments_lexer": "ipython3",
   "version": "3.6.4"
  }
 },
 "nbformat": 4,
 "nbformat_minor": 2
}
