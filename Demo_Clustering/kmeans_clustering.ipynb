{
 "cells": [
  {
   "cell_type": "code",
   "execution_count": 1,
   "metadata": {},
   "outputs": [],
   "source": [
    "import pandas as pd\n",
    "import numpy as np\n",
    "from sklearn.cluster import KMeans\n",
    "from sklearn import metrics\n",
    "from scipy.spatial.distance import cdist\n",
    "from sklearn.preprocessing import StandardScaler\n",
    "import time\n",
    "import datarobot as dr\n",
    "import os\n",
    "from pprint import pprint\n",
    "\n",
    "import matplotlib\n",
    "import matplotlib.pyplot as plt\n",
    "%matplotlib inline"
   ]
  },
  {
   "cell_type": "code",
   "execution_count": null,
   "metadata": {},
   "outputs": [],
   "source": [
    "# Dict of source data files and relevant text columns\n",
    "sources = {\n",
    "    '10kDiabetes': {\n",
    "        'target': 'readmitted',\n",
    "        'text_columns': ['diag_1_desc', 'diag_2_desc', 'diag_3_desc'],\n",
    "        'kmeans_columns' : ['time_in_hospital', 'num_lab_procedures', 'num_procedures', 'num_medications']\n",
    "    },\n",
    "    '10K_Lending_Club_Loans': {\n",
    "        'target': 'is_bad',\n",
    "        'text_columns': ['emp_title', 'desc', 'purpose', 'title'],\n",
    "        'kmeans_columns' : ['loan_amnt', 'funded_amnt', 'annual_inc', 'dti', 'open_acc', 'revol_bal']\n",
    "    }\n",
    "}\n",
    "\n",
    "# Designate the source you want to use here:\n",
    "source_used = '10kDiabetes'\n",
    "\n",
    "# Read the data file\n",
    "file_path = 'data/'\n",
    "file_name = source_used\n",
    "file_extn = '.csv'\n",
    "df = pd.read_csv(file_path + file_name + file_extn, encoding = \"ISO-8859-1\")\n",
    "\n",
    "# Source target\n",
    "target = sources.get(source_used).get('target')\n",
    "\n",
    "# Source text columns\n",
    "text_columns = sources.get(source_used).get('text_columns')\n",
    "kmeans_columns = sources.get(source_used).get('kmeans_columns')"
   ]
  },
  {
   "cell_type": "code",
   "execution_count": null,
   "metadata": {},
   "outputs": [
    {
     "name": "stdout",
     "output_type": "stream",
     "text": [
      "Processed kmeans for k=18 of 20 - Time: 2.440s.\r"
     ]
    }
   ],
   "source": [
    "# Standardize the input features\n",
    "scaler = StandardScaler()\n",
    "df_standardized = pd.DataFrame(scaler.fit_transform( df[kmeans_columns] ), columns=kmeans_columns)\n",
    "    \n",
    "# create new plot and data\n",
    "X = df_standardized  # Should we use standardized inputs data to Kmeans?  Yes.\n",
    " \n",
    "# k means determine k\n",
    "distortions = []\n",
    "kmax = 20\n",
    "K = range(1,kmax)\n",
    "for k in K:\n",
    "    t1 = time.time()\n",
    "    kmeanModel = KMeans(n_clusters=k).fit(X)\n",
    "    kmeanModel.fit(X)\n",
    "    distortions.append(sum(np.min(cdist(X, kmeanModel.cluster_centers_, 'euclidean'), axis=1)) / X.shape[0])\n",
    "    print(\"Processed kmeans for k=%d of %d - Time: %0.3fs.\" % (k, kmax, (time.time() - t1)), end='\\r', flush=True)\n",
    " \n",
    "# Plot the elbow\n",
    "plt.plot(K, distortions, 'bx-')\n",
    "plt.xlabel('k')\n",
    "plt.ylabel('Centroid Distance Distortion')\n",
    "plt.title('The elbow for optimal k')\n",
    "plt.show()"
   ]
  },
  {
   "cell_type": "code",
   "execution_count": null,
   "metadata": {},
   "outputs": [],
   "source": [
    "optimal_k = 7\n",
    "\n",
    "kmeans = KMeans(n_clusters=optimal_k).fit(X)\n",
    "cluster_dist = kmeans.transform(X)\n",
    "\n",
    "# Save the cluster label to the dataframe\n",
    "df['cluster_number'] = kmeans.labels_\n",
    "\n",
    "# Save the confidence of the cluster, using closeness of distance to the centroid \n",
    "# relative to the other observation distances to the centroid\n",
    "cl_df = pd.DataFrame(cluster_dist)\n",
    "d = pd.DataFrame()\n",
    "for i in range(optimal_k):\n",
    "    d[i] = pd.qcut(cl_df[i], 10, labels=range(1,11))\n",
    "df['cluster_confidence'] = [d.loc[i][label] for i, label in enumerate(kmeans.labels_)]"
   ]
  },
  {
   "cell_type": "code",
   "execution_count": null,
   "metadata": {},
   "outputs": [],
   "source": [
    "df.head()"
   ]
  },
  {
   "cell_type": "code",
   "execution_count": null,
   "metadata": {},
   "outputs": [],
   "source": [
    "print(cl_df.head())\n",
    "cl_df[5].hist(bins=100)"
   ]
  },
  {
   "cell_type": "code",
   "execution_count": null,
   "metadata": {},
   "outputs": [],
   "source": [
    "fig, axs = plt.subplots(1,2, figsize=(15,3))\n",
    "df.cluster_number.hist(bins=optimal_k, ax=axs[0])\n",
    "df.cluster_confidence.hist(bins=10, ax=axs[1])\n",
    "print('kmeans cluster value counts:\\n',df.cluster_number.value_counts())"
   ]
  },
  {
   "cell_type": "code",
   "execution_count": null,
   "metadata": {},
   "outputs": [],
   "source": [
    "# Write the dataframe to csv\n",
    "file_with_topics = file_path + file_name + '_with_kmeans_clusters' + file_extn\n",
    "df.to_csv(file_with_topics)"
   ]
  },
  {
   "cell_type": "markdown",
   "metadata": {},
   "source": [
    "# Create a new DataRobot project with the new dataset with cluster features"
   ]
  },
  {
   "cell_type": "code",
   "execution_count": 148,
   "metadata": {},
   "outputs": [
    {
     "data": {
      "text/plain": [
       "<datarobot.rest.RESTClientObject at 0x1a0d3dda58>"
      ]
     },
     "execution_count": 148,
     "metadata": {},
     "output_type": "execute_result"
    }
   ],
   "source": [
    "dr.Client(token=os.environ['DATAROBOT_API_TOKEN'], endpoint=os.environ['DATAROBOT_ENDPOINT'])"
   ]
  },
  {
   "cell_type": "code",
   "execution_count": 149,
   "metadata": {},
   "outputs": [
    {
     "name": "stdout",
     "output_type": "stream",
     "text": [
      "project id:   5b0498db6cd83a5985c870c5\n",
      "project name: 10kDiabetes with kmeans clustering\n",
      "project.get_status():\n",
      "-  {'autopilot_done': False, 'stage_description': 'Ready to set target', 'stage': 'aim'}\n"
     ]
    }
   ],
   "source": [
    "# # Create a project: and upload the data, set the target, give the project a name\n",
    "project = dr.Project.create(sourcedata=file_with_topics, \n",
    "                            project_name=\"{} with kmeans clustering\".format(source_used))\n",
    "\n",
    "print('project id:  ', project.id)\n",
    "print('project name:', project.project_name)\n",
    "print('project.get_status():\\n- ', project.get_status())"
   ]
  },
  {
   "cell_type": "code",
   "execution_count": 150,
   "metadata": {},
   "outputs": [
    {
     "data": {
      "text/plain": [
       "['A1Cresult',\n",
       " 'Unnamed: 0',\n",
       " 'acarbose',\n",
       " 'acetohexamide',\n",
       " 'admission_source_id',\n",
       " 'admission_type_id',\n",
       " 'age',\n",
       " 'change',\n",
       " 'chlorpropamide',\n",
       " 'citoglipton',\n",
       " 'cluster_confidence',\n",
       " 'cluster_number',\n",
       " 'diabetesMed',\n",
       " 'diag_1',\n",
       " 'diag_1_desc',\n",
       " 'diag_2',\n",
       " 'diag_2_desc',\n",
       " 'diag_3',\n",
       " 'diag_3_desc',\n",
       " 'discharge_disposition_id',\n",
       " 'examide',\n",
       " 'gender',\n",
       " 'glimepiride',\n",
       " 'glimepiride_pioglitazone',\n",
       " 'glipizide',\n",
       " 'glipizide_metformin',\n",
       " 'glyburide',\n",
       " 'glyburide_metformin',\n",
       " 'insulin',\n",
       " 'max_glu_serum',\n",
       " 'medical_specialty',\n",
       " 'metformin',\n",
       " 'metformin_pioglitazone',\n",
       " 'metformin_rosiglitazone',\n",
       " 'miglitol',\n",
       " 'nateglinide',\n",
       " 'num_lab_procedures',\n",
       " 'num_medications',\n",
       " 'num_procedures',\n",
       " 'number_diagnoses',\n",
       " 'number_emergency',\n",
       " 'number_inpatient',\n",
       " 'number_outpatient',\n",
       " 'payer_code',\n",
       " 'pioglitazone',\n",
       " 'race',\n",
       " 'readmitted',\n",
       " 'repaglinide',\n",
       " 'rosiglitazone',\n",
       " 'rowID',\n",
       " 'time_in_hospital',\n",
       " 'tolazamide',\n",
       " 'tolbutamide',\n",
       " 'troglitazone',\n",
       " 'weight']"
      ]
     },
     "execution_count": 150,
     "metadata": {},
     "output_type": "execute_result"
    }
   ],
   "source": [
    "# Output the identified project features# Outpu \n",
    "features = project.get_features()\n",
    "sorted([f.name for f in features])"
   ]
  },
  {
   "cell_type": "code",
   "execution_count": 151,
   "metadata": {},
   "outputs": [
    {
     "data": {
      "text/plain": [
       "Feature(cluster_number_cat)"
      ]
     },
     "execution_count": 151,
     "metadata": {},
     "output_type": "execute_result"
    }
   ],
   "source": [
    "# Convert top topic to a categorical variable\n",
    "new_feature = project.create_type_transform_feature(name='cluster_number_cat', \n",
    "                                      parent_name='cluster_number', \n",
    "                                      variable_type='categoricalInt')\n",
    "new_feature"
   ]
  },
  {
   "cell_type": "code",
   "execution_count": 152,
   "metadata": {},
   "outputs": [
    {
     "data": {
      "text/plain": [
       "Project(10kDiabetes with kmeans clustering)"
      ]
     },
     "execution_count": 152,
     "metadata": {},
     "output_type": "execute_result"
    }
   ],
   "source": [
    "# By calling set_target, we run datarobot\n",
    "target=target\n",
    "project.set_target(target=target, \n",
    "                   mode='auto',\n",
    "                   worker_count=20)"
   ]
  },
  {
   "cell_type": "code",
   "execution_count": 153,
   "metadata": {},
   "outputs": [
    {
     "name": "stdout",
     "output_type": "stream",
     "text": [
      "Best model from the leaderboard:\n",
      "'Regularized Logistic Regression (L2)'\n",
      "\n",
      "Best model blueprint preprocessing steps:\n",
      "['One-Hot Encoding',\n",
      " 'Matrix of word-grams occurrences',\n",
      " 'Missing Values Imputed',\n",
      " 'Smooth Ridit Transform',\n",
      " 'Standardize',\n",
      " 'Regularized Logistic Regression (L2)']\n",
      "\n",
      "Best model metrics:\n",
      "{'AUC': {'backtesting': None,\n",
      "         'backtestingScores': None,\n",
      "         'crossValidation': None,\n",
      "         'holdout': None,\n",
      "         'validation': 0.69358},\n",
      " 'FVE Binomial': {'backtesting': None,\n",
      "                  'backtestingScores': None,\n",
      "                  'crossValidation': None,\n",
      "                  'holdout': None,\n",
      "                  'validation': 0.08293},\n",
      " 'Gini Norm': {'backtesting': None,\n",
      "               'backtestingScores': None,\n",
      "               'crossValidation': None,\n",
      "               'holdout': None,\n",
      "               'validation': 0.38716},\n",
      " 'Kolmogorov-Smirnov': {'backtesting': None,\n",
      "                        'backtestingScores': None,\n",
      "                        'crossValidation': None,\n",
      "                        'holdout': None,\n",
      "                        'validation': 0.28835},\n",
      " 'LogLoss': {'backtesting': None,\n",
      "             'backtestingScores': None,\n",
      "             'crossValidation': None,\n",
      "             'holdout': None,\n",
      "             'validation': 0.61602},\n",
      " 'RMSE': {'backtesting': None,\n",
      "          'backtestingScores': None,\n",
      "          'crossValidation': None,\n",
      "          'holdout': None,\n",
      "          'validation': 0.4623},\n",
      " 'Rate@Top10%': {'backtesting': None,\n",
      "                 'backtestingScores': None,\n",
      "                 'crossValidation': None,\n",
      "                 'holdout': None,\n",
      "                 'validation': 0.70625},\n",
      " 'Rate@Top5%': {'backtesting': None,\n",
      "                'backtestingScores': None,\n",
      "                'crossValidation': None,\n",
      "                'holdout': None,\n",
      "                'validation': 0.675},\n",
      " 'Rate@TopTenth%': {'backtesting': None,\n",
      "                    'backtestingScores': None,\n",
      "                    'crossValidation': None,\n",
      "                    'holdout': None,\n",
      "                    'validation': 1.0}}\n"
     ]
    }
   ],
   "source": [
    "# Get the models, which are already ordered by rank from the leaderboard\n",
    "models = project.get_models()\n",
    "\n",
    "# Get the best performing model (excluding the blenders, which are typically the top 4 models)\n",
    "best_model = models[4]\n",
    "print('Best model from the leaderboard:\\n\\'%s\\'' % best_model.model_type)\n",
    "print()\n",
    "\n",
    "# Get the blueprint\n",
    "blueprint_id = best_model.blueprint_id\n",
    "blueprint = dr.models.Blueprint.get(project.id, blueprint_id)\n",
    "print('Best model blueprint preprocessing steps:')\n",
    "pprint(blueprint.processes)\n",
    "print()\n",
    "\n",
    "# Get the model scoring metrics\n",
    "print('Best model metrics:')\n",
    "pprint(best_model.metrics)"
   ]
  },
  {
   "cell_type": "code",
   "execution_count": null,
   "metadata": {},
   "outputs": [],
   "source": []
  }
 ],
 "metadata": {
  "kernelspec": {
   "display_name": "Python 3",
   "language": "python",
   "name": "python3"
  },
  "language_info": {
   "codemirror_mode": {
    "name": "ipython",
    "version": 3
   },
   "file_extension": ".py",
   "mimetype": "text/x-python",
   "name": "python",
   "nbconvert_exporter": "python",
   "pygments_lexer": "ipython3",
   "version": "3.6.4"
  }
 },
 "nbformat": 4,
 "nbformat_minor": 2
}
