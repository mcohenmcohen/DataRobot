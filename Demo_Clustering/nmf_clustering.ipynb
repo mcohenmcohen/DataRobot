{
 "cells": [
  {
   "cell_type": "markdown",
   "metadata": {},
   "source": [
    "- Read data\n",
    "- ID text col\n",
    "* Vectorize\n",
    "- Cluster\n",
    "- Make column by assigining docs to cluster\n",
    "- Write to csv\n",
    "- ...\n",
    "- DR ->\n",
    "- Create project\n",
    "- Upload data\n",
    "- Ensure cluster feature is categorical?\n",
    "- Run, compare to metrics without cluster"
   ]
  },
  {
   "cell_type": "code",
   "execution_count": 1,
   "metadata": {},
   "outputs": [],
   "source": [
    "import pandas as pd\n",
    "import numpy as np\n",
    "import datarobot as dr\n",
    "import topic_model\n",
    "import os\n",
    "from pprint import pprint\n",
    "\n",
    "import matplotlib\n",
    "import matplotlib.pyplot as plt\n",
    "%matplotlib inline"
   ]
  },
  {
   "cell_type": "markdown",
   "metadata": {},
   "source": [
    "# Cluster the data (based on text data and NMF in this case)"
   ]
  },
  {
   "cell_type": "code",
   "execution_count": 2,
   "metadata": {},
   "outputs": [],
   "source": [
    "# Dict of source data files and relevant text columns\n",
    "sources = {\n",
    "    '10kDiabetes': {\n",
    "        'target': 'readmitted',\n",
    "        'text_columns': ['diag_1_desc', 'diag_2_desc', 'diag_3_desc'],\n",
    "        'kmeans_columns' : ['time_in_hospital', 'num_lab_procedures', 'num_procedures', 'num_medications']\n",
    "    },\n",
    "    '10K_Lending_Club_Loans': {\n",
    "        'target': 'is_bad',\n",
    "        'text_columns': ['emp_title', 'desc', 'purpose', 'title'],\n",
    "        'kmeans_columns' : ['loan_amnt', 'funded_amnt', 'annual_inc', 'dti', 'open_acc', 'revol_bal']\n",
    "    }\n",
    "}\n",
    "\n",
    "# Designate the source you want to use here:\n",
    "source_used = '10K_Lending_Club_Loans'\n",
    "\n",
    "# Read the data file\n",
    "file_path = 'data/'\n",
    "file_name = source_used\n",
    "file_extn = '.csv'\n",
    "df = pd.read_csv(file_path + file_name + file_extn, encoding = \"ISO-8859-1\")\n",
    "\n",
    "# Source target\n",
    "target = sources.get(source_used).get('target')\n",
    "\n",
    "# Source text columns\n",
    "text_columns = sources.get(source_used).get('text_columns')\n",
    "kmeans_columns = sources.get(source_used).get('kmeans_columns')"
   ]
  },
  {
   "cell_type": "markdown",
   "metadata": {},
   "source": [
    "### Cluster - topic model dibetes dataset"
   ]
  },
  {
   "cell_type": "code",
   "execution_count": 3,
   "metadata": {
    "scrolled": false
   },
   "outputs": [
    {
     "name": "stdout",
     "output_type": "stream",
     "text": [
      "Null rows: 0\n",
      "Not null:  10000\n"
     ]
    }
   ],
   "source": [
    "# For unsupervised topic modeling, we need text fields to cluster.\n",
    "# The diabetes dataset has three unstructured text fields that comprise doctor/nurse/staff notes about the patient.\n",
    "# We'll use this to cluster, and aggregate all three into one feature.\n",
    "\n",
    "def make_docs(df, text_cols):    \n",
    "    '''\n",
    "    For each feature column in the dataframe, tokenize the words then combine each column\n",
    "    into one pandas series\n",
    "    \n",
    "    Parameters:\n",
    "        df - your dataframe\n",
    "        text_colums - the colums to tokenize and aggregate\n",
    "    \n",
    "    Return:\n",
    "        docs - a pandas series of text data\n",
    "    '''\n",
    "    text_col_data = []\n",
    "    for col in text_cols:\n",
    "        series = df[col]\n",
    "\n",
    "        # tokenize the words in each text feature\n",
    "        series = series.apply(lambda x: x.split() if type(x) == str else [])\n",
    "\n",
    "        # Combine into one feature\n",
    "        text_col_data.append(series)\n",
    "\n",
    "    combined_cols = text_col_data[0]\n",
    "    for i in range(1, len(text_col_data)):\n",
    "        combined_cols = combined_cols + text_col_data[i]\n",
    "\n",
    "    docs = combined_cols.apply(lambda x: ' '.join(x))\n",
    "    \n",
    "    return docs\n",
    "\n",
    "docs = make_docs(df, text_columns)\n",
    "\n",
    "# Add the combined text series 'docs' as a column in the dataframe\n",
    "df['docs'] = docs\n",
    "\n",
    "# There should be no null rows\n",
    "print('Null rows:',docs[docs.isnull()].shape[0])\n",
    "print('Not null:  %s' % docs[docs.notnull()].shape[0])"
   ]
  },
  {
   "cell_type": "code",
   "execution_count": 4,
   "metadata": {},
   "outputs": [
    {
     "data": {
      "text/plain": [
       "0                    Time Warner Cable medical Medical\n",
       "1    Ottawa University Borrower added on 04/14/11 >...\n",
       "2          Kennedy Wilson credit_card AP Personal Loan\n",
       "3    TOWN OF PLATTEKILL debt_consolidation Debt Con...\n",
       "4    Belmont Correctional I want to consolidate my ...\n",
       "dtype: object"
      ]
     },
     "execution_count": 4,
     "metadata": {},
     "output_type": "execute_result"
    }
   ],
   "source": [
    "docs.head()"
   ]
  },
  {
   "cell_type": "code",
   "execution_count": 5,
   "metadata": {},
   "outputs": [
    {
     "name": "stdout",
     "output_type": "stream",
     "text": [
      "Number of documents to process: 10000\n",
      "\n",
      "Extracting Vectorizer features...\n",
      "- Time: 0.606s.\n",
      "\n"
     ]
    }
   ],
   "source": [
    "# Params to build the vocab and topics\n",
    "min_df = 10\n",
    "max_df = .1\n",
    "max_vocab_size = 5000\n",
    "ngram_range=(1,1)\n",
    "\n",
    "tm = topic_model.NMF_TopicModeller(max_vocab_size=max_vocab_size, \n",
    "                                   min_df=min_df, \n",
    "                                   max_df=max_df, \n",
    "                                   ngram_range=ngram_range)\n",
    "tm.vectorize(docs)"
   ]
  },
  {
   "cell_type": "code",
   "execution_count": 6,
   "metadata": {
    "scrolled": false
   },
   "outputs": [
    {
     "name": "stdout",
     "output_type": "stream",
     "text": [
      "Processed NMF for k=20 of 20 - Time: 1.002s.\n",
      "Existing word2vec Model loaded from './data/w2v-model.bin'\n",
      "word2vec model has 1836 terms\n",
      "Calculating coherence scores...\n",
      "Optimal number of k topics: 12\n"
     ]
    },
    {
     "data": {
      "image/png": "[encoded data removed]",
      "text/plain": [
       "<matplotlib.figure.Figure at 0x1a1bf316d8>"
      ]
     },
     "metadata": {},
     "output_type": "display_data"
    },
    {
     "name": "stdout",
     "output_type": "stream",
     "text": [
      "Topic 00: plan, good, use, stable, company, paid, lower, just, make, funds, want, income, work, late, looking\n",
      "Topic 01: home_improvement, improvement, pool, kitchen, house, improvements, roof, new, bathroom, remodel, project, corp, remodeling, repair, swimming\n",
      "Topic 02: wedding, expenses, ring, engagement, married, expense, honeymoon, fiance, reception, upcoming, used, getting, dream, planning, fiancee\n",
      "Topic 03: car, auto, motorcycle, purchase, repairs, vehicle, used, repair, buy, new, llc, rent, honda, truck, miles\n",
      "Topic 04: medical, center, expenses, regional, surgery, dental, group, procedure, expense, insurance, cover, hospital, work, american, health\n",
      "Topic 05: business, small_business, small, equipment, capital, start, new, expansion, inventory, expand, company, starting, working, purchase, used\n",
      "Topic 06: major_purchase, purchase, major, motorcycle, boat, new, investment, ring, bike, truck, university, vehicle, army, engagement, used\n",
      "Topic 07: moving, expenses, relocation, new, costs, deposit, cover, apartment, army, house, relocating, security, furniture, deposits, department\n",
      "Topic 08: payoff, chase, higher, balance, visa, systems, lower, city, existing, loans, county, amex, depot, international, consultants\n",
      "Topic 09: vacation, family, trip, florida, army, disney, parents, christmas, hospital, city, furniture, county, industries, going, schools\n",
      "Topic 10: bank, america, wells, fargo, chase, north, savings, account, national, balance, west, refinance, united, freedom, citizens\n",
      "Topic 11: school, district, county, unified, educational, graduate, board, central, teacher, education, college, san, tuition, valley, grad\n"
     ]
    }
   ],
   "source": [
    "# Calculate the optimal k using word2vec for coherence metric\n",
    "k_topics = topic_model.plot_optimal_k(docs.tolist(), tm.document_term_mat, tm.vectorizer,\n",
    "                           kmin=3, kmax=20, dim_size=500, min_df=min_df, \n",
    "                           max_vocab_size=max_vocab_size, num_top_terms=15,\n",
    "                           model_file_path='./data/',\n",
    "                           model_file_name='w2v-model.bin')"
   ]
  },
  {
   "cell_type": "code",
   "execution_count": 7,
   "metadata": {
    "scrolled": false
   },
   "outputs": [
    {
     "name": "stdout",
     "output_type": "stream",
     "text": [
      "Fitting model with 10000 documents.  Vectorizer: \n",
      "TfidfVectorizer(analyzer='word', binary=False, decode_error='strict',\n",
      "        dtype=<class 'numpy.int64'>, encoding='utf-8', input='content',\n",
      "        lowercase=True, max_df=0.1, max_features=5000, min_df=10,\n",
      "        ngram_range=(1, 1), norm='l2', preprocessor=None, smooth_idf=True,\n",
      "        stop_words=frozenset({'mh', 'nc', 'sz', 'something', 'qp', 'full', 'mx', 'vz', 'part', 'yours', 'by', 'days', 'applicable', 'behind', 'hy', 'nd', 'everything', 'ai', 'th', 'dg', 'has', 'describe', 'ca', 'degree', 'lq', 'amoungst', 'herself', 'md', 'kr', 'fm', 'ke', 'anyhow', 'lw', 'effect', 'io', 'o..., 'wp', 'nb', 'ow', 'do', 'eq', 'yv', 'xx', 'besides', 'him', 'zl', 'e', 'uw', 'hers', 'ms', 'not'}),\n",
      "        strip_accents=None, sublinear_tf=False,\n",
      "        token_pattern='(?ui)\\\\b[a-zA-Z]*[a-z]+\\\\w*\\\\b', tokenizer=None,\n",
      "        use_idf=True, vocabulary=None)\n",
      "- Time: 0.516s.\n",
      "\n"
     ]
    }
   ],
   "source": [
    "tm.fit(docs, k_topics=k_topics)"
   ]
  },
  {
   "cell_type": "code",
   "execution_count": 8,
   "metadata": {},
   "outputs": [
    {
     "data": {
      "text/html": [
       "<div>\n",
       "<style scoped>\n",
       "    .dataframe tbody tr th:only-of-type {\n",
       "        vertical-align: middle;\n",
       "    }\n",
       "\n",
       "    .dataframe tbody tr th {\n",
       "        vertical-align: top;\n",
       "    }\n",
       "\n",
       "    .dataframe thead th {\n",
       "        text-align: right;\n",
       "    }\n",
       "</style>\n",
       "<table border=\"1\" class=\"dataframe\">\n",
       "  <thead>\n",
       "    <tr style=\"text-align: right;\">\n",
       "      <th></th>\n",
       "      <th>loan_amnt</th>\n",
       "      <th>funded_amnt</th>\n",
       "      <th>term</th>\n",
       "      <th>int_rate</th>\n",
       "      <th>installment</th>\n",
       "      <th>grade</th>\n",
       "      <th>sub_grade</th>\n",
       "      <th>emp_title</th>\n",
       "      <th>emp_length</th>\n",
       "      <th>home_ownership</th>\n",
       "      <th>...</th>\n",
       "      <th>revol_bal</th>\n",
       "      <th>revol_util</th>\n",
       "      <th>total_acc</th>\n",
       "      <th>initial_list_status</th>\n",
       "      <th>mths_since_last_major_derog</th>\n",
       "      <th>policy_code</th>\n",
       "      <th>is_bad</th>\n",
       "      <th>docs</th>\n",
       "      <th>top_topic</th>\n",
       "      <th>top_topic_weight</th>\n",
       "    </tr>\n",
       "  </thead>\n",
       "  <tbody>\n",
       "    <tr>\n",
       "      <th>0</th>\n",
       "      <td>4000</td>\n",
       "      <td>4000</td>\n",
       "      <td>60 months</td>\n",
       "      <td>7.29%</td>\n",
       "      <td>79.76</td>\n",
       "      <td>A</td>\n",
       "      <td>A4</td>\n",
       "      <td>Time Warner Cable</td>\n",
       "      <td>10+ years</td>\n",
       "      <td>MORTGAGE</td>\n",
       "      <td>...</td>\n",
       "      <td>12087</td>\n",
       "      <td>12.1</td>\n",
       "      <td>44.0</td>\n",
       "      <td>f</td>\n",
       "      <td>NaN</td>\n",
       "      <td>1</td>\n",
       "      <td>0</td>\n",
       "      <td>Time Warner Cable medical Medical</td>\n",
       "      <td>4</td>\n",
       "      <td>1.000000</td>\n",
       "    </tr>\n",
       "    <tr>\n",
       "      <th>1</th>\n",
       "      <td>16000</td>\n",
       "      <td>16000</td>\n",
       "      <td>60 months</td>\n",
       "      <td>18.25%</td>\n",
       "      <td>408.48</td>\n",
       "      <td>F</td>\n",
       "      <td>F1</td>\n",
       "      <td>Ottawa University</td>\n",
       "      <td>&lt; 1 year</td>\n",
       "      <td>RENT</td>\n",
       "      <td>...</td>\n",
       "      <td>10114</td>\n",
       "      <td>64.0</td>\n",
       "      <td>5.0</td>\n",
       "      <td>f</td>\n",
       "      <td>NaN</td>\n",
       "      <td>1</td>\n",
       "      <td>0</td>\n",
       "      <td>Ottawa University Borrower added on 04/14/11 &gt;...</td>\n",
       "      <td>0</td>\n",
       "      <td>0.521032</td>\n",
       "    </tr>\n",
       "    <tr>\n",
       "      <th>2</th>\n",
       "      <td>8700</td>\n",
       "      <td>8700</td>\n",
       "      <td>36 months</td>\n",
       "      <td>7.88%</td>\n",
       "      <td>272.15</td>\n",
       "      <td>A</td>\n",
       "      <td>A5</td>\n",
       "      <td>Kennedy Wilson</td>\n",
       "      <td>4 years</td>\n",
       "      <td>RENT</td>\n",
       "      <td>...</td>\n",
       "      <td>81</td>\n",
       "      <td>0.6</td>\n",
       "      <td>8.0</td>\n",
       "      <td>f</td>\n",
       "      <td>NaN</td>\n",
       "      <td>1</td>\n",
       "      <td>0</td>\n",
       "      <td>Kennedy Wilson credit_card AP Personal Loan</td>\n",
       "      <td>11</td>\n",
       "      <td>0.000000</td>\n",
       "    </tr>\n",
       "    <tr>\n",
       "      <th>3</th>\n",
       "      <td>18000</td>\n",
       "      <td>18000</td>\n",
       "      <td>60 months</td>\n",
       "      <td>11.49%</td>\n",
       "      <td>395.78</td>\n",
       "      <td>B</td>\n",
       "      <td>B4</td>\n",
       "      <td>TOWN OF PLATTEKILL</td>\n",
       "      <td>10+ years</td>\n",
       "      <td>MORTGAGE</td>\n",
       "      <td>...</td>\n",
       "      <td>10030</td>\n",
       "      <td>37.1</td>\n",
       "      <td>23.0</td>\n",
       "      <td>f</td>\n",
       "      <td>NaN</td>\n",
       "      <td>1</td>\n",
       "      <td>0</td>\n",
       "      <td>TOWN OF PLATTEKILL debt_consolidation Debt Con...</td>\n",
       "      <td>11</td>\n",
       "      <td>0.000000</td>\n",
       "    </tr>\n",
       "    <tr>\n",
       "      <th>4</th>\n",
       "      <td>16000</td>\n",
       "      <td>16000</td>\n",
       "      <td>36 months</td>\n",
       "      <td>11.83%</td>\n",
       "      <td>530.15</td>\n",
       "      <td>B</td>\n",
       "      <td>B3</td>\n",
       "      <td>Belmont Correctional</td>\n",
       "      <td>10+ years</td>\n",
       "      <td>MORTGAGE</td>\n",
       "      <td>...</td>\n",
       "      <td>10740</td>\n",
       "      <td>40.4</td>\n",
       "      <td>21.0</td>\n",
       "      <td>f</td>\n",
       "      <td>NaN</td>\n",
       "      <td>1</td>\n",
       "      <td>0</td>\n",
       "      <td>Belmont Correctional I want to consolidate my ...</td>\n",
       "      <td>9</td>\n",
       "      <td>0.886062</td>\n",
       "    </tr>\n",
       "  </tbody>\n",
       "</table>\n",
       "<p>5 rows × 37 columns</p>\n",
       "</div>"
      ],
      "text/plain": [
       "   loan_amnt  funded_amnt        term int_rate  installment grade sub_grade  \\\n",
       "0       4000         4000   60 months    7.29%        79.76     A        A4   \n",
       "1      16000        16000   60 months   18.25%       408.48     F        F1   \n",
       "2       8700         8700   36 months    7.88%       272.15     A        A5   \n",
       "3      18000        18000   60 months   11.49%       395.78     B        B4   \n",
       "4      16000        16000   36 months   11.83%       530.15     B        B3   \n",
       "\n",
       "              emp_title emp_length home_ownership        ...         \\\n",
       "0     Time Warner Cable  10+ years       MORTGAGE        ...          \n",
       "1     Ottawa University   < 1 year           RENT        ...          \n",
       "2        Kennedy Wilson    4 years           RENT        ...          \n",
       "3    TOWN OF PLATTEKILL  10+ years       MORTGAGE        ...          \n",
       "4  Belmont Correctional  10+ years       MORTGAGE        ...          \n",
       "\n",
       "   revol_bal revol_util total_acc initial_list_status  \\\n",
       "0      12087       12.1      44.0                   f   \n",
       "1      10114       64.0       5.0                   f   \n",
       "2         81        0.6       8.0                   f   \n",
       "3      10030       37.1      23.0                   f   \n",
       "4      10740       40.4      21.0                   f   \n",
       "\n",
       "  mths_since_last_major_derog policy_code is_bad  \\\n",
       "0                         NaN           1      0   \n",
       "1                         NaN           1      0   \n",
       "2                         NaN           1      0   \n",
       "3                         NaN           1      0   \n",
       "4                         NaN           1      0   \n",
       "\n",
       "                                                docs top_topic  \\\n",
       "0                  Time Warner Cable medical Medical         4   \n",
       "1  Ottawa University Borrower added on 04/14/11 >...         0   \n",
       "2        Kennedy Wilson credit_card AP Personal Loan        11   \n",
       "3  TOWN OF PLATTEKILL debt_consolidation Debt Con...        11   \n",
       "4  Belmont Correctional I want to consolidate my ...         9   \n",
       "\n",
       "   top_topic_weight  \n",
       "0          1.000000  \n",
       "1          0.521032  \n",
       "2          0.000000  \n",
       "3          0.000000  \n",
       "4          0.886062  \n",
       "\n",
       "[5 rows x 37 columns]"
      ]
     },
     "execution_count": 8,
     "metadata": {},
     "output_type": "execute_result"
    }
   ],
   "source": [
    "# Generate the probability of each topic for each row (eg, job posting)\n",
    "# and add the top topic and probability to the dataframe\n",
    "def get_normalized_probs(topic_weights):\n",
    "    '''\n",
    "    Return the normalized topic cluseter weights for a given row\n",
    "    '''\n",
    "    topic_weights = topic_weights.flatten()\n",
    "    #print row_idx\n",
    "    if topic_weights.sum() == 0:\n",
    "        probs = topic_weights\n",
    "    else:\n",
    "        probs = (topic_weights / topic_weights.sum())\n",
    "    return probs\n",
    "\n",
    "# For each row, get the topic weights, normalize, order by\n",
    "# weight value, and store in a list to add to the dataframe \n",
    "top_topics = []\n",
    "top_topic_weights = []\n",
    "for row_idx in range(tm.W.shape[0]):\n",
    "    W = tm.W[row_idx]\n",
    "    probs = get_normalized_probs(W)\n",
    "    \n",
    "    ordered_idxs = np.argsort(probs)[::-1]\n",
    "    top_topics.append(ordered_idxs[0])\n",
    "    top_topic_weights.append(probs[ordered_idxs[0]])\n",
    "    \n",
    "df['top_topic'] = top_topics\n",
    "df['top_topic_weight'] = top_topic_weights\n",
    "df.head()"
   ]
  },
  {
   "cell_type": "code",
   "execution_count": 9,
   "metadata": {
    "scrolled": false
   },
   "outputs": [
    {
     "name": "stdout",
     "output_type": "stream",
     "text": [
      "top topic value counts:\n",
      " 0     4615\n",
      "11    1378\n",
      "1      703\n",
      "5      555\n",
      "3      534\n",
      "6      479\n",
      "4      396\n",
      "10     322\n",
      "2      321\n",
      "8      313\n",
      "7      238\n",
      "9      146\n",
      "Name: top_topic, dtype: int64\n"
     ]
    },
    {
     "data": {
      "image/png": "[encoded data removed]",
      "text/plain": [
       "<matplotlib.figure.Figure at 0x1135bd7f0>"
      ]
     },
     "metadata": {},
     "output_type": "display_data"
    }
   ],
   "source": [
    "fig, axs = plt.subplots(1,2, figsize=(15,3))\n",
    "axs[0].set_title('Top Topic Weights')\n",
    "df.top_topic_weight.hist(bins=k_topics, ax=axs[0])\n",
    "axs[1].set_title('Top Topics')\n",
    "df.top_topic.hist(bins=k_topics, ax=axs[1])\n",
    "print('top topic value counts:\\n',df.top_topic.value_counts())"
   ]
  },
  {
   "cell_type": "code",
   "execution_count": 10,
   "metadata": {
    "scrolled": false
   },
   "outputs": [
    {
     "name": "stdout",
     "output_type": "stream",
     "text": [
      "Topic probabilities:\n",
      "[0.52103166 0.         0.05180821 0.         0.33096643 0.\n",
      " 0.         0.0961937  0.         0.         0.         0.        ]\n",
      "\n",
      "Top Topic: 0\n",
      "\n",
      "Text:\n",
      "\"Ottawa University Borrower added on 04/14/11 > I will be using this loan to pay off expenses accrued in the last six months on my credit cards, due to a combination of job transition, relocation for the job, and medical expenses from a broken tibula. I generally overpay my monthly minimum on my debts, so I expect that this loan will be repaid sooner than 5 years. I have a steady job working in the information technology field, I've been employed full-time in this field for over eight years, and have been with my present employer for seven months in good standing. My monthly budget breakdown is 1/3 of my paycheck going to rent and bills, 1/3 going to living and job transit expenses, and 1/3 remaining for general spending and payments.<br/> debt_consolidation My Debt Consolidation Loan\"\n"
     ]
    },
    {
     "data": {
      "image/png": "[encoded data removed]",
      "text/plain": [
       "<matplotlib.figure.Figure at 0x1a1ba11be0>"
      ]
     },
     "metadata": {},
     "output_type": "display_data"
    }
   ],
   "source": [
    "# Inspect record data\n",
    "def inspect_record(rec_id):\n",
    "    row_num = rec_id\n",
    "    probs = get_normalized_probs(tm.W[row_num])\n",
    "    ordered_idxs = np.argsort(probs)[::-1]\n",
    "    top_topic = ordered_idxs[0]\n",
    "    print (\"Topic probabilities:\\n%s\\n\" % probs)\n",
    "    print (\"Top Topic: %s\\n\" % top_topic)\n",
    "#     print (\"Top Tags:\\n%s\\n\" % get_topic_top_tags(top_topic, 3))\n",
    "\n",
    "    top_topics.append(ordered_idxs[0])\n",
    "    top_topic_weights.append(probs[ordered_idxs[0]])\n",
    "    plt.pie(probs[ordered_idxs[:5]], labels=ordered_idxs[:5])\n",
    "    print('Text:\\n\\\"%s\\\"' % df.iloc[row_num].docs)\n",
    "inspect_record(1)"
   ]
  },
  {
   "cell_type": "code",
   "execution_count": 11,
   "metadata": {},
   "outputs": [],
   "source": [
    "# Drop the docs column before writing to csv\n",
    "df.drop(['docs'], axis=1, inplace=True)\n",
    "\n",
    "# Write the dataframe to csv\n",
    "file_with_topics = file_path + file_name + '_with_topics' + file_extn\n",
    "df.to_csv(file_with_topics)"
   ]
  },
  {
   "cell_type": "markdown",
   "metadata": {},
   "source": [
    "# Create a new DataRobot project with the new dataset with cluster features"
   ]
  },
  {
   "cell_type": "code",
   "execution_count": 55,
   "metadata": {},
   "outputs": [
    {
     "data": {
      "text/plain": [
       "<datarobot.rest.RESTClientObject at 0x1a1a429198>"
      ]
     },
     "execution_count": 55,
     "metadata": {},
     "output_type": "execute_result"
    }
   ],
   "source": [
    "dr.Client(token=os.environ['DATAROBOT_API_TOKEN'], endpoint=os.environ['DATAROBOT_ENDPOINT'])"
   ]
  },
  {
   "cell_type": "code",
   "execution_count": 56,
   "metadata": {},
   "outputs": [
    {
     "name": "stdout",
     "output_type": "stream",
     "text": [
      "project id:   5b03b61d6cd83a1a565665fb\n",
      "project name: 10K_Lending_Club_Loans with NMF topic clustering\n",
      "project.get_status():\n",
      "-  {'autopilot_done': False, 'stage_description': 'Ready to set target', 'stage': 'aim'}\n"
     ]
    }
   ],
   "source": [
    "# # Create a project: and upload the data, set the target, give the project a name\n",
    "project = dr.Project.create(sourcedata=file_with_topics, \n",
    "                            project_name=\"{} with NMF topic clustering\".format(source_used))\n",
    "\n",
    "print('project id:  ', project.id)\n",
    "print('project name:', project.project_name)\n",
    "print('project.get_status():\\n- ', project.get_status())"
   ]
  },
  {
   "cell_type": "code",
   "execution_count": 57,
   "metadata": {},
   "outputs": [
    {
     "data": {
      "text/plain": [
       "['Unnamed: 0',\n",
       " 'addr_state',\n",
       " 'annual_inc',\n",
       " 'delinq_2yrs',\n",
       " 'desc',\n",
       " 'dti',\n",
       " 'earliest_cr_line',\n",
       " 'earliest_cr_line (Day of Month)',\n",
       " 'earliest_cr_line (Day of Week)',\n",
       " 'earliest_cr_line (Month)',\n",
       " 'earliest_cr_line (Year)',\n",
       " 'emp_length',\n",
       " 'emp_title',\n",
       " 'funded_amnt',\n",
       " 'grade',\n",
       " 'home_ownership',\n",
       " 'initial_list_status',\n",
       " 'inq_last_6mths',\n",
       " 'installment',\n",
       " 'int_rate',\n",
       " 'is_bad',\n",
       " 'loan_amnt',\n",
       " 'mths_since_last_delinq',\n",
       " 'mths_since_last_major_derog',\n",
       " 'mths_since_last_record',\n",
       " 'open_acc',\n",
       " 'policy_code',\n",
       " 'pub_rec',\n",
       " 'purpose',\n",
       " 'pymnt_plan',\n",
       " 'revol_bal',\n",
       " 'revol_util',\n",
       " 'sub_grade',\n",
       " 'term',\n",
       " 'title',\n",
       " 'top_topic',\n",
       " 'top_topic_weight',\n",
       " 'total_acc',\n",
       " 'url',\n",
       " 'verification_status',\n",
       " 'zip_code']"
      ]
     },
     "execution_count": 57,
     "metadata": {},
     "output_type": "execute_result"
    }
   ],
   "source": [
    "# Output the identified project features# Outpu \n",
    "features = project.get_features()\n",
    "sorted([f.name for f in features])"
   ]
  },
  {
   "cell_type": "code",
   "execution_count": 58,
   "metadata": {},
   "outputs": [
    {
     "data": {
      "text/plain": [
       "Feature(top_topic_cat)"
      ]
     },
     "execution_count": 58,
     "metadata": {},
     "output_type": "execute_result"
    }
   ],
   "source": [
    "# Convert top topic to a categorical variable\n",
    "new_feature = project.create_type_transform_feature(name='top_topic_cat', \n",
    "                                      parent_name='top_topic', \n",
    "                                      variable_type='categoricalInt')\n",
    "new_feature"
   ]
  },
  {
   "cell_type": "code",
   "execution_count": 59,
   "metadata": {},
   "outputs": [],
   "source": [
    "# # Create a new feature list from our subset of features to eliminate target leaks\n",
    "# # new_list = [c for c in df_less_5.columns] + [new_feature.name]\n",
    "# new_list = ['DELAY_INDICATOR', 'ORIGIN', 'DESTINATION', 'CARRIER', \n",
    "#             'DAY_OF_WEEK', 'HOUR_OF_DPTR', 'ACT_AC_TYPE', new_feature.name]\n",
    "# f_list = project.create_featurelist('No leaks list', new_list)\n",
    "# f_list"
   ]
  },
  {
   "cell_type": "code",
   "execution_count": 70,
   "metadata": {},
   "outputs": [
    {
     "data": {
      "text/plain": [
       "Project(10K_Lending_Club_Loans with NMF topic clustering)"
      ]
     },
     "execution_count": 70,
     "metadata": {},
     "output_type": "execute_result"
    }
   ],
   "source": [
    "# By calling set_target, we run datarobot\n",
    "target=target\n",
    "project.set_target(target=target, \n",
    "                   mode='auto',\n",
    "                   worker_count=20)  # ,\n",
    "#                    featurelist_id=f_list.id)"
   ]
  },
  {
   "cell_type": "code",
   "execution_count": 71,
   "metadata": {},
   "outputs": [
    {
     "name": "stdout",
     "output_type": "stream",
     "text": [
      "Best model from the leaderboard:\n",
      "'Gradient Boosted Greedy Trees Classifier with Early Stopping'\n",
      "\n",
      "Best model blueprint preprocessing steps:\n",
      "['One-Hot Encoding',\n",
      " 'Univariate credibility estimates with ElasticNet',\n",
      " 'Category Count',\n",
      " 'Converter for Text Mining',\n",
      " 'Auto-Tuned Word N-Gram Text Modeler using token occurrences',\n",
      " 'Missing Values Imputed',\n",
      " 'Search for differences',\n",
      " 'Search for ratios',\n",
      " 'Gradient Boosted Greedy Trees Classifier with Early Stopping']\n",
      "\n",
      "Best model metrics:\n",
      "{'AUC': {'backtesting': None,\n",
      "         'backtestingScores': None,\n",
      "         'crossValidation': None,\n",
      "         'holdout': None,\n",
      "         'validation': 0.66356},\n",
      " 'FVE Binomial': {'backtesting': None,\n",
      "                  'backtestingScores': None,\n",
      "                  'crossValidation': None,\n",
      "                  'holdout': None,\n",
      "                  'validation': 0.04482},\n",
      " 'Gini Norm': {'backtesting': None,\n",
      "               'backtestingScores': None,\n",
      "               'crossValidation': None,\n",
      "               'holdout': None,\n",
      "               'validation': 0.32712},\n",
      " 'Kolmogorov-Smirnov': {'backtesting': None,\n",
      "                        'backtestingScores': None,\n",
      "                        'crossValidation': None,\n",
      "                        'holdout': None,\n",
      "                        'validation': 0.25669},\n",
      " 'LogLoss': {'backtesting': None,\n",
      "             'backtestingScores': None,\n",
      "             'crossValidation': None,\n",
      "             'holdout': None,\n",
      "             'validation': 0.36907},\n",
      " 'RMSE': {'backtesting': None,\n",
      "          'backtestingScores': None,\n",
      "          'crossValidation': None,\n",
      "          'holdout': None,\n",
      "          'validation': 0.3307},\n",
      " 'Rate@Top10%': {'backtesting': None,\n",
      "                 'backtestingScores': None,\n",
      "                 'crossValidation': None,\n",
      "                 'holdout': None,\n",
      "                 'validation': 0.30625},\n",
      " 'Rate@Top5%': {'backtesting': None,\n",
      "                'backtestingScores': None,\n",
      "                'crossValidation': None,\n",
      "                'holdout': None,\n",
      "                'validation': 0.325},\n",
      " 'Rate@TopTenth%': {'backtesting': None,\n",
      "                    'backtestingScores': None,\n",
      "                    'crossValidation': None,\n",
      "                    'holdout': None,\n",
      "                    'validation': 1.0}}\n"
     ]
    }
   ],
   "source": [
    "# Get the models, which are already ordered by rank from the leaderboard\n",
    "models = project.get_models()\n",
    "\n",
    "# Get the best performing model (excluding the blenders, which are typically the top 4 models)\n",
    "best_model = models[4]\n",
    "print('Best model from the leaderboard:\\n\\'%s\\'' % best_model.model_type)\n",
    "print()\n",
    "\n",
    "# Get the blueprint\n",
    "blueprint_id = best_model.blueprint_id\n",
    "blueprint = dr.models.Blueprint.get(project.id, blueprint_id)\n",
    "print('Best model blueprint preprocessing steps:')\n",
    "pprint(blueprint.processes)\n",
    "print()\n",
    "\n",
    "# Get the model scoring metrics\n",
    "print('Best model metrics:')\n",
    "pprint(best_model.metrics)"
   ]
  },
  {
   "cell_type": "code",
   "execution_count": null,
   "metadata": {},
   "outputs": [],
   "source": []
  }
 ],
 "metadata": {
  "kernelspec": {
   "display_name": "Python 3",
   "language": "python",
   "name": "python3"
  },
  "language_info": {
   "codemirror_mode": {
    "name": "ipython",
    "version": 3
   },
   "file_extension": ".py",
   "mimetype": "text/x-python",
   "name": "python",
   "nbconvert_exporter": "python",
   "pygments_lexer": "ipython3",
   "version": "3.6.4"
  }
 },
 "nbformat": 4,
 "nbformat_minor": 2
}
