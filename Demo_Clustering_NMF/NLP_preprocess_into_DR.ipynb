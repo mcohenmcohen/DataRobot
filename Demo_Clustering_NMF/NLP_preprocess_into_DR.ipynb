{
 "cells": [
  {
   "cell_type": "markdown",
   "metadata": {},
   "source": [
    "- Read data\n",
    "- ID text col\n",
    "* Vectorize\n",
    "- Cluster\n",
    "- Make column by assigining docs to cluster\n",
    "- Write to csv\n",
    "- ...\n",
    "- DR ->\n",
    "- Create project\n",
    "- Upload data\n",
    "- Ensure cluster feature is categorical?\n",
    "- Run, compare to metrics without cluster"
   ]
  },
  {
   "cell_type": "code",
   "execution_count": 50,
   "metadata": {},
   "outputs": [],
   "source": [
    "import pandas as pd\n",
    "import numpy as np\n",
    "import datarobot as dr\n",
    "import topic_model\n",
    "import os\n",
    "from pprint import pprint\n",
    "\n",
    "import matplotlib\n",
    "import matplotlib.pyplot as plt\n",
    "%matplotlib inline"
   ]
  },
  {
   "cell_type": "markdown",
   "metadata": {},
   "source": [
    "# 1. Cluster the data (based on text data and NMF in this case)"
   ]
  },
  {
   "cell_type": "code",
   "execution_count": 51,
   "metadata": {},
   "outputs": [
    {
     "data": {
      "text/plain": [
       "(2, 52)"
      ]
     },
     "execution_count": 51,
     "metadata": {},
     "output_type": "execute_result"
    }
   ],
   "source": [
    "# Read the data file\n",
    "file_path = 'data/'\n",
    "file_name = '10kDiabetes'\n",
    "file_extn = '.csv'\n",
    "df = pd.read_csv(file_path + file_name + file_extn)\n",
    "df[df.diag_1_desc.isnull()].shape"
   ]
  },
  {
   "cell_type": "markdown",
   "metadata": {},
   "source": [
    "### Cluster - topic model dibetes dataset"
   ]
  },
  {
   "cell_type": "code",
   "execution_count": 90,
   "metadata": {},
   "outputs": [
    {
     "data": {
      "text/plain": [
       "['Spinal',\n",
       " 'stenosis',\n",
       " 'in',\n",
       " 'cervical',\n",
       " 'region',\n",
       " 'Spinal',\n",
       " 'stenosis',\n",
       " 'in',\n",
       " 'cervical',\n",
       " 'region',\n",
       " 'Effusion',\n",
       " 'of',\n",
       " 'joint,',\n",
       " 'site',\n",
       " 'unspecified']"
      ]
     },
     "execution_count": 90,
     "metadata": {},
     "output_type": "execute_result"
    }
   ],
   "source": []
  },
  {
   "cell_type": "code",
   "execution_count": 98,
   "metadata": {
    "scrolled": false
   },
   "outputs": [
    {
     "name": "stdout",
     "output_type": "stream",
     "text": [
      "Null rows: 0\n",
      "Not null:  10000\n"
     ]
    }
   ],
   "source": [
    "# For unsupervised topic modeling, we need text fields to cluster.\n",
    "# The diabetes dataset has three unstructured text fields that comprise doctor/nurse/staff notes about the patient.\n",
    "# We'll use this to cluster, and aggregate all three into one feature.\n",
    "\n",
    "def make_docs(df, text_cols):    \n",
    "    '''\n",
    "    For each feature column in the dataframe, tokenize the words then combine each column\n",
    "    into one pandas series\n",
    "    \n",
    "    Parameters:\n",
    "        df - your dataframe\n",
    "        text_colums - the colums to tokenize and aggregate\n",
    "    \n",
    "    Return:\n",
    "        docs - a pandas series of text data\n",
    "    '''\n",
    "    text_col_data = []\n",
    "    for col in text_cols:\n",
    "        series = df[col]\n",
    "\n",
    "        # tokenize the words in each text feature\n",
    "        series = series.apply(lambda x: x.split() if type(x) == str else [])\n",
    "\n",
    "        # Combine into one feature\n",
    "        text_col_data.append(series)\n",
    "\n",
    "    combined_cols = text_col_data[0]\n",
    "    for i in range(1, len(text_col_data)):\n",
    "        combined_cols = combined_cols + text_col_data[i]\n",
    "\n",
    "    docs = combined_cols.apply(lambda x: ' '.join(x))\n",
    "    \n",
    "    return docs\n",
    "\n",
    "text_columns = [\n",
    "#     'diag_1_desc', 'diag_2_desc', 'diag_3_desc',  # diabetes\n",
    "    'diag_1_desc', 'diag_2_desc', 'diag_3_desc',  # lending club\n",
    "]  # diabetes\n",
    "\n",
    "docs = make_docs(df, text_columns)\n",
    "\n",
    "# There should be no null rows\n",
    "print('Null rows:',docs[docs.isnull()].shape[0])\n",
    "print('Not null:  %s' % docs[docs.notnull()].shape[0])"
   ]
  },
  {
   "cell_type": "code",
   "execution_count": 97,
   "metadata": {},
   "outputs": [
    {
     "data": {
      "text/plain": [
       "0    Spinal stenosis in cervical region Spinal sten...\n",
       "1    First-degree perineal laceration, unspecified ...\n",
       "2    Pneumococcal pneumonia [Streptococcus pneumoni...\n",
       "3    Cellulitis and abscess of face Streptococcus i...\n",
       "4    Bipolar I disorder, single manic episode, unsp...\n",
       "dtype: object"
      ]
     },
     "execution_count": 97,
     "metadata": {},
     "output_type": "execute_result"
    }
   ],
   "source": [
    "docs.head()"
   ]
  },
  {
   "cell_type": "code",
   "execution_count": 54,
   "metadata": {},
   "outputs": [
    {
     "name": "stdout",
     "output_type": "stream",
     "text": [
      "Number of documents to process: 10000\n",
      "\n",
      "Extracting Vectorizer features...\n",
      "- Time: 0.206s.\n",
      "\n"
     ]
    }
   ],
   "source": [
    "# Params to build the vocab and topics\n",
    "min_df = 10\n",
    "max_df = .1\n",
    "max_vocab_size = 5000\n",
    "ngram_range=(1,1)\n",
    "\n",
    "tm = topic_model.NMF_TopicModeller(max_vocab_size=max_vocab_size, \n",
    "                                   min_df=min_df, \n",
    "                                   max_df=max_df, \n",
    "                                   ngram_range=ngram_range)\n",
    "tm.vectorize(docs)"
   ]
  },
  {
   "cell_type": "code",
   "execution_count": 55,
   "metadata": {
    "scrolled": false
   },
   "outputs": [
    {
     "name": "stdout",
     "output_type": "stream",
     "text": [
      "Processed NMF for k=20 of 20 - Time: 0.897s.\n",
      "No existing word2vec model found to load. Exception: [Errno 2] No such file or directory: './data/w2v-model.bin'.\n",
      "Building it...\n",
      "- Time: 1.737s.\n",
      "Saving it...\n",
      "word2vec model has 583 terms\n",
      "Calculating coherence scores...\n",
      "Optimal number of k topics: 19\n"
     ]
    },
    {
     "data": {
      "image/png": "[encoded data removed]",
      "text/plain": [
       "<matplotlib.figure.Figure at 0x1a1fb6c470>"
      ]
     },
     "metadata": {},
     "output_type": "display_data"
    },
    {
     "name": "stdout",
     "output_type": "stream",
     "text": [
      "Topic 00: stage, hypertensive, ckd, renal, aorta, manifestations, anemia, septicemia, streptococcal, hemorrhage, sideroblastic, circulatory, peripheral, implant, mechanical\n",
      "Topic 01: myocardial, wall, anterolateral, old, collapse, pulmonary, abuse, alcohol, ckd, atrioventricular, block, complete, hypertensive, nervous, asthma\n",
      "Topic 02: abnormality, respiratory, cardiospasm, achalasia, obesity, asthma, extrinsic, situ, alcohol, abuse, old, joint, region, spinal, anxiety\n",
      "Topic 03: syndrome, postmyocardial, basilar, artery, chiari, budd, raynaud, postcholecystectomy, cor, pulmonale, nervous, allergic, hypertensive, juvenile, shock\n",
      "Topic 04: infection, urinary, tract, streptococcus, septicemia, streptococcal, conditions, coli, intestinal, bladder, prostate, colic, intussusception, luts, symptom\n",
      "Topic 05: pneumonia, organism, asthma, extrinsic, pneumoniae, collapse, pulmonary, klebsiella, streptococcal, septicemia, influenza, trachea, pneumococcal, pleurisy, emphysematous\n",
      "Topic 06: obstruction, airway, calculus, cholecystitis, gallbladder, pulmonary, aorta, collapse, unilateral, hernia, recurrent, hemorrhage, femoral, pancreatitis, intussusception\n",
      "Topic 07: abscess, cellulitis, face, pressure, ulcer, streptococcus, shock, postoperative, circulatory, peripheral, finger, conditions, osteomyelitis, aorta, liver\n",
      "Topic 08: cerebral, thrombosis, artery, basilar, stenosis, occlusion, headache, cysts, flaccid, affecting, hemiplegia, hemiparesis, region, spinal, movements\n",
      "Topic 09: alteration, consciousness, obesity, hypotension, orthostatic, schizophrenia, fracture, closed, disorder, manifestations, alzheimer, nephroptosis, withdrawal, ckd, vomiting\n",
      "Topic 10: bronchitis, simple, pulmonary, collapse, schizophrenia, abuse, alcohol, primary, asthma, extrinsic, postinflammatory, disorder, candidiasis, mouth, amnestic\n",
      "Topic 11: valve, mitral, disorders, stenosis, circulatory, peripheral, aortic, aorta, tricuspid, diseases, ulcer, pressure, myocarditis, rheumatic, region\n",
      "Topic 12: juvenile, ketoacidosis, alcohol, abuse, radiotherapy, encounter, ophthalmic, disorder, complicating, obesity, asthma, extrinsic, pregnancy, puerperium, childbirth\n",
      "Topic 13: device, cardiac, situ, implant, mechanical, septicemia, streptococcal, operation, ckd, reaction, shock, postoperative, misadventure, later, patient\n",
      "Topic 14: generalized, osteoarthrosis, sideroblastic, anemia, asthma, extrinsic, appendicitis, obesity, peritonitis, achalasia, cardiospasm, osteoporosis, replaced, exercises, breathing\n",
      "Topic 15: manifestations, neurological, renal, ulcer, pressure, ophthalmic, polyneuritis, infective, osteomyelitis, achlorhydria, hemorrhage, aorta, ckd, colic, juvenile\n",
      "Topic 16: fibrosis, endomyocardial, pulmonary, postinflammatory, collapse, hypertensive, primary, aorta, ckd, pain, abdominal, cystic, ileus, meconium, laryngopharyngitis\n",
      "Topic 17: pure, hypercholesterolemia, pancreatitis, basilar, artery, obesity, hypothyroidism, postsurgical, gallbladder, cholecystitis, angina, decubitus, calculus, cervical, myelopathy\n",
      "Topic 18: neoplasm, secondary, anemia, trachea, lung, deficiency, iron, blood, loss, sideroblastic, hemorrhage, head, gastrointestinal, hematemesis, neck\n"
     ]
    }
   ],
   "source": [
    "# Calculate the optimal k using word2vec for coherence metric\n",
    "k_topics = topic_model.plot_optimal_k(docs.tolist(), tm.document_term_mat, tm.vectorizer,\n",
    "                           kmin=3, kmax=20, dim_size=500, min_df=min_df, \n",
    "                           max_vocab_size=max_vocab_size, num_top_terms=15,\n",
    "                           model_file_path='./data/',\n",
    "                           model_file_name='w2v-model.bin')"
   ]
  },
  {
   "cell_type": "code",
   "execution_count": 56,
   "metadata": {
    "scrolled": false
   },
   "outputs": [
    {
     "name": "stdout",
     "output_type": "stream",
     "text": [
      "Fitting model with 10000 documents.  Vectorizer: \n",
      "TfidfVectorizer(analyzer='word', binary=False, decode_error='strict',\n",
      "        dtype=<class 'numpy.int64'>, encoding='utf-8', input='content',\n",
      "        lowercase=True, max_df=0.1, max_features=5000, min_df=10,\n",
      "        ngram_range=(1, 1), norm='l2', preprocessor=None, smooth_idf=True,\n",
      "        stop_words=frozenset({'and', 'wherein', 'but', 'jx', 'con', 'few', 'yy', 'empty', 'xg', 'oo', 'ob', 'w', 'neither', 'bw', 'as', 'ql', 'mine', 'en', 'yk', 'wx', 'bc', 'bs', 'dv', 'xb', 'five', 'pt', 'wd', 'until', 'please', 'down', 'pm', 'a', 'anything', 'fg', 'jo', 'du', 'rs', 'ry', 'bottom', 'ow', ...m', 'md', 'qz', 'already', 'yf', 'ec', 'sk', 'te', 'xm', 'lz', 'qa', 'day', 'ki', 'me', 'zk', 'nx'}),\n",
      "        strip_accents=None, sublinear_tf=False,\n",
      "        token_pattern='(?ui)\\\\b[a-zA-Z]*[a-z]+\\\\w*\\\\b', tokenizer=None,\n",
      "        use_idf=True, vocabulary=None)\n",
      "- Time: 1.052s.\n",
      "\n"
     ]
    }
   ],
   "source": [
    "tm.fit(docs, k_topics=k_topics)"
   ]
  },
  {
   "cell_type": "code",
   "execution_count": 57,
   "metadata": {},
   "outputs": [],
   "source": [
    "# Generate the probability of each topic for each row (eg, job posting)\n",
    "# and add the top topic and probability to the dataframe\n",
    "def get_normalized_probs(topic_weights):\n",
    "    '''\n",
    "    Return the normalized topic cluseter weights for a given row\n",
    "    '''\n",
    "    topic_weights = topic_weights.flatten()\n",
    "    #print row_idx\n",
    "    if topic_weights.sum() == 0:\n",
    "        probs = topic_weights\n",
    "    else:\n",
    "        probs = (topic_weights / topic_weights.sum())\n",
    "    return probs\n",
    "\n",
    "# For each row, get the topic weights, normalize, order by\n",
    "# weight value, and store in a list to add to the dataframe \n",
    "top_topics = []\n",
    "top_topic_weights = []\n",
    "for row_idx in range(tm.W.shape[0]):\n",
    "    W = tm.W[row_idx]\n",
    "    probs = get_normalized_probs(W)\n",
    "    \n",
    "    ordered_idxs = np.argsort(probs)[::-1]\n",
    "    top_topics.append(ordered_idxs[0])\n",
    "    top_topic_weights.append(probs[ordered_idxs[0]])\n",
    "    \n",
    "df['top_topic'] = top_topics\n",
    "df['top_topic_weight'] = top_topic_weights"
   ]
  },
  {
   "cell_type": "code",
   "execution_count": 58,
   "metadata": {},
   "outputs": [
    {
     "data": {
      "text/plain": [
       "array([0.        , 0.        , 0.        , 0.        , 0.        ,\n",
       "       0.        , 0.        , 0.        , 0.        , 0.        ,\n",
       "       0.        , 0.        , 0.00413187, 0.        , 0.01372072,\n",
       "       0.        , 0.        , 0.        , 0.01700684])"
      ]
     },
     "execution_count": 58,
     "metadata": {},
     "output_type": "execute_result"
    }
   ],
   "source": [
    "tm.W[1]"
   ]
  },
  {
   "cell_type": "code",
   "execution_count": 59,
   "metadata": {},
   "outputs": [
    {
     "data": {
      "text/html": [
       "<div>\n",
       "<style scoped>\n",
       "    .dataframe tbody tr th:only-of-type {\n",
       "        vertical-align: middle;\n",
       "    }\n",
       "\n",
       "    .dataframe tbody tr th {\n",
       "        vertical-align: top;\n",
       "    }\n",
       "\n",
       "    .dataframe thead th {\n",
       "        text-align: right;\n",
       "    }\n",
       "</style>\n",
       "<table border=\"1\" class=\"dataframe\">\n",
       "  <thead>\n",
       "    <tr style=\"text-align: right;\">\n",
       "      <th></th>\n",
       "      <th>rowID</th>\n",
       "      <th>race</th>\n",
       "      <th>gender</th>\n",
       "      <th>age</th>\n",
       "      <th>weight</th>\n",
       "      <th>admission_type_id</th>\n",
       "      <th>discharge_disposition_id</th>\n",
       "      <th>admission_source_id</th>\n",
       "      <th>time_in_hospital</th>\n",
       "      <th>payer_code</th>\n",
       "      <th>...</th>\n",
       "      <th>metformin.rosiglitazone</th>\n",
       "      <th>metformin.pioglitazone</th>\n",
       "      <th>change</th>\n",
       "      <th>diabetesMed</th>\n",
       "      <th>readmitted</th>\n",
       "      <th>diag_1_desc</th>\n",
       "      <th>diag_2_desc</th>\n",
       "      <th>diag_3_desc</th>\n",
       "      <th>top_topic</th>\n",
       "      <th>top_topic_weight</th>\n",
       "    </tr>\n",
       "  </thead>\n",
       "  <tbody>\n",
       "    <tr>\n",
       "      <th>0</th>\n",
       "      <td>1</td>\n",
       "      <td>Caucasian</td>\n",
       "      <td>Female</td>\n",
       "      <td>[50-60)</td>\n",
       "      <td>?</td>\n",
       "      <td>Elective</td>\n",
       "      <td>Discharged to home</td>\n",
       "      <td>Physician Referral</td>\n",
       "      <td>1</td>\n",
       "      <td>CP</td>\n",
       "      <td>...</td>\n",
       "      <td>No</td>\n",
       "      <td>No</td>\n",
       "      <td>No</td>\n",
       "      <td>No</td>\n",
       "      <td>False</td>\n",
       "      <td>Spinal stenosis in cervical region</td>\n",
       "      <td>Spinal stenosis in cervical region</td>\n",
       "      <td>Effusion of joint, site unspecified</td>\n",
       "      <td>8</td>\n",
       "      <td>0.632077</td>\n",
       "    </tr>\n",
       "    <tr>\n",
       "      <th>1</th>\n",
       "      <td>2</td>\n",
       "      <td>Caucasian</td>\n",
       "      <td>Female</td>\n",
       "      <td>[20-30)</td>\n",
       "      <td>[50-75)</td>\n",
       "      <td>Urgent</td>\n",
       "      <td>Discharged to home</td>\n",
       "      <td>Physician Referral</td>\n",
       "      <td>2</td>\n",
       "      <td>UN</td>\n",
       "      <td>...</td>\n",
       "      <td>No</td>\n",
       "      <td>No</td>\n",
       "      <td>No</td>\n",
       "      <td>No</td>\n",
       "      <td>False</td>\n",
       "      <td>First-degree perineal laceration, unspecified ...</td>\n",
       "      <td>Diabetes mellitus of mother, complicating preg...</td>\n",
       "      <td>Sideroblastic anemia</td>\n",
       "      <td>18</td>\n",
       "      <td>0.487869</td>\n",
       "    </tr>\n",
       "    <tr>\n",
       "      <th>2</th>\n",
       "      <td>3</td>\n",
       "      <td>Caucasian</td>\n",
       "      <td>Male</td>\n",
       "      <td>[80-90)</td>\n",
       "      <td>?</td>\n",
       "      <td>Not Available</td>\n",
       "      <td>Discharged/transferred to home with home healt...</td>\n",
       "      <td>NaN</td>\n",
       "      <td>7</td>\n",
       "      <td>MC</td>\n",
       "      <td>...</td>\n",
       "      <td>No</td>\n",
       "      <td>No</td>\n",
       "      <td>No</td>\n",
       "      <td>Yes</td>\n",
       "      <td>True</td>\n",
       "      <td>Pneumococcal pneumonia [Streptococcus pneumoni...</td>\n",
       "      <td>Congestive heart failure, unspecified</td>\n",
       "      <td>Hyperosmolality and/or hypernatremia</td>\n",
       "      <td>5</td>\n",
       "      <td>0.916534</td>\n",
       "    </tr>\n",
       "    <tr>\n",
       "      <th>3</th>\n",
       "      <td>4</td>\n",
       "      <td>AfricanAmerican</td>\n",
       "      <td>Female</td>\n",
       "      <td>[50-60)</td>\n",
       "      <td>?</td>\n",
       "      <td>Emergency</td>\n",
       "      <td>Discharged to home</td>\n",
       "      <td>Transfer from another health care facility</td>\n",
       "      <td>4</td>\n",
       "      <td>UN</td>\n",
       "      <td>...</td>\n",
       "      <td>No</td>\n",
       "      <td>No</td>\n",
       "      <td>No</td>\n",
       "      <td>Yes</td>\n",
       "      <td>False</td>\n",
       "      <td>Cellulitis and abscess of face</td>\n",
       "      <td>Streptococcus infection in conditions classifi...</td>\n",
       "      <td>Diabetes mellitus without mention of complicat...</td>\n",
       "      <td>7</td>\n",
       "      <td>0.725775</td>\n",
       "    </tr>\n",
       "    <tr>\n",
       "      <th>4</th>\n",
       "      <td>5</td>\n",
       "      <td>AfricanAmerican</td>\n",
       "      <td>Female</td>\n",
       "      <td>[50-60)</td>\n",
       "      <td>?</td>\n",
       "      <td>Emergency</td>\n",
       "      <td>Discharged to home</td>\n",
       "      <td>Emergency Room</td>\n",
       "      <td>5</td>\n",
       "      <td>?</td>\n",
       "      <td>...</td>\n",
       "      <td>No</td>\n",
       "      <td>No</td>\n",
       "      <td>Ch</td>\n",
       "      <td>Yes</td>\n",
       "      <td>False</td>\n",
       "      <td>Bipolar I disorder, single manic episode, unsp...</td>\n",
       "      <td>Diabetes mellitus without mention of complicat...</td>\n",
       "      <td>Depressive type psychosis</td>\n",
       "      <td>12</td>\n",
       "      <td>1.000000</td>\n",
       "    </tr>\n",
       "  </tbody>\n",
       "</table>\n",
       "<p>5 rows × 54 columns</p>\n",
       "</div>"
      ],
      "text/plain": [
       "   rowID             race  gender      age   weight admission_type_id  \\\n",
       "0      1        Caucasian  Female  [50-60)        ?          Elective   \n",
       "1      2        Caucasian  Female  [20-30)  [50-75)            Urgent   \n",
       "2      3        Caucasian    Male  [80-90)        ?     Not Available   \n",
       "3      4  AfricanAmerican  Female  [50-60)        ?         Emergency   \n",
       "4      5  AfricanAmerican  Female  [50-60)        ?         Emergency   \n",
       "\n",
       "                            discharge_disposition_id  \\\n",
       "0                                 Discharged to home   \n",
       "1                                 Discharged to home   \n",
       "2  Discharged/transferred to home with home healt...   \n",
       "3                                 Discharged to home   \n",
       "4                                 Discharged to home   \n",
       "\n",
       "                          admission_source_id  time_in_hospital payer_code  \\\n",
       "0                          Physician Referral                 1         CP   \n",
       "1                          Physician Referral                 2         UN   \n",
       "2                                         NaN                 7         MC   \n",
       "3  Transfer from another health care facility                 4         UN   \n",
       "4                              Emergency Room                 5          ?   \n",
       "\n",
       "        ...        metformin.rosiglitazone  metformin.pioglitazone  change  \\\n",
       "0       ...                             No                      No      No   \n",
       "1       ...                             No                      No      No   \n",
       "2       ...                             No                      No      No   \n",
       "3       ...                             No                      No      No   \n",
       "4       ...                             No                      No      Ch   \n",
       "\n",
       "   diabetesMed  readmitted                                        diag_1_desc  \\\n",
       "0           No       False                 Spinal stenosis in cervical region   \n",
       "1           No       False  First-degree perineal laceration, unspecified ...   \n",
       "2          Yes        True  Pneumococcal pneumonia [Streptococcus pneumoni...   \n",
       "3          Yes       False                     Cellulitis and abscess of face   \n",
       "4          Yes       False  Bipolar I disorder, single manic episode, unsp...   \n",
       "\n",
       "                                         diag_2_desc  \\\n",
       "0                 Spinal stenosis in cervical region   \n",
       "1  Diabetes mellitus of mother, complicating preg...   \n",
       "2              Congestive heart failure, unspecified   \n",
       "3  Streptococcus infection in conditions classifi...   \n",
       "4  Diabetes mellitus without mention of complicat...   \n",
       "\n",
       "                                         diag_3_desc top_topic  \\\n",
       "0                Effusion of joint, site unspecified         8   \n",
       "1                               Sideroblastic anemia        18   \n",
       "2               Hyperosmolality and/or hypernatremia         5   \n",
       "3  Diabetes mellitus without mention of complicat...         7   \n",
       "4                          Depressive type psychosis        12   \n",
       "\n",
       "  top_topic_weight  \n",
       "0         0.632077  \n",
       "1         0.487869  \n",
       "2         0.916534  \n",
       "3         0.725775  \n",
       "4         1.000000  \n",
       "\n",
       "[5 rows x 54 columns]"
      ]
     },
     "execution_count": 59,
     "metadata": {},
     "output_type": "execute_result"
    }
   ],
   "source": [
    "df.head()"
   ]
  },
  {
   "cell_type": "code",
   "execution_count": 60,
   "metadata": {
    "scrolled": true
   },
   "outputs": [
    {
     "data": {
      "text/plain": [
       "<matplotlib.axes._subplots.AxesSubplot at 0x1a2041e518>"
      ]
     },
     "execution_count": 60,
     "metadata": {},
     "output_type": "execute_result"
    },
    {
     "data": {
      "image/png": "[encoded data removed]",
      "text/plain": [
       "<matplotlib.figure.Figure at 0x1a1f07a9b0>"
      ]
     },
     "metadata": {},
     "output_type": "display_data"
    }
   ],
   "source": [
    "fig, axs = plt.subplots(1,2, figsize=(15,3))\n",
    "df.top_topic_weight.hist(bins=k_topics, ax=axs[0])\n",
    "df.top_topic.hist(bins=k_topics, ax=axs[1])"
   ]
  },
  {
   "cell_type": "code",
   "execution_count": 61,
   "metadata": {
    "scrolled": false
   },
   "outputs": [
    {
     "name": "stdout",
     "output_type": "stream",
     "text": [
      "Topic probabilities:\n",
      "[0.00000000e+00 0.00000000e+00 3.76472616e-04 0.00000000e+00\n",
      " 0.00000000e+00 0.00000000e+00 0.00000000e+00 0.00000000e+00\n",
      " 6.32077370e-01 0.00000000e+00 0.00000000e+00 3.67546158e-01\n",
      " 0.00000000e+00 0.00000000e+00 0.00000000e+00 0.00000000e+00\n",
      " 0.00000000e+00 0.00000000e+00 0.00000000e+00]\n",
      "\n",
      "Top Topic: 8\n",
      "\n",
      "Spinal stenosis in cervical region\n"
     ]
    },
    {
     "data": {
      "image/png": "[encoded data removed]",
      "text/plain": [
       "<matplotlib.figure.Figure at 0x1a1daf2ef0>"
      ]
     },
     "metadata": {},
     "output_type": "display_data"
    }
   ],
   "source": [
    "# Inspect record data\n",
    "def inspect_record(rec_id):\n",
    "    row_num = rec_id\n",
    "    probs = get_normalized_probs(tm.W[row_num])\n",
    "    ordered_idxs = np.argsort(probs)[::-1]\n",
    "    top_topic = ordered_idxs[0]\n",
    "    print (\"Topic probabilities:\\n%s\\n\" % probs)\n",
    "    print (\"Top Topic: %s\\n\" % top_topic)\n",
    "#     print (\"Top Tags:\\n%s\\n\" % get_topic_top_tags(top_topic, 3))\n",
    "\n",
    "    top_topics.append(ordered_idxs[0])\n",
    "    top_topic_weights.append(probs[ordered_idxs[0]])\n",
    "    plt.pie(probs[ordered_idxs[:5]], labels=ordered_idxs[:5])\n",
    "    print (df.iloc[row_num].diag_1_desc)\n",
    "inspect_record(0)"
   ]
  },
  {
   "cell_type": "code",
   "execution_count": 62,
   "metadata": {},
   "outputs": [
    {
     "data": {
      "text/plain": [
       "Index(['rowID', 'race', 'gender', 'age', 'weight', 'admission_type_id',\n",
       "       'discharge_disposition_id', 'admission_source_id', 'time_in_hospital',\n",
       "       'payer_code', 'medical_specialty', 'num_lab_procedures',\n",
       "       'num_procedures', 'num_medications', 'number_outpatient',\n",
       "       'number_emergency', 'number_inpatient', 'diag_1', 'diag_2', 'diag_3',\n",
       "       'number_diagnoses', 'max_glu_serum', 'A1Cresult', 'metformin',\n",
       "       'repaglinide', 'nateglinide', 'chlorpropamide', 'glimepiride',\n",
       "       'acetohexamide', 'glipizide', 'glyburide', 'tolbutamide',\n",
       "       'pioglitazone', 'rosiglitazone', 'acarbose', 'miglitol', 'troglitazone',\n",
       "       'tolazamide', 'examide', 'citoglipton', 'insulin',\n",
       "       'glyburide.metformin', 'glipizide.metformin',\n",
       "       'glimepiride.pioglitazone', 'metformin.rosiglitazone',\n",
       "       'metformin.pioglitazone', 'change', 'diabetesMed', 'readmitted',\n",
       "       'diag_1_desc', 'diag_2_desc', 'diag_3_desc', 'top_topic',\n",
       "       'top_topic_weight'],\n",
       "      dtype='object')"
      ]
     },
     "execution_count": 62,
     "metadata": {},
     "output_type": "execute_result"
    }
   ],
   "source": [
    "df.columns"
   ]
  },
  {
   "cell_type": "code",
   "execution_count": 18,
   "metadata": {},
   "outputs": [],
   "source": [
    "file_with_topics = file_path + file_name + '_with_topics' + file_extn\n",
    "df.to_csv(file_with_topics)"
   ]
  },
  {
   "cell_type": "markdown",
   "metadata": {},
   "source": [
    "# Create a new DataRobot project with the new dataset with cluster features"
   ]
  },
  {
   "cell_type": "code",
   "execution_count": 17,
   "metadata": {},
   "outputs": [
    {
     "data": {
      "text/plain": [
       "<datarobot.rest.RESTClientObject at 0x102fcd940>"
      ]
     },
     "execution_count": 17,
     "metadata": {},
     "output_type": "execute_result"
    }
   ],
   "source": [
    "dr.Client(token=os.environ['DATAROBOT_API_TOKEN'], endpoint=os.environ['DATAROBOT_ENDPOINT'])"
   ]
  },
  {
   "cell_type": "code",
   "execution_count": 19,
   "metadata": {},
   "outputs": [
    {
     "name": "stdout",
     "output_type": "stream",
     "text": [
      "project id:   5b0319116cd83a72e74df751\n",
      "project name: Diabetes with cluster\n",
      "project.get_status():\n",
      "-  {'autopilot_done': False, 'stage_description': 'Ready to set target', 'stage': 'aim'}\n"
     ]
    }
   ],
   "source": [
    "# # Create a project: and upload the data, set the target, give the project a name\n",
    "project = dr.Project.create(sourcedata=file_with_cluster, \n",
    "                            project_name='Diabetes with cluster')\n",
    "\n",
    "print('project id:  ', project.id)\n",
    "print('project name:', project.project_name)\n",
    "print('project.get_status():\\n- ', project.get_status())"
   ]
  },
  {
   "cell_type": "code",
   "execution_count": 20,
   "metadata": {},
   "outputs": [
    {
     "data": {
      "text/plain": [
       "['A1Cresult',\n",
       " 'Unnamed: 0',\n",
       " 'acarbose',\n",
       " 'acetohexamide',\n",
       " 'admission_source_id',\n",
       " 'admission_type_id',\n",
       " 'age',\n",
       " 'change',\n",
       " 'chlorpropamide',\n",
       " 'citoglipton',\n",
       " 'diabetesMed',\n",
       " 'diag_1',\n",
       " 'diag_1_desc',\n",
       " 'diag_2',\n",
       " 'diag_2_desc',\n",
       " 'diag_3',\n",
       " 'diag_3_desc',\n",
       " 'discharge_disposition_id',\n",
       " 'examide',\n",
       " 'gender',\n",
       " 'glimepiride',\n",
       " 'glimepiride_pioglitazone',\n",
       " 'glipizide',\n",
       " 'glipizide_metformin',\n",
       " 'glyburide',\n",
       " 'glyburide_metformin',\n",
       " 'insulin',\n",
       " 'max_glu_serum',\n",
       " 'medical_specialty',\n",
       " 'metformin',\n",
       " 'metformin_pioglitazone',\n",
       " 'metformin_rosiglitazone',\n",
       " 'miglitol',\n",
       " 'nateglinide',\n",
       " 'num_lab_procedures',\n",
       " 'num_medications',\n",
       " 'num_procedures',\n",
       " 'number_diagnoses',\n",
       " 'number_emergency',\n",
       " 'number_inpatient',\n",
       " 'number_outpatient',\n",
       " 'payer_code',\n",
       " 'pioglitazone',\n",
       " 'race',\n",
       " 'readmitted',\n",
       " 'repaglinide',\n",
       " 'rosiglitazone',\n",
       " 'rowID',\n",
       " 'time_in_hospital',\n",
       " 'tolazamide',\n",
       " 'tolbutamide',\n",
       " 'top_topic',\n",
       " 'top_topic_weight',\n",
       " 'troglitazone',\n",
       " 'weight']"
      ]
     },
     "execution_count": 20,
     "metadata": {},
     "output_type": "execute_result"
    }
   ],
   "source": [
    "# Output the identified project features# Outpu \n",
    "features = project.get_features()\n",
    "sorted([f.name for f in features])"
   ]
  },
  {
   "cell_type": "code",
   "execution_count": 21,
   "metadata": {},
   "outputs": [
    {
     "data": {
      "text/plain": [
       "Feature(top_topic_cat)"
      ]
     },
     "execution_count": 21,
     "metadata": {},
     "output_type": "execute_result"
    }
   ],
   "source": [
    "# Convert top topic to a categorical variable\n",
    "new_feature = project.create_type_transform_feature(name='top_topic_cat', \n",
    "                                      parent_name='top_topic', \n",
    "                                      variable_type='categoricalInt')\n",
    "new_feature"
   ]
  },
  {
   "cell_type": "code",
   "execution_count": 22,
   "metadata": {},
   "outputs": [],
   "source": [
    "# # Create a new feature list from our subset of features to eliminate target leaks\n",
    "# # new_list = [c for c in df_less_5.columns] + [new_feature.name]\n",
    "# new_list = ['DELAY_INDICATOR', 'ORIGIN', 'DESTINATION', 'CARRIER', \n",
    "#             'DAY_OF_WEEK', 'HOUR_OF_DPTR', 'ACT_AC_TYPE', new_feature.name]\n",
    "# f_list = project.create_featurelist('No leaks list', new_list)\n",
    "# f_list"
   ]
  },
  {
   "cell_type": "code",
   "execution_count": 24,
   "metadata": {},
   "outputs": [
    {
     "data": {
      "text/plain": [
       "Project(Diabetes with cluster)"
      ]
     },
     "execution_count": 24,
     "metadata": {},
     "output_type": "execute_result"
    }
   ],
   "source": [
    "# By calling set_target, we run datarobot\n",
    "target='readmitted'\n",
    "project.set_target(target=target, \n",
    "                   mode='auto',\n",
    "                   worker_count=20)  # ,\n",
    "#                    featurelist_id=f_list.id)"
   ]
  },
  {
   "cell_type": "code",
   "execution_count": 28,
   "metadata": {},
   "outputs": [
    {
     "name": "stdout",
     "output_type": "stream",
     "text": [
      "Best model from the leaderboard:\n",
      "'ExtraTrees Classifier (Gini)'\n",
      "\n",
      "Best model blueprint preprocessing steps:\n",
      "['One-Hot Encoding',\n",
      " 'Univariate credibility estimates with ElasticNet',\n",
      " 'Converter for Text Mining',\n",
      " 'Auto-Tuned Word N-Gram Text Modeler using token occurrences',\n",
      " 'Missing Values Imputed',\n",
      " 'Search for differences',\n",
      " 'Search for ratios',\n",
      " 'Feature Selection for dimensionality reduction',\n",
      " 'ExtraTrees Classifier (Gini)']\n",
      "\n",
      "Best model metrics:\n",
      "{'AUC': {'backtesting': None,\n",
      "         'backtestingScores': None,\n",
      "         'crossValidation': 0.7017960000000001,\n",
      "         'holdout': None,\n",
      "         'validation': 0.71914},\n",
      " 'FVE Binomial': {'backtesting': None,\n",
      "                  'backtestingScores': None,\n",
      "                  'crossValidation': 0.091758,\n",
      "                  'holdout': None,\n",
      "                  'validation': 0.10514},\n",
      " 'Gini Norm': {'backtesting': None,\n",
      "               'backtestingScores': None,\n",
      "               'crossValidation': 0.403592,\n",
      "               'holdout': None,\n",
      "               'validation': 0.43828},\n",
      " 'Kolmogorov-Smirnov': {'backtesting': None,\n",
      "                        'backtestingScores': None,\n",
      "                        'crossValidation': 0.30223600000000006,\n",
      "                        'holdout': None,\n",
      "                        'validation': 0.3386},\n",
      " 'LogLoss': {'backtesting': None,\n",
      "             'backtestingScores': None,\n",
      "             'crossValidation': 0.6099159999999999,\n",
      "             'holdout': None,\n",
      "             'validation': 0.6011},\n",
      " 'RMSE': {'backtesting': None,\n",
      "          'backtestingScores': None,\n",
      "          'crossValidation': 0.45971599999999996,\n",
      "          'holdout': None,\n",
      "          'validation': 0.45531},\n",
      " 'Rate@Top10%': {'backtesting': None,\n",
      "                 'backtestingScores': None,\n",
      "                 'crossValidation': 0.70875,\n",
      "                 'holdout': None,\n",
      "                 'validation': 0.74375},\n",
      " 'Rate@Top5%': {'backtesting': None,\n",
      "                'backtestingScores': None,\n",
      "                'crossValidation': 0.74,\n",
      "                'holdout': None,\n",
      "                'validation': 0.7875},\n",
      " 'Rate@TopTenth%': {'backtesting': None,\n",
      "                    'backtestingScores': None,\n",
      "                    'crossValidation': 0.9,\n",
      "                    'holdout': None,\n",
      "                    'validation': 1.0}}\n"
     ]
    }
   ],
   "source": [
    "# Get the models, which are already ordered by rank from the leaderboard\n",
    "models = project.get_models()\n",
    "\n",
    "# Get the best performing model (excluding the blenders, which are typically the top 4 models)\n",
    "best_model = models[4]\n",
    "print('Best model from the leaderboard:\\n\\'%s\\'' % best_model.model_type)\n",
    "print()\n",
    "\n",
    "# Get the blueprint\n",
    "blueprint_id = best_model.blueprint_id\n",
    "blueprint = dr.models.Blueprint.get(project.id, blueprint_id)\n",
    "print('Best model blueprint preprocessing steps:')\n",
    "pprint(blueprint.processes)\n",
    "print()\n",
    "\n",
    "# Get the model scoring metrics\n",
    "print('Best model metrics:')\n",
    "pprint(best_model.metrics)"
   ]
  },
  {
   "cell_type": "code",
   "execution_count": 9,
   "metadata": {},
   "outputs": [
    {
     "name": "stdout",
     "output_type": "stream",
     "text": [
      "9\r"
     ]
    }
   ],
   "source": [
    "import time\n",
    "for f in range(10):\n",
    "    print(f, end='\\r', flush=True)\n",
    "    time.sleep(1)"
   ]
  },
  {
   "cell_type": "code",
   "execution_count": 11,
   "metadata": {},
   "outputs": [
    {
     "name": "stdout",
     "output_type": "stream",
     "text": [
      "9\n"
     ]
    }
   ],
   "source": []
  },
  {
   "cell_type": "code",
   "execution_count": null,
   "metadata": {},
   "outputs": [],
   "source": []
  }
 ],
 "metadata": {
  "kernelspec": {
   "display_name": "Python 3",
   "language": "python",
   "name": "python3"
  },
  "language_info": {
   "codemirror_mode": {
    "name": "ipython",
    "version": 3
   },
   "file_extension": ".py",
   "mimetype": "text/x-python",
   "name": "python",
   "nbconvert_exporter": "python",
   "pygments_lexer": "ipython3",
   "version": "3.6.4"
  }
 },
 "nbformat": 4,
 "nbformat_minor": 2
}
