{
 "cells": [
  {
   "cell_type": "markdown",
   "metadata": {},
   "source": [
    "# DataRobot API example\n",
    "### Read the csv dataset from the file system, splitting off a small percentage from the training set to use for scoring predictions."
   ]
  },
  {
   "cell_type": "code",
   "execution_count": 2,
   "metadata": {},
   "outputs": [
    {
     "name": "stdout",
     "output_type": "stream",
     "text": [
      "Full data shape:       (50000, 16)\n",
      "Training data shape:   (45000, 16)\n",
      "Prediction data shape: (5000, 15)\n"
     ]
    }
   ],
   "source": [
    "import pandas as pd\n",
    "from sklearn.metrics import roc_auc_score, log_loss, roc_curve, auc\n",
    "from pprint import pprint\n",
    "import os\n",
    "import time\n",
    "import requests\n",
    "import datarobot as dr\n",
    "import warnings\n",
    "warnings.filterwarnings('ignore')\n",
    "\n",
    "import matplotlib.pyplot as plt\n",
    "%matplotlib inline\n",
    "\n",
    "source_data_file = 'data/flight_delay_data_50k.csv'\n",
    "target = 'DELAY_INDICATOR'\n",
    "\n",
    "# Read in data from .csv\n",
    "df_full = pd.read_csv(source_data_file)\n",
    "\n",
    "# Shuffle the rows\n",
    "df_full = df_full.sample(frac=1, random_state=0)\n",
    "\n",
    "# Split 90% for training, 10% for predictions\n",
    "split = int(df_full.shape[0] * .1)\n",
    "df_train = df_full[split:]\n",
    "df_pred_y = df_full[:split].copy()  # has target column\n",
    "\n",
    "# Drop the target column from the prediction dataset\n",
    "df_pred = df_pred_y.drop(target, axis=1)\n",
    "\n",
    "print('Full data shape:      ',df_full.shape)\n",
    "print('Training data shape:  ',df_train.shape)\n",
    "print('Prediction data shape:',df_pred.shape)"
   ]
  },
  {
   "cell_type": "markdown",
   "metadata": {},
   "source": [
    "## Create a DataRobot project"
   ]
  },
  {
   "cell_type": "code",
   "execution_count": 3,
   "metadata": {},
   "outputs": [
    {
     "data": {
      "text/plain": [
       "<datarobot.rest.RESTClientObject at 0x105562588>"
      ]
     },
     "execution_count": 3,
     "metadata": {},
     "output_type": "execute_result"
    }
   ],
   "source": [
    "# Establish client connection\n",
    "dr.Client(token=os.environ['DATAROBOT_API_TOKEN'], endpoint='https://app.datarobot.com/api/v2')"
   ]
  },
  {
   "cell_type": "markdown",
   "metadata": {},
   "source": [
    "## The 'Out of the Box Autopilot'\n",
    "### If we wanted to run autopilot on a dataset and it's features as-is, then we would simply run project.start, which only needs the source data (eg, a csv), the target name, and a project name as parameters.  Project creation, file upload and target selection are all combined in Project.start method.  DataRobot will do the rest in terms of data typing and using informative features.\n",
    "```\n",
    "project.start(sourcedata=df, \n",
    "              target='DELAY_INDICATOR'\n",
    "              project_name='Flight delay classification'\n",
    "```\n",
    "### Instead, we'll use a few steps to create a project, upload the data, and set the target.  After feature engineering, we can run full autopilot or zmanually train selected models.\n",
    "\n",
    "#### Autopilot mode means that the modeling process will proceed completely automatically, including running recommended models, running at different sample sizes, and blending.\n",
    "\n",
    "#### Manual mode means that DataRobot will populate a list of recommended models, but will not insert any of them into the queue. Manual mode lets you select which models to execute before starting the modeling process.\n",
    "\n"
   ]
  },
  {
   "cell_type": "code",
   "execution_count": 3,
   "metadata": {},
   "outputs": [
    {
     "name": "stdout",
     "output_type": "stream",
     "text": [
      "project id:   5be4b98c7947717fcacee328\n",
      "project name: Flight Delay API example\n",
      "project.get_status():\n",
      "-  {'autopilot_done': False, 'stage_description': 'Ready to set target', 'stage': 'aim'}\n",
      "- create done: 35.364\n",
      "- set_target done: 42.893\n"
     ]
    }
   ],
   "source": [
    "import time\n",
    "t1 = time.time()\n",
    "# Create a project: upload the data, set the target, give the project a name\n",
    "# Blueprint processing and training will run asynchronously after performing the second EDA pass\n",
    "project = dr.Project.create(sourcedata=df_train, \n",
    "                            project_name='Flight Delay API example')\n",
    "\n",
    "print('project id:  ', project.id)\n",
    "print('project name:', project.project_name)\n",
    "print('project.get_status():\\n- ', project.get_status())\n",
    "print('- create done: %0.3f' % (time.time()-t1))\n",
    "\n",
    "t1 = time.time()\n",
    "# Setting the target starts autopilot, but we'll use manual mode to kick off autopilot in a later step.\n",
    "project.set_target(target=target, \n",
    "                   mode='manual',\n",
    "                   worker_count=4)\n",
    "print('- set_target done: %0.3f' % (time.time()-t1))"
   ]
  },
  {
   "cell_type": "markdown",
   "metadata": {},
   "source": [
    "## Working with features\n",
    "###  We'll generate a new feature list to do some feature engineering given some dirty data and our domain knowledge of the business.  Start by first retrieving the features from the project object."
   ]
  },
  {
   "cell_type": "code",
   "execution_count": 4,
   "metadata": {},
   "outputs": [
    {
     "data": {
      "text/plain": [
       "['ACT_AC_TYPE',\n",
       " 'ARRV_A15_IND',\n",
       " 'AVOIDABLE_DELAY_IND',\n",
       " 'CARRIER',\n",
       " 'DAY_OF_WEEK',\n",
       " 'DELAY_CODE',\n",
       " 'DELAY_CODE_DESCRIPTION',\n",
       " 'DELAY_INDICATOR',\n",
       " 'DESTINATION',\n",
       " 'D_O_W_NUM',\n",
       " 'FLT_DATE',\n",
       " 'FLT_DATE (Day of Week)',\n",
       " 'FLT_NBR',\n",
       " 'HOUR_OF_DPTR',\n",
       " 'ORIGIN',\n",
       " 'UNAVOIDABLE_DELAY_IND',\n",
       " 'Unnamed: 0']"
      ]
     },
     "execution_count": 4,
     "metadata": {},
     "output_type": "execute_result"
    }
   ],
   "source": [
    "# Output the identified project features\n",
    "features = project.get_features()\n",
    "sorted([f.name for f in features])"
   ]
  },
  {
   "cell_type": "markdown",
   "metadata": {},
   "source": [
    "### We'll transform the flght number feature from numeric to categorical, and create a new feature list omitting features with target leakage, such as other flight delay flags."
   ]
  },
  {
   "cell_type": "code",
   "execution_count": 5,
   "metadata": {},
   "outputs": [
    {
     "data": {
      "text/plain": [
       "Feature(FLT_NBR_CAT)"
      ]
     },
     "execution_count": 5,
     "metadata": {},
     "output_type": "execute_result"
    }
   ],
   "source": [
    "# Convert flight number to a categorical variable\n",
    "new_feature = project.create_type_transform_feature(name='FLT_NBR_CAT', \n",
    "                                      parent_name='FLT_NBR', \n",
    "                                      variable_type='categoricalInt')\n",
    "new_feature"
   ]
  },
  {
   "cell_type": "code",
   "execution_count": 6,
   "metadata": {},
   "outputs": [
    {
     "data": {
      "text/plain": [
       "Featurelist(my feature list)"
      ]
     },
     "execution_count": 6,
     "metadata": {},
     "output_type": "execute_result"
    }
   ],
   "source": [
    "# Create a new feature list from a subset of features to eliminate target leaks and use the categorical flight number\n",
    "new_list = ['DELAY_INDICATOR', 'ORIGIN', 'DESTINATION', 'CARRIER', \n",
    "            'DAY_OF_WEEK', 'HOUR_OF_DPTR', 'ACT_AC_TYPE', new_feature.name]\n",
    "featurelist = project.create_featurelist(name='my feature list', features=new_list)\n",
    "featurelist"
   ]
  },
  {
   "cell_type": "markdown",
   "metadata": {},
   "source": [
    "## Start Autopilot\n",
    "\n",
    "### Option 1 - Full Autopilot mode"
   ]
  },
  {
   "cell_type": "code",
   "execution_count": 7,
   "metadata": {},
   "outputs": [],
   "source": [
    "project.start_autopilot(featurelist.id)\n",
    "\n",
    "# Block until complete\n",
    "# print('Waiting to complete')\n",
    "# project.wait_for_autopilot()"
   ]
  },
  {
   "cell_type": "markdown",
   "metadata": {},
   "source": [
    "### Option 2 - Manual mode\n",
    "#### Select specific models to run"
   ]
  },
  {
   "cell_type": "code",
   "execution_count": 7,
   "metadata": {},
   "outputs": [],
   "source": [
    "# Get the blueprints DataRobot provides in the repository.\n",
    "# The available blueprints are those appropriate given our dataset and target type. \n",
    "blueprints = project.get_blueprints()\n",
    "# blueprints"
   ]
  },
  {
   "cell_type": "code",
   "execution_count": 8,
   "metadata": {},
   "outputs": [
    {
     "data": {
      "text/plain": [
       "[Blueprint(eXtreme Gradient Boosted Trees Classifier with Early Stopping),\n",
       " Blueprint(Elastic-Net Classifier (L1 / Binomial Deviance)),\n",
       " Blueprint(Regularized Logistic Regression (L2))]"
      ]
     },
     "execution_count": 8,
     "metadata": {},
     "output_type": "execute_result"
    }
   ],
   "source": [
    "# Select a few blueprints to train those models\n",
    "selected_blueprints = []\n",
    "ex = en = rl = True\n",
    "for bp in blueprints:\n",
    "    if 'eXtreme' in bp.model_type and ex:\n",
    "        selected_blueprints.append(bp)\n",
    "        ex = False\n",
    "    if 'Elastic-Net' in bp.model_type and en:\n",
    "        selected_blueprints.append(bp)\n",
    "        en = False\n",
    "    if 'Regularized' in bp.model_type and rl:\n",
    "        selected_blueprints.append(bp)\n",
    "        rl = False\n",
    "    if len(selected_blueprints) > 2:\n",
    "        break\n",
    "selected_blueprints"
   ]
  },
  {
   "cell_type": "code",
   "execution_count": 9,
   "metadata": {
    "scrolled": true
   },
   "outputs": [
    {
     "name": "stdout",
     "output_type": "stream",
     "text": [
      "model jobs: ['11', '17', '23']\n",
      "Jobs in queue: 15\n",
      "[ModelJob(eXtreme Gradient Boosted Trees Classifier with Early Stopping, status=queue),\n",
      " ModelJob(Elastic-Net Classifier (L1 / Binomial Deviance), status=queue),\n",
      " ModelJob(Elastic-Net Classifier (L1 / Binomial Deviance), status=queue),\n",
      " ModelJob(Elastic-Net Classifier (L1 / Binomial Deviance), status=queue),\n",
      " ModelJob(Elastic-Net Classifier (L1 / Binomial Deviance), status=queue),\n",
      " ModelJob(Elastic-Net Classifier (L1 / Binomial Deviance), status=queue),\n",
      " ModelJob(Regularized Logistic Regression (L2), status=queue),\n",
      " ModelJob(Regularized Logistic Regression (L2), status=queue),\n",
      " ModelJob(Regularized Logistic Regression (L2), status=queue),\n",
      " ModelJob(Regularized Logistic Regression (L2), status=queue),\n",
      " ModelJob(Regularized Logistic Regression (L2), status=queue),\n",
      " ModelJob(eXtreme Gradient Boosted Trees Classifier with Early Stopping, status=inprogress),\n",
      " ModelJob(eXtreme Gradient Boosted Trees Classifier with Early Stopping, status=inprogress),\n",
      " ModelJob(eXtreme Gradient Boosted Trees Classifier with Early Stopping, status=inprogress),\n",
      " ModelJob(eXtreme Gradient Boosted Trees Classifier with Early Stopping, status=inprogress)]\n",
      "Jobs in queue: 15\n",
      "[ModelJob(eXtreme Gradient Boosted Trees Classifier with Early Stopping, status=queue),\n",
      " ModelJob(Elastic-Net Classifier (L1 / Binomial Deviance), status=queue),\n",
      " ModelJob(Elastic-Net Classifier (L1 / Binomial Deviance), status=queue),\n",
      " ModelJob(Elastic-Net Classifier (L1 / Binomial Deviance), status=queue),\n",
      " ModelJob(Elastic-Net Classifier (L1 / Binomial Deviance), status=queue),\n",
      " ModelJob(Elastic-Net Classifier (L1 / Binomial Deviance), status=queue),\n",
      " ModelJob(Regularized Logistic Regression (L2), status=queue),\n",
      " ModelJob(Regularized Logistic Regression (L2), status=queue),\n",
      " ModelJob(Regularized Logistic Regression (L2), status=queue),\n",
      " ModelJob(Regularized Logistic Regression (L2), status=queue),\n",
      " ModelJob(Regularized Logistic Regression (L2), status=queue),\n",
      " ModelJob(eXtreme Gradient Boosted Trees Classifier with Early Stopping, status=inprogress),\n",
      " ModelJob(eXtreme Gradient Boosted Trees Classifier with Early Stopping, status=inprogress),\n",
      " ModelJob(eXtreme Gradient Boosted Trees Classifier with Early Stopping, status=inprogress),\n",
      " ModelJob(eXtreme Gradient Boosted Trees Classifier with Early Stopping, status=inprogress)]\n",
      "Jobs in queue: 15\n",
      "[ModelJob(eXtreme Gradient Boosted Trees Classifier with Early Stopping, status=queue),\n",
      " ModelJob(Elastic-Net Classifier (L1 / Binomial Deviance), status=queue),\n",
      " ModelJob(Elastic-Net Classifier (L1 / Binomial Deviance), status=queue),\n",
      " ModelJob(Elastic-Net Classifier (L1 / Binomial Deviance), status=queue),\n",
      " ModelJob(Elastic-Net Classifier (L1 / Binomial Deviance), status=queue),\n",
      " ModelJob(Elastic-Net Classifier (L1 / Binomial Deviance), status=queue),\n",
      " ModelJob(Regularized Logistic Regression (L2), status=queue),\n",
      " ModelJob(Regularized Logistic Regression (L2), status=queue),\n",
      " ModelJob(Regularized Logistic Regression (L2), status=queue),\n",
      " ModelJob(Regularized Logistic Regression (L2), status=queue),\n",
      " ModelJob(Regularized Logistic Regression (L2), status=queue),\n",
      " ModelJob(eXtreme Gradient Boosted Trees Classifier with Early Stopping, status=inprogress),\n",
      " ModelJob(eXtreme Gradient Boosted Trees Classifier with Early Stopping, status=inprogress),\n",
      " ModelJob(eXtreme Gradient Boosted Trees Classifier with Early Stopping, status=inprogress),\n",
      " ModelJob(eXtreme Gradient Boosted Trees Classifier with Early Stopping, status=inprogress)]\n",
      "Jobs in queue: 12\n",
      "[ModelJob(eXtreme Gradient Boosted Trees Classifier with Early Stopping, status=inprogress),\n",
      " ModelJob(Elastic-Net Classifier (L1 / Binomial Deviance), status=inprogress),\n",
      " ModelJob(Elastic-Net Classifier (L1 / Binomial Deviance), status=inprogress),\n",
      " ModelJob(Elastic-Net Classifier (L1 / Binomial Deviance), status=queue),\n",
      " ModelJob(Elastic-Net Classifier (L1 / Binomial Deviance), status=queue),\n",
      " ModelJob(Elastic-Net Classifier (L1 / Binomial Deviance), status=queue),\n",
      " ModelJob(Regularized Logistic Regression (L2), status=queue),\n",
      " ModelJob(Regularized Logistic Regression (L2), status=queue),\n",
      " ModelJob(Regularized Logistic Regression (L2), status=queue),\n",
      " ModelJob(Regularized Logistic Regression (L2), status=queue),\n",
      " ModelJob(Regularized Logistic Regression (L2), status=queue),\n",
      " ModelJob(eXtreme Gradient Boosted Trees Classifier with Early Stopping, status=inprogress)]\n",
      "Jobs in queue: 12\n",
      "[ModelJob(eXtreme Gradient Boosted Trees Classifier with Early Stopping, status=inprogress),\n",
      " ModelJob(Elastic-Net Classifier (L1 / Binomial Deviance), status=inprogress),\n",
      " ModelJob(Elastic-Net Classifier (L1 / Binomial Deviance), status=inprogress),\n",
      " ModelJob(Elastic-Net Classifier (L1 / Binomial Deviance), status=queue),\n",
      " ModelJob(Elastic-Net Classifier (L1 / Binomial Deviance), status=queue),\n",
      " ModelJob(Elastic-Net Classifier (L1 / Binomial Deviance), status=queue),\n",
      " ModelJob(Regularized Logistic Regression (L2), status=queue),\n",
      " ModelJob(Regularized Logistic Regression (L2), status=queue),\n",
      " ModelJob(Regularized Logistic Regression (L2), status=queue),\n",
      " ModelJob(Regularized Logistic Regression (L2), status=queue),\n",
      " ModelJob(Regularized Logistic Regression (L2), status=queue),\n",
      " ModelJob(eXtreme Gradient Boosted Trees Classifier with Early Stopping, status=inprogress)]\n",
      "Jobs in queue: 10\n",
      "[ModelJob(Elastic-Net Classifier (L1 / Binomial Deviance), status=inprogress),\n",
      " ModelJob(Elastic-Net Classifier (L1 / Binomial Deviance), status=inprogress),\n",
      " ModelJob(Elastic-Net Classifier (L1 / Binomial Deviance), status=inprogress),\n",
      " ModelJob(Elastic-Net Classifier (L1 / Binomial Deviance), status=queue),\n",
      " ModelJob(Regularized Logistic Regression (L2), status=queue),\n",
      " ModelJob(Regularized Logistic Regression (L2), status=queue),\n",
      " ModelJob(Regularized Logistic Regression (L2), status=queue),\n",
      " ModelJob(Regularized Logistic Regression (L2), status=queue),\n",
      " ModelJob(Regularized Logistic Regression (L2), status=queue),\n",
      " ModelJob(eXtreme Gradient Boosted Trees Classifier with Early Stopping, status=inprogress)]\n",
      "Jobs in queue: 8\n",
      "[ModelJob(Elastic-Net Classifier (L1 / Binomial Deviance), status=inprogress),\n",
      " ModelJob(Elastic-Net Classifier (L1 / Binomial Deviance), status=inprogress),\n",
      " ModelJob(Regularized Logistic Regression (L2), status=queue),\n",
      " ModelJob(Regularized Logistic Regression (L2), status=queue),\n",
      " ModelJob(Regularized Logistic Regression (L2), status=queue),\n",
      " ModelJob(Regularized Logistic Regression (L2), status=queue),\n",
      " ModelJob(Regularized Logistic Regression (L2), status=queue),\n",
      " ModelJob(eXtreme Gradient Boosted Trees Classifier with Early Stopping, status=inprogress)]\n",
      "Jobs in queue: 6\n",
      "[ModelJob(Elastic-Net Classifier (L1 / Binomial Deviance), status=inprogress),\n",
      " ModelJob(Regularized Logistic Regression (L2), status=inprogress),\n",
      " ModelJob(Regularized Logistic Regression (L2), status=inprogress),\n",
      " ModelJob(Regularized Logistic Regression (L2), status=inprogress),\n",
      " ModelJob(Regularized Logistic Regression (L2), status=queue),\n",
      " ModelJob(Regularized Logistic Regression (L2), status=queue)]\n",
      "Jobs in queue: 6\n",
      "[ModelJob(Elastic-Net Classifier (L1 / Binomial Deviance), status=inprogress),\n",
      " ModelJob(Regularized Logistic Regression (L2), status=inprogress),\n",
      " ModelJob(Regularized Logistic Regression (L2), status=inprogress),\n",
      " ModelJob(Regularized Logistic Regression (L2), status=inprogress),\n",
      " ModelJob(Regularized Logistic Regression (L2), status=queue),\n",
      " ModelJob(Regularized Logistic Regression (L2), status=queue)]\n",
      "Jobs in queue: 2\n",
      "[ModelJob(Regularized Logistic Regression (L2), status=inprogress),\n",
      " ModelJob(Regularized Logistic Regression (L2), status=inprogress)]\n",
      "Jobs in queue: 1\n",
      "[ModelJob(Regularized Logistic Regression (L2), status=inprogress)]\n",
      "Jobs in queue: 1\n",
      "[ModelJob(Regularized Logistic Regression (L2), status=inprogress)]\n",
      "Jobs in queue: 0\n",
      "- Done.\n"
     ]
    }
   ],
   "source": [
    "model_jobs = []\n",
    "for bp in selected_blueprints:\n",
    "    try:\n",
    "        model_job_id = project.train(bp, featurelist_id=featurelist.id,\n",
    "                                     scoring_type='crossValidation')\n",
    "        model_jobs.append(model_job_id)\n",
    "    except Exception as e:\n",
    "        print( bp.model_type,'\\n', type(e))\n",
    "print('model jobs:', model_jobs)\n",
    "\n",
    "wait_secs = 15\n",
    "while True:\n",
    "    jobs = project.get_model_jobs()\n",
    "    print('Jobs in queue: %s' % len(jobs))\n",
    "    if len(jobs) == 0:\n",
    "        print('- Done.')\n",
    "        break\n",
    "    else:\n",
    "        pprint(jobs)\n",
    "        time.sleep(wait_secs)"
   ]
  },
  {
   "cell_type": "markdown",
   "metadata": {},
   "source": [
    "## Get models and blueprints from the leaderboard\n",
    "\n",
    "### To get the best performing model from the leaderboard, pop it from the top of the models list.  Or if run via full autopilot, the recommended model is available"
   ]
  },
  {
   "cell_type": "code",
   "execution_count": 4,
   "metadata": {
    "scrolled": false
   },
   "outputs": [
    {
     "ename": "NameError",
     "evalue": "name 'project' is not defined",
     "output_type": "error",
     "traceback": [
      "\u001b[0;31m---------------------------------------------------------------------------\u001b[0m",
      "\u001b[0;31mNameError\u001b[0m                                 Traceback (most recent call last)",
      "\u001b[0;32m<ipython-input-4-2a7bd5394e1c>\u001b[0m in \u001b[0;36m<module>\u001b[0;34m()\u001b[0m\n\u001b[1;32m      1\u001b[0m \u001b[0;31m# Get the models, which are already ordered by rank from the leaderboard\u001b[0m\u001b[0;34m\u001b[0m\u001b[0;34m\u001b[0m\u001b[0m\n\u001b[0;32m----> 2\u001b[0;31m \u001b[0mmodels\u001b[0m \u001b[0;34m=\u001b[0m \u001b[0mproject\u001b[0m\u001b[0;34m.\u001b[0m\u001b[0mget_models\u001b[0m\u001b[0;34m(\u001b[0m\u001b[0;34m)\u001b[0m\u001b[0;34m\u001b[0m\u001b[0m\n\u001b[0m\u001b[1;32m      3\u001b[0m \u001b[0;34m\u001b[0m\u001b[0m\n\u001b[1;32m      4\u001b[0m \u001b[0mprint\u001b[0m\u001b[0;34m(\u001b[0m\u001b[0;34m'Number of models on the leaderboard: %s\\n'\u001b[0m \u001b[0;34m%\u001b[0m \u001b[0mlen\u001b[0m\u001b[0;34m(\u001b[0m\u001b[0mmodels\u001b[0m\u001b[0;34m)\u001b[0m\u001b[0;34m)\u001b[0m\u001b[0;34m\u001b[0m\u001b[0m\n\u001b[1;32m      5\u001b[0m \u001b[0;34m\u001b[0m\u001b[0m\n",
      "\u001b[0;31mNameError\u001b[0m: name 'project' is not defined"
     ]
    }
   ],
   "source": [
    "# Get the models, which are already ordered by rank from the leaderboard\n",
    "models = project.get_models()\n",
    "\n",
    "print('Number of models on the leaderboard: %s\\n' % len(models))\n",
    "\n",
    "# Get the best performing model (excluding the blenders, which are typically the top 4 models)\n",
    "for model in models:\n",
    "    if 'Blender' not in model.model_type:\n",
    "        best_model = model\n",
    "        break\n",
    "print('Best model from the leaderboard:  \\'%s\\'' % best_model.model_type)\n",
    "\n",
    "# Or get the recommended model, if available\n",
    "try:\n",
    "    recommendation = dr.ModelRecommendation.get(project.id)\n",
    "    recommended_model = recommendation.get_model()\n",
    "    print('Recommended model:\\'%s\\'' % recommended_model.model_type)\n",
    "except Exception as e:\n",
    "    print('No recommended model yet.  Either autopilot is still running or models were trained manually.')\n",
    "# **Note for a deployment, you have to manually add the deployment and get the deployment ID from the UI.\n",
    "#   Can't do this via the api at this time.\n",
    "\n",
    "# Get the blueprint\n",
    "blueprint_id = best_model.blueprint_id\n",
    "blueprint = dr.models.Blueprint.get(project.id, blueprint_id)\n",
    "print('\\nBest model blueprint preprocessing steps:')\n",
    "pprint(blueprint.processes)\n",
    "\n",
    "# Get the model scoring metrics\n",
    "print('\\nBest model metrics:')\n",
    "pprint(best_model.metrics)"
   ]
  },
  {
   "cell_type": "markdown",
   "metadata": {},
   "source": [
    "### Alternatively we can compare how each model performs."
   ]
  },
  {
   "cell_type": "code",
   "execution_count": 11,
   "metadata": {
    "scrolled": false
   },
   "outputs": [
    {
     "data": {
      "text/html": [
       "<div>\n",
       "<style scoped>\n",
       "    .dataframe tbody tr th:only-of-type {\n",
       "        vertical-align: middle;\n",
       "    }\n",
       "\n",
       "    .dataframe tbody tr th {\n",
       "        vertical-align: top;\n",
       "    }\n",
       "\n",
       "    .dataframe thead th {\n",
       "        text-align: right;\n",
       "    }\n",
       "</style>\n",
       "<table border=\"1\" class=\"dataframe\">\n",
       "  <thead>\n",
       "    <tr style=\"text-align: right;\">\n",
       "      <th></th>\n",
       "      <th>blueprint info</th>\n",
       "      <th>cross_val_logloss</th>\n",
       "      <th>featurelist</th>\n",
       "      <th>model_id</th>\n",
       "      <th>model_type</th>\n",
       "      <th>sample_pct</th>\n",
       "      <th>val_logloss</th>\n",
       "    </tr>\n",
       "  </thead>\n",
       "  <tbody>\n",
       "    <tr>\n",
       "      <th>0</th>\n",
       "      <td>Blueprint(eXtreme Gradient Boosted Trees Class...</td>\n",
       "      <td>0.608830</td>\n",
       "      <td>my feature list</td>\n",
       "      <td>5be4b9f67947717f7dcee362</td>\n",
       "      <td>eXtreme Gradient Boosted Trees Classifier with...</td>\n",
       "      <td>64.0</td>\n",
       "      <td>0.60602</td>\n",
       "    </tr>\n",
       "    <tr>\n",
       "      <th>2</th>\n",
       "      <td>Blueprint(Regularized Logistic Regression (L2))</td>\n",
       "      <td>0.626974</td>\n",
       "      <td>my feature list</td>\n",
       "      <td>5be4b9f97947717f7dcee370</td>\n",
       "      <td>Regularized Logistic Regression (L2)</td>\n",
       "      <td>64.0</td>\n",
       "      <td>0.62459</td>\n",
       "    </tr>\n",
       "    <tr>\n",
       "      <th>1</th>\n",
       "      <td>Blueprint(Elastic-Net Classifier (L1 / Binomia...</td>\n",
       "      <td>0.627006</td>\n",
       "      <td>my feature list</td>\n",
       "      <td>5be4b9f87947717fd7cee5b0</td>\n",
       "      <td>Elastic-Net Classifier (L1 / Binomial Deviance)</td>\n",
       "      <td>64.0</td>\n",
       "      <td>0.62455</td>\n",
       "    </tr>\n",
       "  </tbody>\n",
       "</table>\n",
       "</div>"
      ],
      "text/plain": [
       "                                      blueprint info  cross_val_logloss  \\\n",
       "0  Blueprint(eXtreme Gradient Boosted Trees Class...           0.608830   \n",
       "2    Blueprint(Regularized Logistic Regression (L2))           0.626974   \n",
       "1  Blueprint(Elastic-Net Classifier (L1 / Binomia...           0.627006   \n",
       "\n",
       "       featurelist                  model_id  \\\n",
       "0  my feature list  5be4b9f67947717f7dcee362   \n",
       "2  my feature list  5be4b9f97947717f7dcee370   \n",
       "1  my feature list  5be4b9f87947717fd7cee5b0   \n",
       "\n",
       "                                          model_type  sample_pct  val_logloss  \n",
       "0  eXtreme Gradient Boosted Trees Classifier with...        64.0      0.60602  \n",
       "2               Regularized Logistic Regression (L2)        64.0      0.62459  \n",
       "1    Elastic-Net Classifier (L1 / Binomial Deviance)        64.0      0.62455  "
      ]
     },
     "execution_count": 11,
     "metadata": {},
     "output_type": "execute_result"
    }
   ],
   "source": [
    "# Generate a summary of all model performances and put it into a DataFrame\n",
    "models = project.get_models()\n",
    "    \n",
    "val_scores = pd.DataFrame([{'model_type': model.model_type,\n",
    "                       'blueprint info': model.blueprint,\n",
    "                       'model_id': model.id,\n",
    "                       'sample_pct': model.sample_pct,\n",
    "                       'featurelist': model.featurelist_name,\n",
    "                       'val_logloss': model.metrics['LogLoss']['validation'],\n",
    "                       'cross_val_logloss': model.metrics['LogLoss']['crossValidation']}\n",
    "#                            for model in flist_models if model.metrics['LogLoss'] is not None])\n",
    "                       for model in models if model.metrics['LogLoss'] is not None])\n",
    "\n",
    "modelframe = val_scores.sort_values(by='cross_val_logloss')\n",
    "modelframe"
   ]
  },
  {
   "cell_type": "markdown",
   "metadata": {},
   "source": [
    "## Score new data\n",
    "### Option 1 - direct on a project and model \n",
    "#### To make predctions on new data, simply upload a dataset to the project and request the predictions on the model you choose.  The scoring data should include all features except the target."
   ]
  },
  {
   "cell_type": "code",
   "execution_count": 12,
   "metadata": {},
   "outputs": [
    {
     "name": "stdout",
     "output_type": "stream",
     "text": [
      "Scoring data on model 'eXtreme Gradient Boosted Trees Classifier with Early Stopping'\n",
      "\n",
      "Uploading prediction dataset\n",
      "Request predictions\n",
      "Waiting for prediction calculations\n"
     ]
    },
    {
     "data": {
      "text/html": [
       "<div>\n",
       "<style scoped>\n",
       "    .dataframe tbody tr th:only-of-type {\n",
       "        vertical-align: middle;\n",
       "    }\n",
       "\n",
       "    .dataframe tbody tr th {\n",
       "        vertical-align: top;\n",
       "    }\n",
       "\n",
       "    .dataframe thead th {\n",
       "        text-align: right;\n",
       "    }\n",
       "</style>\n",
       "<table border=\"1\" class=\"dataframe\">\n",
       "  <thead>\n",
       "    <tr style=\"text-align: right;\">\n",
       "      <th></th>\n",
       "      <th>positive_probability</th>\n",
       "      <th>prediction</th>\n",
       "      <th>prediction_threshold</th>\n",
       "      <th>row_id</th>\n",
       "      <th>class_0.0</th>\n",
       "      <th>class_1.0</th>\n",
       "    </tr>\n",
       "  </thead>\n",
       "  <tbody>\n",
       "    <tr>\n",
       "      <th>0</th>\n",
       "      <td>0.490129</td>\n",
       "      <td>0.0</td>\n",
       "      <td>0.5</td>\n",
       "      <td>0</td>\n",
       "      <td>0.509871</td>\n",
       "      <td>0.490129</td>\n",
       "    </tr>\n",
       "    <tr>\n",
       "      <th>1</th>\n",
       "      <td>0.302685</td>\n",
       "      <td>0.0</td>\n",
       "      <td>0.5</td>\n",
       "      <td>1</td>\n",
       "      <td>0.697315</td>\n",
       "      <td>0.302685</td>\n",
       "    </tr>\n",
       "    <tr>\n",
       "      <th>2</th>\n",
       "      <td>0.695894</td>\n",
       "      <td>1.0</td>\n",
       "      <td>0.5</td>\n",
       "      <td>2</td>\n",
       "      <td>0.304106</td>\n",
       "      <td>0.695894</td>\n",
       "    </tr>\n",
       "    <tr>\n",
       "      <th>3</th>\n",
       "      <td>0.206731</td>\n",
       "      <td>0.0</td>\n",
       "      <td>0.5</td>\n",
       "      <td>3</td>\n",
       "      <td>0.793269</td>\n",
       "      <td>0.206731</td>\n",
       "    </tr>\n",
       "    <tr>\n",
       "      <th>4</th>\n",
       "      <td>0.590266</td>\n",
       "      <td>1.0</td>\n",
       "      <td>0.5</td>\n",
       "      <td>4</td>\n",
       "      <td>0.409734</td>\n",
       "      <td>0.590266</td>\n",
       "    </tr>\n",
       "  </tbody>\n",
       "</table>\n",
       "</div>"
      ],
      "text/plain": [
       "   positive_probability  prediction  prediction_threshold  row_id  class_0.0  \\\n",
       "0              0.490129         0.0                   0.5       0   0.509871   \n",
       "1              0.302685         0.0                   0.5       1   0.697315   \n",
       "2              0.695894         1.0                   0.5       2   0.304106   \n",
       "3              0.206731         0.0                   0.5       3   0.793269   \n",
       "4              0.590266         1.0                   0.5       4   0.409734   \n",
       "\n",
       "   class_1.0  \n",
       "0   0.490129  \n",
       "1   0.302685  \n",
       "2   0.695894  \n",
       "3   0.206731  \n",
       "4   0.590266  "
      ]
     },
     "execution_count": 12,
     "metadata": {},
     "output_type": "execute_result"
    }
   ],
   "source": [
    "print('Scoring data on model \\'%s\\'\\n' % best_model.model_type)\n",
    "\n",
    "print('Uploading prediction dataset')\n",
    "dataset_from_path = project.upload_dataset(df_pred)\n",
    "\n",
    "print('Request predictions')\n",
    "predict_job = best_model.request_predictions(dataset_from_path.id)\n",
    "\n",
    "print('Waiting for prediction calculations')\n",
    "predictions = predict_job.get_result_when_complete()\n",
    "\n",
    "predictions.head()"
   ]
  },
  {
   "cell_type": "markdown",
   "metadata": {},
   "source": [
    "### Option 2 - Reference the Deployment ID\n",
    "#### DataRobot's Model Management dashboard provides for monitoring model data including performance and datadrift.  Prediction requests are routed to a deployment and not a specific model.  This allows for swapping models in and out without requiring a code change.\n",
    "\n",
    "#### First, from the DataRobot application: \n",
    "- 1) Go to the model\n",
    "- 2) Click 'Predict'\n",
    "- 3) Click 'Deploy Model API'\n",
    "- 4) Click the orange 'Add New Deployment' button\n",
    "- 5) On the Deployments page, for a given deploment, click 'Integrations'\n",
    "- 6) Copy the DEPLOYMENT_ID and pass that to DataRobot API via the REST call"
   ]
  },
  {
   "cell_type": "code",
   "execution_count": 1,
   "metadata": {},
   "outputs": [
    {
     "ename": "NameError",
     "evalue": "name 'os' is not defined",
     "output_type": "error",
     "traceback": [
      "\u001b[0;31m---------------------------------------------------------------------------\u001b[0m",
      "\u001b[0;31mNameError\u001b[0m                                 Traceback (most recent call last)",
      "\u001b[0;32m<ipython-input-1-18facf034387>\u001b[0m in \u001b[0;36m<module>\u001b[0;34m()\u001b[0m\n\u001b[0;32m----> 1\u001b[0;31m \u001b[0mAPI_TOKEN\u001b[0m \u001b[0;34m=\u001b[0m \u001b[0mos\u001b[0m\u001b[0;34m.\u001b[0m\u001b[0mgetenv\u001b[0m\u001b[0;34m(\u001b[0m\u001b[0;34m'DATAROBOT_API_TOKEN'\u001b[0m\u001b[0;34m)\u001b[0m\u001b[0;34m\u001b[0m\u001b[0m\n\u001b[0m\u001b[1;32m      2\u001b[0m \u001b[0mENDPOINT\u001b[0m \u001b[0;34m=\u001b[0m \u001b[0mos\u001b[0m\u001b[0;34m.\u001b[0m\u001b[0mgetenv\u001b[0m\u001b[0;34m(\u001b[0m\u001b[0;34m'DATAROBOT_ENDPOINT'\u001b[0m\u001b[0;34m)\u001b[0m\u001b[0;34m\u001b[0m\u001b[0m\n\u001b[1;32m      3\u001b[0m \u001b[0mUSERNAME\u001b[0m \u001b[0;34m=\u001b[0m \u001b[0mos\u001b[0m\u001b[0;34m.\u001b[0m\u001b[0mgetenv\u001b[0m\u001b[0;34m(\u001b[0m\u001b[0;34m'DATAROBOT_USERNAME'\u001b[0m\u001b[0;34m)\u001b[0m\u001b[0;34m\u001b[0m\u001b[0m\n\u001b[1;32m      4\u001b[0m \u001b[0;34m\u001b[0m\u001b[0m\n\u001b[1;32m      5\u001b[0m \u001b[0mDEPLOYMENT_ID\u001b[0m \u001b[0;34m=\u001b[0m \u001b[0;34m'5be0e7a1fd2b980c56eecbc7'\u001b[0m  \u001b[0;31m# My project's recommended model: XGBoost @ 80%\u001b[0m\u001b[0;34m\u001b[0m\u001b[0m\n",
      "\u001b[0;31mNameError\u001b[0m: name 'os' is not defined"
     ]
    }
   ],
   "source": [
    "API_TOKEN = os.getenv('DATAROBOT_API_TOKEN')\n",
    "ENDPOINT = os.getenv('DATAROBOT_ENDPOINT')\n",
    "USERNAME = os.getenv('DATAROBOT_USERNAME')\n",
    "\n",
    "DEPLOYMENT_ID = '5be0e7a1fd2b980c56eecbc7'  # My project's recommended model: XGBoost @ 80%\n",
    "\n",
    "pred_file = '_temp_pitch_pred.csv'\n",
    "df_pred.to_csv(pred_file)\n",
    "data = open(pred_file, 'rb').read()\n",
    "os.remove(pred_file)\n",
    "\n",
    "headers = {'Content-Type': 'text/plain; charset=UTF-8', 'datarobot-key': '544ec55f-61bf-f6ee-0caf-15c7f919a45d'}\n",
    "predictions_response = requests.post('https://cfds-ccm-prod.orm.datarobot.com/predApi/v1.0/deployments/%s/predictions' % (DEPLOYMENT_ID),\n",
    "                                     auth=(USERNAME, API_TOKEN), data=data, headers=headers)\n",
    "\n",
    "predictions_response.raise_for_status()\n",
    "df_preds = pd.DataFrame(predictions_response.json().get('data'))\n",
    "\n",
    "# Flatten the nested predictions dict of label/value data in 'prediction values'\n",
    "df_preds['label1'] = None\n",
    "df_preds['proba1'] = None\n",
    "df_preds['label2'] = None\n",
    "df_preds['proba2'] = None\n",
    "def func(row):\n",
    "    for i, pair in enumerate(row['predictionValues']):\n",
    "        name = pair.get('label')\n",
    "        val = pair.get('value')\n",
    "        col_name_n = 'label' + str(i+1)\n",
    "        col_val_n = 'proba' + str(i+1)\n",
    "        row[col_name_n] = name\n",
    "        row[col_val_n] = val\n",
    "    return row\n",
    "df_preds_flat = df_preds.apply(lambda row: func(row), axis=1)\n",
    "\n",
    "df_preds_flat.rename(columns={'proba1': 'class_1.0',\n",
    "                              'proba2': 'class_0.0'},\n",
    "                     inplace=True)\n",
    "df_preds_flat.drop(['predictionValues', 'label1', 'label2'], axis=1, inplace=True)\n",
    "df_preds_flat['prediction'] = df_preds_flat['prediction'].astype(int)\n",
    "\n",
    "df_preds_flat.head()"
   ]
  },
  {
   "cell_type": "code",
   "execution_count": null,
   "metadata": {},
   "outputs": [],
   "source": []
  }
 ],
 "metadata": {
  "kernelspec": {
   "display_name": "Python 3",
   "language": "python",
   "name": "python3"
  },
  "language_info": {
   "codemirror_mode": {
    "name": "ipython",
    "version": 3
   },
   "file_extension": ".py",
   "mimetype": "text/x-python",
   "name": "python",
   "nbconvert_exporter": "python",
   "pygments_lexer": "ipython3",
   "version": "3.6.4"
  }
 },
 "nbformat": 4,
 "nbformat_minor": 2
}
