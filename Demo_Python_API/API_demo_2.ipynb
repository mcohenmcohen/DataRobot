{
 "cells": [
  {
   "cell_type": "markdown",
   "metadata": {},
   "source": [
    "# DataRobot API example\n",
    "### Read the csv dataset from the file system, splitting off a small percentage from the training set to use for scoring predictions."
   ]
  },
  {
   "cell_type": "code",
   "execution_count": 7,
   "metadata": {},
   "outputs": [
    {
     "name": "stdout",
     "output_type": "stream",
     "text": [
      "Full data shape:       (50000, 16)\n",
      "Training data shape:   (45000, 16)\n",
      "Prediction data shape: (5000, 15)\n"
     ]
    }
   ],
   "source": [
    "import pandas as pd\n",
    "from sklearn.metrics import roc_auc_score, log_loss, roc_curve, auc\n",
    "from pprint import pprint\n",
    "import os\n",
    "import datarobot as dr\n",
    "import warnings\n",
    "warnings.filterwarnings('ignore')\n",
    "\n",
    "import matplotlib.pyplot as plt\n",
    "%matplotlib inline\n",
    "\n",
    "source_data_file = 'data/flight_delay_data_50k.csv'\n",
    "target = 'DELAY_INDICATOR'\n",
    "\n",
    "# Read in data from .csv\n",
    "df_full = pd.read_csv(source_data_file)\n",
    "\n",
    "# Shuffle the rows\n",
    "df_full = df_full.sample(frac=1, random_state=0)\n",
    "\n",
    "# Split 90% for training, 10% for predictions\n",
    "split = int(df_full.shape[0] * .1)\n",
    "df = df_full[split:]\n",
    "df_pred = df_full[:split].copy()\n",
    "\n",
    "# Drop the target from the prediction dataset\n",
    "prediction_data = df_pred.drop(target, axis=1)\n",
    "\n",
    "print('Full data shape:      ',df_full.shape)\n",
    "print('Training data shape:  ',df.shape)\n",
    "print('Prediction data shape:',prediction_data.shape)"
   ]
  },
  {
   "cell_type": "markdown",
   "metadata": {},
   "source": [
    "### Create a DataRobot project"
   ]
  },
  {
   "cell_type": "code",
   "execution_count": 8,
   "metadata": {},
   "outputs": [
    {
     "data": {
      "text/plain": [
       "<datarobot.rest.RESTClientObject at 0x10dd1b748>"
      ]
     },
     "execution_count": 8,
     "metadata": {},
     "output_type": "execute_result"
    }
   ],
   "source": [
    "# Establish client connection\n",
    "dr.Client(token=os.environ['DATAROBOT_API_TOKEN'], endpoint='https://app.datarobot.com/api/v2')"
   ]
  },
  {
   "cell_type": "markdown",
   "metadata": {},
   "source": [
    "### The 'Out of the Box Autopilot'\n",
    "#### If we wanted to run autopilot on a dataset and it's features as-is, then we would simply run project.start, which only needs the source data (eg, a csv), the target name, and a project name as parameters.  Project creation, file upload and target selection are all combined in Project.start method.  DataRobot will do the rest in terms of data typing and using informative features.\n",
    "```\n",
    "project.start(sourcedata=df, \n",
    "              target='DELAY_INDICATOR'\n",
    "              project_name='Flight delay classification'\n",
    "```\n",
    "#### Instead, we'll manually create a project and use a feature list that we'll derive given our domain knowledge of the data."
   ]
  },
  {
   "cell_type": "code",
   "execution_count": 9,
   "metadata": {},
   "outputs": [
    {
     "name": "stdout",
     "output_type": "stream",
     "text": [
      "project id:   5be08c917c6f8b5481428115\n",
      "project name: Flight Delay API example\n",
      "project.get_status():\n",
      "-  {'autopilot_done': False, 'stage_description': 'Ready to set target', 'stage': 'aim'}\n"
     ]
    }
   ],
   "source": [
    "# Create a project: upload the data, set the target, give the project a name\n",
    "# Blueprint processing and training will run asynchronously after performing the second EDA pass\n",
    "project = dr.Project.create(sourcedata=df, \n",
    "                            project_name='Flight Delay API example')\n",
    "\n",
    "print('project id:  ', project.id)\n",
    "print('project name:', project.project_name)\n",
    "print('project.get_status():\\n- ', project.get_status())\n",
    "\n",
    "# Setting the target starts autopilot, but we'll use manual mode to run "
   ]
  },
  {
   "cell_type": "markdown",
   "metadata": {},
   "source": [
    "### Working with features\n",
    "#### Start by first retrieving the features from the project object."
   ]
  },
  {
   "cell_type": "code",
   "execution_count": 10,
   "metadata": {},
   "outputs": [
    {
     "data": {
      "text/plain": [
       "['ACT_AC_TYPE',\n",
       " 'ARRV_A15_IND',\n",
       " 'AVOIDABLE_DELAY_IND',\n",
       " 'CARRIER',\n",
       " 'DAY_OF_WEEK',\n",
       " 'DELAY_CODE',\n",
       " 'DELAY_CODE_DESCRIPTION',\n",
       " 'DELAY_INDICATOR',\n",
       " 'DESTINATION',\n",
       " 'D_O_W_NUM',\n",
       " 'FLT_DATE',\n",
       " 'FLT_DATE (Day of Week)',\n",
       " 'FLT_NBR',\n",
       " 'HOUR_OF_DPTR',\n",
       " 'ORIGIN',\n",
       " 'UNAVOIDABLE_DELAY_IND',\n",
       " 'Unnamed: 0']"
      ]
     },
     "execution_count": 10,
     "metadata": {},
     "output_type": "execute_result"
    }
   ],
   "source": [
    "# Output the identified project features\n",
    "features = project.get_features()\n",
    "sorted([f.name for f in features])"
   ]
  },
  {
   "cell_type": "markdown",
   "metadata": {},
   "source": [
    "#### We'll transform the flght number feature from numeric to categorical, and create a new feature list omitting features with target leakage, such as other flight delay flags."
   ]
  },
  {
   "cell_type": "code",
   "execution_count": 11,
   "metadata": {},
   "outputs": [
    {
     "data": {
      "text/plain": [
       "Feature(FLT_NBR_CAT)"
      ]
     },
     "execution_count": 11,
     "metadata": {},
     "output_type": "execute_result"
    }
   ],
   "source": [
    "# Convert flight number to a categorical variable\n",
    "new_feature = project.create_type_transform_feature(name='FLT_NBR_CAT', \n",
    "                                      parent_name='FLT_NBR', \n",
    "                                      variable_type='categoricalInt')\n",
    "new_feature"
   ]
  },
  {
   "cell_type": "code",
   "execution_count": 12,
   "metadata": {},
   "outputs": [
    {
     "data": {
      "text/plain": [
       "Featurelist(No leaks list)"
      ]
     },
     "execution_count": 12,
     "metadata": {},
     "output_type": "execute_result"
    }
   ],
   "source": [
    "# Create a new feature list from our subset of features to eliminate target leaks\n",
    "# new_list = [c for c in df_less_5.columns] + [new_feature.name]\n",
    "new_list = ['DELAY_INDICATOR', 'ORIGIN', 'DESTINATION', 'CARRIER', \n",
    "            'DAY_OF_WEEK', 'HOUR_OF_DPTR', 'ACT_AC_TYPE', new_feature.name]\n",
    "f_list = project.create_featurelist('No leaks list', new_list)\n",
    "f_list"
   ]
  },
  {
   "cell_type": "markdown",
   "metadata": {},
   "source": [
    "### Kickoff the project"
   ]
  },
  {
   "cell_type": "code",
   "execution_count": 15,
   "metadata": {},
   "outputs": [
    {
     "name": "stdout",
     "output_type": "stream",
     "text": [
      "Waiting to complete\n",
      "In progress: 0, queued: 0 (waited: 0s)\n"
     ]
    },
    {
     "ename": "RuntimeError",
     "evalue": "Autopilot mode is not full auto, autopilot will not complete on its own",
     "output_type": "error",
     "traceback": [
      "\u001b[0;31m---------------------------------------------------------------------------\u001b[0m",
      "\u001b[0;31mRuntimeError\u001b[0m                              Traceback (most recent call last)",
      "\u001b[0;32m<ipython-input-15-8ff7dcba03af>\u001b[0m in \u001b[0;36m<module>\u001b[0;34m()\u001b[0m\n\u001b[1;32m      6\u001b[0m \u001b[0;31m# Block until complete\u001b[0m\u001b[0;34m\u001b[0m\u001b[0;34m\u001b[0m\u001b[0m\n\u001b[1;32m      7\u001b[0m \u001b[0mprint\u001b[0m\u001b[0;34m(\u001b[0m\u001b[0;34m'Waiting to complete'\u001b[0m\u001b[0;34m)\u001b[0m\u001b[0;34m\u001b[0m\u001b[0m\n\u001b[0;32m----> 8\u001b[0;31m \u001b[0mproject\u001b[0m\u001b[0;34m.\u001b[0m\u001b[0mwait_for_autopilot\u001b[0m\u001b[0;34m(\u001b[0m\u001b[0;34m)\u001b[0m\u001b[0;34m\u001b[0m\u001b[0m\n\u001b[0m",
      "\u001b[0;32m/anaconda3/lib/python3.6/site-packages/datarobot/models/project.py\u001b[0m in \u001b[0;36mwait_for_autopilot\u001b[0;34m(self, check_interval, timeout, verbosity)\u001b[0m\n\u001b[1;32m   2230\u001b[0m                 logger.info(\"In progress: {0}, queued: {1} (waited: {2:.0f}s)\".\n\u001b[1;32m   2231\u001b[0m                             format(num_inprogress, num_queued, seconds_waited))\n\u001b[0;32m-> 2232\u001b[0;31m             \u001b[0mstatus\u001b[0m \u001b[0;34m=\u001b[0m \u001b[0mself\u001b[0m\u001b[0;34m.\u001b[0m\u001b[0m_autopilot_status_check\u001b[0m\u001b[0;34m(\u001b[0m\u001b[0;34m)\u001b[0m\u001b[0;34m\u001b[0m\u001b[0m\n\u001b[0m\u001b[1;32m   2233\u001b[0m             \u001b[0;32mif\u001b[0m \u001b[0mstatus\u001b[0m\u001b[0;34m[\u001b[0m\u001b[0;34m'autopilot_done'\u001b[0m\u001b[0;34m]\u001b[0m\u001b[0;34m:\u001b[0m\u001b[0;34m\u001b[0m\u001b[0m\n\u001b[1;32m   2234\u001b[0m                 \u001b[0;32mreturn\u001b[0m\u001b[0;34m\u001b[0m\u001b[0m\n",
      "\u001b[0;32m/anaconda3/lib/python3.6/site-packages/datarobot/models/project.py\u001b[0m in \u001b[0;36m_autopilot_status_check\u001b[0;34m(self)\u001b[0m\n\u001b[1;32m   2254\u001b[0m         \u001b[0mself\u001b[0m\u001b[0;34m.\u001b[0m\u001b[0mrefresh\u001b[0m\u001b[0;34m(\u001b[0m\u001b[0;34m)\u001b[0m\u001b[0;34m\u001b[0m\u001b[0m\n\u001b[1;32m   2255\u001b[0m         \u001b[0;32mif\u001b[0m \u001b[0mself\u001b[0m\u001b[0;34m.\u001b[0m\u001b[0mmode\u001b[0m \u001b[0;34m!=\u001b[0m \u001b[0;36m0\u001b[0m\u001b[0;34m:\u001b[0m  \u001b[0;31m# Project data unfortunately still 0=full, 1=semi, 2=manual\u001b[0m\u001b[0;34m\u001b[0m\u001b[0m\n\u001b[0;32m-> 2256\u001b[0;31m             raise RuntimeError('Autopilot mode is not full auto, autopilot will not '\n\u001b[0m\u001b[1;32m   2257\u001b[0m                                'complete on its own')\n\u001b[1;32m   2258\u001b[0m         \u001b[0;32mreturn\u001b[0m \u001b[0mstatus\u001b[0m\u001b[0;34m\u001b[0m\u001b[0m\n",
      "\u001b[0;31mRuntimeError\u001b[0m: Autopilot mode is not full auto, autopilot will not complete on its own"
     ]
    }
   ],
   "source": [
    "# By calling set_target, we run datarobot in the selected mode - 'auto', 'manual'.\n",
    "project.set_target(target=target, \n",
    "                   mode='manual',\n",
    "                   worker_count=20)\n",
    "\n",
    "# Block until complete\n",
    "# print('Waiting to complete')\n",
    "# project.wait_for_autopilot()"
   ]
  },
  {
   "cell_type": "markdown",
   "metadata": {},
   "source": [
    "### Get models and blueprints from the leaderboard"
   ]
  },
  {
   "cell_type": "code",
   "execution_count": 15,
   "metadata": {
    "scrolled": false
   },
   "outputs": [
    {
     "name": "stdout",
     "output_type": "stream",
     "text": [
      "Best model from the leaderboard:  'RandomForest Classifier (Entropy)'\n",
      "No recommended model yet.  Autopilot still running.\n",
      "\n",
      "Best model blueprint preprocessing steps:\n",
      "['Ordinal encoding of categorical variables',\n",
      " 'Category Count',\n",
      " 'Missing Values Imputed',\n",
      " 'Matrix of word-grams occurrences',\n",
      " 'Elastic-Net Classifier (L2 / Binomial Deviance)',\n",
      " 'RandomForest Classifier (Entropy)']\n",
      "\n",
      "Best model metrics:\n",
      "{'AUC': {'backtesting': None,\n",
      "         'backtestingScores': None,\n",
      "         'crossValidation': None,\n",
      "         'holdout': None,\n",
      "         'validation': 0.68647},\n",
      " 'FVE Binomial': {'backtesting': None,\n",
      "                  'backtestingScores': None,\n",
      "                  'crossValidation': None,\n",
      "                  'holdout': None,\n",
      "                  'validation': 0.07757},\n",
      " 'Gini Norm': {'backtesting': None,\n",
      "               'backtestingScores': None,\n",
      "               'crossValidation': None,\n",
      "               'holdout': None,\n",
      "               'validation': 0.37294},\n",
      " 'Kolmogorov-Smirnov': {'backtesting': None,\n",
      "                        'backtestingScores': None,\n",
      "                        'crossValidation': None,\n",
      "                        'holdout': None,\n",
      "                        'validation': 0.26961},\n",
      " 'LogLoss': {'backtesting': None,\n",
      "             'backtestingScores': None,\n",
      "             'crossValidation': None,\n",
      "             'holdout': None,\n",
      "             'validation': 0.60709},\n",
      " 'RMSE': {'backtesting': None,\n",
      "          'backtestingScores': None,\n",
      "          'crossValidation': None,\n",
      "          'holdout': None,\n",
      "          'validation': 0.45775},\n",
      " 'Rate@Top10%': {'backtesting': None,\n",
      "                 'backtestingScores': None,\n",
      "                 'crossValidation': None,\n",
      "                 'holdout': None,\n",
      "                 'validation': 0.65991},\n",
      " 'Rate@Top5%': {'backtesting': None,\n",
      "                'backtestingScores': None,\n",
      "                'crossValidation': None,\n",
      "                'holdout': None,\n",
      "                'validation': 0.68767},\n",
      " 'Rate@TopTenth%': {'backtesting': None,\n",
      "                    'backtestingScores': None,\n",
      "                    'crossValidation': None,\n",
      "                    'holdout': None,\n",
      "                    'validation': 0.77778}}\n"
     ]
    }
   ],
   "source": [
    "# Get the models, which are already ordered by rank from the leaderboard\n",
    "models = project.get_models()\n",
    "\n",
    "# Get the best performing model (excluding the blenders, which are typically the top 4 models)\n",
    "for model in models:\n",
    "    if 'Blender' not in model.model_type:\n",
    "        best_model = model\n",
    "        break\n",
    "print('Best model from the leaderboard:  \\'%s\\'' % best_model.model_type)\n",
    "\n",
    "# Or get the recommended model, if available\n",
    "try:\n",
    "    recommendation = dr.ModelRecommendation.get(project.id)\n",
    "    recommended_model = recommendation.get_model()\n",
    "    print('Recommended model:\\'%s\\'' % recommended_model.model_type)\n",
    "except Exception as e:\n",
    "    print('No recommended model yet.  Autopilot still running.')\n",
    "# **Note for a deployment, you have to manually add the deployment and get the deployment ID from the UI.\n",
    "#   Can't do this via the api at this time.\n",
    "\n",
    "# Get the blueprint\n",
    "blueprint_id = best_model.blueprint_id\n",
    "blueprint = dr.models.Blueprint.get(project.id, blueprint_id)\n",
    "print('\\nBest model blueprint preprocessing steps:')\n",
    "pprint(blueprint.processes)\n",
    "\n",
    "# Get the model scoring metrics\n",
    "print('\\nBest model metrics:')\n",
    "pprint(best_model.metrics)"
   ]
  },
  {
   "cell_type": "markdown",
   "metadata": {},
   "source": [
    "### Make predictions"
   ]
  },
  {
   "cell_type": "code",
   "execution_count": 16,
   "metadata": {},
   "outputs": [
    {
     "name": "stdout",
     "output_type": "stream",
     "text": [
      "Uploading prediction dataset\n",
      "Requesitng predictions\n",
      "Waiting for prediction results\n",
      "- done.  Predictions dataframe:\n",
      "   positive_probability  prediction  prediction_threshold  row_id  class_0.0  \\\n",
      "0              0.186899         0.0                   0.5       0   0.813101   \n",
      "1              0.224480         0.0                   0.5       1   0.775520   \n",
      "2              0.513875         1.0                   0.5       2   0.486125   \n",
      "3              0.698806         1.0                   0.5       3   0.301194   \n",
      "4              0.301850         0.0                   0.5       4   0.698150   \n",
      "\n",
      "   class_1.0  \n",
      "0   0.186899  \n",
      "1   0.224480  \n",
      "2   0.513875  \n",
      "3   0.698806  \n",
      "4   0.301850  \n",
      "\n",
      "    positive_probability  prediction  prediction_threshold  row_id  class_0.0  \\\n",
      "0              0.186899         0.0                   0.5       0   0.813101   \n",
      "1              0.224480         0.0                   0.5       1   0.775520   \n",
      "2              0.513875         1.0                   0.5       2   0.486125   \n",
      "3              0.698806         1.0                   0.5       3   0.301194   \n",
      "4              0.301850         0.0                   0.5       4   0.698150   \n",
      "\n",
      "   class_1.0  y_true  \n",
      "0   0.186899       1  \n",
      "1   0.224480       0  \n",
      "2   0.513875       1  \n",
      "3   0.698806       1  \n",
      "4   0.301850       0  \n"
     ]
    }
   ],
   "source": [
    "model = best_model\n",
    "\n",
    "datasets = project.get_datasets()\n",
    "\n",
    "# Upload the scoring dataset if not already uploaded, else retrieve it\n",
    "if (len(datasets) == 0):\n",
    "    print('Uploading prediction dataset')\n",
    "    pred_ds = project.upload_dataset(prediction_data)\n",
    "else:\n",
    "    print('Retrieving the prediction dataset id')\n",
    "    for s in datasets:\n",
    "        if s.name == 'predict.csv':\n",
    "            pred_ds = s\n",
    "\n",
    "# Request predictions for the scoring dataset, if it hasn't been already requested\n",
    "try:                      \n",
    "    predict_job\n",
    "except NameError:\n",
    "    print('Requesitng predictions')\n",
    "    predict_job = model.request_predictions(pred_ds.id)\n",
    "    \n",
    "# Get the predictions results when complete\n",
    "print('Waiting for prediction results')\n",
    "predictions = predict_job.get_result_when_complete()\n",
    "print('- done.  Predictions dataframe:')\n",
    "print(predictions.head())\n",
    "\n",
    "# Add a column for the target labels (y_true)\n",
    "predictions['y_true'] = df_pred[target].astype(int).tolist()\n",
    "print('\\n',predictions.head())\n",
    "\n",
    "y_true = predictions['y_true'].values\n",
    "y_pred = predictions['class_1.0'].values"
   ]
  },
  {
   "cell_type": "code",
   "execution_count": 17,
   "metadata": {},
   "outputs": [
    {
     "name": "stdout",
     "output_type": "stream",
     "text": [
      "Accuracy: 0.672 (28110/41806)\n",
      "Log Loss: 0.605\n",
      "AUC:      0.691\n"
     ]
    },
    {
     "data": {
      "image/png": "[encoded data removed]",
      "text/plain": [
       "<matplotlib.figure.Figure at 0x10bdfb6d8>"
      ]
     },
     "metadata": {},
     "output_type": "display_data"
    }
   ],
   "source": [
    "def plot_roc(y_true, y_pred):\n",
    "    '''\n",
    "    Plot the ROC curve for a given target and prediction data sets.\n",
    "    '''\n",
    "    auc = roc_auc_score(y_true, y_pred)\n",
    "    print('AUC:      %0.3f' % auc)\n",
    "\n",
    "    fpr, tpr, _ = roc_curve(y_true, y_pred)\n",
    "\n",
    "    plt.figure()\n",
    "    lw = 2\n",
    "    plt.plot(fpr, tpr, color='darkorange',\n",
    "             lw=lw, label='ROC curve (area = %0.2f)' % auc)\n",
    "    plt.plot([0, 1], [0, 1], color='navy', lw=lw, linestyle='--')\n",
    "    plt.xlim([0.0, 1.0])\n",
    "    plt.ylim([0.0, 1.05])\n",
    "    plt.xlabel('False Positive Rate')\n",
    "    plt.ylabel('True Positive Rate')\n",
    "    plt.title('Prediction dataset ROC' )\n",
    "    plt.legend(loc=\"lower right\")\n",
    "    plt.show()\n",
    "    \n",
    "# Output some scoring metrics\n",
    "acc_count = predictions[predictions.prediction == predictions.y_true].shape[0]\n",
    "accuracy = acc_count*1. / predictions.shape[0]\n",
    "print('Accuracy: %0.3f (%s/%s)' % (accuracy, acc_count, predictions.shape[0]))\n",
    "logloss = log_loss(y_true, y_pred)\n",
    "print('Log Loss: %0.3f'% logloss)\n",
    "\n",
    "# Plot the ROC curve\n",
    "plot_roc(y_true, y_pred)"
   ]
  },
  {
   "cell_type": "code",
   "execution_count": null,
   "metadata": {},
   "outputs": [],
   "source": []
  }
 ],
 "metadata": {
  "kernelspec": {
   "display_name": "Python 3",
   "language": "python",
   "name": "python3"
  },
  "language_info": {
   "codemirror_mode": {
    "name": "ipython",
    "version": 3
   },
   "file_extension": ".py",
   "mimetype": "text/x-python",
   "name": "python",
   "nbconvert_exporter": "python",
   "pygments_lexer": "ipython3",
   "version": "3.6.4"
  }
 },
 "nbformat": 4,
 "nbformat_minor": 2
}
