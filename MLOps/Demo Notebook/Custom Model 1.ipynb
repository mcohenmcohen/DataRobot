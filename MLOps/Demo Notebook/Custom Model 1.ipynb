{
 "cells": [
  {
   "cell_type": "code",
   "execution_count": 1,
   "metadata": {},
   "outputs": [],
   "source": [
    "# from:  https://docs.google.com/document/d/1m-2j_1ntvmuSwaOvjgX3qXmYDbQWN5uEkPh9UQKKTJM/edit"
   ]
  },
  {
   "cell_type": "code",
   "execution_count": 2,
   "metadata": {},
   "outputs": [],
   "source": [
    "import pandas as pd\n",
    "import numpy as np\n",
    "\n",
    "from sklearn.pipeline import Pipeline\n",
    "from sklearn.feature_extraction.text import TfidfVectorizer\n",
    "from sklearn.compose import ColumnTransformer\n",
    "from sklearn.impute import SimpleImputer\n",
    "from sklearn.linear_model import SGDClassifier\n",
    "from sklearn.model_selection import GridSearchCV\n",
    "from sklearn.preprocessing import PolynomialFeatures\n",
    "from sklearn.preprocessing import StandardScaler\n",
    "from sklearn.preprocessing import OneHotEncoder\n",
    "from sklearn.model_selection import train_test_split\n",
    "\n",
    "import os\n",
    "import requests\n",
    "import pickle"
   ]
  },
  {
   "cell_type": "code",
   "execution_count": 3,
   "metadata": {},
   "outputs": [
    {
     "name": "stdout",
     "output_type": "stream",
     "text": [
      "numeric_features: ['annual_inc', 'delinq_2yrs', 'dti', 'funded_amnt', 'inq_last_6mths', 'installment', 'loan_amnt', 'mths_since_last_delinq', 'mths_since_last_record', 'open_acc', 'pub_rec', 'revol_bal', 'revol_util', 'total_acc']\n",
      "\n",
      "categorical_features: ['addr_state', 'emp_length', 'grade', 'home_ownership', 'initial_list_status', 'policy_code', 'purpose', 'pymnt_plan', 'sub_grade', 'term', 'verification_status', 'zip_code']\n",
      "\n",
      "text_features: ['desc', 'emp_title', 'title', 'url']\n",
      "\n"
     ]
    }
   ],
   "source": [
    "# \n",
    "# Get a lending club project so we can loop thru the features by type\n",
    "#\n",
    "\n",
    "import datarobot as dr\n",
    "dr.Client(token=os.environ['DATAROBOT_API_TOKEN'], endpoint='https://app.datarobot.com/api/v2')\n",
    "\n",
    "USERNAME = os.environ['DATAROBOT_USERNAME']\n",
    "API_TOKEN = os.environ['DATAROBOT_API_TOKEN']\n",
    "ENDPOINT = 'https://app.datarobot.com/api/v2'\n",
    "DEPLOYMENT_ID = '5c19273c06eeed008a2ac7f9'\n",
    "\n",
    "headers = {'Content-Type': 'application/json', 'Authorization': 'token %s' % API_TOKEN}\n",
    "health_response = requests.get('%s/modelDeployments/%s/' % (ENDPOINT, DEPLOYMENT_ID), \n",
    "                               headers=headers)\n",
    "if health_response.status_code == 200:\n",
    "    deployment_data = health_response.json()\n",
    "    PROJECT_ID = deployment_data['project']['id']\n",
    "    MODEL_ID = deployment_data['model']['id']\n",
    "else:\n",
    "    PROJECT_ID = ''  # your project id\n",
    "    MODEL_ID = ''  # your model id\n",
    "\n",
    "project = dr.Project.get(project_id=PROJECT_ID)\n",
    "\n",
    "numeric_features = []\n",
    "categorical_features = []\n",
    "text_features = []\n",
    "\n",
    "# feats1 = project.get_features()\n",
    "fl = project.get_featurelists()\n",
    "flr = fl[0]\n",
    "feats = sorted(flr.features)\n",
    "for feat in feats:\n",
    "    f = dr.Feature.get(PROJECT_ID, feat)\n",
    "    if f.feature_type == 'Numeric':\n",
    "        if f.name != 'is_bad':\n",
    "            numeric_features.append(f.name)\n",
    "    elif f.feature_type == 'Categorical':\n",
    "        categorical_features.append(f.name)\n",
    "    elif f.feature_type == 'Text':\n",
    "        text_features.append(f.name)\n",
    "        \n",
    "print('numeric_features: %s\\n' % numeric_features)\n",
    "print('categorical_features: %s\\n' % categorical_features)\n",
    "print('text_features: %s\\n' % text_features)"
   ]
  },
  {
   "cell_type": "code",
   "execution_count": 4,
   "metadata": {
    "scrolled": false
   },
   "outputs": [],
   "source": [
    "PATH = '.'\n",
    "FILEPATH = 'DR_Demo_10K_Lending_Club_Loans_train.csv'\n",
    "TARGET = 'is_bad'\n",
    "\n",
    "\n",
    "numeric_transformer = Pipeline(steps=[\n",
    "         ('imputer', SimpleImputer(strategy='median', add_indicator=True)),\n",
    "         ('poly', PolynomialFeatures(degree=0, interaction_only=False)),\n",
    "         ('scaler', StandardScaler())\n",
    "            ])\n",
    "\n",
    "\n",
    "categorical_transformer = Pipeline(steps=[\n",
    "        ('imputer', SimpleImputer(strategy='constant', fill_value='missing')),\n",
    "        ('onehot', OneHotEncoder(handle_unknown='ignore'))\n",
    "            ])\n",
    "\n",
    "\n",
    "tfidf = Pipeline([('tfidf', TfidfVectorizer(max_features=300000))])\n",
    "\n",
    "text_split = ColumnTransformer(\n",
    "    transformers=[\n",
    "        ('text_1', tfidf, 0),\n",
    "        ('text_2', tfidf, 1),\n",
    "        ('text_3', tfidf, 2)\n",
    "    ])\n",
    "\n",
    "text_transformer = Pipeline(steps=[\n",
    "        ('imputer', SimpleImputer(strategy='constant', fill_value='missing')),\n",
    "        ('text', text_split)\n",
    "             ])\n",
    "\n",
    "\n",
    "preprocessor = ColumnTransformer(\n",
    "    transformers=[\n",
    "        ('num', numeric_transformer, numeric_features),\n",
    "        ('cat', categorical_transformer, categorical_features),\n",
    "        ('text', text_transformer, text_features)\n",
    "    ])\n",
    "\n",
    "\n",
    "full_pipe =  Pipeline([\n",
    "                ('preprocess', preprocessor),\n",
    "                ('clf', SGDClassifier(loss='log', penalty='l2', max_iter=1000, tol=0.0001))\n",
    "            ])\n",
    "\n",
    "\n",
    "hyperparameters = {\n",
    "                'preprocess__num__poly__degree':[0,1],\n",
    "                'preprocess__text__text__text_1__tfidf__ngram_range':((1,1),(1,2)),\n",
    "                'preprocess__text__text__text_2__tfidf__ngram_range':((1,1),(1,2),(1,3)),\n",
    "                'preprocess__text__text__text_3__tfidf__ngram_range':((1,1),(1,2),(1,3)),\n",
    "                'clf__alpha':10.0**-np.arange(1,7)\n",
    "                   }\n",
    "\n",
    "\n",
    "grid = GridSearchCV(full_pipe, \n",
    "                    param_grid=hyperparameters, \n",
    "                    cv=2, scoring='neg_log_loss', \n",
    "                    error_score='raise', \n",
    "                    verbose=False, \n",
    "                    iid=False)\n",
    "\n",
    "df = pd.read_csv(FILEPATH, encoding='latin-1')\n",
    "X = df.drop(TARGET, axis=1)\n",
    "y = df[TARGET]\n",
    "X_train, X_test, y_train, y_test = train_test_split(X, y, test_size = 0.2, stratify=y)"
   ]
  },
  {
   "cell_type": "code",
   "execution_count": 5,
   "metadata": {},
   "outputs": [
    {
     "name": "stdout",
     "output_type": "stream",
     "text": [
      "- Time: 5.438 minutes\n"
     ]
    }
   ],
   "source": [
    "# print(X_train.columns)\n",
    "\n",
    "# (Explicitly)\n",
    "# text_features = ['purpose','title','desc']   \n",
    "# numeric_features = list(X_train.select_dtypes(include='number').columns.values)\n",
    "# categorical_features = list(set(X_train.columns) - set(numeric_features + text_features))\n",
    "\n",
    "import time\n",
    "t1 = time.time()\n",
    "grid.fit(X_train, y_train)\n",
    "print('- Time: %0.2f minutes' % ((time.time()-t1)/60))\n",
    "os.chdir(PATH)\n",
    "clf = grid.best_estimator_\n",
    "pickle.dump(clf, open('custom_model.pickle', 'wb'))"
   ]
  },
  {
   "cell_type": "code",
   "execution_count": null,
   "metadata": {},
   "outputs": [],
   "source": []
  }
 ],
 "metadata": {
  "kernelspec": {
   "display_name": "Python 3",
   "language": "python",
   "name": "python3"
  },
  "language_info": {
   "codemirror_mode": {
    "name": "ipython",
    "version": 3
   },
   "file_extension": ".py",
   "mimetype": "text/x-python",
   "name": "python",
   "nbconvert_exporter": "python",
   "pygments_lexer": "ipython3",
   "version": "3.6.4"
  }
 },
 "nbformat": 4,
 "nbformat_minor": 2
}
