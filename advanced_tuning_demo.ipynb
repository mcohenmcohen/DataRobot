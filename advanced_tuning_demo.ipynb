{
 "cells": [
  {
   "cell_type": "code",
   "execution_count": 1,
   "metadata": {},
   "outputs": [
    {
     "data": {
      "text/plain": [
       "<datarobot.rest.RESTClientObject at 0x1102d5b90>"
      ]
     },
     "execution_count": 1,
     "metadata": {},
     "output_type": "execute_result"
    }
   ],
   "source": [
    "import datarobot as dr\n",
    "dr.Client(config_path='/Users/sylvain.ferrandiz/Documents/DR_EU_config.yaml')"
   ]
  },
  {
   "cell_type": "code",
   "execution_count": 2,
   "metadata": {},
   "outputs": [],
   "source": [
    "project = dr.Project.get(project_id='5c6c27fa2cbfda0a9f5b1186')"
   ]
  },
  {
   "cell_type": "code",
   "execution_count": 3,
   "metadata": {},
   "outputs": [
    {
     "data": {
      "text/plain": [
       "Project(Spam.tsv)"
      ]
     },
     "execution_count": 3,
     "metadata": {},
     "output_type": "execute_result"
    }
   ],
   "source": [
    "project"
   ]
  },
  {
   "cell_type": "code",
   "execution_count": 4,
   "metadata": {},
   "outputs": [
    {
     "name": "stdout",
     "output_type": "stream",
     "text": [
      "[Model(u'ENET Blender'), Model(u'eXtreme Gradient Boosted Trees Classifier'), Model(u'ENET Blender'), Model(u'AVG Blender'), Model(u'Advanced AVG Blender'), Model(u'eXtreme Gradient Boosted Trees Classifier with Unsupervised Learning Features'), Model(u'eXtreme Gradient Boosted Trees Classifier'), Model(u'eXtreme Gradient Boosted Trees Classifier'), Model(u'eXtreme Gradient Boosted Trees Classifier'), Model(u'Gradient Boosted Trees Classifier'), Model(u'Gradient Boosted Greedy Trees Classifier'), Model(u'Light Gradient Boosted Trees Classifier with Early Stopping'), Model(u'eXtreme Gradient Boosted Trees Classifier with Unsupervised Learning Features'), Model(u'eXtreme Gradient Boosted Trees Classifier'), Model(u'Elastic-Net Classifier (L2 / Binomial Deviance) with Binned numeric features'), Model(u'eXtreme Gradient Boosted Trees Classifier'), Model(u'Gradient Boosted Greedy Trees Classifier'), Model(u'Gradient Boosted Trees Classifier'), Model(u'Light Gradient Boosted Trees Classifier with Early Stopping'), Model(u'Regularized Logistic Regression (L2)'), Model(u'Regularized Logistic Regression (L2)'), Model(u'eXtreme Gradient Boosted Trees Classifier with Unsupervised Learning Features'), Model(u'Elastic-Net Classifier (L2 / Binomial Deviance) with Binned numeric features'), Model(u'eXtreme Gradient Boosted Trees Classifier'), Model(u'Nystroem Kernel SVM Classifier'), Model(u'eXtreme Gradient Boosted Trees Classifier'), Model(u'Regularized Logistic Regression (L2)'), Model(u'Gradient Boosted Trees Classifier'), Model(u'Generalized Additive2 Model'), Model(u'Light Gradient Boosted Trees Classifier with Early Stopping'), Model(u'Gradient Boosted Trees Classifier'), Model(u'Gradient Boosted Trees Classifier'), Model(u'Gradient Boosted Greedy Trees Classifier'), Model(u'Breiman and Cutler Random Forest Classifier'), Model(u'Regularized Logistic Regression (L2)'), Model(u'Support Vector Classifier (Radial Kernel)'), Model(u'RandomForest Classifier (Entropy)'), Model(u'Regularized Logistic Regression (L2)'), Model(u'Nystroem Kernel SVM Classifier'), Model(u'Generalized Additive2 Model'), Model(u'Elastic-Net Classifier (L2 / Binomial Deviance) with Binned numeric features'), Model(u'Support Vector Classifier (Radial Kernel)'), Model(u'RandomForest Classifier (Entropy)'), Model(u'Gradient Boosted Trees Classifier'), Model(u'Breiman and Cutler Random Forest Classifier'), Model(u'Gradient Boosted Trees Classifier'), Model(u'RandomForest Classifier (Gini)'), Model(u'Vowpal Wabbit Classifier'), Model(u'Elastic-Net Classifier (L2 / Binomial Deviance)'), Model(u'RandomForest Classifier (Gini)'), Model(u'Light Gradient Boosting on ElasticNet Predictions '), Model(u'ExtraTrees Classifier (Gini)'), Model(u'TensorFlow Neural Network Classifier'), Model(u'Auto-tuned K-Nearest Neighbors Classifier (Euclidean Distance)'), Model(u'Logistic Regression'), Model(u'Eureqa Generalized Additive Model Classifier (3000 Generations)'), Model(u'Elastic-Net Classifier (mixing alpha=0.5 / Binomial Deviance)'), Model(u'Elastic-Net Classifier (mixing alpha=0.5 / Binomial Deviance) with Unsupervised Learning Features'), Model(u'Regularized Logistic Regression (L2)'), Model(u'RuleFit Classifier'), Model(u'Naive Bayes combiner classifier'), Model(u'Auto-tuned K-Nearest Neighbors Classifier (Euclidean Distance)'), Model(u'Auto-tuned K-Nearest Neighbors Classifier (Euclidean Distance)'), Model(u'Majority Class Classifier'), Model(u'Isolation Forest Anomaly Detection'), Model(u'Decision Tree Classifier (Gini)')]\n"
     ]
    }
   ],
   "source": [
    "models = project.get_models()\n",
    "print(models)"
   ]
  },
  {
   "cell_type": "code",
   "execution_count": 5,
   "metadata": {},
   "outputs": [],
   "source": [
    "model = models[-5]"
   ]
  },
  {
   "cell_type": "code",
   "execution_count": 6,
   "metadata": {},
   "outputs": [
    {
     "data": {
      "text/plain": [
       "Model(u'Auto-tuned K-Nearest Neighbors Classifier (Euclidean Distance)')"
      ]
     },
     "execution_count": 6,
     "metadata": {},
     "output_type": "execute_result"
    }
   ],
   "source": [
    "model"
   ]
  },
  {
   "cell_type": "markdown",
   "metadata": {},
   "source": [
    "https://app.eu.datarobot.com/projects/5c6c27fa2cbfda0a9f5b1186/models/5c6d54d8fe5b0f0d870cfd4e/blueprint"
   ]
  },
  {
   "cell_type": "code",
   "execution_count": 7,
   "metadata": {
    "scrolled": true
   },
   "outputs": [
    {
     "name": "stdout",
     "output_type": "stream",
     "text": [
      "{'default_value': u'euclidean', 'parameter_id': u'eyJhcmciOiJtZXRyaWMiLCJ2aWQiOiIzIn0', 'task_name': u'Auto-tuned K-Nearest Neighbors Classifier (Euclidean Distance)', 'current_value': u'euclidean', 'constraints': {'select': {'values': [u'euclidean', u'manhattan', u'chebyshev', u'minkowski']}}, 'value': None, 'parameter_name': u'metric'}\n"
     ]
    }
   ],
   "source": [
    "tune = model.start_advanced_tuning_session()\n",
    "parameter = tune.get_parameters()['tuning_parameters'][2]\n",
    "print(tune.get_parameters()['tuning_parameters'][2])"
   ]
  },
  {
   "cell_type": "code",
   "execution_count": 8,
   "metadata": {},
   "outputs": [],
   "source": [
    "tune.set_parameter(task_name=parameter['task_name'], parameter_name=parameter['parameter_name'], \n",
    "                                       value='minkowski',\n",
    "                                       parameter_id=parameter['parameter_id'])\n",
    "job = tune.run()"
   ]
  },
  {
   "cell_type": "code",
   "execution_count": null,
   "metadata": {},
   "outputs": [],
   "source": []
  }
 ],
 "metadata": {
  "kernelspec": {
   "display_name": "Python 2",
   "language": "python",
   "name": "python2"
  },
  "language_info": {
   "codemirror_mode": {
    "name": "ipython",
    "version": 2
   },
   "file_extension": ".py",
   "mimetype": "text/x-python",
   "name": "python",
   "nbconvert_exporter": "python",
   "pygments_lexer": "ipython2",
   "version": "2.7.14"
  }
 },
 "nbformat": 4,
 "nbformat_minor": 2
}
