{
 "cells": [
  {
   "cell_type": "code",
   "execution_count": 2,
   "metadata": {},
   "outputs": [],
   "source": [
    "### Standard Imports - Sorry PEP8 fans, do not look below\n",
    "import pandas as pd, numpy as np, os, re, json, sys\n",
    "from pathlib import Path\n",
    "from datetime import datetime\n",
    "from pathlib import Path\n",
    "import os\n",
    "import numpy as np\n",
    "import pandas as pd\n",
    "\n",
    "import random\n",
    "from joshberry.utils import *\n",
    "from joshberry.feats import *\n",
    "\n",
    "## Specific Imports"
   ]
  },
  {
   "cell_type": "code",
   "execution_count": 3,
   "metadata": {},
   "outputs": [],
   "source": [
    "### set path directories\n",
    "curr_dir = Path(os.getcwd())\n",
    "data_dir = Path(curr_dir.parents[0] / 'data/')\n",
    "artifacts_dir = Path(curr_dir.parents[0] / 'artifacts/')"
   ]
  },
  {
   "cell_type": "code",
   "execution_count": 10,
   "metadata": {},
   "outputs": [],
   "source": [
    "seed = 20171230\n",
    "np.random.seed(seed)\n",
    "output_filename = 'customer_profile.csv'"
   ]
  },
  {
   "cell_type": "code",
   "execution_count": 20,
   "metadata": {},
   "outputs": [
    {
     "name": "stdout",
     "output_type": "stream",
     "text": [
      "Chunky optimized your write speed by using a chunksize of 2725.\n"
     ]
    }
   ],
   "source": [
    "df = pd.read_csv(Path(data_dir) / 'temp_CustIDs.csv')\n",
    "\n",
    "n_rows = len(df)\n",
    "\n",
    "country_list = ['MA', 'PA', 'TX', 'CA', 'WA', 'FL', 'VA', 'NY', 'CT']\n",
    "country_list_dist = [0.28, 0.14, 0.12, 0.09, 0.22, 0.09, 0.02, 0.01, 0.03]\n",
    "\n",
    "division_list = ['North','South','East','West']\n",
    "division_list_dist = [0.19, 0.26, 0.26, 0.29]\n",
    "\n",
    "industry_list = ['Cheap Charlie','Fresh Frank','Jealous Jenny','Cranky Chris','Loving Larry','Serious Sarah','Friendly Fred','Hilarious Hillary']\n",
    "industry_list_dist = [0.11, 0.08, 0.05, 0.14, 0.08, 0.06, 0.19, 0.29]\n",
    "\n",
    "occupation_list = ['Healthcare and Medicine','Arts and Entertainment','Business','Industrial and Manufacturing','Law enforcement and Armed Forces',\n",
    "              'Science and Tech','Government','NA','','Other']\n",
    "occupation_list_dist = [0.19,0.11,0.09,0.08,0.11,0.12,0.10,0.06,0.04,0.10,]\n",
    "\n",
    "# Categorical variables\n",
    "df['division'] = np.random.choice(division_list, df.shape[0], p=division_list_dist)\n",
    "df['state'] = np.random.choice(country_list, df.shape[0], p=country_list_dist)\n",
    "df['marketing_segment'] = np.random.choice(industry_list, df.shape[0], p=industry_list_dist)\n",
    "df['occupation'] = np.random.choice(occupation_list, df.shape[0], p=occupation_list_dist)\n",
    "\n",
    "# Numeric - Simple gamma distributions\n",
    "df['estimated_annual_income'] = np.round(np.random.gamma(5, 85, n_rows), decimals=0).astype('int64')*100\n",
    "df['estimated_age'] = np.round(np.random.gamma(30, 1, n_rows),0)\n",
    "\n",
    "# Numeric - Simple beta distributions\n",
    "df['year_home_built'] = 2021 - np.round((np.random.beta(3, 2, n_rows) * 95),0)\n",
    "\n",
    "# Numeric - Poisson\n",
    "df['household_num_kids'] = np.random.poisson(1, n_rows)\n",
    "\n",
    "# binary\n",
    "df['home_own_rent'] = np.random.binomial(1, 0.65, n_rows)  \n",
    "\n",
    "# Bi modal distrubution\n",
    "df['__dist1'] = np.round((np.random.gamma(3, 0.3, n_rows)+0.5) * 75, decimals=6).astype('float64') # one distribution\n",
    "df['__dist2'] = np.random.beta(3, 2, n_rows) * 185 # another distribution\n",
    "df['__5050'] = np.round(np.random.binomial(1, 0.5, n_rows).astype('float'), 2)  # 50-50 chance \n",
    "df['third_party_risk_score'] = np.round(((df['__dist1'] * df['__5050']) + ((1 - df['__5050']) * df['__dist2'])) , 0)\n",
    "\n",
    "df = df[df.columns.drop(list(df.filter(regex='__')))]\n",
    "\n",
    "df.to_csv(Path(data_dir) / output_filename, index=False, chunksize=chunky(df))"
   ]
  },
  {
   "cell_type": "code",
   "execution_count": null,
   "metadata": {},
   "outputs": [],
   "source": []
  },
  {
   "cell_type": "code",
   "execution_count": null,
   "metadata": {},
   "outputs": [],
   "source": []
  },
  {
   "cell_type": "code",
   "execution_count": null,
   "metadata": {},
   "outputs": [],
   "source": []
  },
  {
   "cell_type": "code",
   "execution_count": null,
   "metadata": {},
   "outputs": [],
   "source": []
  },
  {
   "cell_type": "code",
   "execution_count": null,
   "metadata": {},
   "outputs": [],
   "source": []
  }
 ],
 "metadata": {
  "kernelspec": {
   "display_name": "Python 3",
   "language": "python",
   "name": "python3"
  },
  "language_info": {
   "codemirror_mode": {
    "name": "ipython",
    "version": 3
   },
   "file_extension": ".py",
   "mimetype": "text/x-python",
   "name": "python",
   "nbconvert_exporter": "python",
   "pygments_lexer": "ipython3",
   "version": "3.7.9"
  }
 },
 "nbformat": 4,
 "nbformat_minor": 4
}
