{
 "cells": [
  {
   "cell_type": "code",
   "execution_count": 26,
   "id": "eed45182",
   "metadata": {},
   "outputs": [],
   "source": [
    "import pandas as pd\n",
    "import datarobot as dr\n",
    "from datetime import datetime\n",
    "from datarobot.enums import SERVICE_STAT_METRIC\n",
    "from datarobot.helpers.partitioning_methods import construct_duration_string\n",
    "import os\n",
    "import time"
   ]
  },
  {
   "cell_type": "code",
   "execution_count": 2,
   "id": "0aaae244",
   "metadata": {},
   "outputs": [
    {
     "data": {
      "text/plain": [
       "<datarobot.rest.RESTClientObject at 0x7fe14269a850>"
      ]
     },
     "execution_count": 2,
     "metadata": {},
     "output_type": "execute_result"
    }
   ],
   "source": [
    "# \n",
    "# Connect to DataRobot  \n",
    "#\n",
    "# Replace the API token and username with yours, along with the \n",
    "# depolyment id and/or project and model ids you are using.  \n",
    "#\n",
    "\n",
    "USERNAME = os.environ['DATAROBOT_USERNAME']\n",
    "API_TOKEN = os.environ['DATAROBOT_API_TOKEN']\n",
    "ENDPOINT = 'https://app.datarobot.com/api/v2'\n",
    "\n",
    "dr.Client(token=API_TOKEN, endpoint=ENDPOINT)  "
   ]
  },
  {
   "cell_type": "markdown",
   "id": "1501f441",
   "metadata": {},
   "source": [
    "## Make predictions and get predictions explanations"
   ]
  },
  {
   "cell_type": "markdown",
   "id": "eb31f7a8",
   "metadata": {},
   "source": [
    "### Pixability - Deployments"
   ]
  },
  {
   "cell_type": "code",
   "execution_count": 32,
   "id": "6e0ffce1",
   "metadata": {},
   "outputs": [],
   "source": [
    "pred_file = './data/new_pix_testing_first10rows.csv'\n",
    "df_pred_data = pd.read_csv(pred_file)\n",
    "\n",
    "deployment_id = '61dcdd632786724e47573764'\n",
    "deployment = dr.Deployment.get(deployment_id)\n",
    "# deployment."
   ]
  },
  {
   "cell_type": "code",
   "execution_count": 19,
   "id": "010859be",
   "metadata": {},
   "outputs": [],
   "source": [
    "# preds_df = deployment.predict(pred_data)  # No longer works"
   ]
  },
  {
   "cell_type": "markdown",
   "id": "69558bf5",
   "metadata": {},
   "source": [
    "### Batch prediction"
   ]
  },
  {
   "cell_type": "code",
   "execution_count": 23,
   "id": "2d096c8d",
   "metadata": {},
   "outputs": [],
   "source": [
    "dr.BatchPredictionJob.score_to_file?"
   ]
  },
  {
   "cell_type": "code",
   "execution_count": 34,
   "id": "27f27107",
   "metadata": {},
   "outputs": [
    {
     "name": "stdout",
     "output_type": "stream",
     "text": [
      "Streaming DataFrame as CSV data to DataRobot\n",
      "Created Batch Prediction job ID 61de6db234d2451cc54a2f92\n",
      "Waiting for DataRobot to start processing\n",
      "Job has started processing at DataRobot. Streaming results.\n",
      "- score_pandas Done. Total time: 0.800 minutes\n",
      "\n",
      "                                                text       label\n",
      "0  Người Dân Củ Chi Bỏ Hết Công Việc Đồng Án Để T...  Brand Safe\n",
      "1  🚂 POCOYO E NINA - Viagem no tempo  [114 minuto...  Brand Safe\n",
      "2  Tubarão Bebê, Cinco Patinhos e Mais Músicas In...  Brand Safe\n",
      "3  BTS (방탄소년단) - DNA [Music Bank COMEBACK / 2017....  Brand Safe\n",
      "4  Alan Walker ft  Sia   Diamond Heart Lyrics Vid...  Brand Safe\n",
      "\n",
      "- score Done. Total time: 1.322 minutes\n"
     ]
    },
    {
     "ename": "ClientError",
     "evalue": "422 client error: {'message': 'Invalid field data', 'errors': {'maxExplanations': 'Prediction Explanations are not initialized for the model'}}",
     "output_type": "error",
     "traceback": [
      "\u001b[0;31m---------------------------------------------------------------------------\u001b[0m",
      "\u001b[0;31mClientError\u001b[0m                               Traceback (most recent call last)",
      "\u001b[0;32m/var/folders/x_/m8wpw_850vx65g71h6f2n1_h0000gp/T/ipykernel_32309/1672176832.py\u001b[0m in \u001b[0;36m<module>\u001b[0;34m\u001b[0m\n\u001b[1;32m     43\u001b[0m         \u001b[0;34m'path'\u001b[0m\u001b[0;34m:\u001b[0m \u001b[0;34m'./preds/pixability_output_preds_pred_expl.csv'\u001b[0m\u001b[0;34m\u001b[0m\u001b[0;34m\u001b[0m\u001b[0m\n\u001b[1;32m     44\u001b[0m     },\n\u001b[0;32m---> 45\u001b[0;31m     \u001b[0mmax_explanations\u001b[0m\u001b[0;34m=\u001b[0m\u001b[0;36m3\u001b[0m \u001b[0;31m#Compute prediction explanations for this amount of features\u001b[0m\u001b[0;34m\u001b[0m\u001b[0;34m\u001b[0m\u001b[0m\n\u001b[0m\u001b[1;32m     46\u001b[0m )\n\u001b[1;32m     47\u001b[0m \u001b[0mjob\u001b[0m\u001b[0;34m.\u001b[0m\u001b[0mwait_for_completion\u001b[0m\u001b[0;34m(\u001b[0m\u001b[0;34m)\u001b[0m\u001b[0;34m\u001b[0m\u001b[0;34m\u001b[0m\u001b[0m\n",
      "\u001b[0;32m/Library/Frameworks/Python.framework/Versions/3.7/lib/python3.7/site-packages/datarobot/models/batch_prediction_job.py\u001b[0m in \u001b[0;36mscore\u001b[0;34m(cls, deployment, intake_settings, output_settings, csv_settings, timeseries_settings, num_concurrent, chunk_size, passthrough_columns, passthrough_columns_set, max_explanations, threshold_high, threshold_low, prediction_warning_enabled, include_prediction_status, skip_drift_tracking, prediction_instance, abort_on_error, column_names_remapping, include_probabilities, include_probabilities_classes, download_timeout, download_read_timeout)\u001b[0m\n\u001b[1;32m    650\u001b[0m             \u001b[0mjob_data\u001b[0m\u001b[0;34m[\u001b[0m\u001b[0;34m\"csvSettings\"\u001b[0m\u001b[0;34m]\u001b[0m \u001b[0;34m=\u001b[0m \u001b[0mto_api\u001b[0m\u001b[0;34m(\u001b[0m\u001b[0mcsv_settings\u001b[0m\u001b[0;34m)\u001b[0m\u001b[0;34m\u001b[0m\u001b[0;34m\u001b[0m\u001b[0m\n\u001b[1;32m    651\u001b[0m \u001b[0;34m\u001b[0m\u001b[0m\n\u001b[0;32m--> 652\u001b[0;31m         \u001b[0mresponse\u001b[0m \u001b[0;34m=\u001b[0m \u001b[0mcls\u001b[0m\u001b[0;34m.\u001b[0m\u001b[0m_client\u001b[0m\u001b[0;34m.\u001b[0m\u001b[0mpost\u001b[0m\u001b[0;34m(\u001b[0m\u001b[0murl\u001b[0m\u001b[0;34m=\u001b[0m\u001b[0mcls\u001b[0m\u001b[0;34m.\u001b[0m\u001b[0m_jobs_path\u001b[0m\u001b[0;34m(\u001b[0m\u001b[0;34m)\u001b[0m\u001b[0;34m,\u001b[0m \u001b[0mjson\u001b[0m\u001b[0;34m=\u001b[0m\u001b[0mjob_data\u001b[0m\u001b[0;34m)\u001b[0m\u001b[0;34m\u001b[0m\u001b[0;34m\u001b[0m\u001b[0m\n\u001b[0m\u001b[1;32m    653\u001b[0m \u001b[0;34m\u001b[0m\u001b[0m\n\u001b[1;32m    654\u001b[0m         \u001b[0mjob_response\u001b[0m \u001b[0;34m=\u001b[0m \u001b[0mresponse\u001b[0m\u001b[0;34m.\u001b[0m\u001b[0mjson\u001b[0m\u001b[0;34m(\u001b[0m\u001b[0;34m)\u001b[0m\u001b[0;34m\u001b[0m\u001b[0;34m\u001b[0m\u001b[0m\n",
      "\u001b[0;32m/Library/Frameworks/Python.framework/Versions/3.7/lib/python3.7/site-packages/datarobot/rest.py\u001b[0m in \u001b[0;36mpost\u001b[0;34m(self, url, data, keep_attrs, **kwargs)\u001b[0m\n\u001b[1;32m    169\u001b[0m         \u001b[0;32mif\u001b[0m \u001b[0mdata\u001b[0m\u001b[0;34m:\u001b[0m\u001b[0;34m\u001b[0m\u001b[0;34m\u001b[0m\u001b[0m\n\u001b[1;32m    170\u001b[0m             \u001b[0mkwargs\u001b[0m\u001b[0;34m[\u001b[0m\u001b[0;34m\"json\"\u001b[0m\u001b[0;34m]\u001b[0m \u001b[0;34m=\u001b[0m \u001b[0mto_api\u001b[0m\u001b[0;34m(\u001b[0m\u001b[0mdata\u001b[0m\u001b[0;34m,\u001b[0m \u001b[0mkeep_attrs\u001b[0m\u001b[0;34m)\u001b[0m\u001b[0;34m\u001b[0m\u001b[0;34m\u001b[0m\u001b[0m\n\u001b[0;32m--> 171\u001b[0;31m         \u001b[0;32mreturn\u001b[0m \u001b[0mself\u001b[0m\u001b[0;34m.\u001b[0m\u001b[0mrequest\u001b[0m\u001b[0;34m(\u001b[0m\u001b[0;34m\"post\"\u001b[0m\u001b[0;34m,\u001b[0m \u001b[0murl\u001b[0m\u001b[0;34m,\u001b[0m \u001b[0;34m**\u001b[0m\u001b[0mkwargs\u001b[0m\u001b[0;34m)\u001b[0m\u001b[0;34m\u001b[0m\u001b[0;34m\u001b[0m\u001b[0m\n\u001b[0m\u001b[1;32m    172\u001b[0m \u001b[0;34m\u001b[0m\u001b[0m\n\u001b[1;32m    173\u001b[0m     \u001b[0;32mdef\u001b[0m \u001b[0mpatch\u001b[0m\u001b[0;34m(\u001b[0m\u001b[0mself\u001b[0m\u001b[0;34m,\u001b[0m \u001b[0murl\u001b[0m\u001b[0;34m,\u001b[0m \u001b[0mdata\u001b[0m\u001b[0;34m=\u001b[0m\u001b[0;32mNone\u001b[0m\u001b[0;34m,\u001b[0m \u001b[0mkeep_attrs\u001b[0m\u001b[0;34m=\u001b[0m\u001b[0;32mNone\u001b[0m\u001b[0;34m,\u001b[0m \u001b[0;34m**\u001b[0m\u001b[0mkwargs\u001b[0m\u001b[0;34m)\u001b[0m\u001b[0;34m:\u001b[0m\u001b[0;34m\u001b[0m\u001b[0;34m\u001b[0m\u001b[0m\n",
      "\u001b[0;32m/Library/Frameworks/Python.framework/Versions/3.7/lib/python3.7/site-packages/datarobot/rest.py\u001b[0m in \u001b[0;36mrequest\u001b[0;34m(self, method, url, join_endpoint, **kwargs)\u001b[0m\n\u001b[1;32m    160\u001b[0m         \u001b[0mresponse\u001b[0m \u001b[0;34m=\u001b[0m \u001b[0msuper\u001b[0m\u001b[0;34m(\u001b[0m\u001b[0mRESTClientObject\u001b[0m\u001b[0;34m,\u001b[0m \u001b[0mself\u001b[0m\u001b[0;34m)\u001b[0m\u001b[0;34m.\u001b[0m\u001b[0mrequest\u001b[0m\u001b[0;34m(\u001b[0m\u001b[0mmethod\u001b[0m\u001b[0;34m,\u001b[0m \u001b[0murl\u001b[0m\u001b[0;34m,\u001b[0m \u001b[0;34m**\u001b[0m\u001b[0mkwargs\u001b[0m\u001b[0;34m)\u001b[0m\u001b[0;34m\u001b[0m\u001b[0;34m\u001b[0m\u001b[0m\n\u001b[1;32m    161\u001b[0m         \u001b[0;32mif\u001b[0m \u001b[0;32mnot\u001b[0m \u001b[0mresponse\u001b[0m\u001b[0;34m:\u001b[0m\u001b[0;34m\u001b[0m\u001b[0;34m\u001b[0m\u001b[0m\n\u001b[0;32m--> 162\u001b[0;31m             \u001b[0mhandle_http_error\u001b[0m\u001b[0;34m(\u001b[0m\u001b[0mresponse\u001b[0m\u001b[0;34m,\u001b[0m \u001b[0;34m**\u001b[0m\u001b[0mkwargs\u001b[0m\u001b[0;34m)\u001b[0m\u001b[0;34m\u001b[0m\u001b[0;34m\u001b[0m\u001b[0m\n\u001b[0m\u001b[1;32m    163\u001b[0m         \u001b[0;32mreturn\u001b[0m \u001b[0mresponse\u001b[0m\u001b[0;34m\u001b[0m\u001b[0;34m\u001b[0m\u001b[0m\n\u001b[1;32m    164\u001b[0m \u001b[0;34m\u001b[0m\u001b[0m\n",
      "\u001b[0;32m/Library/Frameworks/Python.framework/Versions/3.7/lib/python3.7/site-packages/datarobot/rest.py\u001b[0m in \u001b[0;36mhandle_http_error\u001b[0;34m(response, **kwargs)\u001b[0m\n\u001b[1;32m    296\u001b[0m         \u001b[0mtemplate\u001b[0m \u001b[0;34m=\u001b[0m \u001b[0;34m\"{} client error: {}\"\u001b[0m\u001b[0;34m\u001b[0m\u001b[0;34m\u001b[0m\u001b[0m\n\u001b[1;32m    297\u001b[0m         \u001b[0mexc_message\u001b[0m \u001b[0;34m=\u001b[0m \u001b[0mtemplate\u001b[0m\u001b[0;34m.\u001b[0m\u001b[0mformat\u001b[0m\u001b[0;34m(\u001b[0m\u001b[0mresponse\u001b[0m\u001b[0;34m.\u001b[0m\u001b[0mstatus_code\u001b[0m\u001b[0;34m,\u001b[0m \u001b[0mmessage\u001b[0m\u001b[0;34m)\u001b[0m\u001b[0;34m\u001b[0m\u001b[0;34m\u001b[0m\u001b[0m\n\u001b[0;32m--> 298\u001b[0;31m         \u001b[0;32mraise\u001b[0m \u001b[0mexception_type\u001b[0m\u001b[0;34m(\u001b[0m\u001b[0mexc_message\u001b[0m\u001b[0;34m,\u001b[0m \u001b[0mresponse\u001b[0m\u001b[0;34m.\u001b[0m\u001b[0mstatus_code\u001b[0m\u001b[0;34m,\u001b[0m \u001b[0mjson\u001b[0m\u001b[0;34m=\u001b[0m\u001b[0mparsed_json\u001b[0m\u001b[0;34m)\u001b[0m\u001b[0;34m\u001b[0m\u001b[0;34m\u001b[0m\u001b[0m\n\u001b[0m\u001b[1;32m    299\u001b[0m     \u001b[0;32melse\u001b[0m\u001b[0;34m:\u001b[0m\u001b[0;34m\u001b[0m\u001b[0;34m\u001b[0m\u001b[0m\n\u001b[1;32m    300\u001b[0m         \u001b[0mtemplate\u001b[0m \u001b[0;34m=\u001b[0m \u001b[0;34m\"{} server error: {}\"\u001b[0m\u001b[0;34m\u001b[0m\u001b[0;34m\u001b[0m\u001b[0m\n",
      "\u001b[0;31mClientError\u001b[0m: 422 client error: {'message': 'Invalid field data', 'errors': {'maxExplanations': 'Prediction Explanations are not initialized for the model'}}"
     ]
    }
   ],
   "source": [
    "#Scoring without Prediction Explanations\n",
    "\n",
    "t0 = time.time()\n",
    "job, df_output_preds = dr.BatchPredictionJob.score_pandas(deployment_id, df_pred_data)\n",
    "print('- score_pandas Done. Total time: %.3f minutes' % ((time.time() - t0)/60))\n",
    "print()\n",
    "print(df_pred_data.head())\n",
    "print()\n",
    "\n",
    "# dr.BatchPredictionJob.score_to_file(\n",
    "#     deployment_id,\n",
    "#     intake_path=pred_file, #Path or Pandas or file-like object\n",
    "#     output_path='output_predictions.csv'\n",
    "# )\n",
    "\n",
    "t0 = time.time()\n",
    "job = dr.BatchPredictionJob.score(\n",
    "    deployment_id,\n",
    "    intake_settings={\n",
    "        'type': 'localFile',\n",
    "        'file': pred_file #Path or Pandas or file-like object\n",
    "    },\n",
    "    output_settings={\n",
    "        'type': 'localFile',\n",
    "        'path': './preds/pixability_output_preds.csv'\n",
    "    }\n",
    ")\n",
    "job.wait_for_completion()\n",
    "with open(\"./preds/pixability_output_preds.csv\", \"wb\") as f:\n",
    "    job.download(f)\n",
    "print('- score Done. Total time: %.3f minutes' % ((time.time() - t0)/60))\n",
    "print()\n",
    "\n",
    "# #Scoring With Prediction Explanations - not available for multiclas\n",
    "# t0 = time.time()\n",
    "# job = dr.BatchPredictionJob.score(\n",
    "#     deployment_id,\n",
    "#     intake_settings={\n",
    "#         'type': 'localFile',\n",
    "#         'file': pred_file #Path or Pandas or file-like object\n",
    "#     },\n",
    "#     output_settings={\n",
    "#         'type': 'localFile',\n",
    "#         'path': './preds/pixability_output_preds_pred_expl.csv'\n",
    "#     },\n",
    "#     max_explanations=3 #Compute prediction explanations for this amount of features\n",
    "# )\n",
    "# job.wait_for_completion()\n",
    "# with open(\"./pixability_output_preds_pred_expl.csv\", \"wb\") as f:\n",
    "#     job.download(f)\n",
    "# print('- score with pred expl Done. Total time: %.3f minutes' % ((time.time() - t0)/60))\n",
    "# print()"
   ]
  },
  {
   "cell_type": "markdown",
   "id": "124b8c8d",
   "metadata": {},
   "source": [
    "### Reqest.post"
   ]
  },
  {
   "cell_type": "code",
   "execution_count": null,
   "id": "3289467b",
   "metadata": {},
   "outputs": [],
   "source": [
    "headers = {\n",
    "    # As default, we expect CSV as input data.\n",
    "    # Should you wish to supply JSON instead,\n",
    "    # comment out the line below and use the line after that instead:\n",
    "    'Content-Type': 'text/plain; charset=UTF-8',\n",
    "    # 'Content-Type': 'application/json; charset=UTF-8',\n",
    "\n",
    "    'Authorization': 'Bearer {}'.format(API_KEY),\n",
    "    'DataRobot-Key': DATAROBOT_KEY,\n",
    "}\n",
    "\n",
    "url = API_URL.format(deployment_id=deployment_id)\n",
    "\n",
    "# Prediction Explanations:\n",
    "# See the documentation for more information:\n",
    "# https://app.datarobot.com/docs/predictions/api/dr-predapi.html#request-pred-explanations\n",
    "# Should you wish to include Prediction Explanations or Prediction Warnings in the result,\n",
    "# Change the parameters below accordingly, and remove the comment from the params field below:\n",
    "\n",
    "params = {\n",
    "    # If explanations are required, uncomment the line below\n",
    "    # 'maxExplanations': 3,\n",
    "    # 'thresholdHigh': 0.5,\n",
    "    # 'thresholdLow': 0.15,\n",
    "    # Uncomment this for Prediction Warnings, if enabled for your deployment.\n",
    "    # 'predictionWarningEnabled': 'true',\n",
    "}\n",
    "# Make API request for predictions\n",
    "predictions_response = requests.post(\n",
    "    url,\n",
    "    data=data,\n",
    "    headers=headers,\n",
    "    # Prediction Explanations:\n",
    "    # Uncomment this to include explanations in your prediction\n",
    "    # params=params,\n",
    ")\n",
    "_raise_dataroboterror_for_status(predictions_response)\n",
    "# Return a Python dict following the schema in the documentation\n",
    "predictions_response.json()"
   ]
  }
 ],
 "metadata": {
  "kernelspec": {
   "display_name": "Python 3 (ipykernel)",
   "language": "python",
   "name": "python3"
  },
  "language_info": {
   "codemirror_mode": {
    "name": "ipython",
    "version": 3
   },
   "file_extension": ".py",
   "mimetype": "text/x-python",
   "name": "python",
   "nbconvert_exporter": "python",
   "pygments_lexer": "ipython3",
   "version": "3.7.7"
  }
 },
 "nbformat": 4,
 "nbformat_minor": 5
}
