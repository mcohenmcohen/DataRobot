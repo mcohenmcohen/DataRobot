{
 "cells": [
  {
   "cell_type": "code",
   "execution_count": 1,
   "metadata": {},
   "outputs": [],
   "source": [
    "import pandas as pd\n",
    "import datarobot as dr\n",
    "from datetime import datetime\n",
    "from datarobot.enums import SERVICE_STAT_METRIC\n",
    "from datarobot.helpers.partitioning_methods import construct_duration_string\n",
    "import os"
   ]
  },
  {
   "cell_type": "code",
   "execution_count": 2,
   "metadata": {},
   "outputs": [
    {
     "data": {
      "text/plain": [
       "<datarobot.rest.RESTClientObject at 0x11b99eb90>"
      ]
     },
     "execution_count": 2,
     "metadata": {},
     "output_type": "execute_result"
    }
   ],
   "source": [
    "USERNAME = os.environ['DATAROBOT_USERNAME']\n",
    "API_TOKEN = os.environ['DATAROBOT_API_TOKEN']\n",
    "ENDPOINT = 'https://app.datarobot.com/api/v2'\n",
    "\n",
    "dr.Client(token=API_TOKEN, endpoint=ENDPOINT)  "
   ]
  },
  {
   "cell_type": "code",
   "execution_count": 4,
   "metadata": {},
   "outputs": [
    {
     "data": {
      "text/plain": [
       "[DataSource('test 1'),\n",
       " DataSource('TEST_DB-PUBLIC-10k_diabetes-2020-10-12T16:15:33.470Z'),\n",
       " DataSource('TEST_DB-PUBLIC-BRETT_LENDINGCLUB-2020-10-12T16:17:02.486Z'),\n",
       " DataSource('TEST_DB-PUBLIC-LENDING_CLUB_SCORING-2020-10-12T16:27:51.474Z'),\n",
       " DataSource('snowflake_5f84824e72a5b5004be62f27')]"
      ]
     },
     "execution_count": 4,
     "metadata": {},
     "output_type": "execute_result"
    }
   ],
   "source": [
    "dr.DataSource.list()"
   ]
  },
  {
   "cell_type": "code",
   "execution_count": null,
   "metadata": {},
   "outputs": [],
   "source": []
  }
 ],
 "metadata": {
  "kernelspec": {
   "display_name": "Python 3",
   "language": "python",
   "name": "python3"
  },
  "language_info": {
   "codemirror_mode": {
    "name": "ipython",
    "version": 3
   },
   "file_extension": ".py",
   "mimetype": "text/x-python",
   "name": "python",
   "nbconvert_exporter": "python",
   "pygments_lexer": "ipython3",
   "version": "3.7.5"
  }
 },
 "nbformat": 4,
 "nbformat_minor": 4
}
