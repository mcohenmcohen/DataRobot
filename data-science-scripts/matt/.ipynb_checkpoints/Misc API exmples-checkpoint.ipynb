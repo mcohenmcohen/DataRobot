{
 "cells": [
  {
   "cell_type": "code",
   "execution_count": 1,
   "id": "28703b51",
   "metadata": {},
   "outputs": [],
   "source": [
    "import pandas as pd\n",
    "import datarobot as dr\n",
    "from datetime import datetime\n",
    "from datarobot.enums import SERVICE_STAT_METRIC\n",
    "from datarobot.helpers.partitioning_methods import construct_duration_string\n",
    "import requests\n",
    "import os\n",
    "import time\n",
    "from pprint import pprint as pp"
   ]
  },
  {
   "cell_type": "code",
   "execution_count": 2,
   "id": "fb0d1be7",
   "metadata": {},
   "outputs": [
    {
     "data": {
      "text/plain": [
       "<datarobot.rest.RESTClientObject at 0x7f99cb0fda30>"
      ]
     },
     "execution_count": 2,
     "metadata": {},
     "output_type": "execute_result"
    }
   ],
   "source": [
    "# \n",
    "# Connect to DataRobot  \n",
    "#\n",
    "# Replace the API token and username with yours, along with the \n",
    "# depolyment id and/or project and model ids you are using.  \n",
    "#\n",
    "\n",
    "USERNAME = os.environ['DATAROBOT_USERNAME']\n",
    "API_TOKEN = os.environ['DATAROBOT_API_TOKEN']\n",
    "ENDPOINT = 'https://app.datarobot.com/api/v2'\n",
    "\n",
    "dr.Client(token=API_TOKEN, endpoint=ENDPOINT)  "
   ]
  },
  {
   "cell_type": "markdown",
   "id": "077330c3",
   "metadata": {},
   "source": [
    "## Deployment service stats"
   ]
  },
  {
   "cell_type": "code",
   "execution_count": 3,
   "id": "49639dba",
   "metadata": {},
   "outputs": [
    {
     "name": "stdout",
     "output_type": "stream",
     "text": [
      "{'end_date': datetime.datetime(2022, 4, 15, 19, 0, tzinfo=tzutc()),\n",
      " 'start_date': datetime.datetime(2022, 4, 14, 19, 0, tzinfo=tzutc()),\n",
      " 'status': 'unknown'}\n",
      "{'end_date': datetime.datetime(2022, 4, 15, 19, 0, tzinfo=tzutc()),\n",
      " 'message': 'Either not enough predictions (100) have been made for data drift '\n",
      "            'analysis, or predictions are still being processed. Please '\n",
      "            'refresh the page in 1 minute if predictions have been made.',\n",
      " 'start_date': datetime.datetime(2022, 4, 8, 19, 0, tzinfo=tzutc()),\n",
      " 'status': 'unknown'}\n",
      "{'end_date': datetime.datetime(2022, 4, 15, 19, 0, tzinfo=tzutc()),\n",
      " 'message': 'RMSE change (-45.56%) is below warning threshold.',\n",
      " 'start_date': datetime.datetime(2020, 8, 14, 22, 0, tzinfo=tzutc()),\n",
      " 'status': 'passing'}\n"
     ]
    }
   ],
   "source": [
    "d = dr.Deployment.list(search='Server Response')[0]\n",
    "pp(d.service_health)\n",
    "pp(d.model_health)\n",
    "pp(d.accuracy_health)"
   ]
  },
  {
   "cell_type": "markdown",
   "id": "b17e8c6e",
   "metadata": {},
   "source": [
    "## Credentials"
   ]
  },
  {
   "cell_type": "code",
   "execution_count": 5,
   "id": "1f84109d",
   "metadata": {},
   "outputs": [
    {
     "data": {
      "text/plain": [
       "[Credential('5f74d11808d969041264c71d', 'github-application-oauth', 'oauth'),\n",
       " Credential('5f84778972a5b501d7c131e8', 'DATAROBOT', 'basic'),\n",
       " Credential('5f8488ca3fb82e0243d4052d', 'SourceCredentials_PredicitonJob_5f8488ca3fb82e0243d4052a', 'basic'),\n",
       " Credential('5f8488ca3fb82e0243d4052f', 'TargetCredentials_PredicitonJob_5f8488ca3fb82e0243d4052a', 'basic'),\n",
       " Credential('6022e5de55d516014228b9da', 'mike_test_connection_creds', 'basic')]"
      ]
     },
     "execution_count": 5,
     "metadata": {},
     "output_type": "execute_result"
    }
   ],
   "source": [
    "# List all credentials\n",
    "dr.Credential.list()"
   ]
  },
  {
   "cell_type": "markdown",
   "id": "3dccd839",
   "metadata": {},
   "source": [
    "## DataStore"
   ]
  },
  {
   "cell_type": "code",
   "execution_count": 8,
   "id": "716065cf",
   "metadata": {},
   "outputs": [
    {
     "name": "stdout",
     "output_type": "stream",
     "text": [
      "[DataStore('Snowflake demo'),\n",
      " DataStore('snowflake_5f84824e72a5b5004be62f27'),\n",
      " DataStore('mike_test_connection'),\n",
      " DataStore('Snowflake TEST_DB'),\n",
      " DataStore('DRDemo_DC_ContinuousAI_NYC311_00'),\n",
      " DataStore('DEMO ENGR')]\n",
      "5f84772f65da10003898e7da\n"
     ]
    }
   ],
   "source": [
    "# List all datastores\n",
    "ds = dr.DataStore.list()\n",
    "pp(ds)\n",
    "print(ds[0].id)"
   ]
  },
  {
   "cell_type": "code",
   "execution_count": null,
   "id": "b139ec72",
   "metadata": {},
   "outputs": [],
   "source": []
  }
 ],
 "metadata": {
  "kernelspec": {
   "display_name": "Python 3 (ipykernel)",
   "language": "python",
   "name": "python3"
  },
  "language_info": {
   "codemirror_mode": {
    "name": "ipython",
    "version": 3
   },
   "file_extension": ".py",
   "mimetype": "text/x-python",
   "name": "python",
   "nbconvert_exporter": "python",
   "pygments_lexer": "ipython3",
   "version": "3.8.0"
  }
 },
 "nbformat": 4,
 "nbformat_minor": 5
}
