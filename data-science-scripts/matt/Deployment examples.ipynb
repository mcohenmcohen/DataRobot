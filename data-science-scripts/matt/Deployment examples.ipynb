{
 "cells": [
  {
   "cell_type": "markdown",
   "metadata": {},
   "source": [
    "# Working With DataRobot Deployments\n",
    "### The examples below show examples of how you might manage model deployments\n",
    "\n",
    "### Good eample reference on github:  \n",
    "### https://github.com/datarobot-community/examples-for-data-scientists/blob/master/Making%20Predictions/Python/Batch%20Prediction%20API.ipynb\n",
    "\n",
    "### **For batch and realtime scoring examples, please see:\n",
    "- ./Deployment predictions - Batch.ipynb\n",
    "- ./Deployment predictions - Real-time REST with helper functions.ipynb"
   ]
  },
  {
   "cell_type": "code",
   "execution_count": 17,
   "metadata": {},
   "outputs": [],
   "source": [
    "import pandas as pd\n",
    "import datarobot as dr\n",
    "from datetime import datetime\n",
    "from datarobot.enums import SERVICE_STAT_METRIC\n",
    "from datarobot.helpers.partitioning_methods import construct_duration_string\n",
    "import requests\n",
    "import os\n",
    "import time\n",
    "from pprint import pprint as pp"
   ]
  },
  {
   "cell_type": "code",
   "execution_count": 18,
   "metadata": {},
   "outputs": [
    {
     "data": {
      "text/plain": [
       "<datarobot.rest.RESTClientObject at 0x7fefebe66a00>"
      ]
     },
     "execution_count": 18,
     "metadata": {},
     "output_type": "execute_result"
    }
   ],
   "source": [
    "# \n",
    "# Connect to DataRobot  \n",
    "#\n",
    "# Replace the API token and username with yours, along with the \n",
    "# depolyment id and/or project and model ids you are using.  \n",
    "#\n",
    "\n",
    "USERNAME = os.environ['DATAROBOT_USERNAME']\n",
    "API_TOKEN = os.environ['DATAROBOT_API_TOKEN']\n",
    "ENDPOINT = 'https://app.datarobot.com/api/v2'\n",
    "\n",
    "dr.Client(token=API_TOKEN, endpoint=ENDPOINT)  "
   ]
  },
  {
   "cell_type": "markdown",
   "metadata": {},
   "source": [
    "## Get Deployments"
   ]
  },
  {
   "cell_type": "code",
   "execution_count": 19,
   "metadata": {},
   "outputs": [
    {
     "data": {
      "text/plain": [
       "[Deployment(MMM Twitter messages polarity monitoring in Boston),\n",
       " Deployment(Housing Price Predictor (with Challengers)),\n",
       " Deployment(is_bad Predictions KLA),\n",
       " Deployment([MultiSeries] Bluebikes Availability (with challengers)),\n",
       " Deployment(MBTA Parking Utilization Forecasting [Deprecated]),\n",
       " Deployment(is_bad Predictions),\n",
       " Deployment(Store sales single series),\n",
       " Deployment(DRDemo_DP_ContinuousAI_NYC_CALLS-4Y_00),\n",
       " Deployment(DRDemo_DP_ContinuousAI_NYC311_00),\n",
       " Deployment(DRDemo_DP_ContinuousAI_HomeCredit_00),\n",
       " Deployment(DRDemo_DP_ContinuousAI_MEDICAL_AFD_00),\n",
       " Deployment(Weber Shandwick Sentiment Model - Multiclass),\n",
       " Deployment(CANCELED Predictions - ORIGINAL),\n",
       " Deployment(Lending Club Deployed Model),\n",
       " Deployment(is_bad Predictions MC),\n",
       " Deployment(lending club is_bad Predictions),\n",
       " Deployment([RAM-MODEL] Model Fit RAM Predictions),\n",
       " Deployment(Loan Defaults with Challengers [Segments]),\n",
       " Deployment(Hospital readmitted for diabetes MC demo e2e),\n",
       " Deployment(Pixability RoBERTA with correct multiclass labels),\n",
       " Deployment(Weber Shandwick Sentiment Model),\n",
       " Deployment(No_show Predictions),\n",
       " Deployment(Diabetes readmitted Predictions),\n",
       " Deployment(Demo Probability of Default (Risk Management)),\n",
       " Deployment( HuggingFace XLMR),\n",
       " Deployment(subscribed Predictions),\n",
       " Deployment(model61c3ba51919d4fa1a7c937b7_deployment),\n",
       " Deployment(readmitted Predictions - segment age ),\n",
       " Deployment(Loan Default Segmented Deployment),\n",
       " Deployment(Qlik to Data robot),\n",
       " Deployment(DEMO - readmitted Predictions),\n",
       " Deployment(DRDemo - DURATION Predictions NYC 311 App ),\n",
       " Deployment(PPS DeepDiveEnablement PPS Is_dormant Predictions),\n",
       " Deployment(Server Response Time Prediction [Challengers][Custom Model Champion]),\n",
       " Deployment(Pixability RoBERTa model),\n",
       " Deployment(Medical Shipment Delivery),\n",
       " Deployment(LendingClub Loan Default Predictions),\n",
       " Deployment(Risk Management - Custom Models),\n",
       " Deployment(Autoproject 6064e6c80f0c9d6b40074df4),\n",
       " Deployment(LC MC v1),\n",
       " Deployment(Segmented Modeling 7_3 SalesQty Demo),\n",
       " Deployment(DURATION Predictions NYC 311 App Deployment - REMOVE),\n",
       " Deployment(GCP MLOps Agent [Remote Model]),\n",
       " Deployment(ACME Garbage Pounds Predictions),\n",
       " Deployment(Claim Predictions),\n",
       " Deployment(Lead scoring banking - subscribed Predictions),\n",
       " Deployment(Predictive Maintenance: Parts Replaced),\n",
       " Deployment(salary predictions, bias and fairness),\n",
       " Deployment(10K_Lending_Club Random Forest),\n",
       " Deployment(SURVIVED Predictions),\n",
       " Deployment(subscribed Predictions LS),\n",
       " Deployment(Autoproject 609ac374f810e6e16e393c6b),\n",
       " Deployment(SalePrice Predictions - AI Apps),\n",
       " Deployment(New Deployment),\n",
       " Deployment(is_bad Predictions AMAT),\n",
       " Deployment(New Deployment),\n",
       " Deployment(Python binary classification remote model 2021-04-27 09:26:50.815956),\n",
       " Deployment([DEPRECATED] [Monaco] TuroRisk-v1--Socure-Sigma-Retrain--20201207),\n",
       " Deployment(Synaptics Predictions 2),\n",
       " Deployment(is_bad Predictions - notebook code example),\n",
       " Deployment(Synaptics Predictions),\n",
       " Deployment(Age Predictions),\n",
       " Deployment(MEDV Predictions for optimizer),\n",
       " Deployment(ss2019retrain r_dam mono),\n",
       " Deployment(category Predictions vmw),\n",
       " Deployment(Email classifier categories),\n",
       " Deployment(Churn Predictions onXmaps),\n",
       " Deployment(MLOps diabetes),\n",
       " Deployment(is_bad Predictions),\n",
       " Deployment(External predict surgery complications, binary),\n",
       " Deployment(1st Python binary classification),\n",
       " Deployment(New AMAT deployment),\n",
       " Deployment(DELAY_INDICATOR Predictions),\n",
       " Deployment(is_bad Predictions - replace notebook example),\n",
       " Deployment(is_bad Predictions),\n",
       " Deployment(is_bad Predictions),\n",
       " Deployment(is_bad Predictions),\n",
       " Deployment(Streaming Baseball Predictions),\n",
       " Deployment(DELAY_INDICATOR Predictions),\n",
       " Deployment(strike Predictions),\n",
       " Deployment(10k Lending Club loan defaults),\n",
       " Deployment(LC deploy),\n",
       " Deployment(LC deploy shuffle),\n",
       " Deployment(LC out),\n",
       " Deployment(LC_test_deploy_shuffle_2),\n",
       " Deployment(purchasePersonalLoan Predictions),\n",
       " Deployment(NES Predictions),\n",
       " Deployment(Trade AR (actual) Predictions),\n",
       " Deployment(readmitted Predictions),\n",
       " Deployment(MTTR_class Predictions),\n",
       " Deployment(T.Moe),\n",
       " Deployment(Wine quality),\n",
       " Deployment(My remote model deployment),\n",
       " Deployment(10k Diabetes XGB w/ early stop 80%),\n",
       " Deployment(LC SGD remote),\n",
       " Deployment(contactType Predictions),\n",
       " Deployment(Custom sklearn RF model),\n",
       " Deployment(Surgical compl. deployment),\n",
       " Deployment(Python binary classification surgical),\n",
       " Deployment(DnC prepay),\n",
       " Deployment(is_bad Predictions),\n",
       " Deployment(My new deployment no Save discard),\n",
       " Deployment(My new deployment),\n",
       " Deployment(target Predictions),\n",
       " Deployment(dfb Predictions),\n",
       " Deployment(is_bad Predictions test 1),\n",
       " Deployment(is_bad Predictions test 2),\n",
       " Deployment(is_bad Predictions - challenger test),\n",
       " Deployment(is_bad Predictions sdgsdgf),\n",
       " Deployment(replaced Predictions),\n",
       " Deployment(Churn Predictions),\n",
       " Deployment(Churn Predictions),\n",
       " Deployment(Google Collab - Python binary classification2),\n",
       " Deployment(readmitted Predictions),\n",
       " Deployment(readmitted Predictions),\n",
       " Deployment(readmitted Predictions),\n",
       " Deployment(readmitted Predictions),\n",
       " Deployment(is_bad Predictions),\n",
       " Deployment(is_bad Predictions),\n",
       " Deployment(loan_bad Predictions),\n",
       " Deployment(Housing prices),\n",
       " Deployment(readmitted Predictions),\n",
       " Deployment(price Predictions),\n",
       " Deployment(PREPAID_THIS_MONTH Predictions),\n",
       " Deployment(External housing),\n",
       " Deployment(Python binary classification remote model 2020-11-25 09:35:07.373197),\n",
       " Deployment(is_bad Predictions M-D),\n",
       " Deployment(readmitted Predictions),\n",
       " Deployment(Hired Predictions),\n",
       " Deployment(Attrition Predictions),\n",
       " Deployment(is_bad Predictions 1),\n",
       " Deployment(Churn Predictions ATL),\n",
       " Deployment(readmitted Predictions cambia),\n",
       " Deployment(Is NFF Predictions),\n",
       " Deployment(vAutoAgeBucket Predictions hgreg),\n",
       " Deployment(vAutoAgeBucket Predictions),\n",
       " Deployment(Autoproject 6019a6da3c6ab84d16aec9a7),\n",
       " Deployment(V test),\n",
       " Deployment(is_bad Predictions 2),\n",
       " Deployment(external readmitted 10kdiabetes),\n",
       " Deployment(Boston housing with challengers),\n",
       " Deployment(externals boston housing deployment),\n",
       " Deployment(Carlos Sancor Binaria),\n",
       " Deployment(CTA Prophet),\n",
       " Deployment(price Predictions roofstock),\n",
       " Deployment(Churn Predictions TM),\n",
       " Deployment(loan_bad Predictions),\n",
       " Deployment(is_bad Predictions cambia),\n",
       " Deployment(vAutoAgeBucket Predictions),\n",
       " Deployment(readmitted Predictions 21-03-22),\n",
       " Deployment(Attrition Predictions),\n",
       " Deployment(Attrition Predictions from mlpkg),\n",
       " Deployment(Attrition Predictions AWS),\n",
       " Deployment(Attrition Predictions),\n",
       " Deployment(Autoproject 6064e71270a03633ab1ac165),\n",
       " Deployment(Autoproject 6064eaf3042af5d8ff1ac2e3),\n",
       " Deployment(Autoproject 6066b75502039b8e301ac4ae),\n",
       " Deployment(is_bad Predictions 3),\n",
       " Deployment(Python binary classification remote model 2021-04-27 11:02:15.352789),\n",
       " Deployment(is_bad Predictions PPS),\n",
       " Deployment(Telecomm Churn with PPS to run locally),\n",
       " Deployment(boston housing prices to run PPS on AWS),\n",
       " Deployment(My new deployment SG),\n",
       " Deployment(complication Predictions),\n",
       " Deployment(is_bad Predictions temp RS),\n",
       " Deployment(loan_bad Predictions TM),\n",
       " Deployment(part_replaced Predictions),\n",
       " Deployment(veem GBM label Predictions),\n",
       " Deployment(iFraud Predictions Alion),\n",
       " Deployment(Python binary classification remote model 2021-06-15 14:55:42.291589),\n",
       " Deployment(is_bad Predictions),\n",
       " Deployment(is_bad Predictions),\n",
       " Deployment(price Predictions attain),\n",
       " Deployment(Amount (actual) Predictions),\n",
       " Deployment(CMyers Balance (actual) Predictions),\n",
       " Deployment(subscribed Predictions),\n",
       " Deployment(Balance (actual) Predictions),\n",
       " Deployment(C Myers Balance (actual) Predictions),\n",
       " Deployment(Autoproject 61134502ced019bb891188c0),\n",
       " Deployment(Autoproject 611dee6eadbf149461c01f58),\n",
       " Deployment(Churn Predictions NetApp),\n",
       " Deployment(Churn Predictions),\n",
       " Deployment(Utah price Predictions),\n",
       " Deployment(price Predictions NM),\n",
       " Deployment(subscribed Predictions),\n",
       " Deployment(loan_bad Predictions ext),\n",
       " Deployment(Next Month CPR (actual) Predictions),\n",
       " Deployment(Python binary classification remote model 2021-10-06 08:11:36.913612),\n",
       " Deployment(Autoproject 616a6852d66d76af630e7eff),\n",
       " Deployment(Clustering Predictions),\n",
       " Deployment(MLOps E2E - challenger test),\n",
       " Deployment(Sales (actual) Predictions),\n",
       " Deployment(ContribMarginPerTripDay Predictions AWS),\n",
       " Deployment(MC Lending Club for Snowflake env UDF),\n",
       " Deployment(BH IH Demand Full Deployment),\n",
       " Deployment(Sales (actual) Predictions),\n",
       " Deployment(MMM E2E Tutorial),\n",
       " Deployment(Ruby Predictions - churn)]"
      ]
     },
     "execution_count": 19,
     "metadata": {},
     "output_type": "execute_result"
    }
   ],
   "source": [
    "# List all of your deployments\n",
    "deployments = dr.Deployment.list()\n",
    "deployments"
   ]
  },
  {
   "cell_type": "code",
   "execution_count": 20,
   "metadata": {},
   "outputs": [
    {
     "data": {
      "text/plain": [
       "[Deployment(is_bad Predictions KLA),\n",
       " Deployment(is_bad Predictions),\n",
       " Deployment(is_bad Predictions MC),\n",
       " Deployment(lending club is_bad Predictions),\n",
       " Deployment(is_bad Predictions AMAT),\n",
       " Deployment(is_bad Predictions - notebook code example),\n",
       " Deployment(is_bad Predictions),\n",
       " Deployment(is_bad Predictions - replace notebook example),\n",
       " Deployment(is_bad Predictions),\n",
       " Deployment(is_bad Predictions),\n",
       " Deployment(is_bad Predictions),\n",
       " Deployment(is_bad Predictions),\n",
       " Deployment(is_bad Predictions test 1),\n",
       " Deployment(is_bad Predictions test 2),\n",
       " Deployment(is_bad Predictions - challenger test),\n",
       " Deployment(is_bad Predictions sdgsdgf),\n",
       " Deployment(is_bad Predictions),\n",
       " Deployment(is_bad Predictions),\n",
       " Deployment(is_bad Predictions M-D),\n",
       " Deployment(is_bad Predictions 1),\n",
       " Deployment(is_bad Predictions 2),\n",
       " Deployment(is_bad Predictions cambia),\n",
       " Deployment(is_bad Predictions 3),\n",
       " Deployment(is_bad Predictions PPS),\n",
       " Deployment(is_bad Predictions temp RS),\n",
       " Deployment(is_bad Predictions),\n",
       " Deployment(is_bad Predictions)]"
      ]
     },
     "execution_count": 20,
     "metadata": {},
     "output_type": "execute_result"
    }
   ],
   "source": [
    "# Get deployments by search string\n",
    "deployments_lc = dr.Deployment.list(search='is_bad Predictions')\n",
    "deployments_lc"
   ]
  },
  {
   "cell_type": "code",
   "execution_count": 21,
   "metadata": {},
   "outputs": [
    {
     "name": "stdout",
     "output_type": "stream",
     "text": [
      "Deployment(is_bad Predictions)\n"
     ]
    },
    {
     "data": {
      "text/plain": [
       "{'id': '60ca49604acc6cd17d6a87cc',\n",
       " 'type': 'Light Gradient Boosted Trees Classifier with Early Stopping',\n",
       " 'target_name': 'is_bad',\n",
       " 'project_id': '60ca463ee5e31e2109ecf5af',\n",
       " 'target_type': 'Binary',\n",
       " 'project_name': '_10K Lending Club Loans.csv',\n",
       " 'unsupervised_mode': False,\n",
       " 'unstructured_model_kind': False,\n",
       " 'build_environment_type': 'DataRobot',\n",
       " 'deployed_at': '2021-06-16T20:04:32.740000Z'}"
      ]
     },
     "execution_count": 21,
     "metadata": {},
     "output_type": "execute_result"
    }
   ],
   "source": [
    "# Get first first deployment\n",
    "deployment_lc_first = deployments_lc[0]\n",
    "\n",
    "# Get the most recent deployment\n",
    "deployment_lc_last = deployments_lc[-1]\n",
    "print(deployment_lc_last)\n",
    "\n",
    "# Let's use the most recent model info from a deployment\n",
    "deployment = deployment_lc_last\n",
    "deployment.model"
   ]
  },
  {
   "cell_type": "markdown",
   "metadata": {},
   "source": [
    "## Deployment attributes and methods"
   ]
  },
  {
   "cell_type": "code",
   "execution_count": 22,
   "metadata": {
    "scrolled": true
   },
   "outputs": [
    {
     "name": "stdout",
     "output_type": "stream",
     "text": [
      "__class__\n",
      "__delattr__\n",
      "__dict__\n",
      "__dir__\n",
      "__doc__\n",
      "__eq__\n",
      "__format__\n",
      "__ge__\n",
      "__getattribute__\n",
      "__gt__\n",
      "__hash__\n",
      "__init__\n",
      "__init_subclass__\n",
      "__le__\n",
      "__lt__\n",
      "__module__\n",
      "__ne__\n",
      "__new__\n",
      "__reduce__\n",
      "__reduce_ex__\n",
      "__repr__\n",
      "__setattr__\n",
      "__sizeof__\n",
      "__str__\n",
      "__subclasshook__\n",
      "__weakref__\n",
      "_build_query_params\n",
      "_capabilities\n",
      "_client\n",
      "_converter\n",
      "_create_from_custom_model_entity\n",
      "_default_prediction_server_converter\n",
      "_fields\n",
      "_filter_data\n",
      "_health\n",
      "_model_converter\n",
      "_path\n",
      "_prediction_usage\n",
      "_safe_data\n",
      "_server_data\n",
      "accuracy_health\n",
      "capabilities\n",
      "create_from_custom_model_image\n",
      "create_from_custom_model_version\n",
      "create_from_learning_model\n",
      "default_prediction_server\n",
      "delete\n",
      "description\n",
      "download_prediction_results\n",
      "download_scoring_code\n",
      "from_data\n",
      "from_location\n",
      "from_server_data\n",
      "get\n",
      "get_accuracy\n",
      "get_accuracy_over_time\n",
      "get_association_id_settings\n",
      "get_challenger_models_settings\n",
      "get_drift_tracking_settings\n",
      "get_feature_drift\n",
      "get_features\n",
      "get_prediction_intervals_settings\n",
      "get_prediction_results\n",
      "get_prediction_warning_settings\n",
      "get_predictions_by_forecast_date_settings\n",
      "get_predictions_data_collection_settings\n",
      "get_secondary_dataset_config\n",
      "get_segment_analysis_settings\n",
      "get_service_stats\n",
      "get_service_stats_over_time\n",
      "get_target_drift\n",
      "id\n",
      "label\n",
      "list\n",
      "model\n",
      "model_health\n",
      "permissions\n",
      "prediction_usage\n",
      "replace_model\n",
      "service_health\n",
      "submit_actuals\n",
      "update\n",
      "update_association_id_settings\n",
      "update_challenger_models_settings\n",
      "update_drift_tracking_settings\n",
      "update_prediction_intervals_settings\n",
      "update_prediction_warning_settings\n",
      "update_predictions_by_forecast_date_settings\n",
      "update_predictions_data_collection_settings\n",
      "update_secondary_dataset_config\n",
      "update_segment_analysis_settings\n",
      "validate_replacement_model\n",
      "\n"
     ]
    },
    {
     "data": {
      "text/plain": [
       "{'id': '60ca595078628dac87cd35cc',\n",
       " 'label': 'is_bad Predictions',\n",
       " 'description': None,\n",
       " 'default_prediction_server': {'id': '5a61d7a0fbd723001a2f70d9',\n",
       "  'url': 'https://cfds-ccm-prod.orm.datarobot.com',\n",
       "  'datarobot-key': '544ec55f-61bf-f6ee-0caf-15c7f919a45d'},\n",
       " 'model': {'id': '60ca49604acc6cd17d6a87cc',\n",
       "  'type': 'Light Gradient Boosted Trees Classifier with Early Stopping',\n",
       "  'target_name': 'is_bad',\n",
       "  'project_id': '60ca463ee5e31e2109ecf5af',\n",
       "  'target_type': 'Binary',\n",
       "  'project_name': '_10K Lending Club Loans.csv',\n",
       "  'unsupervised_mode': False,\n",
       "  'unstructured_model_kind': False,\n",
       "  'build_environment_type': 'DataRobot',\n",
       "  'deployed_at': '2021-06-16T20:04:32.740000Z'},\n",
       " 'capabilities': {'supports_model_replacement': True,\n",
       "  'supports_target_drift_tracking': True,\n",
       "  'supports_feature_drift_tracking': True,\n",
       "  'supports_prediction_warning': False,\n",
       "  'supports_prediction_intervals': False,\n",
       "  'supports_humility_rules': True,\n",
       "  'supports_humility_rules_default_calculations': True,\n",
       "  'supports_humility_recommended_rules': True,\n",
       "  'supports_challenger_models': True,\n",
       "  'supports_shap_based_prediction_explanations': False,\n",
       "  'supports_segmented_analysis_drift_and_accuracy': True,\n",
       "  'supports_bias_and_fairness': True,\n",
       "  'supports_feature_type_info_validation': True,\n",
       "  'supports_secondary_datasets': False,\n",
       "  'supports_scoring_code_download': True,\n",
       "  'supports_automatic_actuals': False,\n",
       "  'supports_retraining': True},\n",
       " 'prediction_usage': {'daily_rates': [0.0]},\n",
       " 'permissions': ['CAN_MAKE_PREDICTIONS',\n",
       "  'CAN_VIEW',\n",
       "  'CAN_EDIT_DEPLOYMENT',\n",
       "  'CAN_DELETE_DEPLOYMENT',\n",
       "  'CAN_UPDATE_DEPLOYMENT_THRESHOLDS',\n",
       "  'CAN_SHARE',\n",
       "  'CAN_SHARE_DEPLOYMENT_OWNERSHIP',\n",
       "  'CAN_REPLACE_MODEL',\n",
       "  'CAN_APPROVE_REPLACEMENT_MODEL',\n",
       "  'CAN_SUBMIT_ACTUALS',\n",
       "  'CAN_ADD_CHALLENGERS',\n",
       "  'CAN_DELETE_CHALLENGERS',\n",
       "  'CAN_EDIT_CHALLENGERS',\n",
       "  'CAN_SCORE_CHALLENGERS',\n",
       "  'CAN_GENERATE_DOCUMENTATION',\n",
       "  'CAN_DOWNLOAD_DOCUMENTATION',\n",
       "  'CAN_BE_MANAGED_BY_MLOPS_AGENT'],\n",
       " 'service_health': {'status': 'unknown',\n",
       "  'start_date': datetime.datetime(2022, 4, 15, 0, 0, tzinfo=tzutc()),\n",
       "  'end_date': datetime.datetime(2022, 4, 16, 0, 0, tzinfo=tzutc())},\n",
       " 'model_health': {'status': 'unavailable',\n",
       "  'message': '0 low-importance attribute distributions have drifted since the model was trained.'},\n",
       " 'accuracy_health': {'status': 'unavailable',\n",
       "  'message': 'Accuracy is unknown.'}}"
      ]
     },
     "execution_count": 22,
     "metadata": {},
     "output_type": "execute_result"
    }
   ],
   "source": [
    "for item in dir(deployment):\n",
    "    print(item)\n",
    "print()\n",
    "deployment.__dict__"
   ]
  },
  {
   "cell_type": "markdown",
   "metadata": {},
   "source": [
    "## Get service stats"
   ]
  },
  {
   "cell_type": "code",
   "execution_count": 27,
   "metadata": {},
   "outputs": [
    {
     "name": "stdout",
     "output_type": "stream",
     "text": [
      "{'cacheHitRatio': 0.0,\n",
      " 'executionTime': None,\n",
      " 'medianLoad': 0.0,\n",
      " 'numConsumers': 0,\n",
      " 'peakLoad': 0.0,\n",
      " 'responseTime': None,\n",
      " 'serverErrorRate': 0.0,\n",
      " 'slowRequests': 0,\n",
      " 'totalPredictions': 0,\n",
      " 'totalRequests': 0,\n",
      " 'userErrorRate': 0.0}\n",
      "{'status': 'unknown', 'start_date': datetime.datetime(2022, 4, 15, 0, 0, tzinfo=tzutc()), 'end_date': datetime.datetime(2022, 4, 16, 0, 0, tzinfo=tzutc())}\n",
      "{'status': 'unavailable', 'message': '0 low-importance attribute distributions have drifted since the model was trained.'}\n",
      "{'status': 'unavailable', 'message': 'Accuracy is unknown.'}\n"
     ]
    }
   ],
   "source": [
    "# View deployment stats\n",
    "service_stats = deployment.get_service_stats()\n",
    "print(service_stats.metrics)\n",
    "\n",
    "print(deployment.service_health)\n",
    "print(deployment.model_health)\n",
    "print(deployment.accuracy_health)"
   ]
  },
  {
   "cell_type": "markdown",
   "metadata": {},
   "source": [
    "## Create a new Deployment"
   ]
  },
  {
   "cell_type": "code",
   "execution_count": 25,
   "metadata": {},
   "outputs": [
    {
     "data": {
      "text/plain": [
       "Project(60ca463ee5e31e2109ecf5af)"
      ]
     },
     "execution_count": 25,
     "metadata": {},
     "output_type": "execute_result"
    }
   ],
   "source": [
    "#\n",
    "# Create new deployment from a project\n",
    "#\n",
    "dr.Project(deployment.model.get('project_id'))\n",
    "\n",
    "# dr.Deployment.create..."
   ]
  },
  {
   "cell_type": "markdown",
   "metadata": {},
   "source": [
    "## Replace a mode in a deployment"
   ]
  },
  {
   "cell_type": "code",
   "execution_count": null,
   "metadata": {},
   "outputs": [],
   "source": [
    "# Replace a model with a new model from a new project\n",
    "from datarobot.enums import MODEL_REPLACEMENT_REASON\n",
    "\n",
    "deployment = dr.Deployment.list(search=DEPLOYMENT_NAME)[0]\n",
    "print(deployment.service_health)\n",
    "print(deployment.model_health)\n",
    "print(deployment.accuracy_health)\n",
    "\n",
    "retrain_project = dr.Project.start(sourcedata=TRAIN_FILE, \n",
    "                                      project_name=NEW_PROJECT_NAME, target=TARGET, \n",
    "                                      autopilot_on=True,\n",
    "                                      worker_count=-1)\n",
    "\n",
    "model = retrain_project.get_models()[0]  # order is the leaderboard, so 0 is the top\n",
    "\n",
    "deployment.replace_model(model.id, MODEL_REPLACEMENT_REASON.ACCURACY)"
   ]
  },
  {
   "cell_type": "code",
   "execution_count": 47,
   "metadata": {},
   "outputs": [],
   "source": []
  },
  {
   "cell_type": "code",
   "execution_count": 48,
   "metadata": {},
   "outputs": [],
   "source": [
    "# status (array[string]) – (New in version v2.25) Optional. Filters deployments by their status\n",
    "# enum: [‘inactive’, ‘archived’, ‘active’]\n",
    "    \n",
    "# Set the status:\n",
    "# https://app.datarobot.com/apidocs/entities/deployments.html#post--api-v2-deployments-fromLearningModel-\n",
    "\n",
    "# Get the status\n",
    "# https://app.datarobot.com/apidocs/entities/deployments.html#get--api-v2-deployments-(deploymentId)-"
   ]
  },
  {
   "cell_type": "code",
   "execution_count": 49,
   "metadata": {},
   "outputs": [
    {
     "name": "stdout",
     "output_type": "stream",
     "text": [
      "https://mlops.dynamic.orm.datarobot.com\n"
     ]
    },
    {
     "ename": "DataRobotPredictionError",
     "evalue": "404 Error: <html>\r\n<head><title>404 Not Found</title></head>\r\n<body>\r\n<center><h1>404 Not Found</h1></center>\r\n<hr><center>nginx</center>\r\n</body>\r\n</html>\r\n",
     "output_type": "error",
     "traceback": [
      "\u001b[0;31m---------------------------------------------------------------------------\u001b[0m",
      "\u001b[0;31mHTTPError\u001b[0m                                 Traceback (most recent call last)",
      "Input \u001b[0;32mIn [49]\u001b[0m, in \u001b[0;36m_raise_dataroboterror_for_status\u001b[0;34m(response)\u001b[0m\n\u001b[1;32m      3\u001b[0m \u001b[38;5;28;01mtry\u001b[39;00m:\n\u001b[0;32m----> 4\u001b[0m     \u001b[43mresponse\u001b[49m\u001b[38;5;241;43m.\u001b[39;49m\u001b[43mraise_for_status\u001b[49m\u001b[43m(\u001b[49m\u001b[43m)\u001b[49m\n\u001b[1;32m      5\u001b[0m \u001b[38;5;28;01mexcept\u001b[39;00m requests\u001b[38;5;241m.\u001b[39mexceptions\u001b[38;5;241m.\u001b[39mHTTPError:\n",
      "File \u001b[0;32m/Library/Frameworks/Python.framework/Versions/3.8/lib/python3.8/site-packages/requests/models.py:960\u001b[0m, in \u001b[0;36mResponse.raise_for_status\u001b[0;34m(self)\u001b[0m\n\u001b[1;32m    959\u001b[0m \u001b[38;5;28;01mif\u001b[39;00m http_error_msg:\n\u001b[0;32m--> 960\u001b[0m     \u001b[38;5;28;01mraise\u001b[39;00m HTTPError(http_error_msg, response\u001b[38;5;241m=\u001b[39m\u001b[38;5;28mself\u001b[39m)\n",
      "\u001b[0;31mHTTPError\u001b[0m: 404 Client Error: Not Found for url: https://mlops.dynamic.orm.datarobot.com/",
      "\nDuring handling of the above exception, another exception occurred:\n",
      "\u001b[0;31mDataRobotPredictionError\u001b[0m                  Traceback (most recent call last)",
      "Input \u001b[0;32mIn [49]\u001b[0m, in \u001b[0;36m<module>\u001b[0;34m\u001b[0m\n\u001b[1;32m     43\u001b[0m \u001b[38;5;28mprint\u001b[39m(url)\n\u001b[1;32m     45\u001b[0m predictions_response \u001b[38;5;241m=\u001b[39m requests\u001b[38;5;241m.\u001b[39mget(\n\u001b[1;32m     46\u001b[0m     url,\n\u001b[1;32m     47\u001b[0m \u001b[38;5;66;03m#     data=data,\u001b[39;00m\n\u001b[0;32m   (...)\u001b[0m\n\u001b[1;32m     51\u001b[0m     \u001b[38;5;66;03m# params=params,\u001b[39;00m\n\u001b[1;32m     52\u001b[0m )\n\u001b[0;32m---> 53\u001b[0m \u001b[43m_raise_dataroboterror_for_status\u001b[49m\u001b[43m(\u001b[49m\u001b[43mpredictions_response\u001b[49m\u001b[43m)\u001b[49m\n\u001b[1;32m     54\u001b[0m \u001b[38;5;66;03m# Return a Python dict following the schema in the documentation\u001b[39;00m\n\u001b[1;32m     56\u001b[0m predictions_response\u001b[38;5;241m.\u001b[39mjson()\n",
      "Input \u001b[0;32mIn [49]\u001b[0m, in \u001b[0;36m_raise_dataroboterror_for_status\u001b[0;34m(response)\u001b[0m\n\u001b[1;32m      5\u001b[0m \u001b[38;5;28;01mexcept\u001b[39;00m requests\u001b[38;5;241m.\u001b[39mexceptions\u001b[38;5;241m.\u001b[39mHTTPError:\n\u001b[1;32m      6\u001b[0m     err_msg \u001b[38;5;241m=\u001b[39m \u001b[38;5;124m'\u001b[39m\u001b[38;5;132;01m{code}\u001b[39;00m\u001b[38;5;124m Error: \u001b[39m\u001b[38;5;132;01m{msg}\u001b[39;00m\u001b[38;5;124m'\u001b[39m\u001b[38;5;241m.\u001b[39mformat(\n\u001b[1;32m      7\u001b[0m         code\u001b[38;5;241m=\u001b[39mresponse\u001b[38;5;241m.\u001b[39mstatus_code, msg\u001b[38;5;241m=\u001b[39mresponse\u001b[38;5;241m.\u001b[39mtext)\n\u001b[0;32m----> 8\u001b[0m     \u001b[38;5;28;01mraise\u001b[39;00m DataRobotPredictionError(err_msg)\n",
      "\u001b[0;31mDataRobotPredictionError\u001b[0m: 404 Error: <html>\r\n<head><title>404 Not Found</title></head>\r\n<body>\r\n<center><h1>404 Not Found</h1></center>\r\n<hr><center>nginx</center>\r\n</body>\r\n</html>\r\n"
     ]
    }
   ],
   "source": [
    "def _raise_dataroboterror_for_status(response):\n",
    "    \"\"\"Raise DataRobotPredictionError if the request fails along with the response returned\"\"\"\n",
    "    try:\n",
    "        response.raise_for_status()\n",
    "    except requests.exceptions.HTTPError:\n",
    "        err_msg = '{code} Error: {msg}'.format(\n",
    "            code=response.status_code, msg=response.text)\n",
    "        raise DataRobotPredictionError(err_msg)\n",
    "\n",
    "class DataRobotPredictionError(Exception):\n",
    "    \"\"\"Raised if there are issues getting predictions from DataRobot\"\"\"\n",
    "\n",
    "    \n",
    "headers = {\n",
    "    # As default, we expect CSV as input data.\n",
    "    # Should you wish to supply JSON instead,\n",
    "    # comment out the line below and use the line after that instead:\n",
    "    'Content-Type': CONTENT_TYPE,\n",
    "    # 'Content-Type': 'application/json; charset=UTF-8',\n",
    "\n",
    "    'Authorization': 'Bearer {}'.format(API_KEY),\n",
    "    'DataRobot-Key': DATAROBOT_KEY,\n",
    "}\n",
    "\n",
    "url = API_URL.format(deployment_id=deployment.id)\n",
    "\n",
    "# Prediction Explanations:\n",
    "# See the documentation for more information:\n",
    "# https://app.datarobot.com/docs/predictions/api/dr-predapi.html#request-pred-explanations\n",
    "# Should you wish to include Prediction Explanations or Prediction Warnings in the result,\n",
    "# Change the parameters below accordingly, and remove the comment from the params field below:\n",
    "\n",
    "params = {\n",
    "    # If explanations are required, uncomment the line below\n",
    "    # 'maxExplanations': 3,\n",
    "    # 'thresholdHigh': 0.5,\n",
    "    # 'thresholdLow': 0.15,\n",
    "    # Uncomment this for Prediction Warnings, if enabled for your deployment.\n",
    "    # 'predictionWarningEnabled': 'true',\n",
    "}\n",
    "# Make API request for predictions\n",
    "\n",
    "print(url)\n",
    "\n",
    "predictions_response = requests.get(\n",
    "    url,\n",
    "#     data=data,\n",
    "    headers=headers,\n",
    "    # Prediction Explanations:\n",
    "    # Uncomment this to include explanations in your prediction\n",
    "    # params=params,\n",
    ")\n",
    "_raise_dataroboterror_for_status(predictions_response)\n",
    "# Return a Python dict following the schema in the documentation\n",
    "\n",
    "predictions_response.json()"
   ]
  },
  {
   "cell_type": "markdown",
   "metadata": {},
   "source": [
    "## Get service stats"
   ]
  },
  {
   "cell_type": "code",
   "execution_count": 12,
   "metadata": {},
   "outputs": [
    {
     "data": {
      "text/plain": [
       "{'totalPredictions': 31929468,\n",
       " 'userErrorRate': 0.00102897373409152,\n",
       " 'cacheHitRatio': 0.881884646628757,\n",
       " 'executionTime': 145.5,\n",
       " 'totalRequests': 18465,\n",
       " 'serverErrorRate': 0,\n",
       " 'slowRequests': 1719,\n",
       " 'medianLoad': 2,\n",
       " 'numConsumers': 1,\n",
       " 'responseTime': 495.666666666667,\n",
       " 'peakLoad': 2}"
      ]
     },
     "execution_count": 12,
     "metadata": {},
     "output_type": "execute_result"
    }
   ],
   "source": [
    "ss = d.get_service_stats()\n",
    "ss.metrics"
   ]
  },
  {
   "cell_type": "code",
   "execution_count": 67,
   "metadata": {},
   "outputs": [
    {
     "data": {
      "text/plain": [
       "['_build_query_params',\n",
       " '_client',\n",
       " '_converter',\n",
       " '_fields',\n",
       " '_filter_data',\n",
       " '_path',\n",
       " '_period',\n",
       " '_safe_data',\n",
       " '_server_data',\n",
       " 'from_data',\n",
       " 'from_location',\n",
       " 'from_server_data',\n",
       " 'get',\n",
       " 'metrics',\n",
       " 'model_id',\n",
       " 'period']"
      ]
     },
     "execution_count": 67,
     "metadata": {},
     "output_type": "execute_result"
    }
   ],
   "source": [
    "# ss = d.get_service_stats()\n",
    "ss = d.get_service_stats(\n",
    "    start_time=datetime(2020, 8, 1, hour=0),\n",
    "    end_time=datetime(2020, 11, 15, hour=23),\n",
    ")\n",
    "# ss[SERVICE_STAT_METRIC.ALL]\n",
    "ss[SERVICE_STAT_METRIC.TOTAL_PREDICTIONS]\n",
    "[a for a in dir(ss) if '__' not in a]"
   ]
  },
  {
   "cell_type": "code",
   "execution_count": 68,
   "metadata": {},
   "outputs": [
    {
     "data": {
      "text/plain": [
       "{'start': datetime.datetime(2020, 8, 1, 0, 0, tzinfo=tzutc()),\n",
       " 'end': datetime.datetime(2020, 11, 15, 23, 0, tzinfo=tzutc())}"
      ]
     },
     "execution_count": 68,
     "metadata": {},
     "output_type": "execute_result"
    }
   ],
   "source": [
    "ss.period"
   ]
  },
  {
   "cell_type": "code",
   "execution_count": 69,
   "metadata": {},
   "outputs": [
    {
     "data": {
      "text/plain": [
       "{'totalPredictions': 361449,\n",
       " 'userErrorRate': 0.000711842150730848,\n",
       " 'cacheHitRatio': 0.999585334669477,\n",
       " 'executionTime': 72,\n",
       " 'totalRequests': 144695,\n",
       " 'serverErrorRate': 0.000442309685891012,\n",
       " 'slowRequests': 759,\n",
       " 'medianLoad': 1,\n",
       " 'numConsumers': 4,\n",
       " 'responseTime': 115,\n",
       " 'peakLoad': 10}"
      ]
     },
     "execution_count": 69,
     "metadata": {},
     "output_type": "execute_result"
    }
   ],
   "source": [
    "ss.metrics"
   ]
  },
  {
   "cell_type": "code",
   "execution_count": 57,
   "metadata": {},
   "outputs": [
    {
     "data": {
      "text/plain": [
       "'totalPredictions'"
      ]
     },
     "execution_count": 57,
     "metadata": {},
     "output_type": "execute_result"
    }
   ],
   "source": [
    "total_predictions = d.get_service_stats_over_time(\n",
    "    start_time=datetime(2020, 8, 1, hour=15),\n",
    "    end_time=datetime(2020, 11, 8, hour=15),\n",
    "    bucket_size=construct_duration_string(days=1)\n",
    ")\n",
    "total_predictions.metric"
   ]
  },
  {
   "cell_type": "code",
   "execution_count": 56,
   "metadata": {},
   "outputs": [
    {
     "data": {
      "text/plain": [
       "'totalPredictions'"
      ]
     },
     "execution_count": 56,
     "metadata": {},
     "output_type": "execute_result"
    }
   ],
   "source": [
    "ss_ot = d.get_service_stats_over_time(\n",
    "    start_time=datetime(2020, 8, 1, hour=15),\n",
    "    end_time=datetime(2020, 11, 8, hour=15),\n",
    "    bucket_size=construct_duration_string(days=1),\n",
    "    metric=SERVICE_STAT_METRIC.TOTAL_PREDICTIONS\n",
    ")\n",
    "ss_ot.metric"
   ]
  },
  {
   "cell_type": "code",
   "execution_count": 55,
   "metadata": {},
   "outputs": [
    {
     "data": {
      "text/plain": [
       "['_bucket',\n",
       " '_build_query_params',\n",
       " '_client',\n",
       " '_converter',\n",
       " '_fields',\n",
       " '_filter_data',\n",
       " '_path',\n",
       " '_period',\n",
       " '_safe_data',\n",
       " '_server_data',\n",
       " 'bucket_values',\n",
       " 'buckets',\n",
       " 'from_data',\n",
       " 'from_location',\n",
       " 'from_server_data',\n",
       " 'get',\n",
       " 'metric',\n",
       " 'model_id',\n",
       " 'summary']"
      ]
     },
     "execution_count": 55,
     "metadata": {},
     "output_type": "execute_result"
    }
   ],
   "source": [
    "[a for a in dir(ss_ot) if '__' not in a]"
   ]
  },
  {
   "cell_type": "code",
   "execution_count": 53,
   "metadata": {},
   "outputs": [
    {
     "data": {
      "text/plain": [
       "'totalPredictions'"
      ]
     },
     "execution_count": 53,
     "metadata": {},
     "output_type": "execute_result"
    }
   ],
   "source": [
    "#  'bucket_values',\n",
    "#  'buckets',\n",
    "#  'from_data',\n",
    "#  'from_location',\n",
    "#  'from_server_data',\n",
    "#  'get',\n",
    "#  'metric',\n",
    "#  'model_id',\n",
    "#  'summary']\n",
    "total_predictions.bucket_values\n",
    "total_predictions.buckets\n",
    "total_predictions.metric\n",
    "# total_predictions.model_id\n",
    "# total_predictions.summary"
   ]
  },
  {
   "cell_type": "markdown",
   "metadata": {},
   "source": [
    "## End to end example workflow"
   ]
  },
  {
   "cell_type": "code",
   "execution_count": 6,
   "metadata": {},
   "outputs": [
    {
     "name": "stdout",
     "output_type": "stream",
     "text": [
      "Project(early_2012_2013_train.csv.zip)\n",
      "Model('Elastic-Net Classifier (L2 / Binomial Deviance)')\n",
      "\n",
      "The new deployment and its model\n",
      "Deployment(My New Deployment)\n",
      "5ab534695153e09e03250fc0\n",
      "Elastic-Net Classifier (L2 / Binomial Deviance)\n",
      "\n",
      "The new deployment and its replaced model\n",
      "5ab535785153e0fda98c84b5\n",
      "ENET Blender\n"
     ]
    }
   ],
   "source": [
    "# ******************************\n",
    "# An example end to end workflow\n",
    "# ******************************\n",
    "\n",
    "# Get a project\n",
    "most_recent_project = dr.Project.list()[-1]\n",
    "print(most_recent_project)\n",
    "\n",
    "# Get models\n",
    "models = most_recent_project.get_models()\n",
    "best_model = models[0]\n",
    "print(best_model)\n",
    "\n",
    "# Get a list of the prediction servers and use the first one\n",
    "prediction_servers = dr.PredictionServer.list()\n",
    "pred_server_url = prediction_servers[0]\n",
    "\n",
    "# Deploy model\n",
    "new_deployment = dr.Deployment.create_from_learning_model(model_id=best_model.id, \n",
    "                                                          label='My New Deployment',\n",
    "                                                          default_prediction_server_id=pred_server_url.id)\n",
    "print('\\nThe new deployment and its model')\n",
    "print(new_deployment)\n",
    "print(new_deployment.model.get('id'))\n",
    "print(new_deployment.model.get('type'))\n",
    "\n",
    "# Get another model\n",
    "model_2 = models[1]\n",
    "\n",
    "# replace the model in the deployment with the new model\n",
    "new_deployment.replace_model(model_2.id, reason=dr.enums.MODEL_REPLACEMENT_REASON.ACCURACY)\n",
    "print('\\nThe new deployment and its replaced model')\n",
    "print(new_deployment.model.get('id'))\n",
    "print(new_deployment.model.get('type'))\n",
    "\n",
    "# Delete the deployment\n",
    "new_deployment.delete()"
   ]
  },
  {
   "cell_type": "code",
   "execution_count": null,
   "metadata": {},
   "outputs": [],
   "source": []
  }
 ],
 "metadata": {
  "kernelspec": {
   "display_name": "Python 3 (ipykernel)",
   "language": "python",
   "name": "python3"
  },
  "language_info": {
   "codemirror_mode": {
    "name": "ipython",
    "version": 3
   },
   "file_extension": ".py",
   "mimetype": "text/x-python",
   "name": "python",
   "nbconvert_exporter": "python",
   "pygments_lexer": "ipython3",
   "version": "3.8.0"
  }
 },
 "nbformat": 4,
 "nbformat_minor": 2
}
