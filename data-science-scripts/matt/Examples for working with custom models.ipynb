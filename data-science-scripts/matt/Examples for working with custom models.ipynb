{
 "cells": [
  {
   "cell_type": "markdown",
   "metadata": {},
   "source": [
    "## Working with Custom Models\n",
    "\n",
    "### https://datarobot-public-api-client.readthedocs-hosted.com/en/v2.23.0/entities/custom_model.html"
   ]
  },
  {
   "cell_type": "code",
   "execution_count": 14,
   "metadata": {},
   "outputs": [],
   "source": [
    "import pandas as pd\n",
    "import numpy as np\n",
    "import os\n",
    "import datarobot as dr"
   ]
  },
  {
   "cell_type": "code",
   "execution_count": 4,
   "metadata": {},
   "outputs": [
    {
     "data": {
      "text/plain": [
       "<datarobot.rest.RESTClientObject at 0x112284790>"
      ]
     },
     "execution_count": 4,
     "metadata": {},
     "output_type": "execute_result"
    }
   ],
   "source": [
    "USERNAME = os.environ['DATAROBOT_USERNAME']\n",
    "API_TOKEN = os.environ['DATAROBOT_API_TOKEN']\n",
    "ENDPOINT = 'https://app.datarobot.com/api/v2'\n",
    "\n",
    "dr.Client(token=API_TOKEN, endpoint=ENDPOINT)  "
   ]
  },
  {
   "cell_type": "code",
   "execution_count": 20,
   "metadata": {},
   "outputs": [
    {
     "name": "stdout",
     "output_type": "stream",
     "text": [
      "5fbe920c59e8fd54c8556adb\n"
     ]
    },
    {
     "data": {
      "text/plain": [
       "CustomInferenceModel('Housing price regression')"
      ]
     },
     "execution_count": 20,
     "metadata": {},
     "output_type": "execute_result"
    }
   ],
   "source": [
    "# List custom models and grab one\n",
    "cmlist = dr.CustomInferenceModel.list()\n",
    "cm = np.nan\n",
    "for i, model in enumerate(cmlist):\n",
    "    if 'Housing price regression' in cmlist[i].name:\n",
    "        cm = cmlist[i]\n",
    "        break\n",
    "print(cm.id)\n",
    "cm"
   ]
  },
  {
   "cell_type": "code",
   "execution_count": 21,
   "metadata": {},
   "outputs": [],
   "source": [
    "# # Download latest content\n",
    "# path_to_download = '/Users/matthew.cohen/Dev/data-science-scripts/matt'\n",
    "# custom_model = dr.CustomInferenceModel.get(cm.id)\n",
    "# custom_model.download_latest_version(path_to_download)"
   ]
  },
  {
   "cell_type": "code",
   "execution_count": 43,
   "metadata": {},
   "outputs": [],
   "source": [
    "# Create a new custom model\n",
    "# dr.CustomInferenceModel.create?\n",
    "cm_new = dr.CustomInferenceModel.create(\n",
    "    name='boston housing regr api',\n",
    "    target_type=dr.TARGET_TYPE.REGRESSION,\n",
    "    target_name='MEDV',\n",
    "    language='Python',\n",
    "    description='test from api call',\n",
    "    network_egress_policy=None,\n",
    ")"
   ]
  },
  {
   "cell_type": "code",
   "execution_count": 44,
   "metadata": {},
   "outputs": [
    {
     "name": "stdout",
     "output_type": "stream",
     "text": [
      "custom model dataset already exists\n"
     ]
    },
    {
     "data": {
      "text/plain": [
       "Dataset(name='boston_housing_train.csv', id='601af9df93178624eaaa1761')"
      ]
     },
     "execution_count": 44,
     "metadata": {},
     "output_type": "execute_result"
    }
   ],
   "source": [
    "# Assign training data, if it hasn't been uploaded already\n",
    "path_to_dataset = '/Users/matthew.cohen/Documents/DR/MLOps/_custom_models_and_env/data/boston_housing_train.csv'\n",
    "\n",
    "try:\n",
    "    dr.Dataset.get('601af9df93178624eaaa1761')\n",
    "    print('custom model dataset already exists')\n",
    "except:\n",
    "    print('dataset not found, creating one')\n",
    "    dataset = dr.Dataset.create_from_file(file_path=path_to_dataset)\n",
    "\n",
    "cm_new.assign_training_data(dataset.id)\n",
    "cm_new.training_data_file_name"
   ]
  },
  {
   "cell_type": "code",
   "execution_count": 52,
   "metadata": {},
   "outputs": [
    {
     "name": "stdout",
     "output_type": "stream",
     "text": [
      "Get the [DataRobot] Python 3 Keras Drop-In env\n"
     ]
    },
    {
     "data": {
      "text/plain": [
       "CustomModelVersion('v1.0')"
      ]
     },
     "execution_count": 52,
     "metadata": {},
     "output_type": "execute_result"
    }
   ],
   "source": [
    "# Add the model files\n",
    "# Modeling code for Custom Inference Models can be uploaded by creating a Custom Model Version\n",
    "custom_model_folder = \"/Users/matthew.cohen/Documents/DR/MLOps/_custom_models_and_env/Housing_prices\"\n",
    "\n",
    "# Get and use the sklearn drop-in env\n",
    "ees = dr.ExecutionEnvironment.list()\n",
    "for i, ee in enumerate(ees):\n",
    "    if 'Scikit-Learn Drop-In' in ees[i].name:\n",
    "        ee = ees[i]\n",
    "print('Get the %s env' % ee.name)\n",
    "\n",
    "# add files from the folder to the custom model\n",
    "model_version = dr.CustomModelVersion.create_clean(\n",
    "    custom_model_id=cm_new.id,\n",
    "    base_environment_id=ee.id,\n",
    "    folder_path=custom_model_folder,\n",
    ")\n",
    "model_version\n",
    "\n",
    "# # or add a list of files to the custom model\n",
    "# model_version_2 = dr.CustomModelVersion.create_clean(\n",
    "#     custom_model_id=cm_new.id,\n",
    "#     files=[(os.path.join(custom_model_folder, 'custom.py'), 'custom.py')],\n",
    "# )\n",
    "\n",
    "# # and/or set k8s resources to the custom model\n",
    "# model_version_3 = dr.CustomModelVersion.create_clean(\n",
    "#     custom_model_id=custom_model.id,\n",
    "#     files=[(os.path.join(custom_model_folder, 'custom.py'), 'custom.py')],\n",
    "#     network_egress_policy=dr.NETWORK_EGRESS_POLICY.PUBLIC,\n",
    "#     desired_memory=256*1024*1024,\n",
    "#     maximum_memory=512*1024*1024,\n",
    "#     replicas=1,\n",
    "# )"
   ]
  },
  {
   "cell_type": "code",
   "execution_count": 51,
   "metadata": {},
   "outputs": [
    {
     "data": {
      "text/plain": [
       "ExecutionEnvironment('[DataRobot] Python 3 Keras Drop-In')"
      ]
     },
     "execution_count": 51,
     "metadata": {},
     "output_type": "execute_result"
    }
   ],
   "source": [
    "ees = dr.ExecutionEnvironment.list()\n",
    "for i, ee in enumerate(ees):\n",
    "    if 'Scikit-Learn Drop-In' in ees[i].name:\n",
    "        ee = ees[i]\n",
    "ee"
   ]
  },
  {
   "cell_type": "code",
   "execution_count": 56,
   "metadata": {},
   "outputs": [],
   "source": [
    "dr.models.FeatureDrift\n",
    "from datarobot.models import FeatureDrift"
   ]
  },
  {
   "cell_type": "code",
   "execution_count": null,
   "metadata": {},
   "outputs": [],
   "source": []
  }
 ],
 "metadata": {
  "kernelspec": {
   "display_name": "Python 3",
   "language": "python",
   "name": "python3"
  },
  "language_info": {
   "codemirror_mode": {
    "name": "ipython",
    "version": 3
   },
   "file_extension": ".py",
   "mimetype": "text/x-python",
   "name": "python",
   "nbconvert_exporter": "python",
   "pygments_lexer": "ipython3",
   "version": "3.7.5"
  }
 },
 "nbformat": 4,
 "nbformat_minor": 4
}
