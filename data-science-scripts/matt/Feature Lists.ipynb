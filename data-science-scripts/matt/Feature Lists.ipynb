{
 "cells": [
  {
   "cell_type": "code",
   "execution_count": 3,
   "metadata": {},
   "outputs": [],
   "source": [
    "import pandas as pd\n",
    "import datarobot as dr\n",
    "import os"
   ]
  },
  {
   "cell_type": "code",
   "execution_count": 4,
   "metadata": {},
   "outputs": [
    {
     "data": {
      "text/plain": [
       "<datarobot.rest.RESTClientObject at 0x115bae310>"
      ]
     },
     "execution_count": 4,
     "metadata": {},
     "output_type": "execute_result"
    }
   ],
   "source": [
    "USERNAME = os.environ['DATAROBOT_USERNAME']\n",
    "API_TOKEN = os.environ['DATAROBOT_API_TOKEN']\n",
    "ENDPOINT = 'https://app.datarobot.com/api/v2'\n",
    "\n",
    "dr.Client(token=API_TOKEN, endpoint=ENDPOINT) "
   ]
  },
  {
   "cell_type": "code",
   "execution_count": 12,
   "metadata": {},
   "outputs": [
    {
     "name": "stdout",
     "output_type": "stream",
     "text": [
      "Project name and file: C_Myers all_source_train 2020 -4_0, 1-13, XEMP, C_Myers all_source_train.csv\n",
      "43 models\n",
      "model: Model('Eureqa Generalized Additive Model (1000 Generations)')\n"
     ]
    }
   ],
   "source": [
    "PROJECT_ID = '610ccac23732873040c76f84'  # C.Myers\n",
    "MODEL_ID = '6113fca32691e5a99e51c00c'  # Eureqa\n",
    "\n",
    "prj = dr.Project.get(PROJECT_ID)\n",
    "\n",
    "print('Project name and file: %s, %s' % (prj.project_name, prj.file_name))\n",
    "\n",
    "models = prj.get_models()  # [:12]  # get only the top n to narrow it down\n",
    "print('%s models' % len(models))\n",
    "\n",
    "# model = models[0]\n",
    "model = dr.Model.get(PROJECT_ID, MODEL_ID)\n",
    "print('model:', model)"
   ]
  },
  {
   "cell_type": "code",
   "execution_count": 16,
   "metadata": {},
   "outputs": [],
   "source": [
    "fi = model.get_or_request_feature_impact()\n",
    "df = pd.DataFrame(fi)"
   ]
  },
  {
   "cell_type": "code",
   "execution_count": 23,
   "metadata": {},
   "outputs": [
    {
     "data": {
      "text/html": [
       "<div>\n",
       "<style scoped>\n",
       "    .dataframe tbody tr th:only-of-type {\n",
       "        vertical-align: middle;\n",
       "    }\n",
       "\n",
       "    .dataframe tbody tr th {\n",
       "        vertical-align: top;\n",
       "    }\n",
       "\n",
       "    .dataframe thead th {\n",
       "        text-align: right;\n",
       "    }\n",
       "</style>\n",
       "<table border=\"1\" class=\"dataframe\">\n",
       "  <thead>\n",
       "    <tr style=\"text-align: right;\">\n",
       "      <th></th>\n",
       "      <th>featureName</th>\n",
       "      <th>impactNormalized</th>\n",
       "      <th>impactUnnormalized</th>\n",
       "      <th>redundantWith</th>\n",
       "    </tr>\n",
       "  </thead>\n",
       "  <tbody>\n",
       "    <tr>\n",
       "      <th>0</th>\n",
       "      <td>Date (Year) (actual)</td>\n",
       "      <td>1.000000</td>\n",
       "      <td>1.129395</td>\n",
       "      <td>None</td>\n",
       "    </tr>\n",
       "    <tr>\n",
       "      <th>1</th>\n",
       "      <td># of Accts (1st lag)</td>\n",
       "      <td>0.437960</td>\n",
       "      <td>0.494630</td>\n",
       "      <td>None</td>\n",
       "    </tr>\n",
       "    <tr>\n",
       "      <th>2</th>\n",
       "      <td>Commercial Real Estate Price Index (Level) (ac...</td>\n",
       "      <td>0.119503</td>\n",
       "      <td>0.134966</td>\n",
       "      <td>None</td>\n",
       "    </tr>\n",
       "    <tr>\n",
       "      <th>3</th>\n",
       "      <td>Balance (diff) (4 quarter max)</td>\n",
       "      <td>0.057585</td>\n",
       "      <td>0.065036</td>\n",
       "      <td>None</td>\n",
       "    </tr>\n",
       "    <tr>\n",
       "      <th>4</th>\n",
       "      <td>Balance (diff) (4 quarter std)</td>\n",
       "      <td>0.035913</td>\n",
       "      <td>0.040560</td>\n",
       "      <td>None</td>\n",
       "    </tr>\n",
       "    <tr>\n",
       "      <th>5</th>\n",
       "      <td># of Accts (4 quarter std)</td>\n",
       "      <td>0.000000</td>\n",
       "      <td>0.000000</td>\n",
       "      <td>None</td>\n",
       "    </tr>\n",
       "    <tr>\n",
       "      <th>6</th>\n",
       "      <td>10_year Treasury yield (actual)</td>\n",
       "      <td>0.000000</td>\n",
       "      <td>0.000000</td>\n",
       "      <td>None</td>\n",
       "    </tr>\n",
       "  </tbody>\n",
       "</table>\n",
       "</div>"
      ],
      "text/plain": [
       "                                         featureName  impactNormalized  \\\n",
       "0                               Date (Year) (actual)          1.000000   \n",
       "1                               # of Accts (1st lag)          0.437960   \n",
       "2  Commercial Real Estate Price Index (Level) (ac...          0.119503   \n",
       "3                     Balance (diff) (4 quarter max)          0.057585   \n",
       "4                     Balance (diff) (4 quarter std)          0.035913   \n",
       "5                         # of Accts (4 quarter std)          0.000000   \n",
       "6                    10_year Treasury yield (actual)          0.000000   \n",
       "\n",
       "   impactUnnormalized redundantWith  \n",
       "0            1.129395          None  \n",
       "1            0.494630          None  \n",
       "2            0.134966          None  \n",
       "3            0.065036          None  \n",
       "4            0.040560          None  \n",
       "5            0.000000          None  \n",
       "6            0.000000          None  "
      ]
     },
     "execution_count": 23,
     "metadata": {},
     "output_type": "execute_result"
    }
   ],
   "source": [
    "df.head(7)"
   ]
  },
  {
   "cell_type": "code",
   "execution_count": 19,
   "metadata": {},
   "outputs": [
    {
     "data": {
      "text/html": [
       "<div>\n",
       "<style scoped>\n",
       "    .dataframe tbody tr th:only-of-type {\n",
       "        vertical-align: middle;\n",
       "    }\n",
       "\n",
       "    .dataframe tbody tr th {\n",
       "        vertical-align: top;\n",
       "    }\n",
       "\n",
       "    .dataframe thead th {\n",
       "        text-align: right;\n",
       "    }\n",
       "</style>\n",
       "<table border=\"1\" class=\"dataframe\">\n",
       "  <thead>\n",
       "    <tr style=\"text-align: right;\">\n",
       "      <th></th>\n",
       "      <th>featureName</th>\n",
       "      <th>impactNormalized</th>\n",
       "      <th>impactUnnormalized</th>\n",
       "      <th>redundantWith</th>\n",
       "    </tr>\n",
       "  </thead>\n",
       "  <tbody>\n",
       "    <tr>\n",
       "      <th>49</th>\n",
       "      <td>Source (actual)</td>\n",
       "      <td>0.000000</td>\n",
       "      <td>0.000000</td>\n",
       "      <td>None</td>\n",
       "    </tr>\n",
       "    <tr>\n",
       "      <th>50</th>\n",
       "      <td>Unemployment rate (actual)</td>\n",
       "      <td>0.000000</td>\n",
       "      <td>0.000000</td>\n",
       "      <td>None</td>\n",
       "    </tr>\n",
       "    <tr>\n",
       "      <th>51</th>\n",
       "      <td>dr_fdw_counts_5ca80712962d745a316c288b</td>\n",
       "      <td>0.000000</td>\n",
       "      <td>0.000000</td>\n",
       "      <td>None</td>\n",
       "    </tr>\n",
       "    <tr>\n",
       "      <th>52</th>\n",
       "      <td>Date (Day of Week) (actual)</td>\n",
       "      <td>-0.000282</td>\n",
       "      <td>-0.000319</td>\n",
       "      <td>None</td>\n",
       "    </tr>\n",
       "    <tr>\n",
       "      <th>53</th>\n",
       "      <td>Balance (naive latest value)</td>\n",
       "      <td>-0.320375</td>\n",
       "      <td>-0.361830</td>\n",
       "      <td>None</td>\n",
       "    </tr>\n",
       "  </tbody>\n",
       "</table>\n",
       "</div>"
      ],
      "text/plain": [
       "                               featureName  impactNormalized  \\\n",
       "49                         Source (actual)          0.000000   \n",
       "50              Unemployment rate (actual)          0.000000   \n",
       "51  dr_fdw_counts_5ca80712962d745a316c288b          0.000000   \n",
       "52             Date (Day of Week) (actual)         -0.000282   \n",
       "53            Balance (naive latest value)         -0.320375   \n",
       "\n",
       "    impactUnnormalized redundantWith  \n",
       "49            0.000000          None  \n",
       "50            0.000000          None  \n",
       "51            0.000000          None  \n",
       "52           -0.000319          None  \n",
       "53           -0.361830          None  "
      ]
     },
     "execution_count": 19,
     "metadata": {},
     "output_type": "execute_result"
    }
   ],
   "source": [
    "df.tail(5)"
   ]
  },
  {
   "cell_type": "code",
   "execution_count": null,
   "metadata": {},
   "outputs": [],
   "source": []
  }
 ],
 "metadata": {
  "kernelspec": {
   "display_name": "Python 3",
   "language": "python",
   "name": "python3"
  },
  "language_info": {
   "codemirror_mode": {
    "name": "ipython",
    "version": 3
   },
   "file_extension": ".py",
   "mimetype": "text/x-python",
   "name": "python",
   "nbconvert_exporter": "python",
   "pygments_lexer": "ipython3",
   "version": "3.7.5"
  }
 },
 "nbformat": 4,
 "nbformat_minor": 4
}
