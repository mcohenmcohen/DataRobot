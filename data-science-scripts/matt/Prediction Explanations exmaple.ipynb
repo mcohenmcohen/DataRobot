{
 "cells": [
  {
   "cell_type": "code",
   "execution_count": null,
   "metadata": {},
   "outputs": [],
   "source": [
    "import pandas as pd\n",
    "import numpy as np\n",
    "import datarobot as dr\n",
    "import os\n",
    "import time"
   ]
  },
  {
   "cell_type": "code",
   "execution_count": null,
   "metadata": {},
   "outputs": [],
   "source": [
    "USERNAME = os.environ['DATAROBOT_USERNAME']\n",
    "API_TOKEN = os.environ['DATAROBOT_API_TOKEN']\n",
    "\n",
    "dr.Client(token=API_TOKEN, endpoint=ENDPOINT)  \n",
    "\n",
    "DEPLOYMENT_ID = '5c19273c06eeed008a2ac7f9'\n",
    "\n",
    "deployment = dr.Deployment.get(deployment_id=DEPLOYMENT_ID)\n",
    "\n",
    "PROJECT_ID = deployment.model.get('project_id')\n",
    "MODEL_ID = deployment.model.get('id')\n",
    "\n",
    "project = dr.Project.get(project_id=PROJECT_ID)\n",
    "model = dr.Model.get(project=PROJECT_ID, model_id=MODEL_ID)"
   ]
  },
  {
   "cell_type": "code",
   "execution_count": null,
   "metadata": {},
   "outputs": [],
   "source": [
    "# Let's time it:\n",
    "t1 = time.time()\n",
    "\n",
    "PRED_FILE = 'my_prediction_rows.csv'\n",
    "\n",
    "print('Uploading prediction dataset')\n",
    "dataset_from_path = project.upload_dataset(PRED_FILE)\n",
    "\n",
    "print('Initializing prediction explanations')\n",
    "pei = dr.PredictionExplanationsInitialization.create(project.id, model.id)\n",
    "print('- ', pei)\n",
    "\n",
    "print('Waiting for initialization')\n",
    "print(pei.get_result_when_complete())\n",
    "\n",
    "print('First, request predictions')\n",
    "predict_job = model.request_predictions(dataset_from_path.id)\n",
    "\n",
    "print('Waiting for prediction calculations')\n",
    "predictions = predict_job.get_result_when_complete()\n",
    "\n",
    "print('Then you can create prediction explanations')\n",
    "pe_job = dr.PredictionExplanations.create(project.id, model.id,  dataset_from_path.id)\n",
    "\n",
    "print('Waiting for job to complete')\n",
    "pe = pe_job.get_result_when_complete()\n",
    "\n",
    "print('- Time: %0.3f' % (time.time()-t1))\n",
    "df_pe = pe.get_all_as_dataframe()\n",
    "df_pe.head()"
   ]
  }
 ],
 "metadata": {
  "kernelspec": {
   "display_name": "Python 3",
   "language": "python",
   "name": "python3"
  },
  "language_info": {
   "codemirror_mode": {
    "name": "ipython",
    "version": 3
   },
   "file_extension": ".py",
   "mimetype": "text/x-python",
   "name": "python",
   "nbconvert_exporter": "python",
   "pygments_lexer": "ipython3",
   "version": "3.7.5"
  }
 },
 "nbformat": 4,
 "nbformat_minor": 4
}
