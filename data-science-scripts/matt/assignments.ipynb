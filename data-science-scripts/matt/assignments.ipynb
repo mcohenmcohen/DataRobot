{
 "cells": [
  {
   "cell_type": "code",
   "execution_count": 1,
   "id": "dbe89f25",
   "metadata": {},
   "outputs": [],
   "source": [
    "import pandas as pd\n",
    "import numpy as np\n",
    "import random"
   ]
  },
  {
   "cell_type": "code",
   "execution_count": 2,
   "id": "95959b3b",
   "metadata": {},
   "outputs": [
    {
     "name": "stdout",
     "output_type": "stream",
     "text": [
      "Steven Martin, Matt Boyle, Brenna Ghigliotto\n",
      "Karla Reisch, Emerald McFerrin, Greg Scovil\n",
      "Nik Grau, Reggie Boykin, Luke Elworthy\n",
      "Mike Karrol, Connor Sullivan, Chris Prue\n",
      "JT Ervin, Brandon Peters, Andres ?\n",
      "Zach Gentry, Paul Shin, Chris Sam\n",
      "Charles Passalacqua, Dre ?, David Beyer\n",
      "Graceson Pastirik, Dylan Bufnil, Meghan Mulhall\n",
      "Stacey Fudella, James Dorr\n"
     ]
    }
   ],
   "source": [
    "ae_str = \"\"\"Zach Gentry (Central CSR, Jenny)\n",
    "Stacey Fudella (Central CSR, Jenny)\n",
    "Chris Sam (Central CSR, Jenny)\n",
    "Mike Karrol (Central CSR, Jenny)\n",
    "Karla Reisch (Central CSR, Jenny)\n",
    " \n",
    "Matt Boyle (East CSR, Lauren)\n",
    "Steven Martin (East CSR, Lauren)\n",
    "Graceson Pastirik (East CSR, Lauren)\n",
    "Charles Passalacqua (East CSR, Lauren)\n",
    " \n",
    "Luke Elworthy (West CSR, Nate)\n",
    "Paul Shin (West CSR, Nate)\n",
    "Reggie Boykin (West CSR, Nate)\n",
    "Brandon Peters (West CSR, Nate)\n",
    " \n",
    "Connor Sullivan (West CAE, Pat)\n",
    "Dylan Bufnil (West CSR, Pat)\n",
    "JT Ervin (West CSR, Pat) \n",
    "Dre ? (West CSR, Pat) \n",
    "Andres ? (West CSR, Pat) \n",
    " \n",
    "Brenna Ghigliotto (Central CAE, Kuda)\n",
    "James Dorr (Central CAE, Kuda)\n",
    "Nik Grau (Central CAE, Kuda)\n",
    "Emerald McFerrin (Central CAE, Kuda)\n",
    " \n",
    "Chris Prue (Central CAE, Dan)\n",
    "Meghan Mulhall (Central CAE, Dan)\n",
    "Greg Scovil (Central CAE, Dan)\n",
    "David Beyer (Central CAE, Dan)\"\"\"\n",
    "\n",
    "ae_list = ae_str.split()\n",
    "drop_list = ['CAE,', 'CSR,', '(', ')']\n",
    "\n",
    "# drop non-name words from the list\n",
    "for drop_word in drop_list:\n",
    "    ae_list = [x for x in ae_list if drop_word not in x]\n",
    "\n",
    "# convert list to list of first lat names\n",
    "ae_list_len = len(ae_list)\n",
    "paired_list = [ae_list[i] + ' ' + ae_list[i+1] for i in range(0, ae_list_len-1, 2)]\n",
    "if ae_list_len % 2 == 1:\n",
    "    paired_list.append(ae_list[ae_list_len-1])\n",
    "paired_list\n",
    "\n",
    "# split pairs into n lists, randomly assigned\n",
    "n = 9\n",
    "random.shuffle(paired_list)\n",
    "pairs = [paired_list[i::n] for i in range(n)]\n",
    "\n",
    "# print each of the n lists well-formatted\n",
    "for p in pairs:\n",
    "    print(', '.join(p))\n"
   ]
  },
  {
   "cell_type": "code",
   "execution_count": null,
   "id": "91d0086e",
   "metadata": {},
   "outputs": [],
   "source": []
  }
 ],
 "metadata": {
  "kernelspec": {
   "display_name": "Python 3 (ipykernel)",
   "language": "python",
   "name": "python3"
  },
  "language_info": {
   "codemirror_mode": {
    "name": "ipython",
    "version": 3
   },
   "file_extension": ".py",
   "mimetype": "text/x-python",
   "name": "python",
   "nbconvert_exporter": "python",
   "pygments_lexer": "ipython3",
   "version": "3.8.0"
  }
 },
 "nbformat": 4,
 "nbformat_minor": 5
}
