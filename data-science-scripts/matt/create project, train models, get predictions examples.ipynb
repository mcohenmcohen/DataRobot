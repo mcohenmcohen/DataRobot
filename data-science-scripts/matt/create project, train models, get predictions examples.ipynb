{
 "cells": [
  {
   "cell_type": "markdown",
   "metadata": {},
   "source": [
    "# <u>DataRobot API examples</u>\n",
    "#### Documentation:  https://datarobot-public-api-client.readthedocs-hosted.com/\n",
    "## 1. Read a dataset from a csv file on the file system, split it into training and prediction sets."
   ]
  },
  {
   "cell_type": "code",
   "execution_count": 1,
   "metadata": {},
   "outputs": [
    {
     "name": "stdout",
     "output_type": "stream",
     "text": [
      "Full data shape:       (50000, 16)\n",
      "Training data shape:   (45000, 16)\n",
      "Prediction data shape: (5000, 15)\n"
     ]
    }
   ],
   "source": [
    "import pandas as pd\n",
    "from sklearn.metrics import roc_auc_score, log_loss, roc_curve, auc\n",
    "from pprint import pprint\n",
    "import os\n",
    "import time\n",
    "import requests\n",
    "import datarobot as dr\n",
    "import warnings\n",
    "warnings.filterwarnings('ignore')\n",
    "\n",
    "import matplotlib.pyplot as plt\n",
    "%matplotlib inline\n",
    "\n",
    "source_data_file = 'data/flight_delay_data_50k.csv'\n",
    "target = 'DELAY_INDICATOR'\n",
    "\n",
    "# Read in data from .csv\n",
    "df_full = pd.read_csv(source_data_file)\n",
    "\n",
    "# Shuffle the rows\n",
    "df_full = df_full.sample(frac=1, random_state=0)\n",
    "\n",
    "# Split 90% for training, 10% for predictions\n",
    "split = int(df_full.shape[0] * .01)\n",
    "df_train = df_full[split:]\n",
    "df_pred_y = df_full[:split].copy()  # has target column\n",
    "\n",
    "# Drop the target column from the prediction dataset\n",
    "df_pred = df_pred_y.drop(target, axis=1)\n",
    "\n",
    "print('Full data shape:      ',df_full.shape)\n",
    "print('Training data shape:  ',df_train.shape)\n",
    "print('Prediction data shape:',df_pred.shape)"
   ]
  },
  {
   "cell_type": "markdown",
   "metadata": {},
   "source": [
    "## 2. Create a DataRobot project"
   ]
  },
  {
   "cell_type": "code",
   "execution_count": 5,
   "metadata": {},
   "outputs": [
    {
     "data": {
      "text/plain": [
       "<datarobot.rest.RESTClientObject at 0x123cb3250>"
      ]
     },
     "execution_count": 5,
     "metadata": {},
     "output_type": "execute_result"
    }
   ],
   "source": [
    "# Establish client connection\n",
    "dr.Client(token=os.environ['DATAROBOT_API_TOKEN'], endpoint='https://app.datarobot.com/api/v2')"
   ]
  },
  {
   "cell_type": "markdown",
   "metadata": {},
   "source": [
    "## 3. The 'Out of the Box Autopilot'\n",
    "### If we wanted to run autopilot on a dataset and it's features as-is, then we would simply run project.start, which only needs the source data (eg, a csv), the target name, and a project name as parameters.  Project creation, file upload and target selection are all combined in Project.start method.  DataRobot will do the rest in terms of data typing and using informative features.\n",
    "```\n",
    "project.start(sourcedata=df, \n",
    "              target='DELAY_INDICATOR'\n",
    "              project_name='Flight delay classification'\n",
    "```\n",
    "### Instead, we'll use a few steps to create a project, upload the data, and set the target.  After feature engineering, we can run full autopilot or zmanually train selected models.\n",
    "\n",
    "#### Autopilot mode means that the modeling process will proceed completely automatically, including running recommended models, running at different sample sizes, and blending.\n",
    "\n",
    "#### Manual mode means that DataRobot will populate a list of recommended models, but will not insert any of them into the queue. Manual mode lets you select which models to execute before starting the modeling process.\n",
    "\n"
   ]
  },
  {
   "cell_type": "code",
   "execution_count": 6,
   "metadata": {},
   "outputs": [
    {
     "name": "stdout",
     "output_type": "stream",
     "text": [
      "project id:   60af0a906c3bcece3fc4d297\n",
      "project name: Flight Delay API example\n",
      "project.get_status():\n",
      "-  {'autopilot_done': False, 'stage_description': 'Ready to set target', 'stage': 'aim'}\n",
      "- create done: 47.935\n",
      "- set_target done: 56.212\n"
     ]
    }
   ],
   "source": [
    "import time\n",
    "t1 = time.time()\n",
    "# Create a project: upload the data, set the target, give the project a name\n",
    "# Blueprint processing and training will run asynchronously after performing the second EDA pass\n",
    "project = dr.Project.create(sourcedata=df_train, \n",
    "                            project_name='Flight Delay API example')\n",
    "\n",
    "print('project id:  ', project.id)\n",
    "print('project name:', project.project_name)\n",
    "print('project.get_status():\\n- ', project.get_status())\n",
    "print('- create done: %0.3f' % (time.time()-t1))\n",
    "\n",
    "t1 = time.time()\n",
    "# Setting the target starts autopilot, but we'll use manual mode to kick off autopilot in a later step.\n",
    "project.set_target(target=target, \n",
    "                   mode='manual',\n",
    "                   worker_count=-1)\n",
    "print('- set_target done: %0.3f' % (time.time()-t1))"
   ]
  },
  {
   "cell_type": "markdown",
   "metadata": {},
   "source": [
    "## 4. Working with features\n",
    "###  We'll generate a new feature list to do some feature engineering given some dirty data and our domain knowledge of the business.  Start by first retrieving the features from the project object."
   ]
  },
  {
   "cell_type": "code",
   "execution_count": 7,
   "metadata": {},
   "outputs": [
    {
     "data": {
      "text/plain": [
       "['ACT_AC_TYPE',\n",
       " 'ARRV_A15_IND',\n",
       " 'AVOIDABLE_DELAY_IND',\n",
       " 'CARRIER',\n",
       " 'DAY_OF_WEEK',\n",
       " 'DELAY_CODE',\n",
       " 'DELAY_CODE_DESCRIPTION',\n",
       " 'DELAY_INDICATOR',\n",
       " 'DESTINATION',\n",
       " 'D_O_W_NUM',\n",
       " 'FLT_DATE',\n",
       " 'FLT_DATE (Day of Week)',\n",
       " 'FLT_NBR',\n",
       " 'HOUR_OF_DPTR',\n",
       " 'ORIGIN',\n",
       " 'UNAVOIDABLE_DELAY_IND',\n",
       " 'Unnamed: 0']"
      ]
     },
     "execution_count": 7,
     "metadata": {},
     "output_type": "execute_result"
    }
   ],
   "source": [
    "# Output the identified project features\n",
    "features = project.get_features()\n",
    "sorted([f.name for f in features])"
   ]
  },
  {
   "cell_type": "markdown",
   "metadata": {},
   "source": [
    "### We'll transform the flght number feature from numeric to categorical, and create a new feature list omitting features with target leakage, such as other flight delay flags."
   ]
  },
  {
   "cell_type": "code",
   "execution_count": 8,
   "metadata": {},
   "outputs": [
    {
     "data": {
      "text/plain": [
       "Feature(FLT_NBR_CAT)"
      ]
     },
     "execution_count": 8,
     "metadata": {},
     "output_type": "execute_result"
    }
   ],
   "source": [
    "# Convert flight number to a categorical variable\n",
    "new_feature = project.create_type_transform_feature(name='FLT_NBR_CAT', \n",
    "                                      parent_name='FLT_NBR', \n",
    "                                      variable_type='categoricalInt')\n",
    "new_feature"
   ]
  },
  {
   "cell_type": "code",
   "execution_count": 9,
   "metadata": {},
   "outputs": [
    {
     "data": {
      "text/plain": [
       "Featurelist(my feature list)"
      ]
     },
     "execution_count": 9,
     "metadata": {},
     "output_type": "execute_result"
    }
   ],
   "source": [
    "# Create a new feature list from a subset of features to eliminate target leaks and use the categorical flight number\n",
    "new_list = ['DELAY_INDICATOR', 'ORIGIN', 'DESTINATION', 'CARRIER', \n",
    "            'DAY_OF_WEEK', 'HOUR_OF_DPTR', 'ACT_AC_TYPE', new_feature.name]\n",
    "featurelist = project.create_featurelist(name='my feature list', features=new_list)\n",
    "featurelist"
   ]
  },
  {
   "cell_type": "markdown",
   "metadata": {},
   "source": [
    "## 5. Autopilot Modes\n",
    "\n",
    "### Option 1 - Full Autopilot mode"
   ]
  },
  {
   "cell_type": "code",
   "execution_count": 8,
   "metadata": {},
   "outputs": [],
   "source": [
    "project.start_autopilot(featurelist.id)\n",
    "\n",
    "# Block until complete\n",
    "# print('Waiting to complete')\n",
    "# project.wait_for_autopilot()"
   ]
  },
  {
   "cell_type": "markdown",
   "metadata": {},
   "source": [
    "### Option 2 - Manual mode\n",
    "#### Select specific models to run"
   ]
  },
  {
   "cell_type": "code",
   "execution_count": 10,
   "metadata": {},
   "outputs": [],
   "source": [
    "# Get the blueprints DataRobot provides in the repository.\n",
    "# The available blueprints are those appropriate given our dataset and target type. \n",
    "blueprints = project.get_blueprints()\n",
    "# blueprints"
   ]
  },
  {
   "cell_type": "code",
   "execution_count": 11,
   "metadata": {},
   "outputs": [
    {
     "data": {
      "text/plain": [
       "[Blueprint(Elastic-Net Classifier (L1 / Binomial Deviance)),\n",
       " Blueprint(eXtreme Gradient Boosted Trees Classifier with Early Stopping (learning rate =0.02)),\n",
       " Blueprint(Regularized Logistic Regression (L2))]"
      ]
     },
     "execution_count": 11,
     "metadata": {},
     "output_type": "execute_result"
    }
   ],
   "source": [
    "# Select a few blueprints to train those models\n",
    "selected_blueprints = []\n",
    "ex = en = rl = True\n",
    "for bp in blueprints:\n",
    "    if 'eXtreme' in bp.model_type and ex:\n",
    "        selected_blueprints.append(bp)\n",
    "        ex = False\n",
    "    if 'Elastic-Net' in bp.model_type and en:\n",
    "        selected_blueprints.append(bp)\n",
    "        en = False\n",
    "    if 'Regularized' in bp.model_type and rl:\n",
    "        selected_blueprints.append(bp)\n",
    "        rl = False\n",
    "    if len(selected_blueprints) > 2:\n",
    "        break\n",
    "selected_blueprints"
   ]
  },
  {
   "cell_type": "code",
   "execution_count": 12,
   "metadata": {
    "scrolled": true
   },
   "outputs": [
    {
     "name": "stdout",
     "output_type": "stream",
     "text": [
      "model jobs: ['10', '16', '22']\n",
      "Jobs in queue: 15\n",
      "[ModelJob(eXtreme Gradient Boosted Trees Classifier with Early Stopping (learning rate =0.02), status=inprogress),\n",
      " ModelJob(eXtreme Gradient Boosted Trees Classifier with Early Stopping (learning rate =0.02), status=inprogress),\n",
      " ModelJob(eXtreme Gradient Boosted Trees Classifier with Early Stopping (learning rate =0.02), status=inprogress),\n",
      " ModelJob(eXtreme Gradient Boosted Trees Classifier with Early Stopping (learning rate =0.02), status=inprogress),\n",
      " ModelJob(eXtreme Gradient Boosted Trees Classifier with Early Stopping (learning rate =0.02), status=inprogress),\n",
      " ModelJob(Regularized Logistic Regression (L2), status=inprogress),\n",
      " ModelJob(Regularized Logistic Regression (L2), status=inprogress),\n",
      " ModelJob(Regularized Logistic Regression (L2), status=queue),\n",
      " ModelJob(Regularized Logistic Regression (L2), status=queue),\n",
      " ModelJob(Regularized Logistic Regression (L2), status=queue),\n",
      " ModelJob(Elastic-Net Classifier (L1 / Binomial Deviance), status=inprogress),\n",
      " ModelJob(Elastic-Net Classifier (L1 / Binomial Deviance), status=inprogress),\n",
      " ModelJob(Elastic-Net Classifier (L1 / Binomial Deviance), status=inprogress),\n",
      " ModelJob(Elastic-Net Classifier (L1 / Binomial Deviance), status=inprogress),\n",
      " ModelJob(Elastic-Net Classifier (L1 / Binomial Deviance), status=inprogress)]\n",
      "Jobs in queue: 15\n",
      "[ModelJob(eXtreme Gradient Boosted Trees Classifier with Early Stopping (learning rate =0.02), status=inprogress),\n",
      " ModelJob(eXtreme Gradient Boosted Trees Classifier with Early Stopping (learning rate =0.02), status=inprogress),\n",
      " ModelJob(eXtreme Gradient Boosted Trees Classifier with Early Stopping (learning rate =0.02), status=inprogress),\n",
      " ModelJob(eXtreme Gradient Boosted Trees Classifier with Early Stopping (learning rate =0.02), status=inprogress),\n",
      " ModelJob(eXtreme Gradient Boosted Trees Classifier with Early Stopping (learning rate =0.02), status=inprogress),\n",
      " ModelJob(Regularized Logistic Regression (L2), status=inprogress),\n",
      " ModelJob(Regularized Logistic Regression (L2), status=inprogress),\n",
      " ModelJob(Regularized Logistic Regression (L2), status=inprogress),\n",
      " ModelJob(Regularized Logistic Regression (L2), status=inprogress),\n",
      " ModelJob(Regularized Logistic Regression (L2), status=inprogress),\n",
      " ModelJob(Elastic-Net Classifier (L1 / Binomial Deviance), status=inprogress),\n",
      " ModelJob(Elastic-Net Classifier (L1 / Binomial Deviance), status=inprogress),\n",
      " ModelJob(Elastic-Net Classifier (L1 / Binomial Deviance), status=inprogress),\n",
      " ModelJob(Elastic-Net Classifier (L1 / Binomial Deviance), status=inprogress),\n",
      " ModelJob(Elastic-Net Classifier (L1 / Binomial Deviance), status=inprogress)]\n",
      "Jobs in queue: 7\n",
      "[ModelJob(eXtreme Gradient Boosted Trees Classifier with Early Stopping (learning rate =0.02), status=inprogress),\n",
      " ModelJob(eXtreme Gradient Boosted Trees Classifier with Early Stopping (learning rate =0.02), status=inprogress),\n",
      " ModelJob(eXtreme Gradient Boosted Trees Classifier with Early Stopping (learning rate =0.02), status=inprogress),\n",
      " ModelJob(eXtreme Gradient Boosted Trees Classifier with Early Stopping (learning rate =0.02), status=inprogress),\n",
      " ModelJob(eXtreme Gradient Boosted Trees Classifier with Early Stopping (learning rate =0.02), status=inprogress),\n",
      " ModelJob(Regularized Logistic Regression (L2), status=inprogress),\n",
      " ModelJob(Elastic-Net Classifier (L1 / Binomial Deviance), status=inprogress)]\n",
      "Jobs in queue: 7\n",
      "[ModelJob(eXtreme Gradient Boosted Trees Classifier with Early Stopping (learning rate =0.02), status=inprogress),\n",
      " ModelJob(eXtreme Gradient Boosted Trees Classifier with Early Stopping (learning rate =0.02), status=inprogress),\n",
      " ModelJob(eXtreme Gradient Boosted Trees Classifier with Early Stopping (learning rate =0.02), status=inprogress),\n",
      " ModelJob(eXtreme Gradient Boosted Trees Classifier with Early Stopping (learning rate =0.02), status=inprogress),\n",
      " ModelJob(eXtreme Gradient Boosted Trees Classifier with Early Stopping (learning rate =0.02), status=inprogress),\n",
      " ModelJob(Regularized Logistic Regression (L2), status=inprogress),\n",
      " ModelJob(Elastic-Net Classifier (L1 / Binomial Deviance), status=inprogress)]\n",
      "Jobs in queue: 7\n",
      "[ModelJob(eXtreme Gradient Boosted Trees Classifier with Early Stopping (learning rate =0.02), status=inprogress),\n",
      " ModelJob(eXtreme Gradient Boosted Trees Classifier with Early Stopping (learning rate =0.02), status=inprogress),\n",
      " ModelJob(eXtreme Gradient Boosted Trees Classifier with Early Stopping (learning rate =0.02), status=inprogress),\n",
      " ModelJob(eXtreme Gradient Boosted Trees Classifier with Early Stopping (learning rate =0.02), status=inprogress),\n",
      " ModelJob(eXtreme Gradient Boosted Trees Classifier with Early Stopping (learning rate =0.02), status=inprogress),\n",
      " ModelJob(Regularized Logistic Regression (L2), status=inprogress),\n",
      " ModelJob(Elastic-Net Classifier (L1 / Binomial Deviance), status=inprogress)]\n",
      "Jobs in queue: 4\n",
      "[ModelJob(eXtreme Gradient Boosted Trees Classifier with Early Stopping (learning rate =0.02), status=inprogress),\n",
      " ModelJob(eXtreme Gradient Boosted Trees Classifier with Early Stopping (learning rate =0.02), status=inprogress),\n",
      " ModelJob(Regularized Logistic Regression (L2), status=inprogress),\n",
      " ModelJob(Elastic-Net Classifier (L1 / Binomial Deviance), status=inprogress)]\n",
      "Jobs in queue: 1\n",
      "[ModelJob(eXtreme Gradient Boosted Trees Classifier with Early Stopping (learning rate =0.02), status=inprogress)]\n",
      "Jobs in queue: 1\n",
      "[ModelJob(eXtreme Gradient Boosted Trees Classifier with Early Stopping (learning rate =0.02), status=inprogress)]\n",
      "Jobs in queue: 0\n",
      "- Done.\n"
     ]
    }
   ],
   "source": [
    "model_jobs = []\n",
    "for bp in selected_blueprints:\n",
    "    try:\n",
    "        model_job_id = project.train(bp, featurelist_id=featurelist.id,\n",
    "                                     scoring_type='crossValidation')\n",
    "        model_jobs.append(model_job_id)\n",
    "    except Exception as e:\n",
    "        print( bp.model_type,'\\n', type(e))\n",
    "print('model jobs:', model_jobs)\n",
    "\n",
    "wait_secs = 15\n",
    "while True:\n",
    "    jobs = project.get_model_jobs()\n",
    "    print('Jobs in queue: %s' % len(jobs))\n",
    "    if len(jobs) == 0:\n",
    "        print('- Done.')\n",
    "        break\n",
    "    else:\n",
    "        pprint(jobs)\n",
    "        time.sleep(wait_secs)"
   ]
  },
  {
   "cell_type": "markdown",
   "metadata": {},
   "source": [
    "## 6. Get models and blueprints from the leaderboard\n",
    "\n",
    "### To get the best performing model from the leaderboard, pop it from the top of the models list.  Or if we run in full autopilot mode, the DataRobot \"Recommended\" model will be generated and available"
   ]
  },
  {
   "cell_type": "code",
   "execution_count": 13,
   "metadata": {
    "scrolled": false
   },
   "outputs": [
    {
     "name": "stdout",
     "output_type": "stream",
     "text": [
      "Number of models on the leaderboard: 3\n",
      "\n",
      "Best model from the leaderboard:  'eXtreme Gradient Boosted Trees Classifier with Early Stopping (learning rate =0.02)'\n",
      "No recommended model yet.  Either autopilot is still running or models were trained manually.\n",
      "\n",
      "Best model blueprint preprocessing steps:\n",
      "['Ordinal encoding of categorical variables',\n",
      " 'Missing Values Imputed',\n",
      " 'Matrix of word-grams occurrences',\n",
      " 'Elastic-Net Classifier (L2 / Binomial Deviance)',\n",
      " 'eXtreme Gradient Boosted Trees Classifier with Early Stopping (learning rate '\n",
      " '=0.02)']\n",
      "\n",
      "Best model metrics:\n",
      "{'AUC': {'backtesting': None,\n",
      "         'backtestingScores': None,\n",
      "         'crossValidation': 0.682278,\n",
      "         'holdout': None,\n",
      "         'training': None,\n",
      "         'validation': 0.68676},\n",
      " 'Area Under PR Curve': {'backtesting': None,\n",
      "                         'backtestingScores': None,\n",
      "                         'crossValidation': 0.5428040000000001,\n",
      "                         'holdout': None,\n",
      "                         'training': None,\n",
      "                         'validation': 0.55292},\n",
      " 'FVE Binomial': {'backtesting': None,\n",
      "                  'backtestingScores': None,\n",
      "                  'crossValidation': 0.074016,\n",
      "                  'holdout': None,\n",
      "                  'training': None,\n",
      "                  'validation': 0.0789},\n",
      " 'Gini Norm': {'backtesting': None,\n",
      "               'backtestingScores': None,\n",
      "               'crossValidation': 0.364556,\n",
      "               'holdout': None,\n",
      "               'training': None,\n",
      "               'validation': 0.37352},\n",
      " 'Kolmogorov-Smirnov': {'backtesting': None,\n",
      "                        'backtestingScores': None,\n",
      "                        'crossValidation': 0.272698,\n",
      "                        'holdout': None,\n",
      "                        'training': None,\n",
      "                        'validation': 0.27558},\n",
      " 'LogLoss': {'backtesting': None,\n",
      "             'backtestingScores': None,\n",
      "             'crossValidation': 0.607624,\n",
      "             'holdout': None,\n",
      "             'training': None,\n",
      "             'validation': 0.60446},\n",
      " 'Max MCC': {'backtesting': None,\n",
      "             'backtestingScores': None,\n",
      "             'crossValidation': 0.264166,\n",
      "             'holdout': None,\n",
      "             'training': None,\n",
      "             'validation': 0.26545},\n",
      " 'RMSE': {'backtesting': None,\n",
      "          'backtestingScores': None,\n",
      "          'crossValidation': 0.458096,\n",
      "          'holdout': None,\n",
      "          'training': None,\n",
      "          'validation': 0.45667},\n",
      " 'Rate@Top10%': {'backtesting': None,\n",
      "                 'backtestingScores': None,\n",
      "                 'crossValidation': 0.647038,\n",
      "                 'holdout': None,\n",
      "                 'training': None,\n",
      "                 'validation': 0.66574},\n",
      " 'Rate@Top5%': {'backtesting': None,\n",
      "                'backtestingScores': None,\n",
      "                'crossValidation': 0.679602,\n",
      "                'holdout': None,\n",
      "                'training': None,\n",
      "                'validation': 0.7},\n",
      " 'Rate@TopTenth%': {'backtesting': None,\n",
      "                    'backtestingScores': None,\n",
      "                    'crossValidation': 0.802778,\n",
      "                    'holdout': None,\n",
      "                    'training': None,\n",
      "                    'validation': 0.75}}\n"
     ]
    }
   ],
   "source": [
    "# Get the models, which are already ordered by rank from the leaderboard\n",
    "models = project.get_models()\n",
    "\n",
    "print('Number of models on the leaderboard: %s\\n' % len(models))\n",
    "\n",
    "# Get the best performing model (excluding the blenders, which are typically the top 4 models)\n",
    "for model in models:\n",
    "    if 'Blender' not in model.model_type:\n",
    "        best_model = model\n",
    "        break\n",
    "print('Best model from the leaderboard:  \\'%s\\'' % best_model.model_type)\n",
    "\n",
    "# Or get the recommended model, if available\n",
    "try:\n",
    "    recommendation = dr.ModelRecommendation.get(project.id)\n",
    "    recommended_model = recommendation.get_model()\n",
    "    print('Recommended model:\\'%s\\'' % recommended_model.model_type)\n",
    "except Exception as e:\n",
    "    print('No recommended model yet.  Either autopilot is still running or models were trained manually.')\n",
    "\n",
    "# Get the blueprint\n",
    "blueprint_id = best_model.blueprint_id\n",
    "blueprint = dr.models.Blueprint.get(project.id, blueprint_id)\n",
    "print('\\nBest model blueprint preprocessing steps:')\n",
    "pprint(blueprint.processes)\n",
    "\n",
    "# Get the model scoring metrics\n",
    "print('\\nBest model metrics:')\n",
    "pprint(best_model.metrics)"
   ]
  },
  {
   "cell_type": "markdown",
   "metadata": {},
   "source": [
    "### With some data aggregation we can compare how each model performs."
   ]
  },
  {
   "cell_type": "code",
   "execution_count": 14,
   "metadata": {
    "scrolled": false
   },
   "outputs": [
    {
     "data": {
      "text/html": [
       "<div>\n",
       "<style scoped>\n",
       "    .dataframe tbody tr th:only-of-type {\n",
       "        vertical-align: middle;\n",
       "    }\n",
       "\n",
       "    .dataframe tbody tr th {\n",
       "        vertical-align: top;\n",
       "    }\n",
       "\n",
       "    .dataframe thead th {\n",
       "        text-align: right;\n",
       "    }\n",
       "</style>\n",
       "<table border=\"1\" class=\"dataframe\">\n",
       "  <thead>\n",
       "    <tr style=\"text-align: right;\">\n",
       "      <th></th>\n",
       "      <th>blueprint info</th>\n",
       "      <th>cross_val_logloss</th>\n",
       "      <th>featurelist</th>\n",
       "      <th>model_id</th>\n",
       "      <th>model_type</th>\n",
       "      <th>sample_pct</th>\n",
       "      <th>val_logloss</th>\n",
       "    </tr>\n",
       "  </thead>\n",
       "  <tbody>\n",
       "    <tr>\n",
       "      <th>0</th>\n",
       "      <td>Blueprint(eXtreme Gradient Boosted Trees Class...</td>\n",
       "      <td>0.607624</td>\n",
       "      <td>my feature list</td>\n",
       "      <td>60af0bbeee8a990d07db5eef</td>\n",
       "      <td>eXtreme Gradient Boosted Trees Classifier with...</td>\n",
       "      <td>64.0</td>\n",
       "      <td>0.60446</td>\n",
       "    </tr>\n",
       "    <tr>\n",
       "      <th>1</th>\n",
       "      <td>Blueprint(Elastic-Net Classifier (L1 / Binomia...</td>\n",
       "      <td>0.615470</td>\n",
       "      <td>my feature list</td>\n",
       "      <td>60af0bbdee8a990d07db5ee1</td>\n",
       "      <td>Elastic-Net Classifier (L1 / Binomial Deviance)</td>\n",
       "      <td>64.0</td>\n",
       "      <td>0.61012</td>\n",
       "    </tr>\n",
       "    <tr>\n",
       "      <th>2</th>\n",
       "      <td>Blueprint(Regularized Logistic Regression (L2))</td>\n",
       "      <td>0.626974</td>\n",
       "      <td>my feature list</td>\n",
       "      <td>60af0bbfb5ec5fd4374ffce8</td>\n",
       "      <td>Regularized Logistic Regression (L2)</td>\n",
       "      <td>64.0</td>\n",
       "      <td>0.62459</td>\n",
       "    </tr>\n",
       "  </tbody>\n",
       "</table>\n",
       "</div>"
      ],
      "text/plain": [
       "                                      blueprint info  cross_val_logloss  \\\n",
       "0  Blueprint(eXtreme Gradient Boosted Trees Class...           0.607624   \n",
       "1  Blueprint(Elastic-Net Classifier (L1 / Binomia...           0.615470   \n",
       "2    Blueprint(Regularized Logistic Regression (L2))           0.626974   \n",
       "\n",
       "       featurelist                  model_id  \\\n",
       "0  my feature list  60af0bbeee8a990d07db5eef   \n",
       "1  my feature list  60af0bbdee8a990d07db5ee1   \n",
       "2  my feature list  60af0bbfb5ec5fd4374ffce8   \n",
       "\n",
       "                                          model_type  sample_pct  val_logloss  \n",
       "0  eXtreme Gradient Boosted Trees Classifier with...        64.0      0.60446  \n",
       "1    Elastic-Net Classifier (L1 / Binomial Deviance)        64.0      0.61012  \n",
       "2               Regularized Logistic Regression (L2)        64.0      0.62459  "
      ]
     },
     "execution_count": 14,
     "metadata": {},
     "output_type": "execute_result"
    }
   ],
   "source": [
    "# Generate a summary of all model performances and put it into a DataFrame\n",
    "models = project.get_models()\n",
    "    \n",
    "val_scores = pd.DataFrame([{'model_type': model.model_type,\n",
    "                       'blueprint info': model.blueprint,\n",
    "                       'model_id': model.id,\n",
    "                       'sample_pct': model.sample_pct,\n",
    "                       'featurelist': model.featurelist_name,\n",
    "                       'val_logloss': model.metrics['LogLoss']['validation'],\n",
    "                       'cross_val_logloss': model.metrics['LogLoss']['crossValidation']}\n",
    "#                            for model in flist_models if model.metrics['LogLoss'] is not None])\n",
    "                       for model in models if model.metrics['LogLoss'] is not None])\n",
    "\n",
    "modelframe = val_scores.sort_values(by='cross_val_logloss')\n",
    "modelframe"
   ]
  },
  {
   "cell_type": "markdown",
   "metadata": {},
   "source": [
    "## 7. Score new data\n",
    "### Option 1 - direct on a project and model \n",
    "#### To make predctions on new data, simply upload a dataset to the project and request the predictions on the model you choose.  The scoring data should include all features except the target."
   ]
  },
  {
   "cell_type": "code",
   "execution_count": 15,
   "metadata": {},
   "outputs": [
    {
     "name": "stdout",
     "output_type": "stream",
     "text": [
      "Scoring data on model 'eXtreme Gradient Boosted Trees Classifier with Early Stopping (learning rate =0.02)'\n",
      "\n",
      "Uploading prediction dataset\n",
      "Request predictions\n",
      "Waiting for prediction calculations\n"
     ]
    },
    {
     "data": {
      "text/html": [
       "<div>\n",
       "<style scoped>\n",
       "    .dataframe tbody tr th:only-of-type {\n",
       "        vertical-align: middle;\n",
       "    }\n",
       "\n",
       "    .dataframe tbody tr th {\n",
       "        vertical-align: top;\n",
       "    }\n",
       "\n",
       "    .dataframe thead th {\n",
       "        text-align: right;\n",
       "    }\n",
       "</style>\n",
       "<table border=\"1\" class=\"dataframe\">\n",
       "  <thead>\n",
       "    <tr style=\"text-align: right;\">\n",
       "      <th></th>\n",
       "      <th>positive_probability</th>\n",
       "      <th>prediction</th>\n",
       "      <th>prediction_threshold</th>\n",
       "      <th>row_id</th>\n",
       "      <th>class_0.0</th>\n",
       "      <th>class_1.0</th>\n",
       "    </tr>\n",
       "  </thead>\n",
       "  <tbody>\n",
       "    <tr>\n",
       "      <th>0</th>\n",
       "      <td>0.522920</td>\n",
       "      <td>1.0</td>\n",
       "      <td>0.5</td>\n",
       "      <td>0</td>\n",
       "      <td>0.477080</td>\n",
       "      <td>0.522920</td>\n",
       "    </tr>\n",
       "    <tr>\n",
       "      <th>1</th>\n",
       "      <td>0.354576</td>\n",
       "      <td>0.0</td>\n",
       "      <td>0.5</td>\n",
       "      <td>1</td>\n",
       "      <td>0.645424</td>\n",
       "      <td>0.354576</td>\n",
       "    </tr>\n",
       "    <tr>\n",
       "      <th>2</th>\n",
       "      <td>0.698709</td>\n",
       "      <td>1.0</td>\n",
       "      <td>0.5</td>\n",
       "      <td>2</td>\n",
       "      <td>0.301291</td>\n",
       "      <td>0.698709</td>\n",
       "    </tr>\n",
       "    <tr>\n",
       "      <th>3</th>\n",
       "      <td>0.208699</td>\n",
       "      <td>0.0</td>\n",
       "      <td>0.5</td>\n",
       "      <td>3</td>\n",
       "      <td>0.791301</td>\n",
       "      <td>0.208699</td>\n",
       "    </tr>\n",
       "    <tr>\n",
       "      <th>4</th>\n",
       "      <td>0.570646</td>\n",
       "      <td>1.0</td>\n",
       "      <td>0.5</td>\n",
       "      <td>4</td>\n",
       "      <td>0.429354</td>\n",
       "      <td>0.570646</td>\n",
       "    </tr>\n",
       "  </tbody>\n",
       "</table>\n",
       "</div>"
      ],
      "text/plain": [
       "   positive_probability  prediction  prediction_threshold  row_id  class_0.0  \\\n",
       "0              0.522920         1.0                   0.5       0   0.477080   \n",
       "1              0.354576         0.0                   0.5       1   0.645424   \n",
       "2              0.698709         1.0                   0.5       2   0.301291   \n",
       "3              0.208699         0.0                   0.5       3   0.791301   \n",
       "4              0.570646         1.0                   0.5       4   0.429354   \n",
       "\n",
       "   class_1.0  \n",
       "0   0.522920  \n",
       "1   0.354576  \n",
       "2   0.698709  \n",
       "3   0.208699  \n",
       "4   0.570646  "
      ]
     },
     "execution_count": 15,
     "metadata": {},
     "output_type": "execute_result"
    }
   ],
   "source": [
    "print('Scoring data on model \\'%s\\'\\n' % best_model.model_type)\n",
    "\n",
    "print('Uploading prediction dataset')\n",
    "dataset_from_path = project.upload_dataset(df_pred)\n",
    "\n",
    "print('Request predictions')\n",
    "predict_job = best_model.request_predictions(dataset_from_path.id)\n",
    "\n",
    "print('Waiting for prediction calculations')\n",
    "predictions = predict_job.get_result_when_complete()\n",
    "\n",
    "predictions.head()"
   ]
  },
  {
   "cell_type": "code",
   "execution_count": 20,
   "metadata": {},
   "outputs": [
    {
     "data": {
      "text/plain": [
       "0    52.0\n",
       "1    35.0\n",
       "2    70.0\n",
       "3    21.0\n",
       "4    57.0\n",
       "Name: positive_probability, dtype: float64"
      ]
     },
     "execution_count": 20,
     "metadata": {},
     "output_type": "execute_result"
    }
   ],
   "source": [
    "(predictions['positive_probability']*100).round().head(5)"
   ]
  },
  {
   "cell_type": "markdown",
   "metadata": {},
   "source": [
    "### Option 2 - Reference the Deployment ID\n",
    "#### DataRobot's MLOps and model management dashboard provides for monitoring model data including performance and datadrift.  \n",
    "Prediction requests are routed to a deployment that resides on a dedicated prediction server, which handles the prediction requests for a specific model.  This allows for swapping models in and out without requiring a code change to the deployment that contains it.\n",
    "\n",
    "#### To do this manually, from the DataRobot application: \n",
    "- 1) Go to the model you want to deploy\n",
    "- 2) Click 'Predict'\n",
    "- 3) Click 'Deploy Model API'\n",
    "- 4) Click the orange 'Add New Deployment' button.  Click to go to the deployment when its been deployed.\n",
    "- 5) On the Deployments page, for a given deploment, click 'Integrations', then the 'Scoring Code' icon\n",
    "\n",
    "If you want you can copy the DEPLOYMENT_ID and pass that to DataRobot API via the REST call below.  Or, you can do this via the API here:"
   ]
  },
  {
   "cell_type": "code",
   "execution_count": 24,
   "metadata": {},
   "outputs": [
    {
     "data": {
      "text/plain": [
       "PredictionServer(https://mlops.dynamic.orm.datarobot.com)"
      ]
     },
     "execution_count": 24,
     "metadata": {},
     "output_type": "execute_result"
    }
   ],
   "source": [
    "# Get the prediction server ID that received prediction request\n",
    "prediction_server_list = dr.PredictionServer.list()\n",
    "prediction_server = prediction_server_list[0]\n",
    "prediction_server"
   ]
  },
  {
   "cell_type": "code",
   "execution_count": 25,
   "metadata": {},
   "outputs": [
    {
     "data": {
      "text/plain": [
       "Deployment(New Deployment)"
      ]
     },
     "execution_count": 25,
     "metadata": {},
     "output_type": "execute_result"
    }
   ],
   "source": [
    "# Create a deployment for the best_model, and deploy to the DataRobot prediction server\n",
    "deployment = dr.Deployment.create_from_learning_model(best_model.id, 'New Deployment', \n",
    "                                                      default_prediction_server_id=prediction_server.id)\n",
    "deployment"
   ]
  },
  {
   "cell_type": "code",
   "execution_count": 26,
   "metadata": {},
   "outputs": [
    {
     "name": "stdout",
     "output_type": "stream",
     "text": [
      "Deployment(New Deployment)\n",
      "\n",
      "{'id': '60af0bbeee8a990d07db5eef', 'type': 'eXtreme Gradient Boosted Trees Classifier with Early Stopping (learning rate =0.02)', 'target_name': 'DELAY_INDICATOR', 'project_id': '60af0a906c3bcece3fc4d297', 'target_type': 'Binary', 'project_name': 'Flight Delay API example', 'build_environment_type': 'DataRobot', 'deployed_at': '2021-05-27T03:27:32.719000Z', 'unsupervised_mode': False}\n"
     ]
    },
    {
     "data": {
      "text/plain": [
       "'60af11a328ffe1f7911806d1'"
      ]
     },
     "execution_count": 26,
     "metadata": {},
     "output_type": "execute_result"
    }
   ],
   "source": [
    "# List deployments\n",
    "deployments = dr.Deployment.list()\n",
    "\n",
    "# Get the one you just deploy manually in the steps above ^^ (note:)\n",
    "current_deployed_model = deployments[-1]\n",
    "print(current_deployed_model)\n",
    "print()\n",
    "\n",
    "print(current_deployed_model.model)\n",
    "\n",
    "current_deployed_model.id"
   ]
  },
  {
   "cell_type": "code",
   "execution_count": 27,
   "metadata": {},
   "outputs": [
    {
     "data": {
      "text/html": [
       "<div>\n",
       "<style scoped>\n",
       "    .dataframe tbody tr th:only-of-type {\n",
       "        vertical-align: middle;\n",
       "    }\n",
       "\n",
       "    .dataframe tbody tr th {\n",
       "        vertical-align: top;\n",
       "    }\n",
       "\n",
       "    .dataframe thead th {\n",
       "        text-align: right;\n",
       "    }\n",
       "</style>\n",
       "<table border=\"1\" class=\"dataframe\">\n",
       "  <thead>\n",
       "    <tr style=\"text-align: right;\">\n",
       "      <th></th>\n",
       "      <th>deploymentApprovalStatus</th>\n",
       "      <th>prediction</th>\n",
       "      <th>predictionThreshold</th>\n",
       "      <th>rowId</th>\n",
       "      <th>class_1.0</th>\n",
       "      <th>class_0.0</th>\n",
       "    </tr>\n",
       "  </thead>\n",
       "  <tbody>\n",
       "    <tr>\n",
       "      <th>0</th>\n",
       "      <td>APPROVED</td>\n",
       "      <td>1</td>\n",
       "      <td>0.5</td>\n",
       "      <td>0</td>\n",
       "      <td>0.522920</td>\n",
       "      <td>0.477080</td>\n",
       "    </tr>\n",
       "    <tr>\n",
       "      <th>1</th>\n",
       "      <td>APPROVED</td>\n",
       "      <td>0</td>\n",
       "      <td>0.5</td>\n",
       "      <td>1</td>\n",
       "      <td>0.354576</td>\n",
       "      <td>0.645424</td>\n",
       "    </tr>\n",
       "    <tr>\n",
       "      <th>2</th>\n",
       "      <td>APPROVED</td>\n",
       "      <td>1</td>\n",
       "      <td>0.5</td>\n",
       "      <td>2</td>\n",
       "      <td>0.698709</td>\n",
       "      <td>0.301291</td>\n",
       "    </tr>\n",
       "    <tr>\n",
       "      <th>3</th>\n",
       "      <td>APPROVED</td>\n",
       "      <td>0</td>\n",
       "      <td>0.5</td>\n",
       "      <td>3</td>\n",
       "      <td>0.208699</td>\n",
       "      <td>0.791301</td>\n",
       "    </tr>\n",
       "    <tr>\n",
       "      <th>4</th>\n",
       "      <td>APPROVED</td>\n",
       "      <td>1</td>\n",
       "      <td>0.5</td>\n",
       "      <td>4</td>\n",
       "      <td>0.570646</td>\n",
       "      <td>0.429354</td>\n",
       "    </tr>\n",
       "  </tbody>\n",
       "</table>\n",
       "</div>"
      ],
      "text/plain": [
       "  deploymentApprovalStatus  prediction  predictionThreshold  rowId  class_1.0  \\\n",
       "0                 APPROVED           1                  0.5      0   0.522920   \n",
       "1                 APPROVED           0                  0.5      1   0.354576   \n",
       "2                 APPROVED           1                  0.5      2   0.698709   \n",
       "3                 APPROVED           0                  0.5      3   0.208699   \n",
       "4                 APPROVED           1                  0.5      4   0.570646   \n",
       "\n",
       "   class_0.0  \n",
       "0   0.477080  \n",
       "1   0.645424  \n",
       "2   0.301291  \n",
       "3   0.791301  \n",
       "4   0.429354  "
      ]
     },
     "execution_count": 27,
     "metadata": {},
     "output_type": "execute_result"
    }
   ],
   "source": [
    "API_TOKEN = os.getenv('DATAROBOT_API_TOKEN')\n",
    "ENDPOINT = os.getenv('DATAROBOT_ENDPOINT')\n",
    "USERNAME = os.getenv('DATAROBOT_USERNAME')\n",
    "\n",
    "DEPLOYMENT_ID = current_deployed_model.id  # My project's recommended model: XGBoost @ 80%\n",
    "\n",
    "pred_file = '_temp.csv'\n",
    "df_pred.to_csv(pred_file)\n",
    "data = open(pred_file, 'rb').read()\n",
    "os.remove(pred_file)\n",
    "\n",
    "headers = {'Content-Type': 'text/plain; charset=UTF-8', 'datarobot-key': '544ec55f-61bf-f6ee-0caf-15c7f919a45d'}\n",
    "predictions_response = requests.post('https://cfds-ccm-prod.orm.datarobot.com/predApi/v1.0/deployments/%s/predictions' % (DEPLOYMENT_ID),\n",
    "                                     auth=(USERNAME, API_TOKEN), data=data, headers=headers)\n",
    "\n",
    "predictions_response.raise_for_status()\n",
    "df_preds = pd.DataFrame(predictions_response.json().get('data'))\n",
    "\n",
    "# Flatten the nested predictions dict of label/value data in 'prediction values'\n",
    "df_preds['label1'] = None\n",
    "df_preds['proba1'] = None\n",
    "df_preds['label2'] = None\n",
    "df_preds['proba2'] = None\n",
    "def func(row):\n",
    "    for i, pair in enumerate(row['predictionValues']):\n",
    "        name = pair.get('label')\n",
    "        val = pair.get('value')\n",
    "        col_name_n = 'label' + str(i+1)\n",
    "        col_val_n = 'proba' + str(i+1)\n",
    "        row[col_name_n] = name\n",
    "        row[col_val_n] = val\n",
    "    return row\n",
    "df_preds_flat = df_preds.apply(lambda row: func(row), axis=1)\n",
    "\n",
    "df_preds_flat.rename(columns={'proba1': 'class_1.0',\n",
    "                              'proba2': 'class_0.0'},\n",
    "                     inplace=True)\n",
    "df_preds_flat.drop(['predictionValues', 'label1', 'label2'], axis=1, inplace=True)\n",
    "df_preds_flat['prediction'] = df_preds_flat['prediction'].astype(int)\n",
    "\n",
    "df_preds_flat.head()"
   ]
  },
  {
   "cell_type": "code",
   "execution_count": 28,
   "metadata": {},
   "outputs": [
    {
     "data": {
      "text/plain": [
       "0    52.0\n",
       "1    35.0\n",
       "2    70.0\n",
       "3    21.0\n",
       "4    57.0\n",
       "Name: class_1.0, dtype: float64"
      ]
     },
     "execution_count": 28,
     "metadata": {},
     "output_type": "execute_result"
    }
   ],
   "source": [
    "(predictions['class_1.0']*100).round().head(5)"
   ]
  },
  {
   "cell_type": "code",
   "execution_count": null,
   "metadata": {},
   "outputs": [],
   "source": []
  }
 ],
 "metadata": {
  "kernelspec": {
   "display_name": "Python 3",
   "language": "python",
   "name": "python3"
  },
  "language_info": {
   "codemirror_mode": {
    "name": "ipython",
    "version": 3
   },
   "file_extension": ".py",
   "mimetype": "text/x-python",
   "name": "python",
   "nbconvert_exporter": "python",
   "pygments_lexer": "ipython3",
   "version": "3.7.5"
  }
 },
 "nbformat": 4,
 "nbformat_minor": 2
}
