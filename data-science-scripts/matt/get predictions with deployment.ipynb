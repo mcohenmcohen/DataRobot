{
 "cells": [
  {
   "cell_type": "code",
   "execution_count": 4,
   "metadata": {},
   "outputs": [
    {
     "data": {
      "text/plain": [
       "<datarobot.rest.RESTClientObject at 0x7ff3603006a0>"
      ]
     },
     "execution_count": 4,
     "metadata": {},
     "output_type": "execute_result"
    }
   ],
   "source": [
    "import pandas as pd\n",
    "import numpy as np\n",
    "import datarobot as dr\n",
    "import os\n",
    "import requests\n",
    "pd.options.display.max_colwidth = 200\n",
    "pd.options.display.max_columns = 200\n",
    "\n",
    "USERNAME = os.environ['DATAROBOT_USERNAME']\n",
    "API_KEY = os.environ['DATAROBOT_API_TOKEN']\n",
    "DATAROBOT_KEY = os.environ['DATAROBOT_KEY']\n",
    "API_URL = 'https://mlops.dynamic.orm.datarobot.com/predApi/v1.0/deployments/{deployment_id}/predictions'\n",
    "ENDPOINT = 'https://app.datarobot.com/api/v2'\n",
    "\n",
    "dr.Client(token=API_KEY, endpoint=ENDPOINT)  "
   ]
  },
  {
   "cell_type": "code",
   "execution_count": 10,
   "metadata": {},
   "outputs": [],
   "source": [
    "# Work with a lending club deployment\n",
    "deployments_lc = dr.Deployment.list(search='is_bad Predictions')  # Grab a deployment from a project built from\n",
    "                                                                  # a lending club demo dataset\n",
    "# Get the most recent one\n",
    "deployment = deployments_lc[0]\n",
    "\n",
    "DEPLOYMENT_ID = deployment.id\n",
    "PROJECT_ID = deployment.model.get('project_id')\n",
    "\n",
    "PRED_FILE = './data/DR_Demo_10K_Lending_Club_Loans_pred.csv'\n",
    "\n",
    "df_preds = pd.read_csv(PRED_FILE)"
   ]
  },
  {
   "cell_type": "code",
   "execution_count": 11,
   "metadata": {},
   "outputs": [],
   "source": [
    "dep = dr.Deployment.get(DEPLOYMENT_ID)\n",
    "prj = dr.Project.get(PROJECT_ID)"
   ]
  },
  {
   "cell_type": "code",
   "execution_count": 15,
   "metadata": {},
   "outputs": [
    {
     "data": {
      "text/plain": [
       "'611bffb30e1f9b27fec90821'"
      ]
     },
     "execution_count": 15,
     "metadata": {},
     "output_type": "execute_result"
    }
   ],
   "source": [
    "dep.id"
   ]
  },
  {
   "cell_type": "code",
   "execution_count": 22,
   "metadata": {},
   "outputs": [
    {
     "data": {
      "text/plain": [
       "'https://mlops.dynamic.orm.datarobot.com/predApi/v1.0/deployments/611bffb30e1f9b27fec90821/predictions'"
      ]
     },
     "execution_count": 22,
     "metadata": {},
     "output_type": "execute_result"
    }
   ],
   "source": [
    "API_URL.format(deployment_id=deployment.id)"
   ]
  },
  {
   "cell_type": "code",
   "execution_count": 23,
   "metadata": {},
   "outputs": [],
   "source": [
    "class DataRobotPredictionError(Exception):\n",
    "    \"\"\"Raised if there are issues getting predictions from DataRobot\"\"\"\n",
    "\n",
    "\n",
    "def make_datarobot_deployment_predictions(data, deployment_id, content_type='json'):\n",
    "    if content_type == 'json':\n",
    "        ctype = 'application/json; charset=UTF-8'\n",
    "        data = data.to_json(orient='records')\n",
    "    else:  # if from input file\n",
    "        ctype = 'text/plain; charset=UTF-8'\n",
    "\n",
    "    # Set HTTP headers. The charset should match the contents of the file.\n",
    "    headers = {\n",
    "        'Content-Type': ctype,\n",
    "        'Authorization': 'Bearer {}'.format(API_KEY),\n",
    "        'DataRobot-Key': DATAROBOT_KEY,\n",
    "    }\n",
    "\n",
    "    url = API_URL.format(deployment_id=deployment_id)\n",
    "    \n",
    "    print(url)\n",
    "\n",
    "    # Prediction Explanations:\n",
    "    # See the documentation for more information:\n",
    "    # https://app.datarobot.com/docs/users-guide/predictions/api/new-prediction-api.html#request-pred-explanations\n",
    "    # Should you wish to include Prediction Explanations or Prediction Warnings in the result,\n",
    "    # Change the parameters below accordingly, and remove the comment from the params field below:\n",
    "\n",
    "    params = {\n",
    "        # If explanations are required, uncomment the line below\n",
    "        # 'maxExplanations': 3,\n",
    "        # 'thresholdHigh': 0.5,\n",
    "        # 'thresholdLow': 0.15,\n",
    "        # Uncomment this for Prediction Warnings, if enabled for your deployment.\n",
    "        # 'predictionWarningEnabled': 'true',\n",
    "    }\n",
    "    # Make API request for predictions\n",
    "    predictions_response = requests.post(\n",
    "        url,\n",
    "        data=data,\n",
    "        headers=headers,\n",
    "        # Prediction Explanations:\n",
    "        # Uncomment this to include explanations in your prediction\n",
    "        # params=params,\n",
    "    )\n",
    "    _raise_dataroboterror_for_status(predictions_response)\n",
    "    # Return a Python dict following the schema in the documentation\n",
    "    return predictions_response.json()\n",
    "\n",
    "\n",
    "def _raise_dataroboterror_for_status(response):\n",
    "    \"\"\"Raise DataRobotPredictionError if the request fails along with the response returned\"\"\"\n",
    "    try:\n",
    "        response.raise_for_status()\n",
    "    except requests.exceptions.HTTPError:\n",
    "        err_msg = '{code} Error: {msg}'.format(\n",
    "            code=response.status_code, msg=response.text)\n",
    "        raise DataRobotPredictionError(err_msg)"
   ]
  },
  {
   "cell_type": "code",
   "execution_count": 24,
   "metadata": {},
   "outputs": [
    {
     "name": "stdout",
     "output_type": "stream",
     "text": [
      "https://mlops.dynamic.orm.datarobot.com/predApi/v1.0/deployments/611bffb30e1f9b27fec90821/predictions\n"
     ]
    },
    {
     "data": {
      "text/plain": [
       "{'data': [{'rowId': 0,\n",
       "   'prediction': 0.0,\n",
       "   'predictionThreshold': 0.5,\n",
       "   'predictionValues': [{'label': 1, 'value': 0.2542051034},\n",
       "    {'label': 0.0, 'value': 0.7457948966}],\n",
       "   'deploymentApprovalStatus': 'APPROVED'},\n",
       "  {'rowId': 1,\n",
       "   'prediction': 0.0,\n",
       "   'predictionThreshold': 0.5,\n",
       "   'predictionValues': [{'label': 1, 'value': 0.3023641906},\n",
       "    {'label': 0.0, 'value': 0.6976358094}],\n",
       "   'deploymentApprovalStatus': 'APPROVED'}]}"
      ]
     },
     "execution_count": 24,
     "metadata": {},
     "output_type": "execute_result"
    }
   ],
   "source": [
    "make_datarobot_deployment_predictions(df_preds.iloc[:2], DEPLOYMENT_ID)"
   ]
  },
  {
   "cell_type": "code",
   "execution_count": 14,
   "metadata": {},
   "outputs": [
    {
     "data": {
      "text/plain": [
       "'[251913022771,2925428815144927,2019121512440340,null,null,\"a251L0000043HSqQAM\",178442.0,178442.0,true,\"a2F1L0000053RrWUAU\",null,null,false,false,25,\"Residential\",2000.0,\"ATT_CELLULAR_LTE\",\"TX\",\"Other\",7875,\"Outdoor Camera\",\"Camera Offline\",null,\"Summer Service\",19.0,3.0,28812.0,19.0,3.0,28812.0,null,46.0,\"2019-12-15\",0,0,0,\"NIS\",null,\"White\",\"api_user_ecommerce\",\"Smart Home\",1781.0,1.0,22771,25.0,2019,13,3,303,46,30.402641,-97.6486,3,49,289.0,91.0,0.0,0.0,0.0,0.0,0.0,0.0,0.0,0.0,0.0,0.0,0.0,0.0,0.0,0.0,0.0,0.0,7.0,0.0,0.0,0.0,0.0,0.0,0.0,0.0,0.0,1.0,0.0,0.0,0.0,0.0,0.0,0.0,0.0,0.0,0.0,0.0,0.0,0.0,0.0,0.0,0.0,0.0,0.0,0.0,0.0,0.0,0.0,0.0,0.0,0.0,1.0,1.0,0.0,11.0,0.0,0.0,0.0,0.0,0.0,0.0,0.0,0.0,0.0,0.0,0.0,0.0,0.0,0.0,0.0,0.0,45.0,0.0,0.0,0.0,0.0,0.0,0.0,0.0,0.0,0.0,0.0,0.0,0.0,0.0,0.0,0.0,0.0,0.0,0.0,0.0,0.0,0.0,0.0,0.0,0.0,0.0,0.0,0.0,0.0,0.0,0.0,0.0,0.0,0.0,0.0,0.0,0.0,45.0,137.0,600.0,1975.0,44.0,3.0,49.0,1.0,0.0,0.0,0.0,0.0,0.0,0.0,0.0,0.0,1.0,0.0,0.0,0.0,0.0,0.0,0.0,0.0,25.0,null,null,25.0,null,null,null,null,null,null,null,null,null,null,25.0,null,null,null,null,null,null,null,null,2.0,301900328812.0,301900328812.0,0.0,0.0,2.0,2.0,1.0,0.0,0.0,0.0,0.0,0.0,0.0,0.0,0.0,2.0,0.0,0.0,null,null,null,4.0,0.0,0.0,0.0,0.0,0.0,0.0,0.0,0.0,0.0,0.0,0.0,0.0,2.0,0.0,0.0,0.0,0.0,0.0,0.0,0.0,0.0,0.0,0.0,0.0,0.0,0.0,0.0,0.0,0.0,0.0,0.0,0.0,0.0,0.0,0.0,0.0,0.0,0.0,0.0,0.0,1,0,0,0,0,0,0,0,0,0,0,0,0,0,0,0,0,0,0,0,0,1,0,6,0,0,2,0,0,0,0,0,0,0,0,0,0,0,0,0,0,0,0,0,0,0,0,0,6,0,0,null,null,null,null,null,null,null,null,null,null,null,null,null,null,null,null,null,null,null,null,null,null,null,null,null,null,null,null,null,null,null,null,null,null,null,null,null,null,null,null,null,null,null,null,null,null,null,null,null,1.0,null,0,0,0,1]'"
      ]
     },
     "execution_count": 14,
     "metadata": {},
     "output_type": "execute_result"
    }
   ],
   "source": [
    "df_preds.iloc[0].to_json(orient=\"records\")"
   ]
  },
  {
   "cell_type": "code",
   "execution_count": null,
   "metadata": {},
   "outputs": [],
   "source": []
  }
 ],
 "metadata": {
  "kernelspec": {
   "display_name": "Python 3 (ipykernel)",
   "language": "python",
   "name": "python3"
  },
  "language_info": {
   "codemirror_mode": {
    "name": "ipython",
    "version": 3
   },
   "file_extension": ".py",
   "mimetype": "text/x-python",
   "name": "python",
   "nbconvert_exporter": "python",
   "pygments_lexer": "ipython3",
   "version": "3.8.0"
  }
 },
 "nbformat": 4,
 "nbformat_minor": 4
}
