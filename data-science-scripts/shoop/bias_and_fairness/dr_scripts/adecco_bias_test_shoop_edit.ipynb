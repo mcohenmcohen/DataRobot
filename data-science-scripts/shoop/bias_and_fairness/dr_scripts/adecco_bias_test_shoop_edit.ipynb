{
 "cells": [
  {
   "cell_type": "markdown",
   "metadata": {},
   "source": [
    "**© 2021 DataRobot, Inc. All rights reserved.**\n",
    "\n",
    "**Proprietary and Confidential**"
   ]
  },
  {
   "cell_type": "markdown",
   "metadata": {},
   "source": [
    "# Bias Testing outside of DataRobot"
   ]
  },
  {
   "cell_type": "markdown",
   "metadata": {},
   "source": [
    "### Overview"
   ]
  },
  {
   "cell_type": "markdown",
   "metadata": {},
   "source": [
    "**Purpose:**\n",
    "\n",
    "This notebook allows users to access an existing project, specifiy a particular model, then calculate bias and fairness scores using prediction and training data. The notebook allows for the prediction balance and favorable predictive value parity\n",
    "\n",
    "<br>\n",
    "\n",
    "**Usage:**\n",
    "\n",
    "User must input values for the following variables.\n",
    "\n",
    "1. *token* - api taken generated for this user in the developer settings\n",
    "\n",
    "2. *projectId* - ID of the project from the list that you wish to use\n",
    "\n",
    "3. *modelId* - ID of the model under the project you wish to use\n",
    "\n",
    "4. *predictionId* (optional) - ID of training prediction dataset if it already exists\n",
    "\n",
    "5. *datasetId* - ID of training data to be saved and read in locally\n",
    "\n",
    "6. *path* - local path for the training data to be saved/read from\n",
    "\n",
    "7. *pred_col* - prediction column\n",
    "\n",
    "8. *target* - target column\n",
    "\n",
    "9. *fav_outcome* - favorable outcome of the target. Also set fav_outcome_updated variable later with encoded version. \n",
    "\n",
    "10. *unfav_outcome* - unfavorable outcome of the target. Also set unfav_outcome_updated variable later with encoded version. \n",
    "\n",
    "11. *prot_att* - protected attribute column\n",
    "\n",
    "<br>\n",
    "\n",
    "\n",
    "**Assumptions:**\n",
    "\n",
    "1. Project already exists\n",
    "2. Project was created using dataset stored in AI Catalog\n",
    "3. User has a token generated in the developer settings within the platform\n",
    "4. Target column in Yes / No format\n",
    "5. No missing values in **prot_att** field\n",
    "6. Don't use model that is trained on full validation set since predictions won't be valid\n",
    "\n",
    "<br>"
   ]
  },
  {
   "cell_type": "markdown",
   "metadata": {},
   "source": [
    "### Import packages"
   ]
  },
  {
   "cell_type": "code",
   "execution_count": 1,
   "metadata": {},
   "outputs": [],
   "source": [
    "import numpy as np\n",
    "import pandas as pd\n",
    "import datarobot as dr\n",
    "import operator\n",
    "\n",
    "# Set pandas options\n",
    "pd.set_option('display.max_rows', 500)\n",
    "pd.set_option('display.max_columns', 500)\n",
    "pd.set_option('display.width', 1000)\n",
    "pd.options.mode.chained_assignment = None  # default='warn'"
   ]
  },
  {
   "cell_type": "markdown",
   "metadata": {},
   "source": [
    "### Accessing Project via API"
   ]
  },
  {
   "cell_type": "code",
   "execution_count": 2,
   "metadata": {},
   "outputs": [
    {
     "data": {
      "text/plain": [
       "<datarobot.rest.RESTClientObject at 0x10dd2ca60>"
      ]
     },
     "execution_count": 2,
     "metadata": {},
     "output_type": "execute_result"
    }
   ],
   "source": [
    "# Establish connection to DR client - specify your own API token and confirm environment endpoint\n",
    "token = ''\n",
    "dr.Client(token=token, endpoint=\"https://app.datarobot.com/api/v2\")"
   ]
  },
  {
   "cell_type": "code",
   "execution_count": 3,
   "metadata": {},
   "outputs": [
    {
     "name": "stdout",
     "output_type": "stream",
     "text": [
      "61280731357813f2c67af462 DR_Demo_LendingClub_Guardrails_Fairness (Pred Balance)\n",
      "6126a1d72884cf9859a6ce6a datarobot_visible MCH (prod 8/24)\n",
      "6124071faf94178cb9b5de7b DR_Demo_Bond_trading_RFQ.csv (B&F)\n",
      "6123eb6236256f7f1bb5de47 10k_diabetes (MetaL query PID)\n",
      "6123a5a372e167ace8b5e7b5 fast iron 100k data.csv\n",
      "611fcc79f1f43bdd4ab5e068 HR Hiring (Bias & Fairness).csv\n",
      "611fab3a7e86848e575fae3e External Predictions Regression.csv\n",
      "611e758122e50925105fb206 Motorcycle_insurance_claims_leak.csv\n",
      "611d1f5a1e695fa8aa16c16e 10k_diabetes.csv\n",
      "611d0a315c929ac36516bf93 10k_diabetes (SHAP project)\n"
     ]
    }
   ],
   "source": [
    "# List all projects to find which one to use (only first 10)\n",
    "for p in dr.Project.list()[:10]:\n",
    "    print (p.id, p.project_name)"
   ]
  },
  {
   "cell_type": "code",
   "execution_count": 4,
   "metadata": {},
   "outputs": [],
   "source": [
    "# Specify your own projectId\n",
    "projectId = '61280731357813f2c67af462'\n",
    "project = dr.Project.get(projectId)"
   ]
  },
  {
   "cell_type": "markdown",
   "metadata": {},
   "source": [
    "### Accessing Model via API"
   ]
  },
  {
   "cell_type": "code",
   "execution_count": 5,
   "metadata": {},
   "outputs": [],
   "source": [
    "def retrieve_leaderboard(project, metric=project.metric):\n",
    "\n",
    "    # Create an empty list to store the leaderboard to start\n",
    "    leaderboard = []\n",
    "    # Get all of the models trained so far as we did above\n",
    "    models = project.get_models()\n",
    "    # Iterate over each of the models extracting different\n",
    "    # pieces of relevant information as we did above\n",
    "    for model in models:\n",
    "        # Store the results for a specific metric - can also use 'AUC', etc.\n",
    "        temp = model.metrics[metric]\n",
    "        # Store the name of the model\n",
    "        temp[\"Model\"] = str(model)\n",
    "        # Store the ID of the model\n",
    "        temp[\"model_id\"] = model.id\n",
    "        # Store the feature list used to create the model\n",
    "        temp[\"featurelist\"] = model.featurelist_name\n",
    "        # Store what sample percentage (%) was used for training\n",
    "        temp[\"sample_pct\"] = model.sample_pct\n",
    "        # Append this list to leaderboard and move to next model\n",
    "        leaderboard.append(temp)\n",
    "\n",
    "    # Store leaderboard list as a pandas DataFrame    \n",
    "    leaderboard_df = pd.DataFrame(leaderboard)[\n",
    "        [\n",
    "            \"Model\",\n",
    "            \"model_id\",\n",
    "            \"featurelist\",\n",
    "            \"sample_pct\",\n",
    "            \"validation\",\n",
    "            \"crossValidation\",\n",
    "            \"holdout\"\n",
    "        ]\n",
    "    ]\n",
    "\n",
    "    #Show first 10 models\n",
    "    display(leaderboard_df.head(10))\n",
    "\n",
    "    # Return this leaderboard to explore further\n",
    "    return leaderboard_df"
   ]
  },
  {
   "cell_type": "code",
   "execution_count": 6,
   "metadata": {},
   "outputs": [
    {
     "data": {
      "text/html": [
       "<div>\n",
       "<style scoped>\n",
       "    .dataframe tbody tr th:only-of-type {\n",
       "        vertical-align: middle;\n",
       "    }\n",
       "\n",
       "    .dataframe tbody tr th {\n",
       "        vertical-align: top;\n",
       "    }\n",
       "\n",
       "    .dataframe thead th {\n",
       "        text-align: right;\n",
       "    }\n",
       "</style>\n",
       "<table border=\"1\" class=\"dataframe\">\n",
       "  <thead>\n",
       "    <tr style=\"text-align: right;\">\n",
       "      <th></th>\n",
       "      <th>Model</th>\n",
       "      <th>model_id</th>\n",
       "      <th>featurelist</th>\n",
       "      <th>sample_pct</th>\n",
       "      <th>validation</th>\n",
       "      <th>crossValidation</th>\n",
       "      <th>holdout</th>\n",
       "    </tr>\n",
       "  </thead>\n",
       "  <tbody>\n",
       "    <tr>\n",
       "      <th>0</th>\n",
       "      <td>Model('Light Gradient Boosted Trees Classifier...</td>\n",
       "      <td>612808a2905f1a621923e7af</td>\n",
       "      <td>Informative Features - Leakage Removed</td>\n",
       "      <td>64.0</td>\n",
       "      <td>0.37354</td>\n",
       "      <td>0.372864</td>\n",
       "      <td>NaN</td>\n",
       "    </tr>\n",
       "    <tr>\n",
       "      <th>1</th>\n",
       "      <td>Model('AVG Blender')</td>\n",
       "      <td>61280c743991e72a8d23e7de</td>\n",
       "      <td>Informative Features - Leakage Removed</td>\n",
       "      <td>64.0</td>\n",
       "      <td>0.37485</td>\n",
       "      <td>0.372398</td>\n",
       "      <td>NaN</td>\n",
       "    </tr>\n",
       "    <tr>\n",
       "      <th>2</th>\n",
       "      <td>Model('eXtreme Gradient Boosted Trees Classifi...</td>\n",
       "      <td>612807cebf62f27c3562925d</td>\n",
       "      <td>Informative Features - Leakage Removed</td>\n",
       "      <td>32.0</td>\n",
       "      <td>0.37492</td>\n",
       "      <td>NaN</td>\n",
       "      <td>NaN</td>\n",
       "    </tr>\n",
       "    <tr>\n",
       "      <th>3</th>\n",
       "      <td>Model('Light Gradient Boosted Trees Classifier...</td>\n",
       "      <td>61280b7b13ff4fabcb7926d4</td>\n",
       "      <td>Informative Features - Leakage Removed</td>\n",
       "      <td>80.0</td>\n",
       "      <td>0.37650</td>\n",
       "      <td>0.373530</td>\n",
       "      <td>NaN</td>\n",
       "    </tr>\n",
       "    <tr>\n",
       "      <th>4</th>\n",
       "      <td>Model('eXtreme Gradient Boosted Trees Classifi...</td>\n",
       "      <td>612808a2905f1a621923e7ac</td>\n",
       "      <td>Informative Features - Leakage Removed</td>\n",
       "      <td>64.0</td>\n",
       "      <td>0.37701</td>\n",
       "      <td>0.375070</td>\n",
       "      <td>NaN</td>\n",
       "    </tr>\n",
       "    <tr>\n",
       "      <th>5</th>\n",
       "      <td>Model('RandomForest Classifier (Gini)')</td>\n",
       "      <td>612808a2905f1a621923e7b2</td>\n",
       "      <td>Informative Features - Leakage Removed</td>\n",
       "      <td>64.0</td>\n",
       "      <td>0.37714</td>\n",
       "      <td>0.377238</td>\n",
       "      <td>NaN</td>\n",
       "    </tr>\n",
       "    <tr>\n",
       "      <th>6</th>\n",
       "      <td>Model('Light Gradient Boosted Trees Classifier...</td>\n",
       "      <td>61280bfe0edeed905acc2c2a</td>\n",
       "      <td>Informative Features - Leakage Removed</td>\n",
       "      <td>100.0</td>\n",
       "      <td>0.37793</td>\n",
       "      <td>0.374020</td>\n",
       "      <td>0.37643</td>\n",
       "    </tr>\n",
       "    <tr>\n",
       "      <th>7</th>\n",
       "      <td>Model('Light Gradient Boosted Trees Classifier...</td>\n",
       "      <td>61280b037cf40bf876e58e48</td>\n",
       "      <td>DR Reduced Features M19</td>\n",
       "      <td>64.0</td>\n",
       "      <td>0.37879</td>\n",
       "      <td>0.374530</td>\n",
       "      <td>NaN</td>\n",
       "    </tr>\n",
       "    <tr>\n",
       "      <th>8</th>\n",
       "      <td>Model('Light Gradient Boosted Trees Classifier...</td>\n",
       "      <td>612807d0bf62f27c35629266</td>\n",
       "      <td>Informative Features - Leakage Removed</td>\n",
       "      <td>32.0</td>\n",
       "      <td>0.37959</td>\n",
       "      <td>NaN</td>\n",
       "      <td>NaN</td>\n",
       "    </tr>\n",
       "    <tr>\n",
       "      <th>9</th>\n",
       "      <td>Model('RandomForest Classifier (Gini)')</td>\n",
       "      <td>612807cfbf62f27c35629262</td>\n",
       "      <td>Informative Features - Leakage Removed</td>\n",
       "      <td>32.0</td>\n",
       "      <td>0.37961</td>\n",
       "      <td>NaN</td>\n",
       "      <td>NaN</td>\n",
       "    </tr>\n",
       "  </tbody>\n",
       "</table>\n",
       "</div>"
      ],
      "text/plain": [
       "                                               Model                  model_id                             featurelist  sample_pct  validation  crossValidation  holdout\n",
       "0  Model('Light Gradient Boosted Trees Classifier...  612808a2905f1a621923e7af  Informative Features - Leakage Removed        64.0     0.37354         0.372864      NaN\n",
       "1                               Model('AVG Blender')  61280c743991e72a8d23e7de  Informative Features - Leakage Removed        64.0     0.37485         0.372398      NaN\n",
       "2  Model('eXtreme Gradient Boosted Trees Classifi...  612807cebf62f27c3562925d  Informative Features - Leakage Removed        32.0     0.37492              NaN      NaN\n",
       "3  Model('Light Gradient Boosted Trees Classifier...  61280b7b13ff4fabcb7926d4  Informative Features - Leakage Removed        80.0     0.37650         0.373530      NaN\n",
       "4  Model('eXtreme Gradient Boosted Trees Classifi...  612808a2905f1a621923e7ac  Informative Features - Leakage Removed        64.0     0.37701         0.375070      NaN\n",
       "5            Model('RandomForest Classifier (Gini)')  612808a2905f1a621923e7b2  Informative Features - Leakage Removed        64.0     0.37714         0.377238      NaN\n",
       "6  Model('Light Gradient Boosted Trees Classifier...  61280bfe0edeed905acc2c2a  Informative Features - Leakage Removed       100.0     0.37793         0.374020  0.37643\n",
       "7  Model('Light Gradient Boosted Trees Classifier...  61280b037cf40bf876e58e48                 DR Reduced Features M19        64.0     0.37879         0.374530      NaN\n",
       "8  Model('Light Gradient Boosted Trees Classifier...  612807d0bf62f27c35629266  Informative Features - Leakage Removed        32.0     0.37959              NaN      NaN\n",
       "9            Model('RandomForest Classifier (Gini)')  612807cfbf62f27c35629262  Informative Features - Leakage Removed        32.0     0.37961              NaN      NaN"
      ]
     },
     "metadata": {},
     "output_type": "display_data"
    }
   ],
   "source": [
    "# Create pandas DataFrame which shows our leaderboard\n",
    "leaderboard_df = retrieve_leaderboard(project)"
   ]
  },
  {
   "cell_type": "code",
   "execution_count": 7,
   "metadata": {},
   "outputs": [],
   "source": [
    "# Select model to use from leaderboard results\n",
    "modelId = '612808a2905f1a621923e7af'\n",
    "model = dr.Model.get(project=projectId, model_id=modelId)"
   ]
  },
  {
   "cell_type": "markdown",
   "metadata": {},
   "source": [
    "### Get Training Predictions via API and Store as Dataframe"
   ]
  },
  {
   "cell_type": "code",
   "execution_count": 15,
   "metadata": {},
   "outputs": [],
   "source": [
    "def get_train_preds(projectId, model):\n",
    "    try:\n",
    "        trainPredJob = model.request_training_predictions(dr.enums.DATA_SUBSET.ALL)\n",
    "        trainPreds = trainPredJob.get_result_when_complete()\n",
    "        trainPredsDf = trainPreds.get_all_as_dataframe()\n",
    "        return trainPredsDf\n",
    "    except Exception as e:\n",
    "        print(\"Training predictions already exist. Execute the next two cells to retrieve existing predictions\")\n"
   ]
  },
  {
   "cell_type": "code",
   "execution_count": 16,
   "metadata": {},
   "outputs": [
    {
     "name": "stdout",
     "output_type": "stream",
     "text": [
      "Training predictions already exist. Execute the next two cells to retrieve existing predictions\n"
     ]
    }
   ],
   "source": [
    "#Store training predictions as dataframe\n",
    "preds = get_train_preds(projectId, model)"
   ]
  },
  {
   "cell_type": "markdown",
   "metadata": {},
   "source": [
    "Skip next two cells if previous line executed successfully"
   ]
  },
  {
   "cell_type": "code",
   "execution_count": 17,
   "metadata": {},
   "outputs": [
    {
     "name": "stdout",
     "output_type": "stream",
     "text": [
      "61280c761413a738696a87f8 validationAndHoldout\n",
      "61281683663cf91d0149c41f all\n"
     ]
    }
   ],
   "source": [
    "# for i in dr.TrainingPredictions.list(projectId):\n",
    "#     print(i.prediction_id, i.data_subset)"
   ]
  },
  {
   "cell_type": "code",
   "execution_count": 18,
   "metadata": {},
   "outputs": [],
   "source": [
    "# prediction_id = '61281683663cf91d0149c41f'\n",
    "# preds = dr.TrainingPredictions.get(projectId, prediction_id).get_all_as_dataframe()"
   ]
  },
  {
   "cell_type": "code",
   "execution_count": 19,
   "metadata": {},
   "outputs": [
    {
     "data": {
      "text/html": [
       "<div>\n",
       "<style scoped>\n",
       "    .dataframe tbody tr th:only-of-type {\n",
       "        vertical-align: middle;\n",
       "    }\n",
       "\n",
       "    .dataframe tbody tr th {\n",
       "        vertical-align: top;\n",
       "    }\n",
       "\n",
       "    .dataframe thead th {\n",
       "        text-align: right;\n",
       "    }\n",
       "</style>\n",
       "<table border=\"1\" class=\"dataframe\">\n",
       "  <thead>\n",
       "    <tr style=\"text-align: right;\">\n",
       "      <th></th>\n",
       "      <th>row_id</th>\n",
       "      <th>partition_id</th>\n",
       "      <th>prediction</th>\n",
       "      <th>class_Yes</th>\n",
       "      <th>class_No</th>\n",
       "    </tr>\n",
       "  </thead>\n",
       "  <tbody>\n",
       "    <tr>\n",
       "      <th>0</th>\n",
       "      <td>0</td>\n",
       "      <td>3.0</td>\n",
       "      <td>No</td>\n",
       "      <td>0.097471</td>\n",
       "      <td>0.902529</td>\n",
       "    </tr>\n",
       "    <tr>\n",
       "      <th>1</th>\n",
       "      <td>1</td>\n",
       "      <td>1.0</td>\n",
       "      <td>No</td>\n",
       "      <td>0.254543</td>\n",
       "      <td>0.745457</td>\n",
       "    </tr>\n",
       "    <tr>\n",
       "      <th>2</th>\n",
       "      <td>2</td>\n",
       "      <td>Holdout</td>\n",
       "      <td>No</td>\n",
       "      <td>0.082933</td>\n",
       "      <td>0.917067</td>\n",
       "    </tr>\n",
       "    <tr>\n",
       "      <th>3</th>\n",
       "      <td>3</td>\n",
       "      <td>Holdout</td>\n",
       "      <td>No</td>\n",
       "      <td>0.099547</td>\n",
       "      <td>0.900453</td>\n",
       "    </tr>\n",
       "    <tr>\n",
       "      <th>4</th>\n",
       "      <td>4</td>\n",
       "      <td>4.0</td>\n",
       "      <td>No</td>\n",
       "      <td>0.292337</td>\n",
       "      <td>0.707663</td>\n",
       "    </tr>\n",
       "  </tbody>\n",
       "</table>\n",
       "</div>"
      ],
      "text/plain": [
       "   row_id partition_id prediction  class_Yes  class_No\n",
       "0       0          3.0         No   0.097471  0.902529\n",
       "1       1          1.0         No   0.254543  0.745457\n",
       "2       2      Holdout         No   0.082933  0.917067\n",
       "3       3      Holdout         No   0.099547  0.900453\n",
       "4       4          4.0         No   0.292337  0.707663"
      ]
     },
     "metadata": {},
     "output_type": "display_data"
    },
    {
     "data": {
      "text/plain": [
       "(10000, 5)"
      ]
     },
     "metadata": {},
     "output_type": "display_data"
    },
    {
     "data": {
      "text/html": [
       "<div>\n",
       "<style scoped>\n",
       "    .dataframe tbody tr th:only-of-type {\n",
       "        vertical-align: middle;\n",
       "    }\n",
       "\n",
       "    .dataframe tbody tr th {\n",
       "        vertical-align: top;\n",
       "    }\n",
       "\n",
       "    .dataframe thead th {\n",
       "        text-align: right;\n",
       "    }\n",
       "</style>\n",
       "<table border=\"1\" class=\"dataframe\">\n",
       "  <thead>\n",
       "    <tr style=\"text-align: right;\">\n",
       "      <th></th>\n",
       "      <th>row_id</th>\n",
       "      <th>partition_id</th>\n",
       "      <th>prediction</th>\n",
       "      <th>class_Yes</th>\n",
       "      <th>class_No</th>\n",
       "    </tr>\n",
       "  </thead>\n",
       "  <tbody>\n",
       "    <tr>\n",
       "      <th>2930</th>\n",
       "      <td>2930</td>\n",
       "      <td>Holdout</td>\n",
       "      <td>Yes</td>\n",
       "      <td>0.524906</td>\n",
       "      <td>0.475094</td>\n",
       "    </tr>\n",
       "  </tbody>\n",
       "</table>\n",
       "</div>"
      ],
      "text/plain": [
       "      row_id partition_id prediction  class_Yes  class_No\n",
       "2930    2930      Holdout        Yes   0.524906  0.475094"
      ]
     },
     "metadata": {},
     "output_type": "display_data"
    }
   ],
   "source": [
    "# Check that we have predictions\n",
    "display(preds.head())\n",
    "display(preds.shape)\n",
    "display(preds[preds.row_id == 2930])"
   ]
  },
  {
   "cell_type": "code",
   "execution_count": 20,
   "metadata": {},
   "outputs": [
    {
     "data": {
      "text/plain": [
       "Holdout    2000\n",
       "3.0        1600\n",
       "1.0        1600\n",
       "4.0        1600\n",
       "2.0        1600\n",
       "0.0        1600\n",
       "Name: partition_id, dtype: int64"
      ]
     },
     "execution_count": 20,
     "metadata": {},
     "output_type": "execute_result"
    }
   ],
   "source": [
    "preds[\"partition_id\"].value_counts()"
   ]
  },
  {
   "cell_type": "markdown",
   "metadata": {},
   "source": [
    "### Get Training Data as .csv then Read in as Dataframe"
   ]
  },
  {
   "cell_type": "code",
   "execution_count": 21,
   "metadata": {},
   "outputs": [
    {
     "name": "stdout",
     "output_type": "stream",
     "text": [
      "Dataset(name='DR_Demo_LendingClub_Guardrails_Fairness.csv', id='5fc798b431070f1b9acea498')\n"
     ]
    }
   ],
   "source": [
    "# List datasets associated with project and find which ID to use\n",
    "for ds in dr.Dataset.list():\n",
    "    if project.id in [p.id for p in ds.get_projects()]:\n",
    "        print(ds)\n",
    "        break"
   ]
  },
  {
   "cell_type": "code",
   "execution_count": 22,
   "metadata": {},
   "outputs": [
    {
     "data": {
      "text/html": [
       "<div>\n",
       "<style scoped>\n",
       "    .dataframe tbody tr th:only-of-type {\n",
       "        vertical-align: middle;\n",
       "    }\n",
       "\n",
       "    .dataframe tbody tr th {\n",
       "        vertical-align: top;\n",
       "    }\n",
       "\n",
       "    .dataframe thead th {\n",
       "        text-align: right;\n",
       "    }\n",
       "</style>\n",
       "<table border=\"1\" class=\"dataframe\">\n",
       "  <thead>\n",
       "    <tr style=\"text-align: right;\">\n",
       "      <th></th>\n",
       "      <th>is_bad</th>\n",
       "      <th>member_id</th>\n",
       "      <th>loan_status</th>\n",
       "      <th>emp_title</th>\n",
       "      <th>emp_length</th>\n",
       "      <th>home_ownership</th>\n",
       "      <th>annual_inc</th>\n",
       "      <th>pymnt_plan</th>\n",
       "      <th>desc</th>\n",
       "      <th>zip_code</th>\n",
       "      <th>addr_state</th>\n",
       "      <th>dti</th>\n",
       "      <th>delinq_2yrs</th>\n",
       "      <th>earliest_cr_line</th>\n",
       "      <th>inq_last_6mths</th>\n",
       "      <th>mths_since_last_delinq</th>\n",
       "      <th>mths_since_last_record</th>\n",
       "      <th>open_acc</th>\n",
       "      <th>pub_rec</th>\n",
       "      <th>revol_util</th>\n",
       "      <th>total_acc</th>\n",
       "      <th>initial_list_status</th>\n",
       "      <th>collections_12_mths_ex_med</th>\n",
       "      <th>mths_since_last_major_derog</th>\n",
       "      <th>revol_util_percent</th>\n",
       "      <th>policy_code</th>\n",
       "      <th>gender</th>\n",
       "      <th>race</th>\n",
       "    </tr>\n",
       "  </thead>\n",
       "  <tbody>\n",
       "    <tr>\n",
       "      <th>0</th>\n",
       "      <td>Yes</td>\n",
       "      <td>M1236516</td>\n",
       "      <td>Charged Off</td>\n",
       "      <td>Aqua Sun Lawn and Landscaping</td>\n",
       "      <td>5 years</td>\n",
       "      <td>RENT</td>\n",
       "      <td>50000.0</td>\n",
       "      <td>n</td>\n",
       "      <td>NaN</td>\n",
       "      <td>282xx</td>\n",
       "      <td>NC</td>\n",
       "      <td>7.99</td>\n",
       "      <td>1.0</td>\n",
       "      <td>12/1/1998</td>\n",
       "      <td>1.0</td>\n",
       "      <td>19.0</td>\n",
       "      <td>NaN</td>\n",
       "      <td>3.0</td>\n",
       "      <td>0.0</td>\n",
       "      <td>13.9</td>\n",
       "      <td>9.0</td>\n",
       "      <td>False</td>\n",
       "      <td>0.0</td>\n",
       "      <td>NaN</td>\n",
       "      <td>14%</td>\n",
       "      <td>1</td>\n",
       "      <td>Male</td>\n",
       "      <td>Black</td>\n",
       "    </tr>\n",
       "    <tr>\n",
       "      <th>1</th>\n",
       "      <td>No</td>\n",
       "      <td>M0978861</td>\n",
       "      <td>Fully Paid</td>\n",
       "      <td>USDA/FMMA</td>\n",
       "      <td>9 years</td>\n",
       "      <td>RENT</td>\n",
       "      <td>34200.0</td>\n",
       "      <td>n</td>\n",
       "      <td>NaN</td>\n",
       "      <td>605xx</td>\n",
       "      <td>IL</td>\n",
       "      <td>22.74</td>\n",
       "      <td>2.0</td>\n",
       "      <td>11/1/1971</td>\n",
       "      <td>2.0</td>\n",
       "      <td>14.0</td>\n",
       "      <td>45.0</td>\n",
       "      <td>10.0</td>\n",
       "      <td>1.0</td>\n",
       "      <td>80.6</td>\n",
       "      <td>31.0</td>\n",
       "      <td>False</td>\n",
       "      <td>0.0</td>\n",
       "      <td>NaN</td>\n",
       "      <td>81%</td>\n",
       "      <td>1</td>\n",
       "      <td>Female</td>\n",
       "      <td>White</td>\n",
       "    </tr>\n",
       "    <tr>\n",
       "      <th>2</th>\n",
       "      <td>No</td>\n",
       "      <td>M0767668</td>\n",
       "      <td>Fully Paid</td>\n",
       "      <td>Doublepark LLC</td>\n",
       "      <td>3 years</td>\n",
       "      <td>RENT</td>\n",
       "      <td>30000.0</td>\n",
       "      <td>n</td>\n",
       "      <td>NaN</td>\n",
       "      <td>331xx</td>\n",
       "      <td>FL</td>\n",
       "      <td>2.36</td>\n",
       "      <td>0.0</td>\n",
       "      <td>7/1/2000</td>\n",
       "      <td>0.0</td>\n",
       "      <td>72.0</td>\n",
       "      <td>NaN</td>\n",
       "      <td>5.0</td>\n",
       "      <td>0.0</td>\n",
       "      <td>11.6</td>\n",
       "      <td>8.0</td>\n",
       "      <td>False</td>\n",
       "      <td>0.0</td>\n",
       "      <td>NaN</td>\n",
       "      <td>12%</td>\n",
       "      <td>1</td>\n",
       "      <td>Female</td>\n",
       "      <td>White</td>\n",
       "    </tr>\n",
       "    <tr>\n",
       "      <th>3</th>\n",
       "      <td>No</td>\n",
       "      <td>M0879043</td>\n",
       "      <td>Fully Paid</td>\n",
       "      <td>City of Rochester</td>\n",
       "      <td>3 years</td>\n",
       "      <td>MORTGAGE</td>\n",
       "      <td>51000.0</td>\n",
       "      <td>n</td>\n",
       "      <td>NaN</td>\n",
       "      <td>146xx</td>\n",
       "      <td>NY</td>\n",
       "      <td>11.20</td>\n",
       "      <td>0.0</td>\n",
       "      <td>5/1/1998</td>\n",
       "      <td>1.0</td>\n",
       "      <td>NaN</td>\n",
       "      <td>NaN</td>\n",
       "      <td>13.0</td>\n",
       "      <td>0.0</td>\n",
       "      <td>0.0</td>\n",
       "      <td>23.0</td>\n",
       "      <td>False</td>\n",
       "      <td>0.0</td>\n",
       "      <td>NaN</td>\n",
       "      <td>0%</td>\n",
       "      <td>1</td>\n",
       "      <td>Female</td>\n",
       "      <td>White</td>\n",
       "    </tr>\n",
       "    <tr>\n",
       "      <th>4</th>\n",
       "      <td>No</td>\n",
       "      <td>M0661671</td>\n",
       "      <td>Fully Paid</td>\n",
       "      <td>Roger George Rentals</td>\n",
       "      <td>9 years</td>\n",
       "      <td>RENT</td>\n",
       "      <td>44004.0</td>\n",
       "      <td>n</td>\n",
       "      <td>NaN</td>\n",
       "      <td>916xx</td>\n",
       "      <td>CA</td>\n",
       "      <td>22.47</td>\n",
       "      <td>0.0</td>\n",
       "      <td>5/1/2002</td>\n",
       "      <td>1.0</td>\n",
       "      <td>NaN</td>\n",
       "      <td>NaN</td>\n",
       "      <td>16.0</td>\n",
       "      <td>0.0</td>\n",
       "      <td>94.5</td>\n",
       "      <td>32.0</td>\n",
       "      <td>False</td>\n",
       "      <td>0.0</td>\n",
       "      <td>NaN</td>\n",
       "      <td>94%</td>\n",
       "      <td>1</td>\n",
       "      <td>Female</td>\n",
       "      <td>White</td>\n",
       "    </tr>\n",
       "  </tbody>\n",
       "</table>\n",
       "</div>"
      ],
      "text/plain": [
       "  is_bad member_id  loan_status                      emp_title emp_length home_ownership  annual_inc pymnt_plan desc zip_code addr_state    dti  delinq_2yrs earliest_cr_line  inq_last_6mths  mths_since_last_delinq  mths_since_last_record  open_acc  pub_rec  revol_util  total_acc  initial_list_status  collections_12_mths_ex_med  mths_since_last_major_derog revol_util_percent  policy_code  gender   race\n",
       "0    Yes  M1236516  Charged Off  Aqua Sun Lawn and Landscaping    5 years           RENT     50000.0          n  NaN    282xx         NC   7.99          1.0        12/1/1998             1.0                    19.0                     NaN       3.0      0.0        13.9        9.0                False                         0.0                          NaN                14%            1    Male  Black\n",
       "1     No  M0978861   Fully Paid                      USDA/FMMA    9 years           RENT     34200.0          n  NaN    605xx         IL  22.74          2.0        11/1/1971             2.0                    14.0                    45.0      10.0      1.0        80.6       31.0                False                         0.0                          NaN                81%            1  Female  White\n",
       "2     No  M0767668   Fully Paid                 Doublepark LLC    3 years           RENT     30000.0          n  NaN    331xx         FL   2.36          0.0         7/1/2000             0.0                    72.0                     NaN       5.0      0.0        11.6        8.0                False                         0.0                          NaN                12%            1  Female  White\n",
       "3     No  M0879043   Fully Paid              City of Rochester    3 years       MORTGAGE     51000.0          n  NaN    146xx         NY  11.20          0.0         5/1/1998             1.0                     NaN                     NaN      13.0      0.0         0.0       23.0                False                         0.0                          NaN                 0%            1  Female  White\n",
       "4     No  M0661671   Fully Paid           Roger George Rentals    9 years           RENT     44004.0          n  NaN    916xx         CA  22.47          0.0         5/1/2002             1.0                     NaN                     NaN      16.0      0.0        94.5       32.0                False                         0.0                          NaN                94%            1  Female  White"
      ]
     },
     "metadata": {},
     "output_type": "display_data"
    },
    {
     "data": {
      "text/plain": [
       "(10000, 28)"
      ]
     },
     "metadata": {},
     "output_type": "display_data"
    }
   ],
   "source": [
    "# Specify dataset id from above and create dataset object\n",
    "dataset_id = '5fc798b431070f1b9acea498'\n",
    "dataset = dr.Dataset.get(dataset_id)\n",
    "\n",
    "# Save dataset locally then create DataFrame\n",
    "path = './lending_club.csv'\n",
    "dataset.get_file(path)\n",
    "train_df = pd.read_csv(path)\n",
    "display(train_df.head())\n",
    "display(train_df.shape)"
   ]
  },
  {
   "cell_type": "markdown",
   "metadata": {},
   "source": [
    "### Join Predictions with Training Data"
   ]
  },
  {
   "cell_type": "code",
   "execution_count": 23,
   "metadata": {},
   "outputs": [],
   "source": [
    "# Create training dataframe with only pertinent columns - replace with your own \n",
    "cols = ['is_bad', 'gender']\n",
    "train_reduced_df = train_df[cols]"
   ]
  },
  {
   "cell_type": "code",
   "execution_count": 24,
   "metadata": {},
   "outputs": [
    {
     "data": {
      "text/plain": [
       "(10000, 7)"
      ]
     },
     "metadata": {},
     "output_type": "display_data"
    }
   ],
   "source": [
    "# Join training data with preds on row_id in preds to index in training\n",
    "preds_and_train_df = pd.merge(left=train_reduced_df, right=preds, left_index=True, right_on=\"row_id\")\n",
    "display(preds_and_train_df.shape)"
   ]
  },
  {
   "cell_type": "code",
   "execution_count": 25,
   "metadata": {},
   "outputs": [],
   "source": [
    "# Setup variables for columns/outcomes for easier use\n",
    "pred_col = 'prediction'\n",
    "target = 'is_bad'\n",
    "fav_outcome = 0 #Use 0 or 1 for 'No', 'Yes' (i.e. Boolean representation)\n",
    "unfav_outcome = 1 #'Use 0 or 1 for 'No', 'Yes' (i.e. Boolean representation)\n",
    "fav_outcome_col = 'class_No' #Use raw target label\n",
    "unfav_outcome_col = 'class_Yes' #Use raw target label\n",
    "prot_att = 'gender'"
   ]
  },
  {
   "cell_type": "markdown",
   "metadata": {},
   "source": [
    "### Adjust Prediction Threshold"
   ]
  },
  {
   "cell_type": "code",
   "execution_count": 26,
   "metadata": {},
   "outputs": [
    {
     "name": "stdout",
     "output_type": "stream",
     "text": [
      "0.15222608713304683\n"
     ]
    }
   ],
   "source": [
    "# Find the threshold that maximizes F1 score\n",
    "roc = model.get_roc_curve('validation')\n",
    "pred_threshold = roc.get_best_f1_threshold()\n",
    "print(pred_threshold)"
   ]
  },
  {
   "cell_type": "code",
   "execution_count": 27,
   "metadata": {},
   "outputs": [
    {
     "data": {
      "text/html": [
       "<div>\n",
       "<style scoped>\n",
       "    .dataframe tbody tr th:only-of-type {\n",
       "        vertical-align: middle;\n",
       "    }\n",
       "\n",
       "    .dataframe tbody tr th {\n",
       "        vertical-align: top;\n",
       "    }\n",
       "\n",
       "    .dataframe thead th {\n",
       "        text-align: right;\n",
       "    }\n",
       "</style>\n",
       "<table border=\"1\" class=\"dataframe\">\n",
       "  <thead>\n",
       "    <tr style=\"text-align: right;\">\n",
       "      <th></th>\n",
       "      <th>is_bad</th>\n",
       "      <th>gender</th>\n",
       "      <th>row_id</th>\n",
       "      <th>partition_id</th>\n",
       "      <th>prediction</th>\n",
       "      <th>class_Yes</th>\n",
       "      <th>class_No</th>\n",
       "    </tr>\n",
       "  </thead>\n",
       "  <tbody>\n",
       "    <tr>\n",
       "      <th>0</th>\n",
       "      <td>Yes</td>\n",
       "      <td>Male</td>\n",
       "      <td>0</td>\n",
       "      <td>3.0</td>\n",
       "      <td>No</td>\n",
       "      <td>0.097471</td>\n",
       "      <td>0.902529</td>\n",
       "    </tr>\n",
       "    <tr>\n",
       "      <th>1</th>\n",
       "      <td>No</td>\n",
       "      <td>Female</td>\n",
       "      <td>1</td>\n",
       "      <td>1.0</td>\n",
       "      <td>Yes</td>\n",
       "      <td>0.254543</td>\n",
       "      <td>0.745457</td>\n",
       "    </tr>\n",
       "    <tr>\n",
       "      <th>2</th>\n",
       "      <td>No</td>\n",
       "      <td>Female</td>\n",
       "      <td>2</td>\n",
       "      <td>Holdout</td>\n",
       "      <td>No</td>\n",
       "      <td>0.082933</td>\n",
       "      <td>0.917067</td>\n",
       "    </tr>\n",
       "    <tr>\n",
       "      <th>3</th>\n",
       "      <td>No</td>\n",
       "      <td>Female</td>\n",
       "      <td>3</td>\n",
       "      <td>Holdout</td>\n",
       "      <td>No</td>\n",
       "      <td>0.099547</td>\n",
       "      <td>0.900453</td>\n",
       "    </tr>\n",
       "    <tr>\n",
       "      <th>4</th>\n",
       "      <td>No</td>\n",
       "      <td>Female</td>\n",
       "      <td>4</td>\n",
       "      <td>4.0</td>\n",
       "      <td>Yes</td>\n",
       "      <td>0.292337</td>\n",
       "      <td>0.707663</td>\n",
       "    </tr>\n",
       "  </tbody>\n",
       "</table>\n",
       "</div>"
      ],
      "text/plain": [
       "  is_bad  gender  row_id partition_id prediction  class_Yes  class_No\n",
       "0    Yes    Male       0          3.0         No   0.097471  0.902529\n",
       "1     No  Female       1          1.0        Yes   0.254543  0.745457\n",
       "2     No  Female       2      Holdout         No   0.082933  0.917067\n",
       "3     No  Female       3      Holdout         No   0.099547  0.900453\n",
       "4     No  Female       4          4.0        Yes   0.292337  0.707663"
      ]
     },
     "metadata": {},
     "output_type": "display_data"
    }
   ],
   "source": [
    "# Update predictions based on threshold\n",
    "preds_and_train_thresh_df = preds_and_train_df.copy()\n",
    "preds_and_train_thresh_df[pred_col] = np.where((preds_and_train_thresh_df.class_Yes > pred_threshold), 'Yes', 'No')\n",
    "display(preds_and_train_thresh_df.head())"
   ]
  },
  {
   "cell_type": "markdown",
   "metadata": {},
   "source": [
    "### Favorable / Unfavorable Class Balance"
   ]
  },
  {
   "cell_type": "code",
   "execution_count": 28,
   "metadata": {},
   "outputs": [],
   "source": [
    "# Create aggregated df for favorable / unfavorable class balance\n",
    "preds_balance_df = preds_and_train_thresh_df.copy()\n",
    "# TODO: Shoop, I think preds_balance_df needs to be\n",
    "# subset down to ONLY the Validation partition (i.e. partition == 0.0)\n",
    "preds_balance_df = preds_balance_df[preds_balance_df[\"partition_id\"] == \"0.0\"]\n",
    "\n",
    "preds_balance_df[target] = np.where(preds_balance_df[target] == 'Yes', 1, 0)\n",
    "preds_balance_df[pred_col] = np.where(preds_balance_df[pred_col] == 'Yes', 1, 0)\n",
    "preds_balance_df = preds_balance_df.groupby([prot_att, target])[pred_col].mean().reset_index(name='mean_predicted_prob')"
   ]
  },
  {
   "cell_type": "code",
   "execution_count": 29,
   "metadata": {},
   "outputs": [],
   "source": [
    "def favClassBalance(df, fairnessThreshold, favOutcome, protectedAtt):\n",
    "    protAttClasses = list(df[protectedAtt].unique())\n",
    "    favBalResults = {c: 0 for c in protAttClasses}\n",
    "\n",
    "    FavMeanPredictedProb = df[df[target] == favOutcome].set_index(protectedAtt)['mean_predicted_prob']\n",
    "    favBalResults.update(FavMeanPredictedProb.to_dict())\n",
    "    favBalResultsSorted = dict(sorted(favBalResults.items(), key=operator.itemgetter(1)))#,reverse=True))\n",
    "\n",
    "    if favOutcome == 0:\n",
    "        for k in favBalResultsSorted:\n",
    "            favBalResultsSorted[k] = 1-(favBalResultsSorted[k])\n",
    "\n",
    "    favPrivFairnessVal = list(favBalResultsSorted.items())[0][1]\n",
    "    favPrivFairnessKey = list(favBalResultsSorted.items())[0][0]\n",
    "\n",
    "    relativeResults = dict(favBalResultsSorted)\n",
    "\n",
    "    for k in relativeResults:\n",
    "        if k == favPrivFairnessKey:\n",
    "            relativeResults[k] = 1\n",
    "\n",
    "        else:\n",
    "            relativeResults[k] = round(relativeResults[k] / favPrivFairnessVal, 2)\n",
    "\n",
    "    \n",
    "    \n",
    "    print('Absolute Fairness For Favorable Class Balance:')\n",
    "    for k, v in favBalResultsSorted.items():\n",
    "        print(k, v)\n",
    "\n",
    "    print('\\nRelative Fairness for Favorable Class Balance:')\n",
    "    for k, v in relativeResults.items():\n",
    "        print(k, v)\n",
    "\n",
    "    biasedResults = dict((k, v) for k, v in relativeResults.items() if v < fairnessThreshold)\n",
    "\n",
    "    print('\\nBiased Results:')\n",
    "    for k, v in biasedResults.items():\n",
    "        print(k, v)"
   ]
  },
  {
   "cell_type": "code",
   "execution_count": 30,
   "metadata": {},
   "outputs": [
    {
     "name": "stdout",
     "output_type": "stream",
     "text": [
      "Absolute Fairness For Favorable Class Balance:\n",
      "Male 0.8994169096209913\n",
      "Female 0.548158640226629\n",
      "\n",
      "Relative Fairness for Favorable Class Balance:\n",
      "Male 1\n",
      "Female 0.61\n",
      "\n",
      "Biased Results:\n",
      "Female 0.61\n"
     ]
    }
   ],
   "source": [
    "favClassBalance(preds_balance_df, 0.8, fav_outcome, prot_att)"
   ]
  },
  {
   "cell_type": "code",
   "execution_count": 31,
   "metadata": {},
   "outputs": [],
   "source": [
    "# TODO: hmmmmmmmmmm, Absolute fairness scores, Male is close, but Female is off :confused-face:"
   ]
  },
  {
   "cell_type": "code",
   "execution_count": 32,
   "metadata": {},
   "outputs": [],
   "source": [
    "def unfavClassBalance(df, fairnessThreshold, unfavOutcome, protectedAtt):\n",
    "    protAttClasses = list(df[protectedAtt].unique())\n",
    "    unfavBalResults = {c: 0 for c in protAttClasses}\n",
    "\n",
    "    unfavMeanPredictedProb = df[df[target] == unfavOutcome].set_index(protectedAtt)['mean_predicted_prob']\n",
    "    unfavBalResults.update(unfavMeanPredictedProb.to_dict())\n",
    "    unfavBalResultsSorted = dict(sorted(unfavBalResults.items(), key=operator.itemgetter(1)))#,reverse=True))\n",
    "\n",
    "    if unfavOutcome == 1:\n",
    "        for k in unfavBalResultsSorted:\n",
    "            unfavBalResultsSorted[k] = 1-(unfavBalResultsSorted[k])\n",
    "\n",
    "    favPrivFairnessVal = list(unfavBalResultsSorted.items())[0][1]\n",
    "    favPrivFairnessKey = list(unfavBalResultsSorted.items())[0][0]\n",
    "\n",
    "    relativeResults = dict(unfavBalResultsSorted)\n",
    "\n",
    "    for k in relativeResults:\n",
    "        if k == favPrivFairnessKey:\n",
    "            relativeResults[k] = 1\n",
    "\n",
    "        else:\n",
    "            relativeResults[k] = round(relativeResults[k] / favPrivFairnessVal, 2)\n",
    "\n",
    "    \n",
    "    \n",
    "    print('Absolute Fairness For Favorable Class Balance:')\n",
    "    for k, v in unfavBalResultsSorted.items():\n",
    "        print(k, v)\n",
    "\n",
    "    print('\\nRelative Fairness for Favorable Class Balance:')\n",
    "    for k, v in relativeResults.items():\n",
    "        print(k, v)\n",
    "\n",
    "    biasedResults = dict((k, v) for k, v in relativeResults.items() if v < fairnessThreshold)\n",
    "\n",
    "    print('\\nBiased Results:')\n",
    "    for k, v in biasedResults.items():\n",
    "        print(k, v)"
   ]
  },
  {
   "cell_type": "code",
   "execution_count": 33,
   "metadata": {},
   "outputs": [
    {
     "name": "stdout",
     "output_type": "stream",
     "text": [
      "Absolute Fairness For Favorable Class Balance:\n",
      "Male 0.7857142857142857\n",
      "Female 0.3709677419354839\n",
      "\n",
      "Relative Fairness for Favorable Class Balance:\n",
      "Male 1\n",
      "Female 0.47\n",
      "\n",
      "Biased Results:\n",
      "Female 0.47\n"
     ]
    }
   ],
   "source": [
    "unfavClassBalance(preds_balance_df, 0.8, unfav_outcome, prot_att)"
   ]
  },
  {
   "cell_type": "markdown",
   "metadata": {},
   "source": [
    "### Favorable Predictive Value Parity"
   ]
  },
  {
   "cell_type": "code",
   "execution_count": 38,
   "metadata": {},
   "outputs": [],
   "source": [
    "fav_pred_value_df = preds_and_train_thresh_df.copy()\n",
    "fav_pred_value_df = fav_pred_value_df[fav_pred_value_df[\"partition_id\"] == \"0.0\"]"
   ]
  },
  {
   "cell_type": "code",
   "execution_count": 39,
   "metadata": {},
   "outputs": [
    {
     "data": {
      "text/html": [
       "<div>\n",
       "<style scoped>\n",
       "    .dataframe tbody tr th:only-of-type {\n",
       "        vertical-align: middle;\n",
       "    }\n",
       "\n",
       "    .dataframe tbody tr th {\n",
       "        vertical-align: top;\n",
       "    }\n",
       "\n",
       "    .dataframe thead th {\n",
       "        text-align: right;\n",
       "    }\n",
       "</style>\n",
       "<table border=\"1\" class=\"dataframe\">\n",
       "  <thead>\n",
       "    <tr style=\"text-align: right;\">\n",
       "      <th></th>\n",
       "      <th></th>\n",
       "      <th>count</th>\n",
       "    </tr>\n",
       "    <tr>\n",
       "      <th>gender</th>\n",
       "      <th>prediction</th>\n",
       "      <th></th>\n",
       "    </tr>\n",
       "  </thead>\n",
       "  <tbody>\n",
       "    <tr>\n",
       "      <th rowspan=\"2\" valign=\"top\">Female</th>\n",
       "      <th>No</th>\n",
       "      <td>433</td>\n",
       "    </tr>\n",
       "    <tr>\n",
       "      <th>Yes</th>\n",
       "      <td>397</td>\n",
       "    </tr>\n",
       "    <tr>\n",
       "      <th rowspan=\"2\" valign=\"top\">Male</th>\n",
       "      <th>No</th>\n",
       "      <td>683</td>\n",
       "    </tr>\n",
       "    <tr>\n",
       "      <th>Yes</th>\n",
       "      <td>87</td>\n",
       "    </tr>\n",
       "  </tbody>\n",
       "</table>\n",
       "</div>"
      ],
      "text/plain": [
       "                   count\n",
       "gender prediction       \n",
       "Female No            433\n",
       "       Yes           397\n",
       "Male   No            683\n",
       "       Yes            87"
      ]
     },
     "execution_count": 39,
     "metadata": {},
     "output_type": "execute_result"
    }
   ],
   "source": [
    "fav_pred_value_df.groupby([prot_att, pred_col])[target].aggregate([\"count\"])"
   ]
  },
  {
   "cell_type": "code",
   "execution_count": 40,
   "metadata": {},
   "outputs": [],
   "source": [
    "# Helper method function for aggregate \"true_predictions\" (i.e. correct) predictions\n",
    "def true_predictions_count(actual_prediction_column):\n",
    "            return actual_prediction_column[fav_pred_value_df[pred_col] == fav_pred_value_df[target]].count()"
   ]
  },
  {
   "cell_type": "code",
   "execution_count": 41,
   "metadata": {},
   "outputs": [
    {
     "data": {
      "text/html": [
       "<div>\n",
       "<style scoped>\n",
       "    .dataframe tbody tr th:only-of-type {\n",
       "        vertical-align: middle;\n",
       "    }\n",
       "\n",
       "    .dataframe tbody tr th {\n",
       "        vertical-align: top;\n",
       "    }\n",
       "\n",
       "    .dataframe thead th {\n",
       "        text-align: right;\n",
       "    }\n",
       "</style>\n",
       "<table border=\"1\" class=\"dataframe\">\n",
       "  <thead>\n",
       "    <tr style=\"text-align: right;\">\n",
       "      <th></th>\n",
       "      <th>gender</th>\n",
       "      <th>prediction</th>\n",
       "      <th>predictions_count</th>\n",
       "      <th>true_predictions_count</th>\n",
       "    </tr>\n",
       "  </thead>\n",
       "  <tbody>\n",
       "    <tr>\n",
       "      <th>0</th>\n",
       "      <td>Female</td>\n",
       "      <td>0</td>\n",
       "      <td>433</td>\n",
       "      <td>387</td>\n",
       "    </tr>\n",
       "    <tr>\n",
       "      <th>1</th>\n",
       "      <td>Female</td>\n",
       "      <td>1</td>\n",
       "      <td>397</td>\n",
       "      <td>78</td>\n",
       "    </tr>\n",
       "    <tr>\n",
       "      <th>2</th>\n",
       "      <td>Male</td>\n",
       "      <td>0</td>\n",
       "      <td>683</td>\n",
       "      <td>617</td>\n",
       "    </tr>\n",
       "    <tr>\n",
       "      <th>3</th>\n",
       "      <td>Male</td>\n",
       "      <td>1</td>\n",
       "      <td>87</td>\n",
       "      <td>18</td>\n",
       "    </tr>\n",
       "  </tbody>\n",
       "</table>\n",
       "</div>"
      ],
      "text/plain": [
       "   gender  prediction  predictions_count  true_predictions_count\n",
       "0  Female           0                433                     387\n",
       "1  Female           1                397                      78\n",
       "2    Male           0                683                     617\n",
       "3    Male           1                 87                      18"
      ]
     },
     "metadata": {},
     "output_type": "display_data"
    }
   ],
   "source": [
    "fav_pred_value_df_agg = fav_pred_value_df.groupby([prot_att, pred_col])[target].aggregate([\"count\", true_predictions_count]) \\\n",
    "            .rename(\n",
    "                columns={\n",
    "                    \"count\": \"predictions_count\",\n",
    "                    true_predictions_count.__name__: \"true_predictions_count\",\n",
    "                }\n",
    "            ) \\\n",
    "            .reset_index()\n",
    "\n",
    "# TODO: hack, change pred_col values from string (Yes/No) to boolean (1/0)\n",
    "fav_pred_value_df_agg = fav_pred_value_df_agg.replace({\"prediction\": {\"Yes\": 1, \"No\": 0}})\n",
    "\n",
    "display(fav_pred_value_df_agg)"
   ]
  },
  {
   "cell_type": "code",
   "execution_count": 42,
   "metadata": {},
   "outputs": [],
   "source": [
    "def _count_predictions(aggregated_data):\n",
    "    return aggregated_data.groupby(prot_att)[\"predictions_count\"].sum()"
   ]
  },
  {
   "cell_type": "code",
   "execution_count": 43,
   "metadata": {},
   "outputs": [],
   "source": [
    "def _count_favorable_predictions(aggregated_data):\n",
    "    favorable_predictions = aggregated_data[\n",
    "        aggregated_data[pred_col] == fav_outcome\n",
    "    ]\n",
    "    return _count_predictions(favorable_predictions)"
   ]
  },
  {
   "cell_type": "code",
   "execution_count": 44,
   "metadata": {},
   "outputs": [],
   "source": [
    "def _count_true_predictions(aggregated_data):\n",
    "    return aggregated_data.groupby(prot_att)[\"true_predictions_count\"].sum()"
   ]
  },
  {
   "cell_type": "code",
   "execution_count": 45,
   "metadata": {},
   "outputs": [],
   "source": [
    "def _count_true_favorable_predictions(aggregated_data):\n",
    "    favorable_aggregated_data = aggregated_data[\n",
    "        aggregated_data[pred_col] == fav_outcome\n",
    "    ]\n",
    "    return _count_true_predictions(favorable_aggregated_data)"
   ]
  },
  {
   "cell_type": "code",
   "execution_count": 46,
   "metadata": {},
   "outputs": [],
   "source": [
    "def _count_false_favorable_predictions(aggregated_data):\n",
    "    favorable_predictions = _count_favorable_predictions(aggregated_data)\n",
    "    true_favorable_predictions = _count_true_favorable_predictions(aggregated_data)\n",
    "    return favorable_predictions - true_favorable_predictions"
   ]
  },
  {
   "cell_type": "code",
   "execution_count": 47,
   "metadata": {},
   "outputs": [],
   "source": [
    "def favorable_predictive_value(df, aggregated_data, protected_att):\n",
    "    protected_att_classes = list(df[protected_att].unique())\n",
    "    results = {c: 0 for c in protected_att_classes}\n",
    "    true_favorable = _count_true_favorable_predictions(aggregated_data)\n",
    "    false_favorable = _count_false_favorable_predictions(aggregated_data)\n",
    "    scores = true_favorable / (true_favorable + false_favorable)\n",
    "    results.update(scores.fillna(0).to_dict())\n",
    "    return results"
   ]
  },
  {
   "cell_type": "code",
   "execution_count": 48,
   "metadata": {},
   "outputs": [
    {
     "data": {
      "text/plain": [
       "{'Female': 0.8937644341801386, 'Male': 0.9033674963396779}"
      ]
     },
     "execution_count": 48,
     "metadata": {},
     "output_type": "execute_result"
    }
   ],
   "source": [
    "favorable_predictive_value(fav_pred_value_df, fav_pred_value_df_agg, prot_att)"
   ]
  },
  {
   "cell_type": "code",
   "execution_count": null,
   "metadata": {},
   "outputs": [],
   "source": []
  }
 ],
 "metadata": {
  "interpreter": {
   "hash": "6b84fef49f271777fb50f1a322de70582d2a9d6bbfc3f18bb1348b0f2790a3ec"
  },
  "kernelspec": {
   "display_name": "Python 3 (ipykernel)",
   "language": "python",
   "name": "python3"
  },
  "language_info": {
   "codemirror_mode": {
    "name": "ipython",
    "version": 3
   },
   "file_extension": ".py",
   "mimetype": "text/x-python",
   "name": "python",
   "nbconvert_exporter": "python",
   "pygments_lexer": "ipython3",
   "version": "3.8.10"
  }
 },
 "nbformat": 4,
 "nbformat_minor": 2
}
