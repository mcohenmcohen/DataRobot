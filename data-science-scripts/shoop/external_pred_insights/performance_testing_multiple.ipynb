{
 "cells": [
  {
   "cell_type": "markdown",
   "id": "360580d1",
   "metadata": {},
   "source": [
    "### Performance testing results (Multiple External Prediction Models)\n",
    "- TREX released External Prediction Insights (1 model only) as GA in 7.3.\n",
    "- TREX working on mini project to support more than 1 external model (up to 25, or 50, or 100, or ???)\n",
    "- Following code is meant to be used as notes/reference material for the performance testing work"
   ]
  },
  {
   "cell_type": "markdown",
   "id": "8cc89d72",
   "metadata": {},
   "source": [
    "Using the following mbtest-dataset:\n",
    "```\n",
    "https://s3.amazonaws.com/datarobot_public_datasets/phone_gender_wide_test_20.csv\n",
    "```\n",
    "\n",
    "Dataset properties:\n",
    "- RangeIndex: `14929 entries`, `0 to 14928`\n",
    "- Columns: `4124 entries`, `device_id to hier_3_944`\n",
    "- dtypes: `float64(2547)`, `int64(1572), object(5)`"
   ]
  },
  {
   "cell_type": "code",
   "execution_count": 52,
   "id": "26625e3a",
   "metadata": {},
   "outputs": [],
   "source": [
    "# Imports\n",
    "import copy\n",
    "import json\n",
    "import time\n",
    "import requests\n",
    "import pandas as pd\n",
    "import datarobot as dr"
   ]
  },
  {
   "cell_type": "code",
   "execution_count": 4,
   "id": "dfee2d73",
   "metadata": {},
   "outputs": [
    {
     "name": "stderr",
     "output_type": "stream",
     "text": [
      "/Users/alexander.shoop/.virtualenvs/notebook-env/lib/python3.7/site-packages/IPython/core/interactiveshell.py:3457: DtypeWarning: Columns (2645) have mixed types.Specify dtype option on import or set low_memory=False.\n",
      "  exec(code_obj, self.user_global_ns, self.user_ns)\n"
     ]
    }
   ],
   "source": [
    "############################################################### \n",
    "# WARNING: The following can take a couple of minutes\n",
    "###############################################################\n",
    "df = pd.read_csv(\"https://s3.amazonaws.com/datarobot_public_datasets/phone_gender_wide_test_20.csv\")"
   ]
  },
  {
   "cell_type": "code",
   "execution_count": 15,
   "id": "dafbe3c6",
   "metadata": {},
   "outputs": [],
   "source": [
    "# Dataset changes for easier preprocessing\n",
    "df2 = copy.deepcopy(df)\n",
    "# Rename columns (pick a column with 2 levels to be used as UserCV partition column)\n",
    "df2 = df2.rename(columns={'hier_1_1': 'partition_column'})\n",
    "# Just take a couple thousand rows sample\n",
    "df2 = df2.sample(n=2000, random_state=1234)"
   ]
  },
  {
   "cell_type": "code",
   "execution_count": 13,
   "id": "a1da6786",
   "metadata": {},
   "outputs": [],
   "source": [
    "# Using datarobot to create External Predictions configured project\n",
    "# First, setting up advanced options and partitioning settings\n",
    "# advanced_options = dr.AdvancedOptions(\n",
    "#     external_predictions=#asdf,\n",
    "# )\n",
    "\n",
    "# project.set_target(\n",
    "#     target='gender',\n",
    "#     metric='LogLoss',\n",
    "#     mode=dr.AUTOPILOT_MODE.QUICK,\n",
    "#     partition=#asdf,\n",
    "#     advanced_options=#asdf\n",
    "# )\n",
    "\n",
    "# oops, not available in public_api_client yet"
   ]
  },
  {
   "cell_type": "code",
   "execution_count": 23,
   "id": "9e6f56ab",
   "metadata": {},
   "outputs": [],
   "source": [
    "df2.to_csv(\"/Users/alexander.shoop/Downloads/phone_gender_wide_ext_preds_perf.csv\", index=False, header=True)"
   ]
  },
  {
   "cell_type": "code",
   "execution_count": 39,
   "id": "5cd1e6ec",
   "metadata": {},
   "outputs": [],
   "source": [
    "df3 = df2.filter(regex='X.*')"
   ]
  },
  {
   "cell_type": "code",
   "execution_count": 40,
   "id": "ae57e228",
   "metadata": {},
   "outputs": [
    {
     "name": "stdout",
     "output_type": "stream",
     "text": [
      "<class 'pandas.core.frame.DataFrame'>\n",
      "Int64Index: 2000 entries, 7635 to 238\n",
      "Columns: 4124 entries, device_id to hier_3_944\n",
      "dtypes: float64(2547), int64(1572), object(5)\n",
      "memory usage: 62.9+ MB\n"
     ]
    }
   ],
   "source": [
    "df2.info()"
   ]
  },
  {
   "cell_type": "code",
   "execution_count": 41,
   "id": "77aec096",
   "metadata": {},
   "outputs": [
    {
     "name": "stdout",
     "output_type": "stream",
     "text": [
      "<class 'pandas.core.frame.DataFrame'>\n",
      "Int64Index: 2000 entries, 7635 to 238\n",
      "Columns: 2189 entries, X.1017948566093528960 to X80s\n",
      "dtypes: float64(2111), int64(78)\n",
      "memory usage: 33.4 MB\n"
     ]
    }
   ],
   "source": [
    "df3.info()"
   ]
  },
  {
   "cell_type": "code",
   "execution_count": 76,
   "id": "c8794388",
   "metadata": {},
   "outputs": [
    {
     "name": "stdout",
     "output_type": "stream",
     "text": [
      "Public preview max allowed as of 7.3: 25\n",
      "Bigger max: 50\n",
      "Ultra max: 101\n"
     ]
    }
   ],
   "source": [
    "external_pred_columns_full = list(df3.columns)\n",
    "external_pred_columns_full = [feature.replace('.', '_') for feature in external_pred_columns_full]\n",
    "current_max_list = external_pred_columns_full[:25]\n",
    "print(f\"Public preview max allowed as of 7.3: {len(current_max_list)}\")\n",
    "\n",
    "# TODO, the following is the important part\n",
    "bigger_max_list = external_pred_columns_full[:50]\n",
    "print(f\"Bigger max: {len(bigger_max_list)}\")\n",
    "\n",
    "ultra_max_list = external_pred_columns_full[:101]\n",
    "print(f\"Ultra max: {len(ultra_max_list)}\")"
   ]
  },
  {
   "cell_type": "code",
   "execution_count": 85,
   "id": "5a7b84c3",
   "metadata": {},
   "outputs": [
    {
     "name": "stdout",
     "output_type": "stream",
     "text": [
      "EDA1 is done.\n",
      "{\"target\": \"gender\", \"mode\": \"quick\", \"cvMethod\": \"user\", \"validationType\": \"TVH\", \"userPartitionCol\": \"partition_column\", \"trainingLevel\": 0, \"validationLevel\": 1, \"externalPredictions\": [\"X_1017948566093528960\", \"X_1020265322706106880\", \"X_102121250986068720\", \"X_1023242980262397056\", \"X_1025376319773210240\", \"X_1030677981150664064\", \"X_1043843386262755968\", \"X_1047273806018410496\", \"X_1049178431836388480\", \"X_1051230690008472576\", \"X_1051986413094956928\", \"X_1052652594976102656\", \"X_1056519382337269888\", \"X_1060787891591033088\", \"X_1065003475710886784\", \"X_1066222546835696768\", \"X_1068679832545653120\", \"X_1073344577746533120\", \"X_1101403352972671616\", \"X_112564492675318256\", \"X_1137288509384140416\", \"X_1167860292985101568\", \"X_1169833384053497856\", \"X_1186012730215562496\", \"X_1200607960388315136\", \"X_12138416858907556\", \"X_1221284816487722752\", \"X_1229355550180989696\", \"X_1233535283618068480\", \"X_1233889048809966080\", \"X_1234297064722937600\", \"X_1235212919783589888\", \"X_1236600408733063936\", \"X_1254570665119532544\", \"X_1254635388881232896\", \"X_126575433386925744\", \"X_1270764195304642816\", \"X_1291935421290941952\", \"X_1318734140159322624\", \"X_1319072371179056128\", \"X_1320977099960967168\", \"X_1324859481493282560\", \"X_1329112068547890432\", \"X_1331450510744810240\", \"X_1336948532393234176\", \"X_1351485421817729024\", \"X_1351585134709929984\", \"X_1359031755227417600\", \"X_1372720250204741376\", \"X_1379878892377312000\", \"X_1392165448113331712\", \"X_139332624952063776\", \"X_139532991022993376\", \"X_1398439828760446720\", \"X_1398843908700553472\", \"X_1405461761481355264\", \"X_1409421768793784832\", \"X_1410720719305268224\", \"X_1417021555312050688\", \"X_1417718319199736832\", \"X_1421746402342867456\", \"X_1422153569566851328\", \"X_1422210572768977920\", \"X_1431027264822569984\", \"X_1438760880689516288\", \"X_143925234257082672\", \"X_1441441642072803072\", \"X_1442117564365026304\", \"X_1442117564989840128\", \"X_1442117565275520000\", \"X_1442117565864503296\", \"X_1442117567941807872\", \"X_1442117569095077888\", \"X_1442117569099350016\", \"X_145658454108286048\", \"X_145658454112781024\", \"X_1479175381696890368\", \"X_1486216271740346368\", \"X_1487378829226699776\", \"X_1489465915256175360\", \"X_1491198667294647808\", \"X_1492804161196850176\", \"X_149294631862748128\", \"X_1496780913081066752\", \"X_1496780918078400256\", \"X_1497451000072413184\", \"X_1514530051916993024\", \"X_1526563625874855168\", \"X_1542864014017261312\", \"X_154345710929016128\", \"X_1562373526021293312\", \"X_1573376790015409152\", \"X_1580810042902504192\", \"X_1585826743415320064\", \"X_1591540866964195328\", \"X_1596342834117880064\", \"X_1598153414818410240\", \"X_1624034022651650560\", \"X_1633847426929280768\", \"X_1633847771199774976\", \"X_1633847813283983872\"]}\n",
      "<Response [202]>\n",
      "\n"
     ]
    }
   ],
   "source": [
    "# Credentials (LOCAL)\n",
    "API_KEY = \"NjE1Y2ZiNTBkYWQzMzAzNmNjMDRmYjJhOlFCYjZUeWZYQmh4VXdtZW9VeFB6emRrNGZrbUFzc1FwdUd6SDcrTk9ZN009\"\n",
    "api_endpoint = \"http://localhost/api/v2\"\n",
    "headers = {\"Authorization\": f\"Bearer {API_KEY}\", \"content-type\": \"application/json\"}\n",
    "\n",
    "# phone_gender_wide_ext_preds_perf.csv dataset ID in AI Catalog\n",
    "dataset_id = \"61a7d5e791d21db1186ed0ef\"\n",
    "\n",
    "project_endpoint = f\"{api_endpoint}/projects/\"\n",
    "project_payload = {\"datasetId\": dataset_id}\n",
    "\n",
    "project = requests.post(\n",
    "    url=project_endpoint, data=json.dumps(project_payload), headers=headers\n",
    ")\n",
    "project_id = project.json().get(\"pid\")\n",
    "\n",
    "# Wait for EDA1 to complete (so that we have target name for Autopilot)\n",
    "for _ in range(40):\n",
    "    time.sleep(1)\n",
    "    project_status = requests.get(url=project.headers.get(\"Location\"), headers=headers)\n",
    "    if \"projectName\" in project_status.json():\n",
    "        print(\"EDA1 is done.\")\n",
    "        break\n",
    "\n",
    "# AUTOPILOT START (QUICK)\n",
    "autopilot_endpoint = f\"{api_endpoint}/projects/{project_id}/aim/\"\n",
    "autopilot_payload = {\n",
    "    \"target\": \"gender\",\n",
    "    \"mode\": \"quick\",\n",
    "    \"cvMethod\": \"user\",\n",
    "    \"validationType\": \"TVH\",\n",
    "    \"userPartitionCol\": \"partition_column\",\n",
    "    \"trainingLevel\": 0,\n",
    "    \"validationLevel\": 1,\n",
    "    \"externalPredictions\": ultra_max_list,\n",
    "}\n",
    "print(json.dumps(autopilot_payload))\n",
    "start_autopilot = requests.patch(\n",
    "    url=autopilot_endpoint, data=json.dumps(autopilot_payload), headers=headers\n",
    ")\n",
    "print(start_autopilot)\n",
    "print(start_autopilot.text)"
   ]
  },
  {
   "cell_type": "code",
   "execution_count": 83,
   "id": "9bab44f9",
   "metadata": {},
   "outputs": [],
   "source": [
    "# for feature in ultra_max_list:\n",
    "#     print(f\"- {feature}\")"
   ]
  },
  {
   "cell_type": "code",
   "execution_count": null,
   "id": "10bcf828",
   "metadata": {},
   "outputs": [],
   "source": []
  }
 ],
 "metadata": {
  "kernelspec": {
   "display_name": "Python 3 (ipykernel)",
   "language": "python",
   "name": "python3"
  },
  "language_info": {
   "codemirror_mode": {
    "name": "ipython",
    "version": 3
   },
   "file_extension": ".py",
   "mimetype": "text/x-python",
   "name": "python",
   "nbconvert_exporter": "python",
   "pygments_lexer": "ipython3",
   "version": "3.7.12"
  }
 },
 "nbformat": 4,
 "nbformat_minor": 5
}
