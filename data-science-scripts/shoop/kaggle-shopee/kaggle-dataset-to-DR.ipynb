{
 "cells": [
  {
   "cell_type": "markdown",
   "metadata": {},
   "source": [
    "### TODO\n",
    "- Use kaggle dataset, get familiar with it in this notebook\n",
    "- Using the kaggle dataset (RAW), it's not possible to ingest into DataRobot\n",
    "- After minor tweak to fix the image path, then it can be ingested into DR\n",
    "- But there's no obvious target to set for DR\n",
    "- Implement Zach's idea to generate a target for DR:\n",
    "\n",
    "### Target engineering (Zach Idea 1)\n",
    "Use the `label_group` feature. Basically Zach's ideea is, group by the `label_group` value, sample within it/check in it, and when looking through the `posting_id`, if there are multiple posting_id's in a label_group, then the target should be value `1`, else `0`. Target name can be `is_duplicate`."
   ]
  },
  {
   "cell_type": "code",
   "execution_count": null,
   "metadata": {},
   "outputs": [],
   "source": []
  }
 ],
 "metadata": {
  "kernelspec": {
   "display_name": "Python 3",
   "language": "python",
   "name": "python3"
  },
  "language_info": {
   "codemirror_mode": {
    "name": "ipython",
    "version": 3
   },
   "file_extension": ".py",
   "mimetype": "text/x-python",
   "name": "python",
   "nbconvert_exporter": "python",
   "pygments_lexer": "ipython3",
   "version": "3.7.3"
  }
 },
 "nbformat": 4,
 "nbformat_minor": 2
}
