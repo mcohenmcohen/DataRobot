{
 "cells": [
  {
   "cell_type": "code",
   "execution_count": null,
   "metadata": {},
   "outputs": [],
   "source": [
    "import os\n",
    "\n",
    "import pandas as pd\n",
    "\n",
    "#path = 'ace_results_normalized_threshold_pairs.csv'\n",
    "path = 'ace_norm_threshpairs_all.csv'"
   ]
  },
  {
   "cell_type": "code",
   "execution_count": null,
   "metadata": {},
   "outputs": [],
   "source": [
    "data = pd.read_csv(path)"
   ]
  },
  {
   "cell_type": "code",
   "execution_count": null,
   "metadata": {},
   "outputs": [],
   "source": [
    "data.head()"
   ]
  },
  {
   "cell_type": "code",
   "execution_count": null,
   "metadata": {},
   "outputs": [],
   "source": [
    "data.count()"
   ]
  },
  {
   "cell_type": "code",
   "execution_count": null,
   "metadata": {},
   "outputs": [],
   "source": [
    "# data2 = data[data.leakage_type != 'FALSE']\n",
    "data2 = data[data.threshold_pair != 'FALSE']\n",
    "data2.count()"
   ]
  },
  {
   "cell_type": "code",
   "execution_count": null,
   "metadata": {},
   "outputs": [],
   "source": [
    "data2.head()"
   ]
  },
  {
   "cell_type": "code",
   "execution_count": null,
   "metadata": {},
   "outputs": [],
   "source": [
    "# table = pd.pivot_table(\n",
    "#             data2,\n",
    "#             values='is_leak_actual',\n",
    "#             index=['dataset_name','optimization_metric', 'threshold_pair'],\n",
    "#             columns=['leakage_type'],\n",
    "#             aggfunc='size',\n",
    "#         )\n",
    "table = pd.pivot_table(\n",
    "            data2,\n",
    "            values='feature_name',\n",
    "            index=['dataset_name','optimization_metric', 'threshold_pair'],\n",
    "            columns=['leakage_type', 'is_leak_actual'],\n",
    "            aggfunc=pd.Series.nunique,\n",
    "        )"
   ]
  },
  {
   "cell_type": "code",
   "execution_count": null,
   "metadata": {},
   "outputs": [],
   "source": [
    "table.head()"
   ]
  },
  {
   "cell_type": "code",
   "execution_count": null,
   "metadata": {},
   "outputs": [],
   "source": [
    "# table2 = table.fillna(0)\n",
    "# table2.head()"
   ]
  },
  {
   "cell_type": "code",
   "execution_count": null,
   "metadata": {},
   "outputs": [],
   "source": [
    "#table.to_csv('ace_normalized_threshold_pairs_FP-FN.csv')\n",
    "table.to_csv('ace_norm_threshpairs_all_FP-TP.csv')"
   ]
  },
  {
   "cell_type": "code",
   "execution_count": null,
   "metadata": {},
   "outputs": [],
   "source": []
  }
 ],
 "metadata": {
  "kernelspec": {
   "display_name": "target-leak-dev",
   "language": "python",
   "name": "target-leak-dev"
  },
  "language_info": {
   "codemirror_mode": {
    "name": "ipython",
    "version": 3
   },
   "file_extension": ".py",
   "mimetype": "text/x-python",
   "name": "python",
   "nbconvert_exporter": "python",
   "pygments_lexer": "ipython3",
   "version": "3.7.3"
  }
 },
 "nbformat": 4,
 "nbformat_minor": 2
}
