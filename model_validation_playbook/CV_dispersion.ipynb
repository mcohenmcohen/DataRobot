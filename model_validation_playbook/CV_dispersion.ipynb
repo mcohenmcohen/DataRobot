{
 "cells": [
  {
   "cell_type": "code",
   "execution_count": null,
   "metadata": {},
   "outputs": [],
   "source": [
    "import pandas as pd\n",
    "import random\n",
    "import numpy as np"
   ]
  },
  {
   "cell_type": "code",
   "execution_count": null,
   "metadata": {},
   "outputs": [],
   "source": [
    "df = pd.read_csv('data/Dmyst_Growth_Model_Input_to_DR_30_Variables_to_Ben.csv')"
   ]
  },
  {
   "cell_type": "code",
   "execution_count": null,
   "metadata": {},
   "outputs": [],
   "source": [
    "sixteenth = int(df.shape[0] * 0.16)\n",
    "twentieth = int(df.shape[0] * 0.2)"
   ]
  },
  {
   "cell_type": "code",
   "execution_count": null,
   "metadata": {},
   "outputs": [],
   "source": [
    "n_train = df.shape[0] - sixteenth - twentieth"
   ]
  },
  {
   "cell_type": "code",
   "execution_count": null,
   "metadata": {},
   "outputs": [],
   "source": [
    "n_train + sixteenth + twentieth == df.shape[0]"
   ]
  },
  {
   "cell_type": "code",
   "execution_count": null,
   "metadata": {},
   "outputs": [],
   "source": [
    "partition_scheme_1 = ['v'] * sixteenth + ['h'] * twentieth + ['t'] * sixteenth * 4 + ['t'] * 3\n",
    "partition_scheme_2 = ['t'] * sixteenth + ['v'] * sixteenth + ['h'] * twentieth + ['t'] * sixteenth * 3 + ['t'] * 3\n",
    "partition_scheme_3 = ['t'] * sixteenth * 2 + ['v'] * sixteenth + ['h'] * twentieth + ['t'] * sixteenth * 2 + ['t'] * 3\n",
    "partition_scheme_4 = ['t'] * sixteenth * 3 + ['v'] * sixteenth + ['h'] * twentieth + ['t'] * sixteenth + ['t'] * 3 \n",
    "partition_scheme_5 = ['t'] * sixteenth * 4 + ['v'] * sixteenth + ['h'] * twentieth + ['t'] * 3"
   ]
  },
  {
   "cell_type": "code",
   "execution_count": null,
   "metadata": {},
   "outputs": [],
   "source": [
    "df.shape[0]"
   ]
  },
  {
   "cell_type": "code",
   "execution_count": null,
   "metadata": {},
   "outputs": [],
   "source": [
    "len(partition_scheme_5)"
   ]
  },
  {
   "cell_type": "code",
   "execution_count": null,
   "metadata": {},
   "outputs": [],
   "source": [
    "df['partition_scheme_1'] = partition_scheme_1\n",
    "df['partition_scheme_2'] = partition_scheme_2\n",
    "df['partition_scheme_3'] = partition_scheme_3\n",
    "df['partition_scheme_4'] = partition_scheme_4\n",
    "df['partition_scheme_5'] = partition_scheme_5"
   ]
  },
  {
   "cell_type": "code",
   "execution_count": null,
   "metadata": {},
   "outputs": [],
   "source": [
    "df.to_csv('data/Dmyst_Growth_Model_Input_to_DR_30_Variables_with_partitions.csv', index=False)"
   ]
  },
  {
   "cell_type": "code",
   "execution_count": null,
   "metadata": {},
   "outputs": [],
   "source": [
    "np.random.randint(low=1, high=5, size=df.shape[0])"
   ]
  }
 ],
 "metadata": {
  "kernelspec": {
   "display_name": "Python 3",
   "language": "python",
   "name": "python3"
  },
  "language_info": {
   "codemirror_mode": {
    "name": "ipython",
    "version": 3
   },
   "file_extension": ".py",
   "mimetype": "text/x-python",
   "name": "python",
   "nbconvert_exporter": "python",
   "pygments_lexer": "ipython3",
   "version": "3.6.4"
  }
 },
 "nbformat": 4,
 "nbformat_minor": 2
}
