{
 "cells": [
  {
   "cell_type": "markdown",
   "metadata": {},
   "source": [
    "**1. Stress testing** - continue the range of the input data to include “extreme” values. This will extend partial dependence. \n",
    "- Looking to automate this for the top n features using the API\n",
    "- Sent Matt Ben’s notebook and Ofer’s pictures.\n",
    "- Ben and Ofer script could be improved by:\n",
    " - Parameterizing the inputs \n",
    " - Identifying the original CV records in the original model\n",
    " - A more automated way of identifying the blueprint used in the original project."
   ]
  },
  {
   "cell_type": "code",
   "execution_count": 1,
   "metadata": {},
   "outputs": [],
   "source": [
    "import pandas as pd\n",
    "import numpy as np\n",
    "import datarobot as dr\n",
    "import scipy.stats as st\n",
    "import random\n",
    "import time\n",
    "import warnings\n",
    "warnings.filterwarnings('ignore')\n",
    "import re\n",
    "import os\n",
    "import stress_test\n",
    "\n",
    "import matplotlib.pyplot as plt\n",
    "%matplotlib inline"
   ]
  },
  {
   "cell_type": "code",
   "execution_count": 2,
   "metadata": {},
   "outputs": [],
   "source": [
    "data_path = 'data/'\n",
    "df = pd.read_csv(data_path + '10K_Lending_Club_Loans.csv', encoding = \"ISO-8859-1\")\n",
    "#df = df.sample(500)\n",
    "TARGET_NAME = 'is_bad'"
   ]
  },
  {
   "cell_type": "code",
   "execution_count": 3,
   "metadata": {},
   "outputs": [],
   "source": [
    "dr.Client(token=os.environ['DATAROBOT_API_TOKEN'], endpoint='https://app.datarobot.com/api/v2')\n",
    "PROJECT_ID = '5ac44503c92d810016538e5e'\n",
    "MODEL_ID = '5ac448e3adb29ab27bc60168'"
   ]
  },
  {
   "cell_type": "code",
   "execution_count": 4,
   "metadata": {},
   "outputs": [
    {
     "name": "stdout",
     "output_type": "stream",
     "text": [
      "Training predictions are already requested and are ready.\n",
      "- Time: 'get_training_predictions' 4.64\n",
      "Holdout    2000\n",
      "2.0        1600\n",
      "0.0        1600\n",
      "1.0        1600\n",
      "3.0        1600\n",
      "4.0        1600\n",
      "Name: partition_id, dtype: int64\n"
     ]
    },
    {
     "data": {
      "text/html": [
       "<div>\n",
       "<style scoped>\n",
       "    .dataframe tbody tr th:only-of-type {\n",
       "        vertical-align: middle;\n",
       "    }\n",
       "\n",
       "    .dataframe tbody tr th {\n",
       "        vertical-align: top;\n",
       "    }\n",
       "\n",
       "    .dataframe thead th {\n",
       "        text-align: right;\n",
       "    }\n",
       "</style>\n",
       "<table border=\"1\" class=\"dataframe\">\n",
       "  <thead>\n",
       "    <tr style=\"text-align: right;\">\n",
       "      <th></th>\n",
       "      <th>row_id</th>\n",
       "      <th>partition_id</th>\n",
       "      <th>prediction</th>\n",
       "      <th>class_1.0</th>\n",
       "      <th>class_0.0</th>\n",
       "    </tr>\n",
       "  </thead>\n",
       "  <tbody>\n",
       "    <tr>\n",
       "      <th>0</th>\n",
       "      <td>0</td>\n",
       "      <td>1.0</td>\n",
       "      <td>0.0</td>\n",
       "      <td>0.022636</td>\n",
       "      <td>0.977364</td>\n",
       "    </tr>\n",
       "    <tr>\n",
       "      <th>1</th>\n",
       "      <td>1</td>\n",
       "      <td>Holdout</td>\n",
       "      <td>0.0</td>\n",
       "      <td>0.321055</td>\n",
       "      <td>0.678945</td>\n",
       "    </tr>\n",
       "    <tr>\n",
       "      <th>2</th>\n",
       "      <td>2</td>\n",
       "      <td>Holdout</td>\n",
       "      <td>0.0</td>\n",
       "      <td>0.087278</td>\n",
       "      <td>0.912722</td>\n",
       "    </tr>\n",
       "    <tr>\n",
       "      <th>3</th>\n",
       "      <td>3</td>\n",
       "      <td>4.0</td>\n",
       "      <td>0.0</td>\n",
       "      <td>0.099623</td>\n",
       "      <td>0.900377</td>\n",
       "    </tr>\n",
       "    <tr>\n",
       "      <th>4</th>\n",
       "      <td>4</td>\n",
       "      <td>2.0</td>\n",
       "      <td>0.0</td>\n",
       "      <td>0.036142</td>\n",
       "      <td>0.963858</td>\n",
       "    </tr>\n",
       "    <tr>\n",
       "      <th>5</th>\n",
       "      <td>5</td>\n",
       "      <td>Holdout</td>\n",
       "      <td>0.0</td>\n",
       "      <td>0.186051</td>\n",
       "      <td>0.813949</td>\n",
       "    </tr>\n",
       "    <tr>\n",
       "      <th>6</th>\n",
       "      <td>6</td>\n",
       "      <td>Holdout</td>\n",
       "      <td>0.0</td>\n",
       "      <td>0.016583</td>\n",
       "      <td>0.983417</td>\n",
       "    </tr>\n",
       "    <tr>\n",
       "      <th>7</th>\n",
       "      <td>7</td>\n",
       "      <td>4.0</td>\n",
       "      <td>0.0</td>\n",
       "      <td>0.230907</td>\n",
       "      <td>0.769093</td>\n",
       "    </tr>\n",
       "    <tr>\n",
       "      <th>8</th>\n",
       "      <td>8</td>\n",
       "      <td>0.0</td>\n",
       "      <td>0.0</td>\n",
       "      <td>0.130532</td>\n",
       "      <td>0.869468</td>\n",
       "    </tr>\n",
       "    <tr>\n",
       "      <th>9</th>\n",
       "      <td>9</td>\n",
       "      <td>0.0</td>\n",
       "      <td>0.0</td>\n",
       "      <td>0.208504</td>\n",
       "      <td>0.791496</td>\n",
       "    </tr>\n",
       "  </tbody>\n",
       "</table>\n",
       "</div>"
      ],
      "text/plain": [
       "   row_id partition_id  prediction  class_1.0  class_0.0\n",
       "0       0          1.0         0.0   0.022636   0.977364\n",
       "1       1      Holdout         0.0   0.321055   0.678945\n",
       "2       2      Holdout         0.0   0.087278   0.912722\n",
       "3       3          4.0         0.0   0.099623   0.900377\n",
       "4       4          2.0         0.0   0.036142   0.963858\n",
       "5       5      Holdout         0.0   0.186051   0.813949\n",
       "6       6      Holdout         0.0   0.016583   0.983417\n",
       "7       7          4.0         0.0   0.230907   0.769093\n",
       "8       8          0.0         0.0   0.130532   0.869468\n",
       "9       9          0.0         0.0   0.208504   0.791496"
      ]
     },
     "execution_count": 4,
     "metadata": {},
     "output_type": "execute_result"
    }
   ],
   "source": [
    "# Get the cross validation folds from the original project run\n",
    "data_cvfs = stress_test.get_training_predictions(PROJECT_ID, MODEL_ID)\n",
    "print(data_cvfs.partition_id.value_counts())\n",
    "data_cvfs[:10]"
   ]
  },
  {
   "cell_type": "code",
   "execution_count": 5,
   "metadata": {},
   "outputs": [
    {
     "name": "stdout",
     "output_type": "stream",
     "text": [
      "Model type: AVG Blender\n",
      "Requesting feture impact for model 5ac448e3adb29ab27bc60168\n",
      "Feature impact compute done.\n",
      "- Time: 'get_model_top_features' 3.80\n",
      "['desc', 'annual_inc', 'int_rate', 'title', 'inq_last_6mths', 'term', 'revol_util', 'open_acc', 'grade', 'dti']\n",
      "<class 'pandas.core.frame.DataFrame'>\n",
      "RangeIndex: 10000 entries, 0 to 9999\n",
      "Data columns (total 10 columns):\n",
      "desc              6833 non-null object\n",
      "annual_inc        9999 non-null float64\n",
      "int_rate          10000 non-null object\n",
      "title             9996 non-null object\n",
      "inq_last_6mths    9995 non-null float64\n",
      "term              10000 non-null object\n",
      "revol_util        9977 non-null float64\n",
      "open_acc          9995 non-null float64\n",
      "grade             10000 non-null object\n",
      "dti               10000 non-null float64\n",
      "dtypes: float64(5), object(5)\n",
      "memory usage: 781.3+ KB\n"
     ]
    }
   ],
   "source": [
    "# Get the top n features for the model\n",
    "top_features = stress_test.get_model_top_features(PROJECT_ID, MODEL_ID, 10)\n",
    "print(top_features)\n",
    "df[top_features].info()"
   ]
  },
  {
   "cell_type": "code",
   "execution_count": 6,
   "metadata": {},
   "outputs": [],
   "source": [
    "# Previous approach of fitting a KernelDensity with GridSearch over bandwidth, \n",
    "# and then getting the pdf from the data for it.\n",
    "#stress_test.sample_low_proba_univariate_values(df.annual_inc, .05)"
   ]
  },
  {
   "cell_type": "markdown",
   "metadata": {},
   "source": [
    "# --------------\n",
    "# Dev\n",
    "# --------------"
   ]
  },
  {
   "cell_type": "code",
   "execution_count": 7,
   "metadata": {},
   "outputs": [],
   "source": [
    "def timeit(method):\n",
    "    def timed(*args, **kw):\n",
    "        ts = time.time()\n",
    "        result = method(*args, **kw)\n",
    "        te = time.time()\n",
    "        print('- Time: %r %0.2f' % (method.__name__, (te - ts)))\n",
    "        return result\n",
    "    return timed"
   ]
  },
  {
   "cell_type": "code",
   "execution_count": 8,
   "metadata": {},
   "outputs": [],
   "source": [
    "d = {\n",
    "    'int_rate': ['5.00%', '10.00%', '15.00%', '20.00%'],\n",
    "    'annual_inc': [10000.00, 100000.00, 150000.00, 200000.00]\n",
    "}\n",
    "# 'grade': ['A', 'B', 'C', 'D', 'E', 'F', 'G']\n",
    "# 'loan_amt': [1000,10000,100000,1000000]\n",
    "# 'int_rate': ['5.00%', '10.00%', '15.00%', '20.00%']"
   ]
  },
  {
   "cell_type": "code",
   "execution_count": 9,
   "metadata": {},
   "outputs": [],
   "source": [
    "def do_stress_test(project_id, model_id, features):\n",
    "    '''\n",
    "    Stress test the model with fixed feature values.  Essentially, specific partial dependency calculations.\n",
    "    \n",
    "    Parameters:\n",
    "        project id\n",
    "        model id\n",
    "        features - dict of feature names and values to test\n",
    "        \n",
    "    Returns:\n",
    "        DataFrame of 3 columns,\n",
    "            - feature name\n",
    "            - feature value\n",
    "            - y^ prediction\n",
    "    '''\n",
    "    project = dr.Project(id=project_id)\n",
    "    model = dr.Model.get(project=project_id, model_id=model_id)\n",
    "    \n",
    "    k_v_avg_pred = []\n",
    "    # loop through all features and values for stress testing\n",
    "    for feature_name in features:\n",
    "        for feature_value in features[feature_name]:\n",
    "            # get selected model\n",
    "            model = dr.Model.get(project=PROJECT_ID, model_id=model_id)\n",
    "            # reset dataset\n",
    "            sample = df.sample(n=1000)\n",
    "            data = sample.copy()\n",
    "            data[feature_name] = feature_value\n",
    "            # upload as stress_data\n",
    "            stress_data = project.upload_dataset(data)\n",
    "            # start a predict job\n",
    "            predict_job = model.request_predictions(stress_data.id)\n",
    "            # get job status every 5 seconds and move on once 'inprogress'\n",
    "            for i in range(100):\n",
    "                time.sleep(5)\n",
    "                try:\n",
    "                    job_status = dr.PredictJob.get(\n",
    "                        project_id=PROJECT_ID, \n",
    "                        predict_job_id=predict_job.id\n",
    "                    ).status\n",
    "                except:  # normally the job_status would produce an error when it is completed\n",
    "                    print(feature_name, feature_value, 'predictions finished')\n",
    "                    break\n",
    "            # now the predictions are finished\n",
    "            predictions = dr.PredictJob.get_predictions(\n",
    "                project_id=PROJECT_ID,\n",
    "                predict_job_id=predict_job.id\n",
    "            )\n",
    "            k_v_avg_pred.append((feature_name, feature_value, predictions.positive_probability.mean()))\n",
    "    \n",
    "    return pd.DataFrame(k_v_avg_pred, columns=['feature', 'x', 'y'])"
   ]
  },
  {
   "cell_type": "code",
   "execution_count": 10,
   "metadata": {},
   "outputs": [
    {
     "name": "stdout",
     "output_type": "stream",
     "text": [
      "Model type: AVG Blender\n",
      "Requesting feture impact for model 5ac448e3adb29ab27bc60168\n",
      "Feature impact compute done.\n",
      "- Time: 'get_top_n_features' 3.63\n",
      "Model type: AVG Blender\n",
      "Requesting feture impact for model 5ac448e3adb29ab27bc60168\n",
      "Feature impact compute done.\n",
      "- Time: 'get_top_n_features' 4.37\n",
      "grid best params: {'bandwidth': 0.22413793103448276}\n",
      "samples: [1.9854655335391902, -3.1710142271954718]\n",
      "- Time: 'sample_low_proba_univariate_values' 8.11\n",
      "annual_inc -3.1710142271954718 predictions finished\n",
      "annual_inc 1.9854655335391902 predictions finished\n"
     ]
    },
    {
     "data": {
      "text/html": [
       "<div>\n",
       "<style scoped>\n",
       "    .dataframe tbody tr th:only-of-type {\n",
       "        vertical-align: middle;\n",
       "    }\n",
       "\n",
       "    .dataframe tbody tr th {\n",
       "        vertical-align: top;\n",
       "    }\n",
       "\n",
       "    .dataframe thead th {\n",
       "        text-align: right;\n",
       "    }\n",
       "</style>\n",
       "<table border=\"1\" class=\"dataframe\">\n",
       "  <thead>\n",
       "    <tr style=\"text-align: right;\">\n",
       "      <th></th>\n",
       "      <th>feature</th>\n",
       "      <th>x</th>\n",
       "      <th>y</th>\n",
       "    </tr>\n",
       "  </thead>\n",
       "  <tbody>\n",
       "    <tr>\n",
       "      <th>0</th>\n",
       "      <td>annual_inc</td>\n",
       "      <td>-3.171014</td>\n",
       "      <td>0.185946</td>\n",
       "    </tr>\n",
       "    <tr>\n",
       "      <th>1</th>\n",
       "      <td>annual_inc</td>\n",
       "      <td>1.985466</td>\n",
       "      <td>0.183093</td>\n",
       "    </tr>\n",
       "  </tbody>\n",
       "</table>\n",
       "</div>"
      ],
      "text/plain": [
       "      feature         x         y\n",
       "0  annual_inc -3.171014  0.185946\n",
       "1  annual_inc  1.985466  0.183093"
      ]
     },
     "execution_count": 10,
     "metadata": {},
     "output_type": "execute_result"
    },
    {
     "data": {
      "image/png": "[encoded data removed]",
      "text/plain": [
       "<matplotlib.figure.Figure at 0x1a17663f98>"
      ]
     },
     "metadata": {},
     "output_type": "display_data"
    }
   ],
   "source": [
    "#import pdb; pdb.set_trace()\n",
    "\n",
    "# Get model top features\n",
    "# ensure only numericals?\n",
    "top_features = stress_test.get_top_n_features(PROJECT_ID, MODEL_ID, 10)\n",
    "stress_test.get_top_n_features(PROJECT_ID, MODEL_ID, 10)\n",
    "features = top_features\n",
    "\n",
    "# auto determine distribution\n",
    "\n",
    "# auto determnine extreme values\n",
    "x = df.annual_inc\n",
    "from scipy.stats.distributions import norm\n",
    "x = np.concatenate([norm(-1, 1.).rvs(400),\n",
    "                    norm(1, 0.3).rvs(100)])\n",
    "features_extreme_vals = stress_test.sample_low_proba_univariate_values(x, .05)\n",
    "\n",
    "# perform stress test with given feature variables and extreme values\n",
    "feature_dict = {}\n",
    "feature_dict['annual_inc'] = features_extreme_vals\n",
    "stress_preds = do_stress_test(PROJECT_ID, MODEL_ID, feature_dict)\n",
    "\n",
    "# stress_preds.to_csv(data_path + 'stress_preds.csv')\n",
    "stress_preds"
   ]
  },
  {
   "cell_type": "markdown",
   "metadata": {},
   "source": [
    "# Ofer's code"
   ]
  },
  {
   "cell_type": "code",
   "execution_count": 11,
   "metadata": {},
   "outputs": [],
   "source": [
    "project = dr.Project.get(project_id=PROJECT_ID)\n",
    "project_id = project.id\n",
    "project_name = project.project_name\n",
    "\n",
    "model = dr.Model.get(project=project_id, model_id=MODEL_ID)\n",
    "\n",
    "blueprint = model.blueprint"
   ]
  },
  {
   "cell_type": "code",
   "execution_count": 12,
   "metadata": {},
   "outputs": [],
   "source": [
    "feature_names = model.get_features_used()\n",
    "# feature_names"
   ]
  },
  {
   "cell_type": "code",
   "execution_count": 13,
   "metadata": {},
   "outputs": [],
   "source": [
    "sixteenth = int(df.shape[0] * 0.16)\n",
    "twentieth = int(df.shape[0] * 0.20)"
   ]
  },
  {
   "cell_type": "code",
   "execution_count": 14,
   "metadata": {},
   "outputs": [
    {
     "data": {
      "text/plain": [
       "True"
      ]
     },
     "execution_count": 14,
     "metadata": {},
     "output_type": "execute_result"
    }
   ],
   "source": [
    "# How many rows\n",
    "n_train = df.shape[0] - sixteenth - twentieth\n",
    "# testing that we have the right numbers\n",
    "n_train + sixteenth + twentieth == df.shape[0]"
   ]
  },
  {
   "cell_type": "code",
   "execution_count": 15,
   "metadata": {},
   "outputs": [],
   "source": [
    "# ----->>>> What is this?\n",
    "# adjusting for differences resulting from partitioning\n",
    "# df.loc[:400,:]"
   ]
  },
  {
   "cell_type": "code",
   "execution_count": 16,
   "metadata": {},
   "outputs": [
    {
     "name": "stdout",
     "output_type": "stream",
     "text": [
      "(10000, 34)\n"
     ]
    },
    {
     "data": {
      "text/plain": [
       "10003"
      ]
     },
     "execution_count": 16,
     "metadata": {},
     "output_type": "execute_result"
    }
   ],
   "source": [
    "# -----> Why the last 3 t's on the end?\n",
    "partitioning_scheme_1 = ['v'] * sixteenth + ['h'] * twentieth + ['t'] * sixteenth * 4 + ['t'] * 3\n",
    "partitioning_scheme_2 = ['t'] * sixteenth + ['v'] * sixteenth + ['h'] * twentieth + ['t'] * sixteenth * 3 + ['t'] * 3\n",
    "\n",
    "print(df.shape)\n",
    "len(partitioning_scheme_1)"
   ]
  },
  {
   "cell_type": "code",
   "execution_count": 17,
   "metadata": {},
   "outputs": [],
   "source": [
    "# TODO: ?\n",
    "# use the original partitioning retrieved from get_cv_folds\n",
    "\n",
    "# save the pre-partitioned datasets which include the TVH specification for each row\n",
    "df['partitioning_scheme_1'] = partitioning_scheme_1[:df.shape[0]]\n",
    "df.to_csv(data_path + 'training_output_new_partition_scheme_1.csv')\n",
    "df.drop('partitioning_scheme_1', axis=1, inplace=True)\n",
    "\n",
    "df['partitioning_scheme_2'] = partitioning_scheme_2[:df.shape[0]]\n",
    "df.to_csv(data_path + 'training_output_new_partition_scheme_2.csv')\n",
    "df.drop('partitioning_scheme_2', axis=1, inplace=True)"
   ]
  },
  {
   "cell_type": "code",
   "execution_count": 18,
   "metadata": {},
   "outputs": [
    {
     "data": {
      "text/plain": [
       "t    6400\n",
       "h    2000\n",
       "v    1600\n",
       "Name: partitioning_scheme_1, dtype: int64"
      ]
     },
     "execution_count": 18,
     "metadata": {},
     "output_type": "execute_result"
    }
   ],
   "source": [
    "df['partitioning_scheme_1'] = partitioning_scheme_1[:df.shape[0]]\n",
    "df['partitioning_scheme_1'].value_counts()"
   ]
  },
  {
   "cell_type": "code",
   "execution_count": 19,
   "metadata": {},
   "outputs": [
    {
     "data": {
      "text/plain": [
       "'10'"
      ]
     },
     "execution_count": 19,
     "metadata": {},
     "output_type": "execute_result"
    }
   ],
   "source": [
    "project = dr.Project.create(data_path + 'training_output_new_partition_scheme_1.csv', project_name='p1')\n",
    "\n",
    "feature_list = project.create_featurelist('no id vars', feature_names)\n",
    "\n",
    "partition_method = dr.UserTVH('partitioning_scheme_1', 't', 'v', 'h')\n",
    "project.set_target(target=TARGET_NAME, mode=dr.AUTOPILOT_MODE.MANUAL, worker_count=4, \n",
    "                   featurelist_id=feature_list.id, partitioning_method=partition_method)\n",
    "\n",
    "# ---> which of the 6 to use?\n",
    "bps = project.get_blueprints()\n",
    "xgb = [bp for bp in bps if bp.model_type=='eXtreme Gradient Boosted Trees Classifier with Early Stopping']\n",
    "project.train(xgb[1].id, featurelist_id=feature_list.id)"
   ]
  },
  {
   "cell_type": "code",
   "execution_count": 20,
   "metadata": {},
   "outputs": [
    {
     "data": {
      "text/plain": [
       "[Blueprint(eXtreme Gradient Boosted Trees Classifier with Early Stopping),\n",
       " Blueprint(eXtreme Gradient Boosted Trees Classifier with Early Stopping),\n",
       " Blueprint(eXtreme Gradient Boosted Trees Classifier with Early Stopping),\n",
       " Blueprint(eXtreme Gradient Boosted Trees Classifier with Early Stopping),\n",
       " Blueprint(eXtreme Gradient Boosted Trees Classifier with Early Stopping),\n",
       " Blueprint(eXtreme Gradient Boosted Trees Classifier with Early Stopping),\n",
       " Blueprint(eXtreme Gradient Boosted Trees Classifier with Early Stopping)]"
      ]
     },
     "execution_count": 20,
     "metadata": {},
     "output_type": "execute_result"
    }
   ],
   "source": [
    "xgb"
   ]
  },
  {
   "cell_type": "code",
   "execution_count": 21,
   "metadata": {},
   "outputs": [
    {
     "data": {
      "text/plain": [
       "'10'"
      ]
     },
     "execution_count": 21,
     "metadata": {},
     "output_type": "execute_result"
    }
   ],
   "source": [
    "project = dr.Project.create(data_path + 'training_output_new_partition_scheme_2.csv', project_name='p2')\n",
    "\n",
    "feature_list = project.create_featurelist('no id vars', feature_names)\n",
    "\n",
    "partition_method = dr.UserTVH('partitioning_scheme_2', 't', 'v', 'h')\n",
    "project.set_target(target=TARGET_NAME, mode=dr.AUTOPILOT_MODE.MANUAL, worker_count=4, \n",
    "                   featurelist_id=feature_list.id, partitioning_method=partition_method)\n",
    "\n",
    "# ---> which of the 6 to use?\n",
    "bps = project.get_blueprints()\n",
    "xgb = [bp for bp in bps if bp.model_type=='eXtreme Gradient Boosted Trees Classifier with Early Stopping']\n",
    "project.train(xgb[1].id, featurelist_id=feature_list.id)"
   ]
  },
  {
   "cell_type": "code",
   "execution_count": 22,
   "metadata": {},
   "outputs": [
    {
     "name": "stdout",
     "output_type": "stream",
     "text": [
      "id f81537596eda15690411eb94243f4697\n",
      " processes: ['Ordinal encoding of categorical variables', 'Converter for Text Mining', 'Auto-Tuned Word N-Gram Text Modeler using token occurrences', 'Missing Values Imputed', 'eXtreme Gradient Boosted Trees Classifier with Early Stopping']\n",
      "\n",
      "id 095ed4d10694ec020b64a8f72a9c6ab4\n",
      " processes: ['Ordinal encoding of categorical variables', 'Converter for Text Mining', 'Auto-Tuned Word N-Gram Text Modeler using token occurrences', 'Fasttext Word Vectorization (Dimension 50) and Mean text embedding', 'Missing Values Imputed', 'eXtreme Gradient Boosted Trees Classifier with Early Stopping']\n",
      "\n",
      "id d621e1feef42fea5e20f6de78673a1da\n",
      " processes: ['Ordinal encoding of categorical variables', 'Matrix of word-grams occurrences', 'Pairwise Cosine Similarity', 'Converter for Text Mining', 'Auto-Tuned Word N-Gram Text Modeler using token occurrences', 'Missing Values Imputed', 'eXtreme Gradient Boosted Trees Classifier with Early Stopping']\n",
      "\n",
      "id 5a33c37e9f623d4814fc7f8f9513f2ea\n",
      " processes: ['Ordinal encoding of categorical variables', 'Converter for Text Mining', 'Auto-Tuned Word N-Gram Text Modeler using token occurrences', 'Missing Values Imputed', 'Search for differences', 'eXtreme Gradient Boosted Trees Classifier with Early Stopping']\n",
      "\n",
      "id 1513b3fb46fb69d59dbeafd229a208bc\n",
      " processes: ['Ordinal encoding of categorical variables', 'Missing Values Imputed', 'Matrix of word-grams occurrences', 'eXtreme Gradient Boosted Trees Classifier with Early Stopping', 'Text fit on Residuals (L2 / Binomial Deviance)']\n",
      "\n",
      "id f24515cbd8c9aa262dcc7952681a8d61\n",
      " processes: ['Ordinal encoding of categorical variables', 'Converter for Text Mining', 'Auto-Tuned Word N-Gram Text Modeler using token occurrences', 'Missing Values Imputed', 'eXtreme Gradient Boosted Trees Classifier with Early Stopping']\n",
      "\n",
      "id 26e4452df3a986ca6ce17cdb1e704ae2\n",
      " processes: ['Ordinal encoding of categorical variables', 'Converter for Text Mining', 'Auto-Tuned Word N-Gram Text Modeler using token occurrences', 'Missing Values Imputed', 'Search for differences', 'eXtreme Gradient Boosted Trees Classifier with Early Stopping']\n",
      "\n"
     ]
    }
   ],
   "source": [
    "for b in xgb:\n",
    "    print('id',b.id)\n",
    "    print(' processes:',b.processes)\n",
    "    print()"
   ]
  },
  {
   "cell_type": "code",
   "execution_count": 23,
   "metadata": {},
   "outputs": [
    {
     "data": {
      "text/plain": [
       "'f81537596eda15690411eb94243f4697'"
      ]
     },
     "execution_count": 23,
     "metadata": {},
     "output_type": "execute_result"
    }
   ],
   "source": [
    "xgb[0].id"
   ]
  },
  {
   "cell_type": "code",
   "execution_count": 24,
   "metadata": {},
   "outputs": [
    {
     "data": {
      "text/plain": [
       "'LC_BosAML'"
      ]
     },
     "execution_count": 24,
     "metadata": {},
     "output_type": "execute_result"
    }
   ],
   "source": [
    "project_name"
   ]
  },
  {
   "cell_type": "code",
   "execution_count": 25,
   "metadata": {},
   "outputs": [],
   "source": [
    "# ------> Once we train a given partition, then what do you do with it?"
   ]
  },
  {
   "cell_type": "markdown",
   "metadata": {},
   "source": [
    "# Matt's refactor of Ofer's code"
   ]
  },
  {
   "cell_type": "markdown",
   "metadata": {},
   "source": [
    "### 1. Replace the Ofer/Ben's partition scheme with the original dr project partitioning"
   ]
  },
  {
   "cell_type": "code",
   "execution_count": 26,
   "metadata": {},
   "outputs": [
    {
     "name": "stdout",
     "output_type": "stream",
     "text": [
      "===== 0 =====\n",
      "- Time create project: 30.098467111587524\n",
      "- Time set target: 38.18288993835449\n",
      "- Time train: 48.81966209411621\n",
      "===== 1 =====\n",
      "- Time create project: 29.07899498939514\n",
      "- Time set target: 38.231640100479126\n",
      "- Time train: 63.13378405570984\n"
     ]
    }
   ],
   "source": [
    "# OLD\n",
    "# -----> Why the last 3 t's on the end?\n",
    "partitioning_scheme_1 = ['v'] * sixteenth + ['h'] * twentieth + ['t'] * sixteenth * 4 + ['t'] * 3\n",
    "partitioning_scheme_2 = ['t'] * sixteenth + ['v'] * sixteenth + ['h'] * twentieth + ['t'] * sixteenth * 3 + ['t'] * 3\n",
    "\n",
    "# NEW\n",
    "cv_parts = data_cvfs.copy()\n",
    "\n",
    "num_folds = cv_parts.cv_fold[cv_parts.cv_fold != 'Holdout'].value_counts().shape[0]\n",
    "\n",
    "projects = []\n",
    "for i in range(2):\n",
    "    print('===== %s =====' % i)\n",
    "    fold_str = str(i) + '.0'\n",
    "\n",
    "    # copy of the original cv folds\n",
    "    cv_parts = data_cvfs.copy()\n",
    "    cv_parts.cv_fold[cv_parts.cv_fold == 'Holdout'] = 'h'\n",
    "    cv_parts.cv_fold[cv_parts.cv_fold == fold_str] = 'v'\n",
    "    cv_parts.cv_fold[(cv_parts.cv_fold != 'v') & (cv_parts.cv_fold != 'h')] = 't'\n",
    "\n",
    "    # save to file the pre-partitioned datasets which include the TVH specification for each row\n",
    "    df['partitioning_scheme_tmp'] = cv_parts.cv_fold\n",
    "    fname = 'tvh_partition_scheme_{}.csv'.format(i)\n",
    "    df.to_csv(data_path + fname)\n",
    "    df.drop('partitioning_scheme_tmp', axis=1, inplace=True)\n",
    "\n",
    "    # dict to store the project data\n",
    "    p = {}\n",
    "    \n",
    "    # create the project\n",
    "    t1 = time.time()\n",
    "    project = dr.Project.create(data_path + fname, project_name='p{}'.format(i))\n",
    "    print('- Time create project:', (time.time()-t1))\n",
    "\n",
    "    feature_list = project.create_featurelist('no id vars', feature_names)\n",
    "\n",
    "    # create the partition scheme and set the target\n",
    "    partition_method = dr.UserTVH('partitioning_scheme_tmp', 't', 'v', 'h')\n",
    "    t1 = time.time()\n",
    "    project.set_target(target=TARGET_NAME, mode=dr.AUTOPILOT_MODE.MANUAL, worker_count=4, \n",
    "                       featurelist_id=feature_list.id, partitioning_method=partition_method)\n",
    "    print('- Time set target:', (time.time()-t1))\n",
    "\n",
    "    # get all the xgb blueprints\n",
    "    bps = project.get_blueprints()\n",
    "    xgb = [bp for bp in bps if bp.model_type=='eXtreme Gradient Boosted Trees Classifier with Early Stopping']\n",
    "    project.train(xgb[1].id, featurelist_id=feature_list.id)\n",
    "    print('- Time train:', (time.time()-t1))\n",
    "    \n",
    "    # store the data in the dict and add to the projects list\n",
    "    p['project'] = project\n",
    "    p['xgb'] = xgb\n",
    "    projects.append(p)"
   ]
  },
  {
   "cell_type": "code",
   "execution_count": 27,
   "metadata": {},
   "outputs": [
    {
     "data": {
      "text/plain": [
       "[{'project': Project(p0),\n",
       "  'xgb': [Blueprint(eXtreme Gradient Boosted Trees Classifier with Early Stopping),\n",
       "   Blueprint(eXtreme Gradient Boosted Trees Classifier with Early Stopping),\n",
       "   Blueprint(eXtreme Gradient Boosted Trees Classifier with Early Stopping),\n",
       "   Blueprint(eXtreme Gradient Boosted Trees Classifier with Early Stopping),\n",
       "   Blueprint(eXtreme Gradient Boosted Trees Classifier with Early Stopping),\n",
       "   Blueprint(eXtreme Gradient Boosted Trees Classifier with Early Stopping),\n",
       "   Blueprint(eXtreme Gradient Boosted Trees Classifier with Early Stopping)]},\n",
       " {'project': Project(p1),\n",
       "  'xgb': [Blueprint(eXtreme Gradient Boosted Trees Classifier with Early Stopping),\n",
       "   Blueprint(eXtreme Gradient Boosted Trees Classifier with Early Stopping),\n",
       "   Blueprint(eXtreme Gradient Boosted Trees Classifier with Early Stopping),\n",
       "   Blueprint(eXtreme Gradient Boosted Trees Classifier with Early Stopping),\n",
       "   Blueprint(eXtreme Gradient Boosted Trees Classifier with Early Stopping),\n",
       "   Blueprint(eXtreme Gradient Boosted Trees Classifier with Early Stopping),\n",
       "   Blueprint(eXtreme Gradient Boosted Trees Classifier with Early Stopping)]}]"
      ]
     },
     "execution_count": 27,
     "metadata": {},
     "output_type": "execute_result"
    }
   ],
   "source": [
    "projects"
   ]
  },
  {
   "cell_type": "code",
   "execution_count": 28,
   "metadata": {},
   "outputs": [],
   "source": [
    "# df['part'] = data_cvfs.cv_fold\n",
    "\n",
    "# partition_method = dr.GroupTVH('partitioning_scheme_mc', 20, 16, ['part','0.0'])\n",
    "\n",
    "# t1 = time.time()\n",
    "\n",
    "# # ERRORS OUT - Cant' get it to accept the function call:\n",
    "# # ClientError: 422 client error: {'message': 'Invalid field data', 'errors': {'partitionKeyCols': 'value is not list', 'seed': 'value is not int', 'holdoutPct': \"value can't be converted to int\"}}\n",
    "# project.set_target(target=TARGET_NAME, mode=dr.AUTOPILOT_MODE.MANUAL, worker_count=4, \n",
    "#                    featurelist_id=feature_list.id, partitioning_method=partition_method)\n",
    "# print('- Time:', (time.time()-t1))"
   ]
  },
  {
   "cell_type": "markdown",
   "metadata": {},
   "source": [
    "### 2. Compare xgb blueprints to those matching in the original project as close as poosible, based on the blueprint processes"
   ]
  },
  {
   "cell_type": "code",
   "execution_count": 30,
   "metadata": {},
   "outputs": [
    {
     "name": "stdout",
     "output_type": "stream",
     "text": [
      "pname:LC_BosAML\n",
      "\n",
      "model: Model('Gradient Boosted Trees Classifier with Early Stopping')\n",
      "mytpe: Gradient Boosted Trees Classifier with Early Stopping\n",
      "model == blueprint mtype: True\n",
      "\n",
      "Blueprint:\n",
      "- id: 86d8dd514217d23fe0805c8de521ecde\n",
      "- model: Gradient Boosted Trees Classifier with Early Stopping\n",
      "- blueprint_category: DataRobot\n",
      "- processes ['Ordinal encoding of categorical variables', 'Converter for Text Mining', 'Auto-Tuned Word N-Gram Text Modeler using token occurrences', 'Missing Values Imputed', 'Gradient Boosted Trees Classifier with Early Stopping']\n"
     ]
    }
   ],
   "source": [
    "# \"The trickiest part is to find the most similar blueprint\n",
    "# Currently we need to manually inspect the difference between the original bp and the ones available \n",
    "# in the new project\" -Ofer\n",
    "\n",
    "# My solution.  Get blueprint by matching model name and process list:\n",
    "project = dr.Project.get(project_id=PROJECT_ID)\n",
    "project_id = project.id\n",
    "project_name = project.project_name\n",
    "print('pname:%s\\n' % project_name)\n",
    "\n",
    "MODEL_ID = '5ac447b9adb29a62aee23457'\n",
    "model = dr.Model.get(project=project_id, model_id=MODEL_ID)\n",
    "\n",
    "blueprint_id = model.blueprint_id\n",
    "blueprint = dr.models.Blueprint.get(project.id, blueprint_id)\n",
    "mtype = blueprint.model_type\n",
    "bproc = blueprint.processes\n",
    "print('model:',model)\n",
    "print('mytpe:',mtype)\n",
    "print('model == blueprint mtype: %s\\n' % (model.model_type == mtype))\n",
    "\n",
    "blueprints = project.get_blueprints()\n",
    "# myblueprint = next(i for i in blueprints if (i.model_type, i.processes) == (mtype, bproc))\n",
    "matches = [i for i in blueprints if (i.model_type, i.processes) == (mtype, bproc)]\n",
    "# print('model: %s, blueprint: %s' % (myblueprint.model_type, myblueprint.id))\n",
    "if len(matches) > 0:\n",
    "    for i in range(len(matches)):\n",
    "        match = matches[i]\n",
    "        print('Blueprint:')\n",
    "        print('- id:',match.id)\n",
    "        print('- model:',match.model_type)\n",
    "        print('- blueprint_category:',match.blueprint_category)\n",
    "        print('- processes',match.processes)\n",
    "else:\n",
    "    print('No blueprint match found')"
   ]
  },
  {
   "cell_type": "code",
   "execution_count": null,
   "metadata": {},
   "outputs": [],
   "source": [
    "# # maybe compare blueprint id - Ofer asked the api channel, I should do the same\n",
    "# # - I'm can do this:\n",
    "# p = dr.Project.get(project_id=PROJECT_ID)\n",
    "# bps = p.get_blueprints()\n",
    "# print(type(bps[0].id))\n",
    "# for b in bps:\n",
    "#     print('\\'%s\\''% b.id)\n",
    "#     if b.id == xgb[0].id:\n",
    "#         print('======')"
   ]
  },
  {
   "cell_type": "code",
   "execution_count": null,
   "metadata": {},
   "outputs": [],
   "source": []
  }
 ],
 "metadata": {
  "kernelspec": {
   "display_name": "Python 3",
   "language": "python",
   "name": "python3"
  },
  "language_info": {
   "codemirror_mode": {
    "name": "ipython",
    "version": 3
   },
   "file_extension": ".py",
   "mimetype": "text/x-python",
   "name": "python",
   "nbconvert_exporter": "python",
   "pygments_lexer": "ipython3",
   "version": "3.6.4"
  }
 },
 "nbformat": 4,
 "nbformat_minor": 2
}
