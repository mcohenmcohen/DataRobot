{
 "cells": [
  {
   "cell_type": "code",
   "execution_count": 1,
   "metadata": {},
   "outputs": [
    {
     "data": {
      "text/plain": [
       "<datarobot.rest.RESTClientObject at 0x108ad40f0>"
      ]
     },
     "execution_count": 1,
     "metadata": {},
     "output_type": "execute_result"
    }
   ],
   "source": [
    "import pandas as pd\n",
    "import datarobot as dr\n",
    "import os\n",
    "%matplotlib inline\n",
    "\n",
    "dr.Client(token=os.environ['DATAROBOT_API_TOKEN'], endpoint='https://app.datarobot.com/api/v2')"
   ]
  },
  {
   "cell_type": "code",
   "execution_count": 30,
   "metadata": {},
   "outputs": [
    {
     "name": "stdout",
     "output_type": "stream",
     "text": [
      "is_bad\n",
      "5c9e443675e3ec36683d1c94\n",
      "Informative Features\n",
      "['addr_state', 'annual_inc', 'delinq_2yrs', 'desc', 'dti', 'earliest_cr_line', 'emp_length', 'emp_title', 'funded_amnt', 'grade', 'home_ownership', 'inq_last_6mths', 'installment', 'int_rate', 'is_bad', 'loan_amnt', 'mths_since_last_delinq', 'mths_since_last_record', 'open_acc', 'pub_rec', 'purpose', 'revol_bal', 'revol_util', 'sub_grade', 'term', 'title', 'total_acc', 'url', 'verification_status', 'zip_code']\n"
     ]
    }
   ],
   "source": [
    "project = dr.Project.get(project_id='5c9e44115ff3774aec083eea')\n",
    "print(project.target)\n",
    "model = project.get_models()[0]\n",
    "print(model.featurelist_id)\n",
    "print(model.featurelist_name)\n",
    "print(model.get_features_used())\n"
   ]
  },
  {
   "cell_type": "code",
   "execution_count": 16,
   "metadata": {},
   "outputs": [],
   "source": [
    "f = dr.models.Featurelist(project.id, model.featurelist_id)\n",
    "f.num_models"
   ]
  },
  {
   "cell_type": "code",
   "execution_count": 26,
   "metadata": {},
   "outputs": [
    {
     "name": "stdout",
     "output_type": "stream",
     "text": [
      "ClientError: 404 client error: {'message': 'Model cross validation scores were never calculated'}\n",
      "Calling cross_validate ane wait for it to complete...\n",
      "...complete.\n"
     ]
    },
    {
     "data": {
      "text/plain": [
       "{'cvScores': {'AUC': {'0.0': 0.64433,\n",
       "   '1.0': 0.71146,\n",
       "   '2.0': 0.71417,\n",
       "   '3.0': 0.65128,\n",
       "   '4.0': 0.68544},\n",
       "  'FVE Binomial': {'0.0': 0.02793,\n",
       "   '1.0': 0.08173,\n",
       "   '2.0': 0.08006,\n",
       "   '3.0': 0.04814,\n",
       "   '4.0': 0.06275},\n",
       "  'Gini': {'0.0': 0.12556,\n",
       "   '1.0': 0.1841,\n",
       "   '2.0': 0.18646,\n",
       "   '3.0': 0.13171,\n",
       "   '4.0': 0.16145},\n",
       "  'Gini Norm': {'0.0': 0.28866,\n",
       "   '1.0': 0.42292,\n",
       "   '2.0': 0.42834,\n",
       "   '3.0': 0.30256,\n",
       "   '4.0': 0.37088},\n",
       "  'Ians Metric': {'0.0': 0.05372,\n",
       "   '1.0': 0.05992,\n",
       "   '2.0': 0.05414,\n",
       "   '3.0': 0.03772,\n",
       "   '4.0': 0.04456},\n",
       "  'Kolmogorov-Smirnov': {'0.0': 0.21281,\n",
       "   '1.0': 0.33443,\n",
       "   '2.0': 0.33933,\n",
       "   '3.0': 0.23478,\n",
       "   '4.0': 0.28998},\n",
       "  'LogLoss': {'0.0': 0.3756,\n",
       "   '1.0': 0.35372,\n",
       "   '2.0': 0.35436,\n",
       "   '3.0': 0.36665,\n",
       "   '4.0': 0.36103},\n",
       "  'LogLossSig': {'0.0': 0.69118,\n",
       "   '1.0': 0.69058,\n",
       "   '2.0': 0.69061,\n",
       "   '3.0': 0.69088,\n",
       "   '4.0': 0.69076},\n",
       "  'RMSE': {'0.0': 0.33283,\n",
       "   '1.0': 0.32468,\n",
       "   '2.0': 0.32503,\n",
       "   '3.0': 0.32869,\n",
       "   '4.0': 0.32731},\n",
       "  'Rate@Top10%': {'0.0': 0.2625,\n",
       "   '1.0': 0.26875,\n",
       "   '2.0': 0.3125,\n",
       "   '3.0': 0.3125,\n",
       "   '4.0': 0.2875},\n",
       "  'Rate@Top5%': {'0.0': 0.275,\n",
       "   '1.0': 0.275,\n",
       "   '2.0': 0.325,\n",
       "   '3.0': 0.4,\n",
       "   '4.0': 0.2875},\n",
       "  'Rate@TopTenth%': {'0.0': 0.5,\n",
       "   '1.0': 1.0,\n",
       "   '2.0': 0.0,\n",
       "   '3.0': 0.5,\n",
       "   '4.0': 0.5},\n",
       "  'Weighted AUC': {'0.0': 0.64433,\n",
       "   '1.0': 0.71146,\n",
       "   '2.0': 0.71417,\n",
       "   '3.0': 0.65128,\n",
       "   '4.0': 0.68544},\n",
       "  'Weighted FVE Binomial': {'0.0': 0.02793,\n",
       "   '1.0': 0.08173,\n",
       "   '2.0': 0.08006,\n",
       "   '3.0': 0.04814,\n",
       "   '4.0': 0.06275},\n",
       "  'Weighted Gini': {'0.0': 0.12556,\n",
       "   '1.0': 0.1841,\n",
       "   '2.0': 0.18646,\n",
       "   '3.0': 0.13171,\n",
       "   '4.0': 0.16145},\n",
       "  'Weighted Gini Norm': {'0.0': 0.28866,\n",
       "   '1.0': 0.42292,\n",
       "   '2.0': 0.42834,\n",
       "   '3.0': 0.30256,\n",
       "   '4.0': 0.37088},\n",
       "  'Weighted Kolmogorov-Smirnov': {'0.0': 0.21281,\n",
       "   '1.0': 0.33443,\n",
       "   '2.0': 0.33933,\n",
       "   '3.0': 0.23478,\n",
       "   '4.0': 0.28998},\n",
       "  'Weighted LogLoss': {'0.0': 0.3756,\n",
       "   '1.0': 0.35372,\n",
       "   '2.0': 0.35436,\n",
       "   '3.0': 0.36665,\n",
       "   '4.0': 0.36103},\n",
       "  'Weighted LogLossSig': {'0.0': 0.69118,\n",
       "   '1.0': 0.69058,\n",
       "   '2.0': 0.69061,\n",
       "   '3.0': 0.69088,\n",
       "   '4.0': 0.69076},\n",
       "  'Weighted RMSE': {'0.0': 0.33283,\n",
       "   '1.0': 0.32468,\n",
       "   '2.0': 0.32503,\n",
       "   '3.0': 0.32869,\n",
       "   '4.0': 0.32731},\n",
       "  'Weighted Rate@Top10%': {'0.0': 0.2625,\n",
       "   '1.0': 0.26875,\n",
       "   '2.0': 0.3125,\n",
       "   '3.0': 0.3125,\n",
       "   '4.0': 0.2875},\n",
       "  'Weighted Rate@Top5%': {'0.0': 0.275,\n",
       "   '1.0': 0.275,\n",
       "   '2.0': 0.325,\n",
       "   '3.0': 0.4,\n",
       "   '4.0': 0.2875}}}"
      ]
     },
     "execution_count": 26,
     "metadata": {},
     "output_type": "execute_result"
    }
   ],
   "source": [
    "import datarobot.errors as dre\n",
    "model = dr.Model.get(project=project.id, model_id='5c9e463111a57d42b9c8282d')\n",
    "\n",
    "scores = None\n",
    "try:\n",
    "    scores = model.get_cross_validation_scores()\n",
    "except dre.ClientError as ce:\n",
    "    # Cross validaiton wasn't calculated\n",
    "    print('ClientError: %s' % ce)\n",
    "    \n",
    "    print('Calling cross_validate ane wait for it to complete...')\n",
    "    model_job = model.cross_validate()\n",
    "    # wait for the cross validation model job to complete\n",
    "    dr.models.modeljob.wait_for_async_model_creation(project.id, model_job.id, max_wait=6000)\n",
    "    print('...complete.')\n",
    "    \n",
    "    scores = model.get_cross_validation_scores()\n",
    "    \n",
    "scores"
   ]
  },
  {
   "cell_type": "code",
   "execution_count": 29,
   "metadata": {},
   "outputs": [],
   "source": [
    "# model.cross_validate()\n",
    "# model.get_cross_validation_scores()"
   ]
  },
  {
   "cell_type": "code",
   "execution_count": null,
   "metadata": {},
   "outputs": [],
   "source": []
  }
 ],
 "metadata": {
  "kernelspec": {
   "display_name": "Python 3",
   "language": "python",
   "name": "python3"
  },
  "language_info": {
   "codemirror_mode": {
    "name": "ipython",
    "version": 3
   },
   "file_extension": ".py",
   "mimetype": "text/x-python",
   "name": "python",
   "nbconvert_exporter": "python",
   "pygments_lexer": "ipython3",
   "version": "3.6.4"
  }
 },
 "nbformat": 4,
 "nbformat_minor": 2
}
