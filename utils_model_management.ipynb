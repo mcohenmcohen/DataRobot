{
 "cells": [
  {
   "cell_type": "code",
   "execution_count": 63,
   "metadata": {},
   "outputs": [],
   "source": [
    "import pandas as pd\n",
    "import numpy as np\n",
    "import datarobot as dr\n",
    "import requests\n",
    "import sys\n",
    "import os\n",
    "from pprint import pprint\n",
    "\n",
    "API_TOKEN = os.getenv('DATAROBOT_API_TOKEN')\n",
    "ENDPOINT = os.getenv('DATAROBOT_ENDPOINT')\n",
    "USERNAME = 'matthew.cohen@datarobot.com'"
   ]
  },
  {
   "cell_type": "code",
   "execution_count": 152,
   "metadata": {},
   "outputs": [
    {
     "name": "stdout",
     "output_type": "stream",
     "text": [
      "<Response [200]>\n"
     ]
    }
   ],
   "source": [
    "#\n",
    "# Check the health status of a deploymen and replace the model if failing\n",
    "#\n",
    "DEPLOYMENT_ID = '5bb7a726b11ba4576ba28c1f'  # James Johnston's baseball\n",
    "DEPLOYMENT_ID = '5bdf672f7c6f8b2939428077'  # My recommended XGBoost @ 80%\n",
    "\n",
    "headers2 = {'Content-Type': 'application/json', 'Authorization': 'token %s' % API_TOKEN}\n",
    "health_response = requests.get('%s/modelDeployments/%s/' % (ENDPOINT, DEPLOYMENT_ID), headers=headers2)\n",
    "print(health_response)\n",
    "\n",
    "dr.Client(endpoint=ENDPOINT, token=API_TOKEN)\n",
    "\n",
    "# This will error as \"Project doesn't exist if you don't have permission for the deployment model's project\n",
    "if health_response.json()['modelHealth'] == 'failing':\n",
    "    # Get the model\n",
    "    model = dr.Model.get(model_id=health_response.json()['model']['id'], \n",
    "                         project=health_response.json()['project']['id'])\n",
    "    # Create a new project on new data\n",
    "    retrainProject = dr.Project.start(sourcedata='data/10K_Lending_Club_Loans.csv', \n",
    "                                      project_name='Lending Club Retrain', target='is_bad',\n",
    "                                      autopilot_on=False)  # if you want the same model, or...\n",
    "                                      # autopilot_on=True)  # if you want to use the new best model.  More code required\n",
    "    # Retrain model on the same blueprint\n",
    "    modelJobId = retrainProject.train(model.blueprint)\n",
    "    newModel = dr.models.modeljob.wait_for_async_model_creation(project_id=retrainProject.id, \n",
    "                                                                model_job_id=modelJobId)\n",
    "    # Run feature impact\n",
    "    fi = newModel.get_or_request_feature_impact(600)\n",
    "    \n",
    "    # The patch sends the new model id to be associated with the deployment endpoint?\n",
    "    model_Update = requests.patch('%s/v2/modelDeployments/%s/model' % (ENDPOINT, DEPLOYMENT_ID), headers=headers2, \n",
    "                                  data=\"{'modelId':'%s'}\" % newModel.id)\n",
    "    pprint.pprint(model_Update)\n",
    "\n",
    "# pprint(health_response.json())"
   ]
  },
  {
   "cell_type": "code",
   "execution_count": 18,
   "metadata": {},
   "outputs": [],
   "source": [
    "model = dr.Model.get(model_id=health_response.json()['model']['id'], \n",
    "                            project=health_response.json()['project']['id'])"
   ]
  },
  {
   "cell_type": "code",
   "execution_count": 19,
   "metadata": {},
   "outputs": [
    {
     "data": {
      "text/plain": [
       "Model('eXtreme Gradient Boosted Trees Classifier with Early Stopping (Fast Feature Binning)')"
      ]
     },
     "execution_count": 19,
     "metadata": {},
     "output_type": "execute_result"
    }
   ],
   "source": [
    "model"
   ]
  },
  {
   "cell_type": "code",
   "execution_count": 38,
   "metadata": {},
   "outputs": [],
   "source": [
    "#\n",
    "# Score new data on the deployment\n",
    "#\n",
    "# Read in scoring file.  In this case, we'll read the source, sample a few rows, and drop the target\n",
    "path = '/Users/matthew.cohen/Dev/DataRobot-my github repo/Baseball/'\n",
    "df = pd.read_csv(path+'pitch_scoring.csv', parse_dates=['date'])\n",
    "df_pred = df.sample(10, random_state=1)\n",
    "df_pred.drop(['strike'], axis=1, inplace=True)\n",
    "\n",
    "# **Writing back out to file a read back in to get the request.post to work.  \n",
    "# Not ideal, tests below have failed thus far.\n",
    "pred_file = path+'pitch_pred.csv'\n",
    "df2.to_csv(pred_file)\n",
    "\n",
    "data = open(pred_file, 'rb').read()  # This works.  This is type bytes: print(type(data))\n",
    "print(data)\n",
    "\n",
    "# Make predictions on your data\n",
    "# The URL has the following format:\n",
    "#     https://cfds-ccm-prod.orm.datarobot.com/predApi/v1.0/deployments/<DEPLOYMENT_ID>/predictions\n",
    "# See docs for details:\n",
    "#     app.datarobot.com/docs/users-guide/deploy/api/new-prediction-api.html\n",
    "predictions_response = requests.post('https://cfds-ccm-prod.orm.datarobot.com/predApi/v1.0/deployments/%s/predictions' % (DEPLOYMENT_ID),\n",
    "                                     auth=(USERNAME, API_TOKEN), data=data, headers=headers)\n",
    "\n",
    "predictions_response.raise_for_status()\n",
    "print(predictions_response.json())"
   ]
  },
  {
   "cell_type": "code",
   "execution_count": 39,
   "metadata": {},
   "outputs": [],
   "source": [
    "df2 = df.sample(10, random_state=1)\n",
    "df2.drop(['strike'], axis=1, inplace=True)\n",
    "df2.to_csv(path+'pitch_pred.csv')"
   ]
  },
  {
   "cell_type": "code",
   "execution_count": null,
   "metadata": {},
   "outputs": [],
   "source": [
    "df2.to_csv()"
   ]
  },
  {
   "cell_type": "code",
   "execution_count": 61,
   "metadata": {},
   "outputs": [
    {
     "name": "stdout",
     "output_type": "stream",
     "text": [
      "<class 'bytes'>\n",
      "<class 'bytes'>\n"
     ]
    }
   ],
   "source": []
  },
  {
   "cell_type": "markdown",
   "metadata": {},
   "source": [
    "## Dev"
   ]
  },
  {
   "cell_type": "code",
   "execution_count": null,
   "metadata": {},
   "outputs": [],
   "source": [
    "df2.to_json()\n",
    "print(type(data))\n",
    "print(type(df2.to_msgpack()))\n",
    "df2.to_msgpack()"
   ]
  },
  {
   "cell_type": "code",
   "execution_count": null,
   "metadata": {},
   "outputs": [],
   "source": [
    "rec = df2.to_records(index=False)\n",
    "\n",
    "print(repr(rec))\n",
    "# rec.array([(10, 18446744073709551615, 13240000000.0), (15, 230498234019, 3.14159),\n",
    "#  (20, 32094812309, 234.1341)], \n",
    "#           dtype=[('a', '|u1'), ('b', '<u8'), ('c', '<f8')])\n",
    "\n",
    "s = rec.tostring()\n",
    "rec2 = np.fromstring(s, rec.dtype)\n",
    "\n",
    "print(np.all(rec2 == rec))"
   ]
  },
  {
   "cell_type": "code",
   "execution_count": null,
   "metadata": {},
   "outputs": [],
   "source": [
    "# j = df2.to_json()\n",
    "# j.encode()\n",
    "# # pprint(j.encode())\n",
    "\n",
    "# data = json.loads(j)\n",
    "# s = json.dumps(data, indent=4, sort_keys=True)\n",
    "# print(s)\n",
    "\n",
    "df2.to_string().encode()"
   ]
  },
  {
   "cell_type": "code",
   "execution_count": null,
   "metadata": {},
   "outputs": [],
   "source": [
    "type(data2)\n",
    "zxc = open(path+'pitch_pred.csv', 'rb')\n",
    "type(zxc.read())"
   ]
  },
  {
   "cell_type": "code",
   "execution_count": 148,
   "metadata": {},
   "outputs": [
    {
     "name": "stdout",
     "output_type": "stream",
     "text": [
      "b',date,ax,ay,az,batter_side,break_angle,break_length,break_y,end_speed,nasty,pfx_x,pfx_z,pitch_type,pitch_type_seq,pitcher_hand,px,pz,spin_dir,spin_rate,start_speed,sz_bot,sz_top,type_conf,vx0,vy0,vz0,weather,wind,x0,y0,z0,zone\\n608088,2017-07-19,-11.763477623139696,21.840163814967397,-32.001962831328,R,17.4,9.5,23.8,75.3,44.0,-8.186862024628452,0.11976408107841552,CH,|CH,R,1.29943363056269,2.20153945359716,269.16200000000003,1435.991,82.0,1.5639499340547405,3.446745544178897,2.0,9.731902755506301,-118.85919120808799,-1.2898657962525,\"90 degrees, clear\",\"16 mph, Out to RF\",-1.7759893884264402,50.0,5.645431611656691,14.0\\n675695,2017-08-20,-18.8528107218,28.9955898727,-21.2320240018,R,39.5,6.4,23.8,82.7,58.0,-10.635139710599999,6.172552282650001,FT,|FT,R,-0.8384398279620001,2.70260383171,239.86900000000003,2387.012,91.2,1.7259849379031422,3.524394221724993,2.0,4.66854348858,-132.484583495,-1.9674981673900005,\"73 degrees, roof closed\",\"0 mph, None\",-1.24440565766,50.0,5.01077974435,11.0\\n314888,2016-09-03,-5.934,27.999000000000002,-15.794,R,14.2,3.6,23.9,88.8,57.0,-2.97,8.17,FF,|FF|FT|FF,R,0.9470000000000001,2.123,199.912,1810.4879999999998,95.5,1.54,3.45,0.884,8.28,-139.60399999999998,-6.702000000000001,\"82 degrees, partly cloudy\",\"5 mph, In from RF\",-1.656,50.0,5.5729999999999995,14.0\\n966319,2018-06-29,-15.5183696341254,26.5107159700109,-26.7911450554944,L,27.1,6.9,23.8,84.5,30.0,-8.552378132184588,2.966589098885076,SI,|SI|SI,R,-0.0974679602323952,1.9510057608504097,250.86900000000003,1787.2939999999999,91.6,1.4770380378201615,3.2000077816677823,2.0,7.25762484726156,-133.328532594139,-4.79168585565806,\"90 degrees, clear\",\"12 mph, In from CF\",-1.7330766989035902,50.0,5.68585555203724,8.0\\n708623,2017-09-04,-7.77049977259601,31.790429607956906,-10.264099301927699,L,27.7,3.0,23.7,83.6,51.0,-4.289022607939968,12.09346508480556,FF,|FF|FF,R,1.15107786594272,2.68638903499915,199.52599999999998,2509.083,92.9,1.52141538482244,3.4492457195131045,2.0,6.891805356330191,-134.417162522232,-6.33587922257746,\"82 degrees, partly cloudy\",\"8 mph, Out to LF\",-0.900332050945735,50.0,5.81838058407382,12.0\\n14480,2016-04-11,16.891,31.241999999999997,-20.726,R,-34.9,5.9,23.8,84.8,68.0,9.16,6.17,SI,|SI,L,0.855,2.0869999999999997,124.12799999999999,2186.494,92.5,1.54,3.47,0.892,-7.381,-135.391,-5.154,\"48 degrees, partly cloudy\",\"12 mph, L to R\",2.435,50.0,5.478,14.0\\n1083184,2018-08-28,-3.854048048630178,27.83931586289064,-14.35941382840276,R,10.7,3.6,23.8,84.4,44.0,-2.107722319813498,9.742562303792287,FF,|SL|FF,R,1.3372559747769086,1.9724883622467173,192.206,1971.977,92.2,1.535,3.3710000000000004,0.917,4.37383401502863,-134.09380379667402,-7.013702397259608,\"84 degrees, partly cloudy\",\"7 mph, R to L\",-0.03799092034077765,49.99999999999995,5.637938960012723,14.0\\n515962,2017-06-03,-8.342927878593098,34.196753477536696,-12.3999368471863,L,21.1,3.2,23.7,86.2,23.0,-4.364522693281656,10.34463686494632,FF,|FT|FF,R,1.33780006774205,1.95390851856026,202.87400000000002,2252.811,95.6,1.1029623008084464,2.623373235054764,2.0,11.758002631075401,-138.212662232869,-7.511397987540421,\"76 degrees, sunny\",\"14 mph, In from LF\",-2.42675967293255,50.0,5.5612463267230305,12.0\\n145706,2016-06-12,17.712,29.11,-17.29,R,-40.3,6.0,23.7,80.3,69.0,10.69,8.94,FF,|FF,L,-0.6859999999999999,1.9469999999999998,130.042,2611.31,87.9,1.58,3.53,2.0,-9.16,-128.535,-5.681,\"73 degrees, partly cloudy\",\"17 mph, In from RF\",1.5519999999999998,50.0,5.5489999999999995,7.0\\n230055,2016-07-24,4.8210000000000015,22.451999999999998,-36.824,R,-7.5,9.9,23.9,77.6,51.0,3.18,-3.11,SL,|SL,R,-1.3780000000000001,2.822,46.033,796.4760000000001,83.2,1.52,3.41,2.0,0.445,-122.006,-0.27899999999999997,\"93 degrees, partly cloudy\",\"5 mph, Out to RF\",-1.975,50.0,6.093,11.0\\n'\n",
      "{'data': [{'predictionValues': [{'value': 0.0173117965, 'label': 1.0}, {'value': 0.9826882035, 'label': 0.0}], 'predictionThreshold': 0.5, 'prediction': 0.0, 'rowId': 0}, {'predictionValues': [{'value': 0.7100588679, 'label': 1.0}, {'value': 0.2899411321, 'label': 0.0}], 'predictionThreshold': 0.5, 'prediction': 1.0, 'rowId': 1}, {'predictionValues': [{'value': 0.3739720881, 'label': 1.0}, {'value': 0.6260279119, 'label': 0.0}], 'predictionThreshold': 0.5, 'prediction': 0.0, 'rowId': 2}, {'predictionValues': [{'value': 0.9922556877, 'label': 1.0}, {'value': 0.0077443123, 'label': 0.0}], 'predictionThreshold': 0.5, 'prediction': 1.0, 'rowId': 3}, {'predictionValues': [{'value': 0.0515050963, 'label': 1.0}, {'value': 0.9484949037, 'label': 0.0}], 'predictionThreshold': 0.5, 'prediction': 0.0, 'rowId': 4}, {'predictionValues': [{'value': 0.7972893119, 'label': 1.0}, {'value': 0.2027106881, 'label': 0.0}], 'predictionThreshold': 0.5, 'prediction': 1.0, 'rowId': 5}, {'predictionValues': [{'value': 0.0056370981, 'label': 1.0}, {'value': 0.9943629019, 'label': 0.0}], 'predictionThreshold': 0.5, 'prediction': 0.0, 'rowId': 6}, {'predictionValues': [{'value': 0.0008197052, 'label': 1.0}, {'value': 0.9991802948, 'label': 0.0}], 'predictionThreshold': 0.5, 'prediction': 0.0, 'rowId': 7}, {'predictionValues': [{'value': 0.8974063993, 'label': 1.0}, {'value': 0.1025936007, 'label': 0.0}], 'predictionThreshold': 0.5, 'prediction': 1.0, 'rowId': 8}, {'predictionValues': [{'value': 0.004139889, 'label': 1.0}, {'value': 0.995860111, 'label': 0.0}], 'predictionThreshold': 0.5, 'prediction': 0.0, 'rowId': 9}]}\n"
     ]
    }
   ],
   "source": [
    "# Model deployment integrations example\n",
    "# Set HTTP headers\n",
    "# Note: The charset should match the contents of the file.\n",
    "headers = {'Content-Type': 'text/plain; charset=UTF-8', 'datarobot-key': '544ec55f-61bf-f6ee-0caf-15c7f919a45d'}\n",
    "\n",
    "# data = open(sys.argv[1], 'rb').read()\n",
    "\n",
    "# data = df2.to_msgpack()  # Fails as bad request\n",
    "\n",
    "# df2.to_csv(b'asf')   # Fails as can't make a bytes object\n",
    "\n",
    "# import io\n",
    "# buffer = io.StringIO()\n",
    "# df2.to_csv(buffer)\n",
    "# data = buffer.read()  # Fails bd request\n",
    "# data = open(, 'rb').read()\n",
    "\n",
    "# headers = {'Content-Type': 'application/json', 'datarobot-key': '544ec55f-61bf-f6ee-0caf-15c7f919a45d'}\n",
    "# data= df2.to_json()  # Fails bad request\n",
    "\n",
    "import json\n",
    "# data = json.dumps(df2.to_json())\n",
    "j = df2.to_json()\n",
    "\n",
    "import re\n",
    "data2 = df2.to_string()\n",
    "# data = re.sub(\"\\s+\", \",\", data.strip())  # remove new lines, 422\n",
    "# data = re.sub(\"\\s+[-[\\r\\n]]\", \",\", data.strip())  # remove new lines, 422\n",
    "# data = re.sub(\"\\s-[\\r\\n]\", \",\", data.strip())  # remove new lines, 422\n",
    "# data = re.sub(\"[^\\S\\x0a\\x0d]\", \",\", data.strip())\n",
    "data2 = ',' + re.sub(\" +\", \",\", data2.strip())\n",
    "\n",
    "# # data = data.replace(' ', ',')\n",
    "data2 = data2.encode('utf-8')  # fails, bad request\n",
    "\n",
    "data = open(path+'pitch_pred.csv', 'rb').read()  # This works.  This is type bytes: print(type(data))\n",
    "print(data)\n",
    "\n",
    "# Make predictions on your data\n",
    "# The URL has the following format:\n",
    "#     https://cfds-ccm-prod.orm.datarobot.com/predApi/v1.0/deployments/<DEPLOYMENT_ID>/predictions\n",
    "# See docs for details:\n",
    "#     app.datarobot.com/docs/users-guide/deploy/api/new-prediction-api.html\n",
    "predictions_response = requests.post('https://cfds-ccm-prod.orm.datarobot.com/predApi/v1.0/deployments/%s/predictions' % (DEPLOYMENT_ID),\n",
    "                                     auth=(USERNAME, API_TOKEN), data=data, headers=headers)\n",
    "\n",
    "predictions_response.raise_for_status()\n",
    "print(predictions_response.json())"
   ]
  },
  {
   "cell_type": "code",
   "execution_count": null,
   "metadata": {},
   "outputs": [],
   "source": []
  }
 ],
 "metadata": {
  "kernelspec": {
   "display_name": "Python 3",
   "language": "python",
   "name": "python3"
  },
  "language_info": {
   "codemirror_mode": {
    "name": "ipython",
    "version": 3
   },
   "file_extension": ".py",
   "mimetype": "text/x-python",
   "name": "python",
   "nbconvert_exporter": "python",
   "pygments_lexer": "ipython3",
   "version": "3.6.4"
  }
 },
 "nbformat": 4,
 "nbformat_minor": 2
}
